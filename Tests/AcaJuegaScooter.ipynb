{
 "cells": [
  {
   "cell_type": "markdown",
   "source": "",
   "metadata": {
    "tags": [],
    "cell_id": "00000-901b1612-954d-4aea-b31d-adbc5e66ce3b",
    "deepnote_cell_type": "markdown"
   }
  },
  {
   "cell_type": "markdown",
   "source": "Ideas: Introducimos la data en un Pandas. Iteramos sobre las columnas y analizamos los valores posibles para cada columna, incluyendo la clase de cada caso. Podemos crear luego un objeto que sea conjunto o algo asi, y ese objeto le damos el metodo \"entropia\". Aparte, creamos una funcion que reciba uno de estos conjuntos y tome los atributos que analizamos de la tabla. La funcion itera sobre la lista de atributos y nos devuelve el atributo con mayor ganancia\nAhi miramos si tenemos suficiente ganancia, sit enemos, creamos un nodo y separamos cada caso dependiendo del valor del atributo en subconjuntos. Guardamos los subconjuntos en una lista en el nodo y llamamos al algoritmo con los elementos de la lista.",
   "metadata": {
    "tags": [],
    "cell_id": "00001-03a527ff-a466-46cd-a0e8-7ea60103e4bd",
    "deepnote_cell_type": "markdown"
   }
  },
  {
   "cell_type": "code",
   "metadata": {
    "tags": [],
    "deepnote_to_be_reexecuted": false,
    "source_hash": "b623e53d",
    "execution_start": 1633648310451,
    "execution_millis": 81396,
    "cell_id": "00002-ab996d90-057a-4395-83cf-bf8b43186dc4",
    "deepnote_cell_type": "code"
   },
   "source": "",
   "outputs": [],
   "execution_count": 0
  },
  {
   "cell_type": "code",
   "metadata": {
    "tags": [],
    "output_cleared": false,
    "source_hash": "12c53fbd",
    "execution_start": 1633648310493,
    "execution_millis": 0,
    "deepnote_to_be_reexecuted": false,
    "cell_id": "00003-92e0b889-8da1-42c2-8a16-4f09f718bd6c",
    "deepnote_cell_type": "code"
   },
   "source": "import pandas as pd\nimport math\nimport graphviz as graphviz",
   "outputs": [],
   "execution_count": null
  },
  {
   "cell_type": "code",
   "metadata": {
    "tags": [],
    "deepnote_to_be_reexecuted": false,
    "source_hash": "3024745a",
    "execution_start": 1633648310494,
    "execution_millis": 48,
    "cell_id": "00004-5da0be6d-e6c5-4540-be46-70c9e8630075",
    "deepnote_cell_type": "code"
   },
   "source": "df = pd.read_csv('mushrooms.csv')\ndf['class'].value_counts().items()",
   "outputs": [
    {
     "output_type": "execute_result",
     "execution_count": 2,
     "data": {
      "text/plain": "<zip at 0x7f37a8400320>"
     },
     "metadata": {}
    }
   ],
   "execution_count": null
  },
  {
   "cell_type": "code",
   "metadata": {
    "tags": [],
    "deepnote_to_be_reexecuted": false,
    "source_hash": "c085b6ba",
    "execution_start": 1633648310545,
    "execution_millis": 145,
    "cell_id": "00005-df8abae8-cae0-4612-baa2-86648749500b",
    "deepnote_cell_type": "code"
   },
   "source": "df.head()",
   "outputs": [
    {
     "output_type": "execute_result",
     "execution_count": 3,
     "data": {
      "application/vnd.deepnote.dataframe.v2+json": {
       "row_count": 5,
       "column_count": 23,
       "columns": [
        {
         "name": "class",
         "dtype": "object",
         "stats": {
          "unique_count": 2,
          "nan_count": 0,
          "categories": [
           {
            "name": "e",
            "count": 3
           },
           {
            "name": "p",
            "count": 2
           }
          ]
         }
        },
        {
         "name": "cap-shape",
         "dtype": "object",
         "stats": {
          "unique_count": 2,
          "nan_count": 0,
          "categories": [
           {
            "name": "x",
            "count": 4
           },
           {
            "name": "b",
            "count": 1
           }
          ]
         }
        },
        {
         "name": "cap-surface",
         "dtype": "object",
         "stats": {
          "unique_count": 2,
          "nan_count": 0,
          "categories": [
           {
            "name": "s",
            "count": 4
           },
           {
            "name": "y",
            "count": 1
           }
          ]
         }
        },
        {
         "name": "cap-color",
         "dtype": "object",
         "stats": {
          "unique_count": 4,
          "nan_count": 0,
          "categories": [
           {
            "name": "w",
            "count": 2
           },
           {
            "name": "n",
            "count": 1
           },
           {
            "name": "2 others",
            "count": 2
           }
          ]
         }
        },
        {
         "name": "bruises",
         "dtype": "object",
         "stats": {
          "unique_count": 2,
          "nan_count": 0,
          "categories": [
           {
            "name": "t",
            "count": 4
           },
           {
            "name": "f",
            "count": 1
           }
          ]
         }
        },
        {
         "name": "odor",
         "dtype": "object",
         "stats": {
          "unique_count": 4,
          "nan_count": 0,
          "categories": [
           {
            "name": "p",
            "count": 2
           },
           {
            "name": "a",
            "count": 1
           },
           {
            "name": "2 others",
            "count": 2
           }
          ]
         }
        },
        {
         "name": "gill-attachment",
         "dtype": "object",
         "stats": {
          "unique_count": 1,
          "nan_count": 0,
          "categories": [
           {
            "name": "f",
            "count": 5
           }
          ]
         }
        },
        {
         "name": "gill-spacing",
         "dtype": "object",
         "stats": {
          "unique_count": 2,
          "nan_count": 0,
          "categories": [
           {
            "name": "c",
            "count": 4
           },
           {
            "name": "w",
            "count": 1
           }
          ]
         }
        },
        {
         "name": "gill-size",
         "dtype": "object",
         "stats": {
          "unique_count": 2,
          "nan_count": 0,
          "categories": [
           {
            "name": "b",
            "count": 3
           },
           {
            "name": "n",
            "count": 2
           }
          ]
         }
        },
        {
         "name": "gill-color",
         "dtype": "object",
         "stats": {
          "unique_count": 2,
          "nan_count": 0,
          "categories": [
           {
            "name": "k",
            "count": 3
           },
           {
            "name": "n",
            "count": 2
           }
          ]
         }
        },
        {
         "name": "stalk-shape",
         "dtype": "object",
         "stats": {
          "unique_count": 2,
          "nan_count": 0,
          "categories": [
           {
            "name": "e",
            "count": 4
           },
           {
            "name": "t",
            "count": 1
           }
          ]
         }
        },
        {
         "name": "stalk-root",
         "dtype": "object",
         "stats": {
          "unique_count": 2,
          "nan_count": 0,
          "categories": [
           {
            "name": "e",
            "count": 3
           },
           {
            "name": "c",
            "count": 2
           }
          ]
         }
        },
        {
         "name": "stalk-surface-above-ring",
         "dtype": "object",
         "stats": {
          "unique_count": 1,
          "nan_count": 0,
          "categories": [
           {
            "name": "s",
            "count": 5
           }
          ]
         }
        },
        {
         "name": "stalk-surface-below-ring",
         "dtype": "object",
         "stats": {
          "unique_count": 1,
          "nan_count": 0,
          "categories": [
           {
            "name": "s",
            "count": 5
           }
          ]
         }
        },
        {
         "name": "stalk-color-above-ring",
         "dtype": "object",
         "stats": {
          "unique_count": 1,
          "nan_count": 0,
          "categories": [
           {
            "name": "w",
            "count": 5
           }
          ]
         }
        },
        {
         "name": "stalk-color-below-ring",
         "dtype": "object",
         "stats": {
          "unique_count": 1,
          "nan_count": 0,
          "categories": [
           {
            "name": "w",
            "count": 5
           }
          ]
         }
        },
        {
         "name": "veil-type",
         "dtype": "object",
         "stats": {
          "unique_count": 1,
          "nan_count": 0,
          "categories": [
           {
            "name": "p",
            "count": 5
           }
          ]
         }
        },
        {
         "name": "veil-color",
         "dtype": "object",
         "stats": {
          "unique_count": 1,
          "nan_count": 0,
          "categories": [
           {
            "name": "w",
            "count": 5
           }
          ]
         }
        },
        {
         "name": "ring-number",
         "dtype": "object",
         "stats": {
          "unique_count": 1,
          "nan_count": 0,
          "categories": [
           {
            "name": "o",
            "count": 5
           }
          ]
         }
        },
        {
         "name": "ring-type",
         "dtype": "object",
         "stats": {
          "unique_count": 2,
          "nan_count": 0,
          "categories": [
           {
            "name": "p",
            "count": 4
           },
           {
            "name": "e",
            "count": 1
           }
          ]
         }
        },
        {
         "name": "spore-print-color",
         "dtype": "object",
         "stats": {
          "unique_count": 2,
          "nan_count": 0,
          "categories": [
           {
            "name": "n",
            "count": 3
           },
           {
            "name": "k",
            "count": 2
           }
          ]
         }
        },
        {
         "name": "population",
         "dtype": "object",
         "stats": {
          "unique_count": 3,
          "nan_count": 0,
          "categories": [
           {
            "name": "s",
            "count": 2
           },
           {
            "name": "n",
            "count": 2
           },
           {
            "name": "a",
            "count": 1
           }
          ]
         }
        },
        {
         "name": "habitat",
         "dtype": "object",
         "stats": {
          "unique_count": 3,
          "nan_count": 0,
          "categories": [
           {
            "name": "u",
            "count": 2
           },
           {
            "name": "g",
            "count": 2
           },
           {
            "name": "m",
            "count": 1
           }
          ]
         }
        },
        {
         "name": "_deepnote_index_column",
         "dtype": "int64"
        }
       ],
       "rows_top": [
        {
         "class": "p",
         "cap-shape": "x",
         "cap-surface": "s",
         "cap-color": "n",
         "bruises": "t",
         "odor": "p",
         "gill-attachment": "f",
         "gill-spacing": "c",
         "gill-size": "n",
         "gill-color": "k",
         "stalk-shape": "e",
         "stalk-root": "e",
         "stalk-surface-above-ring": "s",
         "stalk-surface-below-ring": "s",
         "stalk-color-above-ring": "w",
         "stalk-color-below-ring": "w",
         "veil-type": "p",
         "veil-color": "w",
         "ring-number": "o",
         "ring-type": "p",
         "spore-print-color": "k",
         "population": "s",
         "habitat": "u",
         "_deepnote_index_column": 0
        },
        {
         "class": "e",
         "cap-shape": "x",
         "cap-surface": "s",
         "cap-color": "y",
         "bruises": "t",
         "odor": "a",
         "gill-attachment": "f",
         "gill-spacing": "c",
         "gill-size": "b",
         "gill-color": "k",
         "stalk-shape": "e",
         "stalk-root": "c",
         "stalk-surface-above-ring": "s",
         "stalk-surface-below-ring": "s",
         "stalk-color-above-ring": "w",
         "stalk-color-below-ring": "w",
         "veil-type": "p",
         "veil-color": "w",
         "ring-number": "o",
         "ring-type": "p",
         "spore-print-color": "n",
         "population": "n",
         "habitat": "g",
         "_deepnote_index_column": 1
        },
        {
         "class": "e",
         "cap-shape": "b",
         "cap-surface": "s",
         "cap-color": "w",
         "bruises": "t",
         "odor": "l",
         "gill-attachment": "f",
         "gill-spacing": "c",
         "gill-size": "b",
         "gill-color": "n",
         "stalk-shape": "e",
         "stalk-root": "c",
         "stalk-surface-above-ring": "s",
         "stalk-surface-below-ring": "s",
         "stalk-color-above-ring": "w",
         "stalk-color-below-ring": "w",
         "veil-type": "p",
         "veil-color": "w",
         "ring-number": "o",
         "ring-type": "p",
         "spore-print-color": "n",
         "population": "n",
         "habitat": "m",
         "_deepnote_index_column": 2
        },
        {
         "class": "p",
         "cap-shape": "x",
         "cap-surface": "y",
         "cap-color": "w",
         "bruises": "t",
         "odor": "p",
         "gill-attachment": "f",
         "gill-spacing": "c",
         "gill-size": "n",
         "gill-color": "n",
         "stalk-shape": "e",
         "stalk-root": "e",
         "stalk-surface-above-ring": "s",
         "stalk-surface-below-ring": "s",
         "stalk-color-above-ring": "w",
         "stalk-color-below-ring": "w",
         "veil-type": "p",
         "veil-color": "w",
         "ring-number": "o",
         "ring-type": "p",
         "spore-print-color": "k",
         "population": "s",
         "habitat": "u",
         "_deepnote_index_column": 3
        },
        {
         "class": "e",
         "cap-shape": "x",
         "cap-surface": "s",
         "cap-color": "g",
         "bruises": "f",
         "odor": "n",
         "gill-attachment": "f",
         "gill-spacing": "w",
         "gill-size": "b",
         "gill-color": "k",
         "stalk-shape": "t",
         "stalk-root": "e",
         "stalk-surface-above-ring": "s",
         "stalk-surface-below-ring": "s",
         "stalk-color-above-ring": "w",
         "stalk-color-below-ring": "w",
         "veil-type": "p",
         "veil-color": "w",
         "ring-number": "o",
         "ring-type": "e",
         "spore-print-color": "n",
         "population": "a",
         "habitat": "g",
         "_deepnote_index_column": 4
        }
       ],
       "rows_bottom": null
      },
      "text/plain": "  class cap-shape cap-surface cap-color bruises odor gill-attachment  \\\n0     p         x           s         n       t    p               f   \n1     e         x           s         y       t    a               f   \n2     e         b           s         w       t    l               f   \n3     p         x           y         w       t    p               f   \n4     e         x           s         g       f    n               f   \n\n  gill-spacing gill-size gill-color  ... stalk-surface-below-ring  \\\n0            c         n          k  ...                        s   \n1            c         b          k  ...                        s   \n2            c         b          n  ...                        s   \n3            c         n          n  ...                        s   \n4            w         b          k  ...                        s   \n\n  stalk-color-above-ring stalk-color-below-ring veil-type veil-color  \\\n0                      w                      w         p          w   \n1                      w                      w         p          w   \n2                      w                      w         p          w   \n3                      w                      w         p          w   \n4                      w                      w         p          w   \n\n  ring-number ring-type spore-print-color population habitat  \n0           o         p                 k          s       u  \n1           o         p                 n          n       g  \n2           o         p                 n          n       m  \n3           o         p                 k          s       u  \n4           o         e                 n          a       g  \n\n[5 rows x 23 columns]",
      "text/html": "<div>\n<style scoped>\n    .dataframe tbody tr th:only-of-type {\n        vertical-align: middle;\n    }\n\n    .dataframe tbody tr th {\n        vertical-align: top;\n    }\n\n    .dataframe thead th {\n        text-align: right;\n    }\n</style>\n<table border=\"1\" class=\"dataframe\">\n  <thead>\n    <tr style=\"text-align: right;\">\n      <th></th>\n      <th>class</th>\n      <th>cap-shape</th>\n      <th>cap-surface</th>\n      <th>cap-color</th>\n      <th>bruises</th>\n      <th>odor</th>\n      <th>gill-attachment</th>\n      <th>gill-spacing</th>\n      <th>gill-size</th>\n      <th>gill-color</th>\n      <th>...</th>\n      <th>stalk-surface-below-ring</th>\n      <th>stalk-color-above-ring</th>\n      <th>stalk-color-below-ring</th>\n      <th>veil-type</th>\n      <th>veil-color</th>\n      <th>ring-number</th>\n      <th>ring-type</th>\n      <th>spore-print-color</th>\n      <th>population</th>\n      <th>habitat</th>\n    </tr>\n  </thead>\n  <tbody>\n    <tr>\n      <th>0</th>\n      <td>p</td>\n      <td>x</td>\n      <td>s</td>\n      <td>n</td>\n      <td>t</td>\n      <td>p</td>\n      <td>f</td>\n      <td>c</td>\n      <td>n</td>\n      <td>k</td>\n      <td>...</td>\n      <td>s</td>\n      <td>w</td>\n      <td>w</td>\n      <td>p</td>\n      <td>w</td>\n      <td>o</td>\n      <td>p</td>\n      <td>k</td>\n      <td>s</td>\n      <td>u</td>\n    </tr>\n    <tr>\n      <th>1</th>\n      <td>e</td>\n      <td>x</td>\n      <td>s</td>\n      <td>y</td>\n      <td>t</td>\n      <td>a</td>\n      <td>f</td>\n      <td>c</td>\n      <td>b</td>\n      <td>k</td>\n      <td>...</td>\n      <td>s</td>\n      <td>w</td>\n      <td>w</td>\n      <td>p</td>\n      <td>w</td>\n      <td>o</td>\n      <td>p</td>\n      <td>n</td>\n      <td>n</td>\n      <td>g</td>\n    </tr>\n    <tr>\n      <th>2</th>\n      <td>e</td>\n      <td>b</td>\n      <td>s</td>\n      <td>w</td>\n      <td>t</td>\n      <td>l</td>\n      <td>f</td>\n      <td>c</td>\n      <td>b</td>\n      <td>n</td>\n      <td>...</td>\n      <td>s</td>\n      <td>w</td>\n      <td>w</td>\n      <td>p</td>\n      <td>w</td>\n      <td>o</td>\n      <td>p</td>\n      <td>n</td>\n      <td>n</td>\n      <td>m</td>\n    </tr>\n    <tr>\n      <th>3</th>\n      <td>p</td>\n      <td>x</td>\n      <td>y</td>\n      <td>w</td>\n      <td>t</td>\n      <td>p</td>\n      <td>f</td>\n      <td>c</td>\n      <td>n</td>\n      <td>n</td>\n      <td>...</td>\n      <td>s</td>\n      <td>w</td>\n      <td>w</td>\n      <td>p</td>\n      <td>w</td>\n      <td>o</td>\n      <td>p</td>\n      <td>k</td>\n      <td>s</td>\n      <td>u</td>\n    </tr>\n    <tr>\n      <th>4</th>\n      <td>e</td>\n      <td>x</td>\n      <td>s</td>\n      <td>g</td>\n      <td>f</td>\n      <td>n</td>\n      <td>f</td>\n      <td>w</td>\n      <td>b</td>\n      <td>k</td>\n      <td>...</td>\n      <td>s</td>\n      <td>w</td>\n      <td>w</td>\n      <td>p</td>\n      <td>w</td>\n      <td>o</td>\n      <td>e</td>\n      <td>n</td>\n      <td>a</td>\n      <td>g</td>\n    </tr>\n  </tbody>\n</table>\n<p>5 rows × 23 columns</p>\n</div>"
     },
     "metadata": {}
    }
   ],
   "execution_count": null
  },
  {
   "cell_type": "code",
   "metadata": {
    "tags": [],
    "deepnote_to_be_reexecuted": false,
    "source_hash": "424220c7",
    "execution_start": 1633648310684,
    "execution_millis": 18,
    "cell_id": "00006-d6abdf49-58cf-4925-8e30-8080479b85d0",
    "deepnote_cell_type": "code"
   },
   "source": " list(df['class'].value_counts().values)",
   "outputs": [
    {
     "output_type": "execute_result",
     "execution_count": 4,
     "data": {
      "text/plain": "[4208, 3916]"
     },
     "metadata": {}
    }
   ],
   "execution_count": null
  },
  {
   "cell_type": "code",
   "metadata": {
    "tags": [],
    "deepnote_to_be_reexecuted": false,
    "source_hash": "cf4a17a4",
    "execution_start": 1633648310722,
    "execution_millis": 19,
    "cell_id": "00007-843de913-ceeb-4b5d-a94b-4f6c81fe6f47",
    "deepnote_cell_type": "code"
   },
   "source": "df['class'].mode().item()",
   "outputs": [
    {
     "output_type": "execute_result",
     "execution_count": 5,
     "data": {
      "text/plain": "'e'"
     },
     "metadata": {}
    }
   ],
   "execution_count": null
  },
  {
   "cell_type": "code",
   "metadata": {
    "tags": [],
    "deepnote_to_be_reexecuted": false,
    "source_hash": "ea5197b4",
    "execution_start": 1633648310723,
    "execution_millis": 18,
    "cell_id": "00008-7144f49f-bbe5-4825-b264-9bb4a7ee3920",
    "deepnote_cell_type": "code"
   },
   "source": "classValues = list(df['class'].value_counts().index) # Valores posibles de la columna clase\nclassValues",
   "outputs": [
    {
     "output_type": "execute_result",
     "execution_count": 6,
     "data": {
      "text/plain": "['e', 'p']"
     },
     "metadata": {}
    }
   ],
   "execution_count": null
  },
  {
   "cell_type": "code",
   "metadata": {
    "tags": [],
    "deepnote_to_be_reexecuted": false,
    "source_hash": "d4bbd56b",
    "execution_start": 1633648310724,
    "execution_millis": 37,
    "cell_id": "00009-a6bac3bb-3497-4a0f-a654-41ec193712cf",
    "deepnote_cell_type": "code"
   },
   "source": "class SetCases:\n    def __init__(self,cases,case_count,class_column_name):\n        self.cases = cases\n        self.class_column_name = class_column_name\n        self.case_count = case_count\n        self.columns = list(cases.columns)\n        #self.attributes = self.columns\n        self.attributes = [item for item in self.columns if item != self.class_column_name] # This is 'A' in the theory\n        #self.attributes.remove(self.class_column_name)  \n    def cases_count(self):\n        self.case_count = self.cases.shape[0]\n        return self.case_count\n        \n    def get_attributes(self) -> list:\n        return self.attributes\n    \n    def entropy(self) -> float:  # Entropy Formula function\n        entropy = 0\n        counts = self.cases[self.class_column_name].value_counts()\n        for item in classValues:\n            prob = self.cases[self.cases[self.class_column_name]==item][self.class_column_name].count()/self.case_count\n            entropy -= (prob)*(math.log2(prob))\n        return round(entropy,3)\n\n    def entropy_attribute(self) -> float: # Entropia de cada tributo de 'A'\n        entropy_result = {}\n        for attribute in self.attributes:  # Bucle sobre cada atributo de la lista\n            result = 0\n            attr_indexes = list(self.cases[attribute].value_counts().index)\n            attr_counts = list(self.cases[attribute].value_counts().values)\n            i=0\n            for value in attr_indexes: # Bucle sobre los valores posibles de cada atributo\n                attr_entropy = 0\n                attr_count = attr_counts[i]\n\n                for c_value in classValues: # Bucle sobre cada caso de un valor posible de un atributo\n                    class_count = len(self.cases[(self.cases[attribute]==value)&(self.cases[self.class_column_name]==c_value)])\n                    if class_count != 0:\n                        attr_entropy -= (class_count/attr_count) * (math.log2((class_count/attr_count)))\n                    else:\n                        attr_entropy -= 0 #ESTO SE TENDRIA QUE SACAR DE ACA, CUANDO ESTE EL CODIGO COMPLETO ESTO IRIA AL PRINCIPIO\n                i+=1\n\n                result += (attr_count/self.case_count) * attr_entropy # Resultado de entropia de un atributo posible\n            entropy_result[attribute] = result\n        return entropy_result\n\n    def gain(self) -> list: # return [Att, Value]\n        entropy = self.entropy()\n        entropy_atts = self.entropy_attribute()\n        max_gain = 0\n        curr_gain = 0\n        result = [0,0]\n        for key,value in entropy_atts.items():\n            curr_gain = float(entropy) - value \n            if curr_gain > max_gain:\n                max_gain = curr_gain\n                result[0] = key\n                result[1] = curr_gain\n        return result\n\n    def gain2(self) -> list: # return list of [Att, Value], something like: [[Att1, Value] [Att2, Value]] \n        entropy = self.entropy()\n        entropy_atts = self.entropy_attribute()\n        curr_gain = 0\n        max_gain = 0\n        result = []\n        for key,value in entropy_atts.items():\n            curr_gain = float(entropy) - value\n            if curr_gain > max_gain:\n                result.insert(0, [key, curr_gain])\n                max_gain=curr_gain\n            else:\n                result.append([key, curr_gain])      \n        return result\n    \n    def gain_ratio(self) -> list:\n        entropy = self.entropy()\n        gain = self.gain2()\n        split_info = 0\n        max_gain_rate = 0\n        result=[0,0]\n        for att_name, gain_per_att in gain: # gain is [Att, Value]\n            # We generate a list of all the quantities of occurences of each attribute\n            attr_counts = list(self.cases[att_name].value_counts().values) # \n            split_info = 0\n            for attr_count in attr_counts:\n                split_info -= (attr_count/self.case_count) * (math.log2((attr_count/self.case_count)))\n            if ((split_info != 0.0) and (gain_per_att != 0.0)):\n                curr_gain_rate = gain_per_att / split_info\n            else:\n                curr_gain_rate = 0\n            print(\"ACA PROBAMOS COSAS\",att_name,curr_gain_rate,'---',gain_per_att,split_info)\n            if curr_gain_rate > max_gain_rate: \n                max_gain_rate = curr_gain_rate\n                result[0] = att_name\n                result[1] = curr_gain_rate\n        return result\n\n    def is_pure(self) -> bool:\n        classes = self.cases[self.class_column_name].unique()\n        if len(classes) == 1:\n            return True\n        return False\n    \n    def most_frequent_class(self) -> str:\n        return self.cases[self.class_column_name].mode().tolist()\n    \n    def separate_data(self, attr) -> list: # Esto retorna un arreglo con dataframes\n        attr_values = list(self.cases[attr].unique())\n        frames = []\n        for val in attr_values:\n            frames.append([val, self.cases[self.cases[attr]==val] ])\n        return frames",
   "outputs": [],
   "execution_count": null
  },
  {
   "cell_type": "code",
   "metadata": {
    "tags": [],
    "deepnote_to_be_reexecuted": false,
    "source_hash": "58df4726",
    "execution_start": 1633648310768,
    "execution_millis": 81247,
    "cell_id": "00010-6730361d-d22f-4693-a34e-925bd65421a2",
    "deepnote_cell_type": "code"
   },
   "source": "name_counter = 1",
   "outputs": [],
   "execution_count": null
  },
  {
   "cell_type": "code",
   "metadata": {
    "tags": [],
    "deepnote_to_be_reexecuted": false,
    "source_hash": "3e6dbed",
    "execution_start": 1633648310803,
    "execution_millis": 1,
    "cell_id": "00011-3c8e7f3d-37ad-42a4-905a-5417a6093ca0",
    "deepnote_cell_type": "code"
   },
   "source": "class Node:\n    def __init__(self, data: SetCases, id_node: int , val_attr = None):\n        self.data = data\n        self.children = []\n        self.curr_class = ''\n        self.chosen_att = ''\n        self.id_node = id_node\n        self.val_attr = val_attr\n        self.gain = 0\n        global name_counter\n\n    def addChildren(self, node):\n        self.children.append(node)\n        \n    def printTree(self, depth: int, graph, previous_node, name_previous_node: int):\n        print('###############################################')\n        print(f\"Depth {depth}\")\n        print(self.curr_class)\n        global name_counter\n        if self.chosen_att != '':\n            print(f'Created node with name {self.id_node} and label {self.chosen_att}')\n            graph.node(name = str(self.id_node),label = f'{self.chosen_att} \\n Gain: {self.gain}')\n        else:\n            print(f'Created node with name {self.id_node} and label {self.curr_class}')\n            print(self.data.cases[self.data.class_column_name].value_counts())\n            graph.node(name = str(self.id_node), label= f'{self.curr_class} \\n Gain: {self.gain} \\n {self.data.cases[self.data.class_column_name].value_counts().values}',color='green')\n        if depth != 0:\n            print(f'Created edge between {name_previous_node} and {self.id_node}')\n            graph.edge(str(name_previous_node), str(self.id_node))\n        #name_counter+=1\n        name_previous_node+=1\n        for item in self.children:\n            item.printTree(depth+1, graph, self, self.id_node)\n        ",
   "outputs": [],
   "execution_count": null
  },
  {
   "cell_type": "code",
   "metadata": {
    "tags": [],
    "deepnote_to_be_reexecuted": false,
    "source_hash": "c65fe070",
    "execution_start": 1633648310804,
    "execution_millis": 7,
    "cell_id": "00012-26f2557a-048a-4baf-bdad-cfcd398e783f",
    "deepnote_cell_type": "code"
   },
   "source": "\"\"\"\nprint(root_node.data.class_column_name)\nprint(root_node.data.cases)\nprint(root_node.data.cases[root_node.data.class_column_name])\nprint(root_node.children[0].data.cases)\nprint(root_node.children[0].data.cases[root_node.children[0].data.class_column_name])\n\"\"\"",
   "outputs": [
    {
     "output_type": "execute_result",
     "execution_count": 10,
     "data": {
      "text/plain": "'\\nprint(root_node.data.class_column_name)\\nprint(root_node.data.cases)\\nprint(root_node.data.cases[root_node.data.class_column_name])\\nprint(root_node.children[0].data.cases)\\nprint(root_node.children[0].data.cases[root_node.children[0].data.class_column_name])\\n'"
     },
     "metadata": {}
    }
   ],
   "execution_count": null
  },
  {
   "cell_type": "code",
   "metadata": {
    "tags": [],
    "deepnote_to_be_reexecuted": false,
    "source_hash": "b755d65",
    "execution_start": 1633648310805,
    "execution_millis": 5,
    "cell_id": "00013-e94e53b5-98cd-4610-a3ff-99921e420371",
    "deepnote_cell_type": "code"
   },
   "source": "def decisionTree(D : SetCases, A : list, T : Node, guide_int : int):\n    global name_counter\n    if D.is_pure():\n        class_name = D.most_frequent_class()\n        T.curr_class = class_name\n    elif not A:\n        class_name = D.most_frequent_class()\n        T.curr_class = class_name\n    else:\n        print('Depth ' + str(guide_int))\n        #gain = D.gain()\n        gain = D.gain_ratio()\n        #gain = D.gain2()[0]\n        print('Attribute chosen ', gain[0])\n        print(\"ACA ESTA LA GANANCIA\",gain[1])\n        if gain[1] < threshold:\n            class_name = D.most_frequent_class()\n            T.curr_class = class_name\n        else:\n            T.chosen_att = gain[0]\n            A1 = [item for item in A if item != gain[0]]\n            subsets = D.separate_data(gain[0])\n            for subset in subsets:\n                elem = SetCases(subset[1], len(subset[1]), D.class_column_name)\n                print(f'Name_counter {name_counter} Size {subset[1].shape}')\n                T.gain = round(gain[1],2)\n                new_node = Node(elem, name_counter, subset[0])\n                name_counter+=1\n                T.addChildren(new_node)\n                decisionTree(elem, A1, new_node, guide_int+1)",
   "outputs": [],
   "execution_count": null
  },
  {
   "cell_type": "code",
   "metadata": {
    "tags": [],
    "deepnote_to_be_reexecuted": false,
    "source_hash": "61e460b3",
    "execution_start": 1633648310859,
    "execution_millis": 0,
    "cell_id": "00014-84624720-fa4d-40e1-8d45-1fa37b8f2ba4",
    "deepnote_cell_type": "code"
   },
   "source": "graph = graphviz.Digraph()",
   "outputs": [],
   "execution_count": null
  },
  {
   "cell_type": "code",
   "metadata": {
    "tags": [],
    "deepnote_to_be_reexecuted": false,
    "source_hash": "da095cac",
    "execution_start": 1633648310860,
    "execution_millis": 2100,
    "cell_id": "00015-b9620c2d-24c7-4fc5-890f-e150302c2a19",
    "deepnote_cell_type": "code"
   },
   "source": "threshold = 0.05\nset_init = SetCases(df,len(df),'class')\nroot_node = Node(set_init, 0)\ndecisionTree(set_init, set_init.get_attributes(),root_node,0)\n",
   "outputs": [
    {
     "name": "stdout",
     "text": "Depth 0\nACA PROBAMOS COSAS odor 0.3906188832215957 --- 0.9060070805115394 2.319414445710673\nACA PROBAMOS COSAS bruises 0.1963711011895662 --- 0.1923115888887592 0.9793273436049628\nACA PROBAMOS COSAS cap-shape 0.02948099218732162 --- 0.04872880506291255 1.652888910701876\nACA PROBAMOS COSAS cap-surface 0.018103828695357958 --- 0.028522335901312368 1.5754864002124502\nACA PROBAMOS COSAS cap-color 0.014334398771457018 --- 0.03598138610374346 2.510142676886485\nACA PROBAMOS COSAS gill-attachment 0.08142563653688836 --- 0.014097130378155853 0.1731288937700771\nACA PROBAMOS COSAS gill-spacing 0.15804781959990438 --- 0.10081528712410992 0.6378783799695704\nACA PROBAMOS COSAS gill-size 0.2578703916571434 --- 0.2300864782755857 0.8922562873426029\nACA PROBAMOS COSAS gill-color 0.13757428147514475 --- 0.4169096265436709 3.0304328837726335\nACA PROBAMOS COSAS stalk-shape 0.007547542464073252 --- 0.007448875697203872 0.9869272988738997\nACA PROBAMOS COSAS stalk-root 0.07391965643023671 --- 0.13474974075481538 1.8229216322452526\nACA PROBAMOS COSAS stalk-surface-above-ring 0.23306848080290013 --- 0.28465770234602406 1.221347911847212\nACA PROBAMOS COSAS stalk-surface-below-ring 0.19428194022192233 --- 0.2718265765202862 1.3991345577967103\nACA PROBAMOS COSAS stalk-color-above-ring 0.1310285615230261 --- 0.25377727658977944 1.9368088425910275\nACA PROBAMOS COSAS stalk-color-below-ring 0.1220059597936684 --- 0.24134766965510612 1.9781629525579212\nACA PROBAMOS COSAS veil-type 0 --- -6.789687246033793e-05 0.0\nACA PROBAMOS COSAS veil-color 0.12102183790427848 --- 0.023749119248456352 0.19623829599448472\nACA PROBAMOS COSAS ring-number 0.09124455431346204 --- 0.038384772370630094 0.4206801453461303\nACA PROBAMOS COSAS ring-type 0.2071195152816394 --- 0.3179536139210771 1.5351214659262138\nACA PROBAMOS COSAS spore-print-color 0.21815136052401427 --- 0.48063702081245496 2.2032272439554466\nACA PROBAMOS COSAS population 0.10077383800202883 --- 0.20189012219439195 2.003398165606508\nACA PROBAMOS COSAS habitat 0.06891566134977319 --- 0.15676570773263154 2.274747200596189\nAttribute chosen  odor\nACA ESTA LA GANANCIA 0.3906188832215957\nName_counter 1 Size (256, 23)\nName_counter 2 Size (400, 23)\nName_counter 3 Size (400, 23)\nName_counter 4 Size (3528, 23)\nDepth 1\nACA PROBAMOS COSAS spore-print-color 0.07406036165861482 --- 0.14480045813360104 1.955168120850752\nACA PROBAMOS COSAS cap-color 0.040871220931353605 --- 0.09347552311272468 2.2870744005843155\nACA PROBAMOS COSAS cap-shape 0.026353619660967907 --- 0.042523538048725246 1.6135748559696508\nACA PROBAMOS COSAS cap-surface 0.010229318414703923 --- 0.01594234068272124 1.558494910062165\nACA PROBAMOS COSAS bruises 0.0007524451129142083 --- 0.0007398681761886794 0.9832852436547582\nACA PROBAMOS COSAS odor 0 --- -0.00013675678125110724 0.0\nACA PROBAMOS COSAS gill-attachment 0.008719129479790241 --- 0.0026583869878284705 0.3048913304923675\nACA PROBAMOS COSAS gill-spacing 0.004968115579258392 --- 0.004479244239550789 0.9015982354056711\nACA PROBAMOS COSAS gill-size 0.0648770906992894 --- 0.023259610265572744 0.35851808419374\nACA PROBAMOS COSAS gill-color 0.029878352875974803 --- 0.0861100059769774 2.882019846757299\nACA PROBAMOS COSAS stalk-shape 0.0714599465886712 --- 0.0623095342387949 0.8719504731434133\nACA PROBAMOS COSAS stalk-root 0.016416744238719107 --- 0.02417461025650114 1.47255813363316\nACA PROBAMOS COSAS stalk-surface-above-ring 0.027846276074092294 --- 0.023683742282842313 0.8505173984422738\nACA PROBAMOS COSAS stalk-surface-below-ring 0.056163763777941425 --- 0.05090455957732515 0.9063594772350023\nACA PROBAMOS COSAS stalk-color-above-ring 0.020796566383205005 --- 0.03600963123571688 1.7315181060272389\nACA PROBAMOS COSAS stalk-color-below-ring 0.03248637471841985 --- 0.06054408773547734 1.8636763338553965\nACA PROBAMOS COSAS veil-type 0 --- -0.00013675678125110724 0.0\nACA PROBAMOS COSAS veil-color 0.0356865755445505 --- 0.013643596408257214 0.38231733362100784\nACA PROBAMOS COSAS ring-number 0.036201618023312475 --- 0.023815609919496494 0.6578603725435737\nACA PROBAMOS COSAS ring-type 0.0006875462586786822 --- 0.0006700314692404674 0.9745256566854504\nACA PROBAMOS COSAS population 0.019072976217358473 --- 0.04372644595943587 2.292586403984506\nACA PROBAMOS COSAS habitat 0.032735432937179135 --- 0.05899824367730655 1.8022747336357825\nAttribute chosen  spore-print-color\nACA ESTA LA GANANCIA 0.07406036165861482\nName_counter 5 Size (1344, 23)\nName_counter 6 Size (1296, 23)\nName_counter 7 Size (624, 23)\nDepth 2\nACA PROBAMOS COSAS habitat 0.13887080657596682 --- 0.2615145452550016 1.8831498981173174\nACA PROBAMOS COSAS gill-size 0.3828877358620933 --- 0.23715384615384616 0.6193821946787638\nACA PROBAMOS COSAS cap-color 0.07808454011736495 --- 0.21234113295360146 2.719374829312463\nACA PROBAMOS COSAS cap-surface 0.055275839312954024 --- 0.08864667841167695 1.6037147425258975\nACA PROBAMOS COSAS cap-shape 0.016531885127363866 --- 0.03284535629051033 1.9867883207187378\nACA PROBAMOS COSAS bruises 0.012474400708882684 --- 0.011876131945461776 0.9520402801398791\nACA PROBAMOS COSAS odor 0 --- -0.00024356362925564978 0.0\nACA PROBAMOS COSAS gill-attachment 0 --- -0.00024356362925564978 0.0\nACA PROBAMOS COSAS gill-spacing 0.012888123914854019 --- 0.012734894902703409 0.9881108365218302\nACA PROBAMOS COSAS gill-color 0.05105387846809163 --- 0.09074407119911543 1.777417777492261\nACA PROBAMOS COSAS stalk-shape 0 --- -0.00024356362925564978 0.0\nACA PROBAMOS COSAS stalk-root 0.06577639431936652 --- 0.04904191550424086 0.74558534276181\nACA PROBAMOS COSAS stalk-surface-above-ring 0.05596981004981203 --- 0.07207999726521264 1.2878370893355338\nACA PROBAMOS COSAS stalk-surface-below-ring 0.160069631586895 --- 0.2228734473454173 1.3923530974357794\nACA PROBAMOS COSAS stalk-color-above-ring 0.07720484769752034 --- 0.06797311553001606 0.8804254856680355\nACA PROBAMOS COSAS stalk-color-below-ring 0.15254163248190605 --- 0.20668974746940533 1.3549726989707032\nACA PROBAMOS COSAS veil-type 0 --- -0.00024356362925564978 0.0\nACA PROBAMOS COSAS veil-color 0.49226204836642357 --- 0.04871380698430633 0.0989590953557431\nACA PROBAMOS COSAS ring-number 0.3828877358620933 --- 0.23715384615384616 0.6193821946787638\nACA PROBAMOS COSAS ring-type 0.03794743244813855 --- 0.037658975053028954 0.9923985003332223\nACA PROBAMOS COSAS spore-print-color 0 --- -0.00024356362925564978 0.0\nACA PROBAMOS COSAS population 0.055754268991630516 --- 0.11930919662801898 2.1399114146026905\nAttribute chosen  veil-color\nACA ESTA LA GANANCIA 0.49226204836642357\nName_counter 8 Size (616, 23)\nDepth 3\nACA PROBAMOS COSAS habitat 0.13216456435015045 --- 0.24633311786346615 1.8638363397532416\nACA PROBAMOS COSAS gill-size 0.3464679997039895 --- 0.2049956840747205 0.5916727785823275\nACA PROBAMOS COSAS cap-color 0.06171264341881751 --- 0.1660208879270248 2.690224866893345\nACA PROBAMOS COSAS cap-surface 0.04828826447659342 --- 0.07726487087729839 1.6000755403986548\nACA PROBAMOS COSAS cap-shape 0.00978641917909637 --- 0.019239115693178155 1.9658994103044949\nACA PROBAMOS COSAS bruises 0.007886071738089839 --- 0.007536105770635126 0.9556222693531469\nACA PROBAMOS COSAS odor 0 --- 0.00026853175033625387 0.0\nACA PROBAMOS COSAS gill-attachment 0 --- 0.00026853175033625387 0.0\nACA PROBAMOS COSAS gill-spacing 0.027543860490468832 --- 0.027271799613788728 0.9901226308935798\nACA PROBAMOS COSAS gill-color 0.035765619559437696 --- 0.062159848532709394 1.7379776807559004\nACA PROBAMOS COSAS stalk-shape 0 --- 0.00026853175033625387 0.0\nACA PROBAMOS COSAS stalk-root 0.000917373147011043 --- 0.0006009014198802842 0.6550239908788728\nACA PROBAMOS COSAS stalk-surface-above-ring 0.04815429767441011 --- 0.05971593881623438 1.2400957276959372\nACA PROBAMOS COSAS stalk-surface-below-ring 0.13460608254030187 --- 0.1835999723192471 1.36397976119895\nACA PROBAMOS COSAS stalk-color-above-ring 0.024984308760221535 --- 0.019777961186250026 0.7916153044721921\nACA PROBAMOS COSAS stalk-color-below-ring 0.12254087013183565 --- 0.16029610782615078 1.3081032283653293\nACA PROBAMOS COSAS veil-type 0 --- 0.00026853175033625387 0.0\nACA PROBAMOS COSAS veil-color 0 --- 0.00026853175033625387 0.0\nACA PROBAMOS COSAS ring-number 0.3464679997039895 --- 0.2049956840747205 0.5916727785823275\nACA PROBAMOS COSAS ring-type 0.027543860490468832 --- 0.027271799613788728 0.9901226308935798\nACA PROBAMOS COSAS spore-print-color 0 --- 0.00026853175033625387 0.0\nACA PROBAMOS COSAS population 0.058327902600363316 --- 0.12522266576994484 2.1468741406306773\nAttribute chosen  gill-size\nACA ESTA LA GANANCIA 0.3464679997039895\nName_counter 9 Size (528, 23)\nName_counter 10 Size (88, 23)\nDepth 4\nACA PROBAMOS COSAS stalk-surface-above-ring 0.4444736455209214 --- 0.6989897729239517 1.5726236638951638\nACA PROBAMOS COSAS gill-spacing 0.6529627563723747 --- 0.6174809590839734 0.9456603046006401\nACA PROBAMOS COSAS cap-color 0.3087601784482483 --- 0.5526588207024234 1.789929075309999\nACA PROBAMOS COSAS cap-shape 0.0864263259787109 --- 0.1755522333761671 2.031235637847318\nACA PROBAMOS COSAS cap-surface 0.04561900692008143 --- 0.05564371496394516 1.2197484934607565\nACA PROBAMOS COSAS bruises 0.2532841969738605 --- 0.11131764140484679 0.4394969869215134\nACA PROBAMOS COSAS odor 0 --- -3.0211476956476524e-05 0.0\nACA PROBAMOS COSAS gill-attachment 0 --- -3.0211476956476524e-05 0.0\nACA PROBAMOS COSAS gill-size 0 --- -3.0211476956476524e-05 0.0\nACA PROBAMOS COSAS gill-color 0 --- -3.0211476956476524e-05 0.0\nACA PROBAMOS COSAS stalk-shape 0 --- -3.0211476956476524e-05 0.0\nACA PROBAMOS COSAS stalk-root 0.6529627563723747 --- 0.6174809590839734 0.9456603046006401\nACA PROBAMOS COSAS stalk-surface-below-ring 0.4444736455209214 --- 0.6989897729239517 1.5726236638951638\nACA PROBAMOS COSAS stalk-color-above-ring 0 --- -3.0211476956476524e-05 0.0\nACA PROBAMOS COSAS stalk-color-below-ring 0.3686633465551548 --- 0.4039795458479034 1.0957952550009336\nACA PROBAMOS COSAS veil-type 0 --- -3.0211476956476524e-05 0.0\nACA PROBAMOS COSAS veil-color 0 --- -3.0211476956476524e-05 0.0\nACA PROBAMOS COSAS ring-number 0 --- -3.0211476956476524e-05 0.0\nACA PROBAMOS COSAS ring-type 0.2532841969738605 --- 0.11131764140484679 0.4394969869215134\nACA PROBAMOS COSAS spore-print-color 0 --- -3.0211476956476524e-05 0.0\nACA PROBAMOS COSAS population 0.2532841969738605 --- 0.11131764140484679 0.4394969869215134\nACA PROBAMOS COSAS habitat 0.6529627563723747 --- 0.6174809590839734 0.9456603046006401\nAttribute chosen  gill-spacing\nACA ESTA LA GANANCIA 0.6529627563723747\nName_counter 11 Size (56, 23)\nDepth 5\nACA PROBAMOS COSAS cap-color 0.40860961560763565 --- 0.592 1.4488156357251847\nACA PROBAMOS COSAS cap-surface 0.22855015737815548 --- 0.29616361070883623 1.2958363892911637\nACA PROBAMOS COSAS cap-shape 0.14038712853744997 --- 0.2684767847870848 1.9124031354161173\nACA PROBAMOS COSAS bruises 1.0005530445704407 --- 0.592 0.5916727785823275\nACA PROBAMOS COSAS odor 0 --- 0.00032722141767249635 0.0\nACA PROBAMOS COSAS gill-attachment 0 --- 0.00032722141767249635 0.0\nACA PROBAMOS COSAS gill-spacing 0 --- 0.00032722141767249635 0.0\nACA PROBAMOS COSAS gill-size 0 --- 0.00032722141767249635 0.0\nACA PROBAMOS COSAS gill-color 0 --- 0.00032722141767249635 0.0\nACA PROBAMOS COSAS stalk-shape 0 --- 0.00032722141767249635 0.0\nACA PROBAMOS COSAS stalk-root 0 --- 0.00032722141767249635 0.0\nACA PROBAMOS COSAS stalk-surface-above-ring 0.13033783304844904 --- 0.12841250030906692 0.9852281360342515\nACA PROBAMOS COSAS stalk-surface-below-ring 0.13033783304844904 --- 0.12841250030906692 0.9852281360342515\nACA PROBAMOS COSAS stalk-color-above-ring 0 --- 0.00032722141767249635 0.0\nACA PROBAMOS COSAS stalk-color-below-ring 1.0005530445704407 --- 0.592 0.5916727785823275\nACA PROBAMOS COSAS veil-type 0 --- 0.00032722141767249635 0.0\nACA PROBAMOS COSAS veil-color 0 --- 0.00032722141767249635 0.0\nACA PROBAMOS COSAS ring-number 0 --- 0.00032722141767249635 0.0\nACA PROBAMOS COSAS ring-type 1.0005530445704407 --- 0.592 0.5916727785823275\nACA PROBAMOS COSAS spore-print-color 0 --- 0.00032722141767249635 0.0\nACA PROBAMOS COSAS population 1.0005530445704407 --- 0.592 0.5916727785823275\nACA PROBAMOS COSAS habitat 0 --- 0.00032722141767249635 0.0\nAttribute chosen  bruises\nACA ESTA LA GANANCIA 1.0005530445704407\nName_counter 12 Size (48, 23)\nName_counter 13 Size (8, 23)\nName_counter 14 Size (32, 23)\nName_counter 15 Size (8, 23)\nName_counter 16 Size (48, 23)\nName_counter 17 Size (72, 23)\nName_counter 18 Size (48, 23)\nName_counter 19 Size (48, 23)\nName_counter 20 Size (48, 23)\nName_counter 21 Size (2160, 23)\nName_counter 22 Size (192, 23)\nName_counter 23 Size (576, 23)\nName_counter 24 Size (576, 23)\nName_counter 25 Size (36, 23)\n",
     "output_type": "stream"
    }
   ],
   "execution_count": null
  },
  {
   "cell_type": "code",
   "metadata": {
    "tags": [],
    "deepnote_to_be_reexecuted": false,
    "source_hash": "92cdd843",
    "execution_start": 1633648312988,
    "execution_millis": 91,
    "cell_id": "00016-126a34f6-e530-402a-9b58-a71b6d8f6230",
    "deepnote_cell_type": "code"
   },
   "source": "root_node.printTree(0, graph, root_node,name_counter)",
   "outputs": [
    {
     "name": "stdout",
     "text": "###############################################\nDepth 0\n\nCreated node with name 0 and label odor\n###############################################\nDepth 1\n['p']\nCreated node with name 1 and label ['p']\np    256\nName: class, dtype: int64\nCreated edge between 0 and 1\n###############################################\nDepth 1\n['e']\nCreated node with name 2 and label ['e']\ne    400\nName: class, dtype: int64\nCreated edge between 0 and 2\n###############################################\nDepth 1\n['e']\nCreated node with name 3 and label ['e']\ne    400\nName: class, dtype: int64\nCreated edge between 0 and 3\n###############################################\nDepth 1\n\nCreated node with name 4 and label spore-print-color\nCreated edge between 0 and 4\n###############################################\nDepth 2\n['e']\nCreated node with name 5 and label ['e']\ne    1344\nName: class, dtype: int64\nCreated edge between 4 and 5\n###############################################\nDepth 2\n['e']\nCreated node with name 6 and label ['e']\ne    1296\nName: class, dtype: int64\nCreated edge between 4 and 6\n###############################################\nDepth 2\n\nCreated node with name 7 and label veil-color\nCreated edge between 4 and 7\n###############################################\nDepth 3\n\nCreated node with name 8 and label gill-size\nCreated edge between 7 and 8\n###############################################\nDepth 4\n['e']\nCreated node with name 9 and label ['e']\ne    528\nName: class, dtype: int64\nCreated edge between 8 and 9\n###############################################\nDepth 4\n\nCreated node with name 10 and label gill-spacing\nCreated edge between 8 and 10\n###############################################\nDepth 5\n\nCreated node with name 11 and label bruises\nCreated edge between 10 and 11\n###############################################\nDepth 6\n['e']\nCreated node with name 12 and label ['e']\ne    48\nName: class, dtype: int64\nCreated edge between 11 and 12\n###############################################\nDepth 6\n['p']\nCreated node with name 13 and label ['p']\np    8\nName: class, dtype: int64\nCreated edge between 11 and 13\n###############################################\nDepth 5\n['p']\nCreated node with name 14 and label ['p']\np    32\nName: class, dtype: int64\nCreated edge between 10 and 14\n###############################################\nDepth 3\n['p']\nCreated node with name 15 and label ['p']\np    8\nName: class, dtype: int64\nCreated edge between 7 and 15\n###############################################\nDepth 2\n['e']\nCreated node with name 16 and label ['e']\ne    48\nName: class, dtype: int64\nCreated edge between 4 and 16\n###############################################\nDepth 2\n['p']\nCreated node with name 17 and label ['p']\np    72\nName: class, dtype: int64\nCreated edge between 4 and 17\n###############################################\nDepth 2\n['e']\nCreated node with name 18 and label ['e']\ne    48\nName: class, dtype: int64\nCreated edge between 4 and 18\n###############################################\nDepth 2\n['e']\nCreated node with name 19 and label ['e']\ne    48\nName: class, dtype: int64\nCreated edge between 4 and 19\n###############################################\nDepth 2\n['e']\nCreated node with name 20 and label ['e']\ne    48\nName: class, dtype: int64\nCreated edge between 4 and 20\n###############################################\nDepth 1\n['p']\nCreated node with name 21 and label ['p']\np    2160\nName: class, dtype: int64\nCreated edge between 0 and 21\n###############################################\nDepth 1\n['p']\nCreated node with name 22 and label ['p']\np    192\nName: class, dtype: int64\nCreated edge between 0 and 22\n###############################################\nDepth 1\n['p']\nCreated node with name 23 and label ['p']\np    576\nName: class, dtype: int64\nCreated edge between 0 and 23\n###############################################\nDepth 1\n['p']\nCreated node with name 24 and label ['p']\np    576\nName: class, dtype: int64\nCreated edge between 0 and 24\n###############################################\nDepth 1\n['p']\nCreated node with name 25 and label ['p']\np    36\nName: class, dtype: int64\nCreated edge between 0 and 25\n",
     "output_type": "stream"
    }
   ],
   "execution_count": null
  },
  {
   "cell_type": "code",
   "metadata": {
    "tags": [],
    "deepnote_to_be_reexecuted": false,
    "source_hash": "48d2cb31",
    "execution_start": 1633648313097,
    "execution_millis": 72,
    "cell_id": "00017-b82417a4-4d5c-4c70-af97-395cc7b65327",
    "deepnote_cell_type": "code"
   },
   "source": "\ngraph ",
   "outputs": [
    {
     "output_type": "execute_result",
     "execution_count": 15,
     "data": {
      "text/plain": "<graphviz.dot.Digraph at 0x7f37a8349e50>",
      "image/svg+xml": "<?xml version=\"1.0\" encoding=\"UTF-8\" standalone=\"no\"?>\n<!DOCTYPE svg PUBLIC \"-//W3C//DTD SVG 1.1//EN\"\n \"http://www.w3.org/Graphics/SVG/1.1/DTD/svg11.dtd\">\n<!-- Generated by graphviz version 2.40.1 (20161225.0304)\n -->\n<!-- Title: %3 Pages: 1 -->\n<svg width=\"1267pt\" height=\"727pt\"\n viewBox=\"0.00 0.00 1266.89 727.46\" xmlns=\"http://www.w3.org/2000/svg\" xmlns:xlink=\"http://www.w3.org/1999/xlink\">\n<g id=\"graph0\" class=\"graph\" transform=\"scale(1 1) rotate(0) translate(4 723.46)\">\n<title>%3</title>\n<polygon fill=\"#ffffff\" stroke=\"transparent\" points=\"-4,4 -4,-723.46 1262.8944,-723.46 1262.8944,4 -4,4\"/>\n<!-- 0 -->\n<g id=\"node1\" class=\"node\">\n<title>0</title>\n<ellipse fill=\"none\" stroke=\"#000000\" cx=\"696.4472\" cy=\"-692.59\" rx=\"67.3507\" ry=\"26.7407\"/>\n<text text-anchor=\"middle\" x=\"696.4472\" y=\"-696.39\" font-family=\"Times,serif\" font-size=\"14.00\" fill=\"#000000\">odor </text>\n<text text-anchor=\"middle\" x=\"696.4472\" y=\"-681.39\" font-family=\"Times,serif\" font-size=\"14.00\" fill=\"#000000\"> Gain: 0.39</text>\n</g>\n<!-- 1 -->\n<g id=\"node2\" class=\"node\">\n<title>1</title>\n<ellipse fill=\"none\" stroke=\"#00ff00\" cx=\"98.4472\" cy=\"-592.2433\" rx=\"54.3945\" ry=\"37.4533\"/>\n<text text-anchor=\"middle\" x=\"98.4472\" y=\"-603.5433\" font-family=\"Times,serif\" font-size=\"14.00\" fill=\"#000000\">[&#39;p&#39;] </text>\n<text text-anchor=\"middle\" x=\"98.4472\" y=\"-588.5433\" font-family=\"Times,serif\" font-size=\"14.00\" fill=\"#000000\"> Gain: 0 </text>\n<text text-anchor=\"middle\" x=\"98.4472\" y=\"-573.5433\" font-family=\"Times,serif\" font-size=\"14.00\" fill=\"#000000\"> [256]</text>\n</g>\n<!-- 0&#45;&gt;1 -->\n<g id=\"edge1\" class=\"edge\">\n<title>0&#45;&gt;1</title>\n<path fill=\"none\" stroke=\"#000000\" d=\"M629.9042,-688.1758C506.6502,-679.4366 247.6356,-658.2788 162.4472,-629.7199 157.1825,-627.9549 151.8753,-625.7211 146.6894,-623.2264\"/>\n<polygon fill=\"#000000\" stroke=\"#000000\" points=\"148.0133,-619.9712 137.5211,-618.4994 144.8053,-626.1929 148.0133,-619.9712\"/>\n</g>\n<!-- 2 -->\n<g id=\"node3\" class=\"node\">\n<title>2</title>\n<ellipse fill=\"none\" stroke=\"#00ff00\" cx=\"225.4472\" cy=\"-592.2433\" rx=\"54.3945\" ry=\"37.4533\"/>\n<text text-anchor=\"middle\" x=\"225.4472\" y=\"-603.5433\" font-family=\"Times,serif\" font-size=\"14.00\" fill=\"#000000\">[&#39;e&#39;] </text>\n<text text-anchor=\"middle\" x=\"225.4472\" y=\"-588.5433\" font-family=\"Times,serif\" font-size=\"14.00\" fill=\"#000000\"> Gain: 0 </text>\n<text text-anchor=\"middle\" x=\"225.4472\" y=\"-573.5433\" font-family=\"Times,serif\" font-size=\"14.00\" fill=\"#000000\"> [400]</text>\n</g>\n<!-- 0&#45;&gt;2 -->\n<g id=\"edge2\" class=\"edge\">\n<title>0&#45;&gt;2</title>\n<path fill=\"none\" stroke=\"#000000\" d=\"M629.3746,-689.9196C547.1263,-684.92 404.4797,-670.6057 289.4472,-629.7199 284.291,-627.8872 279.0828,-625.6302 273.9821,-623.1401\"/>\n<polygon fill=\"#000000\" stroke=\"#000000\" points=\"275.4388,-619.9528 264.9514,-618.4478 272.2113,-626.1643 275.4388,-619.9528\"/>\n</g>\n<!-- 3 -->\n<g id=\"node4\" class=\"node\">\n<title>3</title>\n<ellipse fill=\"none\" stroke=\"#00ff00\" cx=\"352.4472\" cy=\"-592.2433\" rx=\"54.3945\" ry=\"37.4533\"/>\n<text text-anchor=\"middle\" x=\"352.4472\" y=\"-603.5433\" font-family=\"Times,serif\" font-size=\"14.00\" fill=\"#000000\">[&#39;e&#39;] </text>\n<text text-anchor=\"middle\" x=\"352.4472\" y=\"-588.5433\" font-family=\"Times,serif\" font-size=\"14.00\" fill=\"#000000\"> Gain: 0 </text>\n<text text-anchor=\"middle\" x=\"352.4472\" y=\"-573.5433\" font-family=\"Times,serif\" font-size=\"14.00\" fill=\"#000000\"> [400]</text>\n</g>\n<!-- 0&#45;&gt;3 -->\n<g id=\"edge3\" class=\"edge\">\n<title>0&#45;&gt;3</title>\n<path fill=\"none\" stroke=\"#000000\" d=\"M632.5214,-684.1894C574.4266,-675.1889 487.1038,-658.2055 415.4472,-629.7199 410.6188,-627.8005 405.7281,-625.54 400.9177,-623.0962\"/>\n<polygon fill=\"#000000\" stroke=\"#000000\" points=\"402.271,-619.8506 391.8037,-618.2119 398.9645,-626.0205 402.271,-619.8506\"/>\n</g>\n<!-- 4 -->\n<g id=\"node5\" class=\"node\">\n<title>4</title>\n<ellipse fill=\"none\" stroke=\"#000000\" cx=\"524.4472\" cy=\"-592.2433\" rx=\"99.9045\" ry=\"26.7407\"/>\n<text text-anchor=\"middle\" x=\"524.4472\" y=\"-596.0433\" font-family=\"Times,serif\" font-size=\"14.00\" fill=\"#000000\">spore&#45;print&#45;color </text>\n<text text-anchor=\"middle\" x=\"524.4472\" y=\"-581.0433\" font-family=\"Times,serif\" font-size=\"14.00\" fill=\"#000000\"> Gain: 0.07</text>\n</g>\n<!-- 0&#45;&gt;4 -->\n<g id=\"edge4\" class=\"edge\">\n<title>0&#45;&gt;4</title>\n<path fill=\"none\" stroke=\"#000000\" d=\"M658.2748,-670.3198C633.8223,-656.0539 601.8058,-637.3751 575.2196,-621.8644\"/>\n<polygon fill=\"#000000\" stroke=\"#000000\" points=\"576.8316,-618.7528 566.4303,-616.7367 573.3041,-624.7991 576.8316,-618.7528\"/>\n</g>\n<!-- 21 -->\n<g id=\"node22\" class=\"node\">\n<title>21</title>\n<ellipse fill=\"none\" stroke=\"#00ff00\" cx=\"696.4472\" cy=\"-592.2433\" rx=\"54.3945\" ry=\"37.4533\"/>\n<text text-anchor=\"middle\" x=\"696.4472\" y=\"-603.5433\" font-family=\"Times,serif\" font-size=\"14.00\" fill=\"#000000\">[&#39;p&#39;] </text>\n<text text-anchor=\"middle\" x=\"696.4472\" y=\"-588.5433\" font-family=\"Times,serif\" font-size=\"14.00\" fill=\"#000000\"> Gain: 0 </text>\n<text text-anchor=\"middle\" x=\"696.4472\" y=\"-573.5433\" font-family=\"Times,serif\" font-size=\"14.00\" fill=\"#000000\"> [2160]</text>\n</g>\n<!-- 0&#45;&gt;21 -->\n<g id=\"edge21\" class=\"edge\">\n<title>0&#45;&gt;21</title>\n<path fill=\"none\" stroke=\"#000000\" d=\"M696.4472,-665.6989C696.4472,-657.7708 696.4472,-648.8462 696.4472,-640.0207\"/>\n<polygon fill=\"#000000\" stroke=\"#000000\" points=\"699.9473,-639.7714 696.4472,-629.7714 692.9473,-639.7715 699.9473,-639.7714\"/>\n</g>\n<!-- 22 -->\n<g id=\"node23\" class=\"node\">\n<title>22</title>\n<ellipse fill=\"none\" stroke=\"#00ff00\" cx=\"823.4472\" cy=\"-592.2433\" rx=\"54.3945\" ry=\"37.4533\"/>\n<text text-anchor=\"middle\" x=\"823.4472\" y=\"-603.5433\" font-family=\"Times,serif\" font-size=\"14.00\" fill=\"#000000\">[&#39;p&#39;] </text>\n<text text-anchor=\"middle\" x=\"823.4472\" y=\"-588.5433\" font-family=\"Times,serif\" font-size=\"14.00\" fill=\"#000000\"> Gain: 0 </text>\n<text text-anchor=\"middle\" x=\"823.4472\" y=\"-573.5433\" font-family=\"Times,serif\" font-size=\"14.00\" fill=\"#000000\"> [192]</text>\n</g>\n<!-- 0&#45;&gt;22 -->\n<g id=\"edge22\" class=\"edge\">\n<title>0&#45;&gt;22</title>\n<path fill=\"none\" stroke=\"#000000\" d=\"M726.8669,-668.5544C742.5065,-656.1971 761.8605,-640.9048 779.1267,-627.2623\"/>\n<polygon fill=\"#000000\" stroke=\"#000000\" points=\"781.7333,-629.6635 787.4097,-620.7176 777.3935,-624.1711 781.7333,-629.6635\"/>\n</g>\n<!-- 23 -->\n<g id=\"node24\" class=\"node\">\n<title>23</title>\n<ellipse fill=\"none\" stroke=\"#00ff00\" cx=\"950.4472\" cy=\"-592.2433\" rx=\"54.3945\" ry=\"37.4533\"/>\n<text text-anchor=\"middle\" x=\"950.4472\" y=\"-603.5433\" font-family=\"Times,serif\" font-size=\"14.00\" fill=\"#000000\">[&#39;p&#39;] </text>\n<text text-anchor=\"middle\" x=\"950.4472\" y=\"-588.5433\" font-family=\"Times,serif\" font-size=\"14.00\" fill=\"#000000\"> Gain: 0 </text>\n<text text-anchor=\"middle\" x=\"950.4472\" y=\"-573.5433\" font-family=\"Times,serif\" font-size=\"14.00\" fill=\"#000000\"> [576]</text>\n</g>\n<!-- 0&#45;&gt;23 -->\n<g id=\"edge23\" class=\"edge\">\n<title>0&#45;&gt;23</title>\n<path fill=\"none\" stroke=\"#000000\" d=\"M752.4897,-677.4227C790.9591,-666.2006 842.7576,-649.4746 886.4472,-629.7199 891.3601,-627.4985 896.3782,-625.0011 901.3356,-622.3773\"/>\n<polygon fill=\"#000000\" stroke=\"#000000\" points=\"903.0647,-625.421 910.1575,-617.5506 899.7048,-619.28 903.0647,-625.421\"/>\n</g>\n<!-- 24 -->\n<g id=\"node25\" class=\"node\">\n<title>24</title>\n<ellipse fill=\"none\" stroke=\"#00ff00\" cx=\"1077.4472\" cy=\"-592.2433\" rx=\"54.3945\" ry=\"37.4533\"/>\n<text text-anchor=\"middle\" x=\"1077.4472\" y=\"-603.5433\" font-family=\"Times,serif\" font-size=\"14.00\" fill=\"#000000\">[&#39;p&#39;] </text>\n<text text-anchor=\"middle\" x=\"1077.4472\" y=\"-588.5433\" font-family=\"Times,serif\" font-size=\"14.00\" fill=\"#000000\"> Gain: 0 </text>\n<text text-anchor=\"middle\" x=\"1077.4472\" y=\"-573.5433\" font-family=\"Times,serif\" font-size=\"14.00\" fill=\"#000000\"> [576]</text>\n</g>\n<!-- 0&#45;&gt;24 -->\n<g id=\"edge24\" class=\"edge\">\n<title>0&#45;&gt;24</title>\n<path fill=\"none\" stroke=\"#000000\" d=\"M761.6473,-686.0994C826.9942,-678.1187 929.6501,-661.5263 1013.4472,-629.7199 1018.5634,-627.778 1023.7447,-625.448 1028.8286,-622.9122\"/>\n<polygon fill=\"#000000\" stroke=\"#000000\" points=\"1030.6233,-625.9228 1037.8392,-618.165 1027.3605,-619.7297 1030.6233,-625.9228\"/>\n</g>\n<!-- 25 -->\n<g id=\"node26\" class=\"node\">\n<title>25</title>\n<ellipse fill=\"none\" stroke=\"#00ff00\" cx=\"1204.4472\" cy=\"-592.2433\" rx=\"54.3945\" ry=\"37.4533\"/>\n<text text-anchor=\"middle\" x=\"1204.4472\" y=\"-603.5433\" font-family=\"Times,serif\" font-size=\"14.00\" fill=\"#000000\">[&#39;p&#39;] </text>\n<text text-anchor=\"middle\" x=\"1204.4472\" y=\"-588.5433\" font-family=\"Times,serif\" font-size=\"14.00\" fill=\"#000000\"> Gain: 0 </text>\n<text text-anchor=\"middle\" x=\"1204.4472\" y=\"-573.5433\" font-family=\"Times,serif\" font-size=\"14.00\" fill=\"#000000\"> [36]</text>\n</g>\n<!-- 0&#45;&gt;25 -->\n<g id=\"edge25\" class=\"edge\">\n<title>0&#45;&gt;25</title>\n<path fill=\"none\" stroke=\"#000000\" d=\"M762.1199,-686.4432C868.1242,-675.9941 1071.9824,-653.5696 1140.4472,-629.7199 1145.6909,-627.8933 1150.9841,-625.6185 1156.1613,-623.0985\"/>\n<polygon fill=\"#000000\" stroke=\"#000000\" points=\"1158.0586,-626.0571 1165.3193,-618.3414 1154.8317,-619.8452 1158.0586,-626.0571\"/>\n</g>\n<!-- 5 -->\n<g id=\"node6\" class=\"node\">\n<title>5</title>\n<ellipse fill=\"none\" stroke=\"#00ff00\" cx=\"54.4472\" cy=\"-481.2899\" rx=\"54.3945\" ry=\"37.4533\"/>\n<text text-anchor=\"middle\" x=\"54.4472\" y=\"-492.5899\" font-family=\"Times,serif\" font-size=\"14.00\" fill=\"#000000\">[&#39;e&#39;] </text>\n<text text-anchor=\"middle\" x=\"54.4472\" y=\"-477.5899\" font-family=\"Times,serif\" font-size=\"14.00\" fill=\"#000000\"> Gain: 0 </text>\n<text text-anchor=\"middle\" x=\"54.4472\" y=\"-462.5899\" font-family=\"Times,serif\" font-size=\"14.00\" fill=\"#000000\"> [1344]</text>\n</g>\n<!-- 4&#45;&gt;5 -->\n<g id=\"edge5\" class=\"edge\">\n<title>4&#45;&gt;5</title>\n<path fill=\"none\" stroke=\"#000000\" d=\"M467.4054,-570.103C450.8525,-564.3717 432.6094,-558.7107 415.4472,-554.7666 285.8591,-524.9854 244.4449,-561.247 118.4472,-518.7666 113.1855,-516.9926 107.8803,-514.7528 102.6957,-512.2544\"/>\n<polygon fill=\"#000000\" stroke=\"#000000\" points=\"104.0204,-508.9995 93.5289,-507.5229 100.8097,-515.2197 104.0204,-508.9995\"/>\n</g>\n<!-- 6 -->\n<g id=\"node7\" class=\"node\">\n<title>6</title>\n<ellipse fill=\"none\" stroke=\"#00ff00\" cx=\"181.4472\" cy=\"-481.2899\" rx=\"54.3945\" ry=\"37.4533\"/>\n<text text-anchor=\"middle\" x=\"181.4472\" y=\"-492.5899\" font-family=\"Times,serif\" font-size=\"14.00\" fill=\"#000000\">[&#39;e&#39;] </text>\n<text text-anchor=\"middle\" x=\"181.4472\" y=\"-477.5899\" font-family=\"Times,serif\" font-size=\"14.00\" fill=\"#000000\"> Gain: 0 </text>\n<text text-anchor=\"middle\" x=\"181.4472\" y=\"-462.5899\" font-family=\"Times,serif\" font-size=\"14.00\" fill=\"#000000\"> [1296]</text>\n</g>\n<!-- 4&#45;&gt;6 -->\n<g id=\"edge6\" class=\"edge\">\n<title>4&#45;&gt;6</title>\n<path fill=\"none\" stroke=\"#000000\" d=\"M465.4607,-570.4889C449.3644,-564.9575 431.8406,-559.3022 415.4472,-554.7666 341.0125,-534.1725 317.4738,-546.6379 245.4472,-518.7666 240.3437,-516.7918 235.1708,-514.4397 230.0922,-511.8902\"/>\n<polygon fill=\"#000000\" stroke=\"#000000\" points=\"231.5639,-508.7092 221.088,-507.1264 228.2904,-514.8966 231.5639,-508.7092\"/>\n</g>\n<!-- 7 -->\n<g id=\"node8\" class=\"node\">\n<title>7</title>\n<ellipse fill=\"none\" stroke=\"#000000\" cx=\"321.4472\" cy=\"-481.2899\" rx=\"67.3507\" ry=\"26.7407\"/>\n<text text-anchor=\"middle\" x=\"321.4472\" y=\"-485.0899\" font-family=\"Times,serif\" font-size=\"14.00\" fill=\"#000000\">veil&#45;color </text>\n<text text-anchor=\"middle\" x=\"321.4472\" y=\"-470.0899\" font-family=\"Times,serif\" font-size=\"14.00\" fill=\"#000000\"> Gain: 0.49</text>\n</g>\n<!-- 4&#45;&gt;7 -->\n<g id=\"edge7\" class=\"edge\">\n<title>4&#45;&gt;7</title>\n<path fill=\"none\" stroke=\"#000000\" d=\"M480.1489,-568.0312C447.7316,-550.3129 403.7561,-526.2773 370.3167,-508.0004\"/>\n<polygon fill=\"#000000\" stroke=\"#000000\" points=\"371.6363,-504.733 361.1828,-503.0081 368.279,-510.8754 371.6363,-504.733\"/>\n</g>\n<!-- 16 -->\n<g id=\"node17\" class=\"node\">\n<title>16</title>\n<ellipse fill=\"none\" stroke=\"#00ff00\" cx=\"461.4472\" cy=\"-481.2899\" rx=\"54.3945\" ry=\"37.4533\"/>\n<text text-anchor=\"middle\" x=\"461.4472\" y=\"-492.5899\" font-family=\"Times,serif\" font-size=\"14.00\" fill=\"#000000\">[&#39;e&#39;] </text>\n<text text-anchor=\"middle\" x=\"461.4472\" y=\"-477.5899\" font-family=\"Times,serif\" font-size=\"14.00\" fill=\"#000000\"> Gain: 0 </text>\n<text text-anchor=\"middle\" x=\"461.4472\" y=\"-462.5899\" font-family=\"Times,serif\" font-size=\"14.00\" fill=\"#000000\"> [48]</text>\n</g>\n<!-- 4&#45;&gt;16 -->\n<g id=\"edge16\" class=\"edge\">\n<title>4&#45;&gt;16</title>\n<path fill=\"none\" stroke=\"#000000\" d=\"M509.3572,-565.6672C502.4891,-553.5713 494.177,-538.9324 486.4177,-525.2671\"/>\n<polygon fill=\"#000000\" stroke=\"#000000\" points=\"489.4006,-523.4319 481.4194,-516.4641 483.3134,-526.8883 489.4006,-523.4319\"/>\n</g>\n<!-- 17 -->\n<g id=\"node18\" class=\"node\">\n<title>17</title>\n<ellipse fill=\"none\" stroke=\"#00ff00\" cx=\"588.4472\" cy=\"-481.2899\" rx=\"54.3945\" ry=\"37.4533\"/>\n<text text-anchor=\"middle\" x=\"588.4472\" y=\"-492.5899\" font-family=\"Times,serif\" font-size=\"14.00\" fill=\"#000000\">[&#39;p&#39;] </text>\n<text text-anchor=\"middle\" x=\"588.4472\" y=\"-477.5899\" font-family=\"Times,serif\" font-size=\"14.00\" fill=\"#000000\"> Gain: 0 </text>\n<text text-anchor=\"middle\" x=\"588.4472\" y=\"-462.5899\" font-family=\"Times,serif\" font-size=\"14.00\" fill=\"#000000\"> [72]</text>\n</g>\n<!-- 4&#45;&gt;17 -->\n<g id=\"edge17\" class=\"edge\">\n<title>4&#45;&gt;17</title>\n<path fill=\"none\" stroke=\"#000000\" d=\"M539.7768,-565.6672C546.7539,-553.5713 555.198,-538.9324 563.0804,-525.2671\"/>\n<polygon fill=\"#000000\" stroke=\"#000000\" points=\"566.1933,-526.8752 568.1581,-516.4641 560.1297,-523.3776 566.1933,-526.8752\"/>\n</g>\n<!-- 18 -->\n<g id=\"node19\" class=\"node\">\n<title>18</title>\n<ellipse fill=\"none\" stroke=\"#00ff00\" cx=\"715.4472\" cy=\"-481.2899\" rx=\"54.3945\" ry=\"37.4533\"/>\n<text text-anchor=\"middle\" x=\"715.4472\" y=\"-492.5899\" font-family=\"Times,serif\" font-size=\"14.00\" fill=\"#000000\">[&#39;e&#39;] </text>\n<text text-anchor=\"middle\" x=\"715.4472\" y=\"-477.5899\" font-family=\"Times,serif\" font-size=\"14.00\" fill=\"#000000\"> Gain: 0 </text>\n<text text-anchor=\"middle\" x=\"715.4472\" y=\"-462.5899\" font-family=\"Times,serif\" font-size=\"14.00\" fill=\"#000000\"> [48]</text>\n</g>\n<!-- 4&#45;&gt;18 -->\n<g id=\"edge18\" class=\"edge\">\n<title>4&#45;&gt;18</title>\n<path fill=\"none\" stroke=\"#000000\" d=\"M566.8127,-567.8065C591.5179,-553.5378 623.2679,-535.1686 651.4472,-518.7666 655.855,-516.201 660.4309,-513.5322 665.0175,-510.8534\"/>\n<polygon fill=\"#000000\" stroke=\"#000000\" points=\"666.9422,-513.7825 673.8093,-505.7144 663.4097,-507.7392 666.9422,-513.7825\"/>\n</g>\n<!-- 19 -->\n<g id=\"node20\" class=\"node\">\n<title>19</title>\n<ellipse fill=\"none\" stroke=\"#00ff00\" cx=\"842.4472\" cy=\"-481.2899\" rx=\"54.3945\" ry=\"37.4533\"/>\n<text text-anchor=\"middle\" x=\"842.4472\" y=\"-492.5899\" font-family=\"Times,serif\" font-size=\"14.00\" fill=\"#000000\">[&#39;e&#39;] </text>\n<text text-anchor=\"middle\" x=\"842.4472\" y=\"-477.5899\" font-family=\"Times,serif\" font-size=\"14.00\" fill=\"#000000\"> Gain: 0 </text>\n<text text-anchor=\"middle\" x=\"842.4472\" y=\"-462.5899\" font-family=\"Times,serif\" font-size=\"14.00\" fill=\"#000000\"> [48]</text>\n</g>\n<!-- 4&#45;&gt;19 -->\n<g id=\"edge19\" class=\"edge\">\n<title>4&#45;&gt;19</title>\n<path fill=\"none\" stroke=\"#000000\" d=\"M584.1109,-570.6731C600.0499,-565.2011 617.3268,-559.529 633.4472,-554.7666 697.1273,-535.9536 716.9456,-543.7994 778.4472,-518.7666 783.4412,-516.7339 788.5138,-514.3635 793.5057,-511.8202\"/>\n<polygon fill=\"#000000\" stroke=\"#000000\" points=\"795.1942,-514.8863 802.3696,-507.0911 791.8992,-508.7103 795.1942,-514.8863\"/>\n</g>\n<!-- 20 -->\n<g id=\"node21\" class=\"node\">\n<title>20</title>\n<ellipse fill=\"none\" stroke=\"#00ff00\" cx=\"969.4472\" cy=\"-481.2899\" rx=\"54.3945\" ry=\"37.4533\"/>\n<text text-anchor=\"middle\" x=\"969.4472\" y=\"-492.5899\" font-family=\"Times,serif\" font-size=\"14.00\" fill=\"#000000\">[&#39;e&#39;] </text>\n<text text-anchor=\"middle\" x=\"969.4472\" y=\"-477.5899\" font-family=\"Times,serif\" font-size=\"14.00\" fill=\"#000000\"> Gain: 0 </text>\n<text text-anchor=\"middle\" x=\"969.4472\" y=\"-462.5899\" font-family=\"Times,serif\" font-size=\"14.00\" fill=\"#000000\"> [48]</text>\n</g>\n<!-- 4&#45;&gt;20 -->\n<g id=\"edge20\" class=\"edge\">\n<title>4&#45;&gt;20</title>\n<path fill=\"none\" stroke=\"#000000\" d=\"M581.7996,-570.1269C598.2779,-564.4305 616.4043,-558.7818 633.4472,-554.7666 752.1408,-526.8031 790.1102,-558.3582 905.4472,-518.7666 910.6992,-516.9638 915.9978,-514.7048 921.1784,-512.1946\"/>\n<polygon fill=\"#000000\" stroke=\"#000000\" points=\"923.0706,-515.1563 930.3404,-507.4491 919.8511,-508.9405 923.0706,-515.1563\"/>\n</g>\n<!-- 8 -->\n<g id=\"node9\" class=\"node\">\n<title>8</title>\n<ellipse fill=\"none\" stroke=\"#000000\" cx=\"251.4472\" cy=\"-370.3366\" rx=\"67.3507\" ry=\"26.7407\"/>\n<text text-anchor=\"middle\" x=\"251.4472\" y=\"-374.1366\" font-family=\"Times,serif\" font-size=\"14.00\" fill=\"#000000\">gill&#45;size </text>\n<text text-anchor=\"middle\" x=\"251.4472\" y=\"-359.1366\" font-family=\"Times,serif\" font-size=\"14.00\" fill=\"#000000\"> Gain: 0.35</text>\n</g>\n<!-- 7&#45;&gt;8 -->\n<g id=\"edge8\" class=\"edge\">\n<title>7&#45;&gt;8</title>\n<path fill=\"none\" stroke=\"#000000\" d=\"M304.8582,-454.9955C295.4432,-440.0723 283.5433,-421.2105 273.3668,-405.0802\"/>\n<polygon fill=\"#000000\" stroke=\"#000000\" points=\"276.2131,-403.0322 267.9172,-396.4423 270.2929,-406.7673 276.2131,-403.0322\"/>\n</g>\n<!-- 15 -->\n<g id=\"node16\" class=\"node\">\n<title>15</title>\n<ellipse fill=\"none\" stroke=\"#00ff00\" cx=\"391.4472\" cy=\"-370.3366\" rx=\"54.3945\" ry=\"37.4533\"/>\n<text text-anchor=\"middle\" x=\"391.4472\" y=\"-381.6366\" font-family=\"Times,serif\" font-size=\"14.00\" fill=\"#000000\">[&#39;p&#39;] </text>\n<text text-anchor=\"middle\" x=\"391.4472\" y=\"-366.6366\" font-family=\"Times,serif\" font-size=\"14.00\" fill=\"#000000\"> Gain: 0 </text>\n<text text-anchor=\"middle\" x=\"391.4472\" y=\"-351.6366\" font-family=\"Times,serif\" font-size=\"14.00\" fill=\"#000000\"> [8]</text>\n</g>\n<!-- 7&#45;&gt;15 -->\n<g id=\"edge15\" class=\"edge\">\n<title>7&#45;&gt;15</title>\n<path fill=\"none\" stroke=\"#000000\" d=\"M338.0362,-454.9955C345.8707,-442.5775 355.4258,-427.4323 364.2767,-413.4031\"/>\n<polygon fill=\"#000000\" stroke=\"#000000\" points=\"367.2993,-415.1716 369.675,-404.8466 361.379,-411.4366 367.2993,-415.1716\"/>\n</g>\n<!-- 9 -->\n<g id=\"node10\" class=\"node\">\n<title>9</title>\n<ellipse fill=\"none\" stroke=\"#00ff00\" cx=\"178.4472\" cy=\"-259.3833\" rx=\"54.3945\" ry=\"37.4533\"/>\n<text text-anchor=\"middle\" x=\"178.4472\" y=\"-270.6833\" font-family=\"Times,serif\" font-size=\"14.00\" fill=\"#000000\">[&#39;e&#39;] </text>\n<text text-anchor=\"middle\" x=\"178.4472\" y=\"-255.6833\" font-family=\"Times,serif\" font-size=\"14.00\" fill=\"#000000\"> Gain: 0 </text>\n<text text-anchor=\"middle\" x=\"178.4472\" y=\"-240.6833\" font-family=\"Times,serif\" font-size=\"14.00\" fill=\"#000000\"> [528]</text>\n</g>\n<!-- 8&#45;&gt;9 -->\n<g id=\"edge9\" class=\"edge\">\n<title>8&#45;&gt;9</title>\n<path fill=\"none\" stroke=\"#000000\" d=\"M234.332,-344.323C226.0959,-331.8049 216.0047,-316.4673 206.6748,-302.2866\"/>\n<polygon fill=\"#000000\" stroke=\"#000000\" points=\"209.4077,-300.0725 200.9873,-293.6422 203.5598,-303.92 209.4077,-300.0725\"/>\n</g>\n<!-- 10 -->\n<g id=\"node11\" class=\"node\">\n<title>10</title>\n<ellipse fill=\"none\" stroke=\"#000000\" cx=\"324.4472\" cy=\"-259.3833\" rx=\"73.5782\" ry=\"26.7407\"/>\n<text text-anchor=\"middle\" x=\"324.4472\" y=\"-263.1833\" font-family=\"Times,serif\" font-size=\"14.00\" fill=\"#000000\">gill&#45;spacing </text>\n<text text-anchor=\"middle\" x=\"324.4472\" y=\"-248.1833\" font-family=\"Times,serif\" font-size=\"14.00\" fill=\"#000000\"> Gain: 0.65</text>\n</g>\n<!-- 8&#45;&gt;10 -->\n<g id=\"edge10\" class=\"edge\">\n<title>8&#45;&gt;10</title>\n<path fill=\"none\" stroke=\"#000000\" d=\"M268.5625,-344.323C278.3763,-329.407 290.8238,-310.4877 301.4791,-294.2927\"/>\n<polygon fill=\"#000000\" stroke=\"#000000\" points=\"304.6137,-295.8962 307.1863,-285.6184 298.7659,-292.0487 304.6137,-295.8962\"/>\n</g>\n<!-- 11 -->\n<g id=\"node12\" class=\"node\">\n<title>11</title>\n<ellipse fill=\"none\" stroke=\"#000000\" cx=\"257.4472\" cy=\"-148.43\" rx=\"60.623\" ry=\"26.7407\"/>\n<text text-anchor=\"middle\" x=\"257.4472\" y=\"-152.23\" font-family=\"Times,serif\" font-size=\"14.00\" fill=\"#000000\">bruises </text>\n<text text-anchor=\"middle\" x=\"257.4472\" y=\"-137.23\" font-family=\"Times,serif\" font-size=\"14.00\" fill=\"#000000\"> Gain: 1.0</text>\n</g>\n<!-- 10&#45;&gt;11 -->\n<g id=\"edge11\" class=\"edge\">\n<title>10&#45;&gt;11</title>\n<path fill=\"none\" stroke=\"#000000\" d=\"M308.5692,-233.0889C299.5576,-218.1656 288.1678,-199.3038 278.4274,-183.1735\"/>\n<polygon fill=\"#000000\" stroke=\"#000000\" points=\"281.3767,-181.2867 273.2113,-174.5356 275.3845,-184.9052 281.3767,-181.2867\"/>\n</g>\n<!-- 14 -->\n<g id=\"node15\" class=\"node\">\n<title>14</title>\n<ellipse fill=\"none\" stroke=\"#00ff00\" cx=\"390.4472\" cy=\"-148.43\" rx=\"54.3945\" ry=\"37.4533\"/>\n<text text-anchor=\"middle\" x=\"390.4472\" y=\"-159.73\" font-family=\"Times,serif\" font-size=\"14.00\" fill=\"#000000\">[&#39;p&#39;] </text>\n<text text-anchor=\"middle\" x=\"390.4472\" y=\"-144.73\" font-family=\"Times,serif\" font-size=\"14.00\" fill=\"#000000\"> Gain: 0 </text>\n<text text-anchor=\"middle\" x=\"390.4472\" y=\"-129.73\" font-family=\"Times,serif\" font-size=\"14.00\" fill=\"#000000\"> [32]</text>\n</g>\n<!-- 10&#45;&gt;14 -->\n<g id=\"edge14\" class=\"edge\">\n<title>10&#45;&gt;14</title>\n<path fill=\"none\" stroke=\"#000000\" d=\"M340.0883,-233.0889C347.3429,-220.8931 356.1621,-206.067 364.3806,-192.2509\"/>\n<polygon fill=\"#000000\" stroke=\"#000000\" points=\"367.5676,-193.7392 369.672,-183.3555 361.5515,-190.1606 367.5676,-193.7392\"/>\n</g>\n<!-- 12 -->\n<g id=\"node13\" class=\"node\">\n<title>12</title>\n<ellipse fill=\"none\" stroke=\"#00ff00\" cx=\"194.4472\" cy=\"-37.4767\" rx=\"54.3945\" ry=\"37.4533\"/>\n<text text-anchor=\"middle\" x=\"194.4472\" y=\"-48.7767\" font-family=\"Times,serif\" font-size=\"14.00\" fill=\"#000000\">[&#39;e&#39;] </text>\n<text text-anchor=\"middle\" x=\"194.4472\" y=\"-33.7767\" font-family=\"Times,serif\" font-size=\"14.00\" fill=\"#000000\"> Gain: 0 </text>\n<text text-anchor=\"middle\" x=\"194.4472\" y=\"-18.7767\" font-family=\"Times,serif\" font-size=\"14.00\" fill=\"#000000\"> [48]</text>\n</g>\n<!-- 11&#45;&gt;12 -->\n<g id=\"edge12\" class=\"edge\">\n<title>11&#45;&gt;12</title>\n<path fill=\"none\" stroke=\"#000000\" d=\"M242.5171,-122.1356C235.5923,-109.9398 227.1739,-95.1137 219.329,-81.2976\"/>\n<polygon fill=\"#000000\" stroke=\"#000000\" points=\"222.2594,-79.3699 214.2781,-72.4022 216.1722,-82.8263 222.2594,-79.3699\"/>\n</g>\n<!-- 13 -->\n<g id=\"node14\" class=\"node\">\n<title>13</title>\n<ellipse fill=\"none\" stroke=\"#00ff00\" cx=\"321.4472\" cy=\"-37.4767\" rx=\"54.3945\" ry=\"37.4533\"/>\n<text text-anchor=\"middle\" x=\"321.4472\" y=\"-48.7767\" font-family=\"Times,serif\" font-size=\"14.00\" fill=\"#000000\">[&#39;p&#39;] </text>\n<text text-anchor=\"middle\" x=\"321.4472\" y=\"-33.7767\" font-family=\"Times,serif\" font-size=\"14.00\" fill=\"#000000\"> Gain: 0 </text>\n<text text-anchor=\"middle\" x=\"321.4472\" y=\"-18.7767\" font-family=\"Times,serif\" font-size=\"14.00\" fill=\"#000000\"> [8]</text>\n</g>\n<!-- 11&#45;&gt;13 -->\n<g id=\"edge13\" class=\"edge\">\n<title>11&#45;&gt;13</title>\n<path fill=\"none\" stroke=\"#000000\" d=\"M272.6143,-122.1356C279.6491,-109.9398 288.2011,-95.1137 296.1705,-81.2976\"/>\n<polygon fill=\"#000000\" stroke=\"#000000\" points=\"299.3367,-82.8132 301.3015,-72.4022 293.2731,-79.3156 299.3367,-82.8132\"/>\n</g>\n</g>\n</svg>\n"
     },
     "metadata": {}
    }
   ],
   "execution_count": null
  },
  {
   "cell_type": "markdown",
   "source": "## Predicciones",
   "metadata": {
    "tags": [],
    "is_collapsed": false,
    "cell_id": "00018-2d2e13c4-0b80-4ae9-9f4e-22c9a6f3f23f",
    "deepnote_cell_type": "text-cell-h2"
   }
  },
  {
   "cell_type": "markdown",
   "source": "",
   "metadata": {
    "tags": [],
    "is_collapsed": false,
    "cell_id": "00019-01d1b04c-e6d9-441b-8339-fb457400812d",
    "deepnote_cell_type": "text-cell-p"
   }
  },
  {
   "cell_type": "code",
   "metadata": {
    "tags": [],
    "deepnote_to_be_reexecuted": false,
    "source_hash": "956aeeba",
    "execution_start": 1633648313156,
    "execution_millis": 0,
    "cell_id": "00020-740888bf-2b10-41c3-8db9-13df17bc0411",
    "deepnote_cell_type": "code"
   },
   "source": "def predict_case(case, node: Node):\n    while node.children:\n        node_att = node.chosen_att\n        case_att = case[node_att]\n        for child in node.children:\n            if case_att == child.val_attr:\n                node = child\n                break\n    return node.curr_class\n        \n",
   "outputs": [],
   "execution_count": null
  },
  {
   "cell_type": "code",
   "metadata": {
    "tags": [],
    "deepnote_to_be_reexecuted": false,
    "source_hash": "dde0fb64",
    "execution_start": 1633648313157,
    "execution_millis": 0,
    "cell_id": "00021-58950133-6e18-486a-ac59-a69c3b6d14a3",
    "deepnote_cell_type": "code"
   },
   "source": "def predict_cases(cases,node:Node):\n    predictions = []\n    for item,value in cases.iterrows():\n        aux = node\n        predictions.append(predict_case(value, aux))\n    return predictions",
   "outputs": [],
   "execution_count": null
  },
  {
   "cell_type": "code",
   "metadata": {
    "tags": [],
    "deepnote_to_be_reexecuted": false,
    "source_hash": "72ed8d48",
    "execution_start": 1633648313199,
    "execution_millis": 130,
    "cell_id": "00022-d42f7904-100d-44af-968c-dfb1c580fcda",
    "deepnote_cell_type": "code"
   },
   "source": "pos = 0\ndf.loc[pos:pos]",
   "outputs": [
    {
     "output_type": "execute_result",
     "execution_count": 18,
     "data": {
      "application/vnd.deepnote.dataframe.v2+json": {
       "row_count": 1,
       "column_count": 23,
       "columns": [
        {
         "name": "class",
         "dtype": "object",
         "stats": {
          "unique_count": 1,
          "nan_count": 0,
          "categories": [
           {
            "name": "p",
            "count": 1
           }
          ]
         }
        },
        {
         "name": "cap-shape",
         "dtype": "object",
         "stats": {
          "unique_count": 1,
          "nan_count": 0,
          "categories": [
           {
            "name": "x",
            "count": 1
           }
          ]
         }
        },
        {
         "name": "cap-surface",
         "dtype": "object",
         "stats": {
          "unique_count": 1,
          "nan_count": 0,
          "categories": [
           {
            "name": "s",
            "count": 1
           }
          ]
         }
        },
        {
         "name": "cap-color",
         "dtype": "object",
         "stats": {
          "unique_count": 1,
          "nan_count": 0,
          "categories": [
           {
            "name": "n",
            "count": 1
           }
          ]
         }
        },
        {
         "name": "bruises",
         "dtype": "object",
         "stats": {
          "unique_count": 1,
          "nan_count": 0,
          "categories": [
           {
            "name": "t",
            "count": 1
           }
          ]
         }
        },
        {
         "name": "odor",
         "dtype": "object",
         "stats": {
          "unique_count": 1,
          "nan_count": 0,
          "categories": [
           {
            "name": "p",
            "count": 1
           }
          ]
         }
        },
        {
         "name": "gill-attachment",
         "dtype": "object",
         "stats": {
          "unique_count": 1,
          "nan_count": 0,
          "categories": [
           {
            "name": "f",
            "count": 1
           }
          ]
         }
        },
        {
         "name": "gill-spacing",
         "dtype": "object",
         "stats": {
          "unique_count": 1,
          "nan_count": 0,
          "categories": [
           {
            "name": "c",
            "count": 1
           }
          ]
         }
        },
        {
         "name": "gill-size",
         "dtype": "object",
         "stats": {
          "unique_count": 1,
          "nan_count": 0,
          "categories": [
           {
            "name": "n",
            "count": 1
           }
          ]
         }
        },
        {
         "name": "gill-color",
         "dtype": "object",
         "stats": {
          "unique_count": 1,
          "nan_count": 0,
          "categories": [
           {
            "name": "k",
            "count": 1
           }
          ]
         }
        },
        {
         "name": "stalk-shape",
         "dtype": "object",
         "stats": {
          "unique_count": 1,
          "nan_count": 0,
          "categories": [
           {
            "name": "e",
            "count": 1
           }
          ]
         }
        },
        {
         "name": "stalk-root",
         "dtype": "object",
         "stats": {
          "unique_count": 1,
          "nan_count": 0,
          "categories": [
           {
            "name": "e",
            "count": 1
           }
          ]
         }
        },
        {
         "name": "stalk-surface-above-ring",
         "dtype": "object",
         "stats": {
          "unique_count": 1,
          "nan_count": 0,
          "categories": [
           {
            "name": "s",
            "count": 1
           }
          ]
         }
        },
        {
         "name": "stalk-surface-below-ring",
         "dtype": "object",
         "stats": {
          "unique_count": 1,
          "nan_count": 0,
          "categories": [
           {
            "name": "s",
            "count": 1
           }
          ]
         }
        },
        {
         "name": "stalk-color-above-ring",
         "dtype": "object",
         "stats": {
          "unique_count": 1,
          "nan_count": 0,
          "categories": [
           {
            "name": "w",
            "count": 1
           }
          ]
         }
        },
        {
         "name": "stalk-color-below-ring",
         "dtype": "object",
         "stats": {
          "unique_count": 1,
          "nan_count": 0,
          "categories": [
           {
            "name": "w",
            "count": 1
           }
          ]
         }
        },
        {
         "name": "veil-type",
         "dtype": "object",
         "stats": {
          "unique_count": 1,
          "nan_count": 0,
          "categories": [
           {
            "name": "p",
            "count": 1
           }
          ]
         }
        },
        {
         "name": "veil-color",
         "dtype": "object",
         "stats": {
          "unique_count": 1,
          "nan_count": 0,
          "categories": [
           {
            "name": "w",
            "count": 1
           }
          ]
         }
        },
        {
         "name": "ring-number",
         "dtype": "object",
         "stats": {
          "unique_count": 1,
          "nan_count": 0,
          "categories": [
           {
            "name": "o",
            "count": 1
           }
          ]
         }
        },
        {
         "name": "ring-type",
         "dtype": "object",
         "stats": {
          "unique_count": 1,
          "nan_count": 0,
          "categories": [
           {
            "name": "p",
            "count": 1
           }
          ]
         }
        },
        {
         "name": "spore-print-color",
         "dtype": "object",
         "stats": {
          "unique_count": 1,
          "nan_count": 0,
          "categories": [
           {
            "name": "k",
            "count": 1
           }
          ]
         }
        },
        {
         "name": "population",
         "dtype": "object",
         "stats": {
          "unique_count": 1,
          "nan_count": 0,
          "categories": [
           {
            "name": "s",
            "count": 1
           }
          ]
         }
        },
        {
         "name": "habitat",
         "dtype": "object",
         "stats": {
          "unique_count": 1,
          "nan_count": 0,
          "categories": [
           {
            "name": "u",
            "count": 1
           }
          ]
         }
        },
        {
         "name": "_deepnote_index_column",
         "dtype": "int64"
        }
       ],
       "rows_top": [
        {
         "class": "p",
         "cap-shape": "x",
         "cap-surface": "s",
         "cap-color": "n",
         "bruises": "t",
         "odor": "p",
         "gill-attachment": "f",
         "gill-spacing": "c",
         "gill-size": "n",
         "gill-color": "k",
         "stalk-shape": "e",
         "stalk-root": "e",
         "stalk-surface-above-ring": "s",
         "stalk-surface-below-ring": "s",
         "stalk-color-above-ring": "w",
         "stalk-color-below-ring": "w",
         "veil-type": "p",
         "veil-color": "w",
         "ring-number": "o",
         "ring-type": "p",
         "spore-print-color": "k",
         "population": "s",
         "habitat": "u",
         "_deepnote_index_column": 0
        }
       ],
       "rows_bottom": null
      },
      "text/plain": "  class cap-shape cap-surface cap-color bruises odor gill-attachment  \\\n0     p         x           s         n       t    p               f   \n\n  gill-spacing gill-size gill-color  ... stalk-surface-below-ring  \\\n0            c         n          k  ...                        s   \n\n  stalk-color-above-ring stalk-color-below-ring veil-type veil-color  \\\n0                      w                      w         p          w   \n\n  ring-number ring-type spore-print-color population habitat  \n0           o         p                 k          s       u  \n\n[1 rows x 23 columns]",
      "text/html": "<div>\n<style scoped>\n    .dataframe tbody tr th:only-of-type {\n        vertical-align: middle;\n    }\n\n    .dataframe tbody tr th {\n        vertical-align: top;\n    }\n\n    .dataframe thead th {\n        text-align: right;\n    }\n</style>\n<table border=\"1\" class=\"dataframe\">\n  <thead>\n    <tr style=\"text-align: right;\">\n      <th></th>\n      <th>class</th>\n      <th>cap-shape</th>\n      <th>cap-surface</th>\n      <th>cap-color</th>\n      <th>bruises</th>\n      <th>odor</th>\n      <th>gill-attachment</th>\n      <th>gill-spacing</th>\n      <th>gill-size</th>\n      <th>gill-color</th>\n      <th>...</th>\n      <th>stalk-surface-below-ring</th>\n      <th>stalk-color-above-ring</th>\n      <th>stalk-color-below-ring</th>\n      <th>veil-type</th>\n      <th>veil-color</th>\n      <th>ring-number</th>\n      <th>ring-type</th>\n      <th>spore-print-color</th>\n      <th>population</th>\n      <th>habitat</th>\n    </tr>\n  </thead>\n  <tbody>\n    <tr>\n      <th>0</th>\n      <td>p</td>\n      <td>x</td>\n      <td>s</td>\n      <td>n</td>\n      <td>t</td>\n      <td>p</td>\n      <td>f</td>\n      <td>c</td>\n      <td>n</td>\n      <td>k</td>\n      <td>...</td>\n      <td>s</td>\n      <td>w</td>\n      <td>w</td>\n      <td>p</td>\n      <td>w</td>\n      <td>o</td>\n      <td>p</td>\n      <td>k</td>\n      <td>s</td>\n      <td>u</td>\n    </tr>\n  </tbody>\n</table>\n<p>1 rows × 23 columns</p>\n</div>"
     },
     "metadata": {}
    }
   ],
   "execution_count": null
  },
  {
   "cell_type": "code",
   "metadata": {
    "tags": [],
    "deepnote_to_be_reexecuted": false,
    "source_hash": "f9bdb89d",
    "execution_start": 1633648313321,
    "execution_millis": 0,
    "cell_id": "00023-3047aa4b-f5af-43bb-b61c-acc9f140e179",
    "deepnote_cell_type": "code"
   },
   "source": "test = df.loc[pos:pos]",
   "outputs": [],
   "execution_count": null
  },
  {
   "cell_type": "code",
   "metadata": {
    "tags": [],
    "deepnote_to_be_reexecuted": false,
    "source_hash": "8820ef73",
    "execution_start": 1633648313321,
    "execution_millis": 0,
    "cell_id": "00024-e94cee8c-da2d-47b3-b2d6-e7c4cc2a4e6f",
    "deepnote_cell_type": "code"
   },
   "source": "#predict_case(test,root_node)",
   "outputs": [],
   "execution_count": null
  },
  {
   "cell_type": "code",
   "metadata": {
    "tags": [],
    "deepnote_to_be_reexecuted": false,
    "source_hash": "1151621d",
    "execution_start": 1633648313363,
    "execution_millis": 1273,
    "cell_id": "00025-8af06f82-827c-4e6e-a2fd-b5487e3b405c",
    "deepnote_cell_type": "code"
   },
   "source": "df['test_result'] = predict_cases(df,root_node)",
   "outputs": [],
   "execution_count": null
  },
  {
   "cell_type": "code",
   "metadata": {
    "tags": [],
    "deepnote_to_be_reexecuted": false,
    "source_hash": "41c0aff3",
    "execution_start": 1633648314644,
    "execution_millis": 67,
    "cell_id": "00026-bd578465-b432-4a01-bdb1-2145fa2707a7",
    "deepnote_cell_type": "code"
   },
   "source": "df[['class','test_result']]",
   "outputs": [
    {
     "output_type": "execute_result",
     "execution_count": 22,
     "data": {
      "application/vnd.deepnote.dataframe.v2+json": {
       "row_count": 8124,
       "column_count": 2,
       "columns": [
        {
         "name": "class",
         "dtype": "object",
         "stats": {
          "unique_count": 2,
          "nan_count": 0,
          "categories": [
           {
            "name": "e",
            "count": 4208
           },
           {
            "name": "p",
            "count": 3916
           }
          ]
         }
        },
        {
         "name": "test_result",
         "dtype": "object",
         "stats": {
          "unique_count": 8124,
          "nan_count": 0,
          "categories": [
           {
            "name": "['e']",
            "count": 4208
           },
           {
            "name": "['p']",
            "count": 3916
           }
          ]
         }
        },
        {
         "name": "_deepnote_index_column",
         "dtype": "int64"
        }
       ],
       "rows_top": [
        {
         "class": "p",
         "test_result": "['p']",
         "_deepnote_index_column": 0
        },
        {
         "class": "e",
         "test_result": "['e']",
         "_deepnote_index_column": 1
        },
        {
         "class": "e",
         "test_result": "['e']",
         "_deepnote_index_column": 2
        },
        {
         "class": "p",
         "test_result": "['p']",
         "_deepnote_index_column": 3
        },
        {
         "class": "e",
         "test_result": "['e']",
         "_deepnote_index_column": 4
        },
        {
         "class": "e",
         "test_result": "['e']",
         "_deepnote_index_column": 5
        },
        {
         "class": "e",
         "test_result": "['e']",
         "_deepnote_index_column": 6
        },
        {
         "class": "e",
         "test_result": "['e']",
         "_deepnote_index_column": 7
        },
        {
         "class": "p",
         "test_result": "['p']",
         "_deepnote_index_column": 8
        },
        {
         "class": "e",
         "test_result": "['e']",
         "_deepnote_index_column": 9
        },
        {
         "class": "e",
         "test_result": "['e']",
         "_deepnote_index_column": 10
        },
        {
         "class": "e",
         "test_result": "['e']",
         "_deepnote_index_column": 11
        },
        {
         "class": "e",
         "test_result": "['e']",
         "_deepnote_index_column": 12
        },
        {
         "class": "p",
         "test_result": "['p']",
         "_deepnote_index_column": 13
        },
        {
         "class": "e",
         "test_result": "['e']",
         "_deepnote_index_column": 14
        },
        {
         "class": "e",
         "test_result": "['e']",
         "_deepnote_index_column": 15
        },
        {
         "class": "e",
         "test_result": "['e']",
         "_deepnote_index_column": 16
        },
        {
         "class": "p",
         "test_result": "['p']",
         "_deepnote_index_column": 17
        },
        {
         "class": "p",
         "test_result": "['p']",
         "_deepnote_index_column": 18
        },
        {
         "class": "p",
         "test_result": "['p']",
         "_deepnote_index_column": 19
        },
        {
         "class": "e",
         "test_result": "['e']",
         "_deepnote_index_column": 20
        },
        {
         "class": "p",
         "test_result": "['p']",
         "_deepnote_index_column": 21
        },
        {
         "class": "e",
         "test_result": "['e']",
         "_deepnote_index_column": 22
        },
        {
         "class": "e",
         "test_result": "['e']",
         "_deepnote_index_column": 23
        },
        {
         "class": "e",
         "test_result": "['e']",
         "_deepnote_index_column": 24
        },
        {
         "class": "p",
         "test_result": "['p']",
         "_deepnote_index_column": 25
        },
        {
         "class": "e",
         "test_result": "['e']",
         "_deepnote_index_column": 26
        },
        {
         "class": "e",
         "test_result": "['e']",
         "_deepnote_index_column": 27
        },
        {
         "class": "e",
         "test_result": "['e']",
         "_deepnote_index_column": 28
        },
        {
         "class": "e",
         "test_result": "['e']",
         "_deepnote_index_column": 29
        },
        {
         "class": "e",
         "test_result": "['e']",
         "_deepnote_index_column": 30
        },
        {
         "class": "p",
         "test_result": "['p']",
         "_deepnote_index_column": 31
        },
        {
         "class": "e",
         "test_result": "['e']",
         "_deepnote_index_column": 32
        },
        {
         "class": "e",
         "test_result": "['e']",
         "_deepnote_index_column": 33
        },
        {
         "class": "e",
         "test_result": "['e']",
         "_deepnote_index_column": 34
        },
        {
         "class": "e",
         "test_result": "['e']",
         "_deepnote_index_column": 35
        },
        {
         "class": "e",
         "test_result": "['e']",
         "_deepnote_index_column": 36
        },
        {
         "class": "p",
         "test_result": "['p']",
         "_deepnote_index_column": 37
        },
        {
         "class": "e",
         "test_result": "['e']",
         "_deepnote_index_column": 38
        },
        {
         "class": "e",
         "test_result": "['e']",
         "_deepnote_index_column": 39
        },
        {
         "class": "e",
         "test_result": "['e']",
         "_deepnote_index_column": 40
        },
        {
         "class": "e",
         "test_result": "['e']",
         "_deepnote_index_column": 41
        },
        {
         "class": "e",
         "test_result": "['e']",
         "_deepnote_index_column": 42
        },
        {
         "class": "p",
         "test_result": "['p']",
         "_deepnote_index_column": 43
        },
        {
         "class": "e",
         "test_result": "['e']",
         "_deepnote_index_column": 44
        },
        {
         "class": "e",
         "test_result": "['e']",
         "_deepnote_index_column": 45
        },
        {
         "class": "e",
         "test_result": "['e']",
         "_deepnote_index_column": 46
        },
        {
         "class": "e",
         "test_result": "['e']",
         "_deepnote_index_column": 47
        },
        {
         "class": "e",
         "test_result": "['e']",
         "_deepnote_index_column": 48
        },
        {
         "class": "e",
         "test_result": "['e']",
         "_deepnote_index_column": 49
        },
        {
         "class": "e",
         "test_result": "['e']",
         "_deepnote_index_column": 50
        },
        {
         "class": "e",
         "test_result": "['e']",
         "_deepnote_index_column": 51
        },
        {
         "class": "e",
         "test_result": "['e']",
         "_deepnote_index_column": 52
        },
        {
         "class": "p",
         "test_result": "['p']",
         "_deepnote_index_column": 53
        },
        {
         "class": "p",
         "test_result": "['p']",
         "_deepnote_index_column": 54
        },
        {
         "class": "e",
         "test_result": "['e']",
         "_deepnote_index_column": 55
        },
        {
         "class": "e",
         "test_result": "['e']",
         "_deepnote_index_column": 56
        },
        {
         "class": "e",
         "test_result": "['e']",
         "_deepnote_index_column": 57
        },
        {
         "class": "e",
         "test_result": "['e']",
         "_deepnote_index_column": 58
        },
        {
         "class": "e",
         "test_result": "['e']",
         "_deepnote_index_column": 59
        },
        {
         "class": "e",
         "test_result": "['e']",
         "_deepnote_index_column": 60
        },
        {
         "class": "e",
         "test_result": "['e']",
         "_deepnote_index_column": 61
        },
        {
         "class": "e",
         "test_result": "['e']",
         "_deepnote_index_column": 62
        },
        {
         "class": "e",
         "test_result": "['e']",
         "_deepnote_index_column": 63
        },
        {
         "class": "e",
         "test_result": "['e']",
         "_deepnote_index_column": 64
        },
        {
         "class": "e",
         "test_result": "['e']",
         "_deepnote_index_column": 65
        },
        {
         "class": "e",
         "test_result": "['e']",
         "_deepnote_index_column": 66
        },
        {
         "class": "e",
         "test_result": "['e']",
         "_deepnote_index_column": 67
        },
        {
         "class": "e",
         "test_result": "['e']",
         "_deepnote_index_column": 68
        },
        {
         "class": "e",
         "test_result": "['e']",
         "_deepnote_index_column": 69
        },
        {
         "class": "e",
         "test_result": "['e']",
         "_deepnote_index_column": 70
        },
        {
         "class": "e",
         "test_result": "['e']",
         "_deepnote_index_column": 71
        },
        {
         "class": "e",
         "test_result": "['e']",
         "_deepnote_index_column": 72
        },
        {
         "class": "e",
         "test_result": "['e']",
         "_deepnote_index_column": 73
        },
        {
         "class": "e",
         "test_result": "['e']",
         "_deepnote_index_column": 74
        },
        {
         "class": "e",
         "test_result": "['e']",
         "_deepnote_index_column": 75
        },
        {
         "class": "e",
         "test_result": "['e']",
         "_deepnote_index_column": 76
        },
        {
         "class": "e",
         "test_result": "['e']",
         "_deepnote_index_column": 77
        },
        {
         "class": "p",
         "test_result": "['p']",
         "_deepnote_index_column": 78
        },
        {
         "class": "e",
         "test_result": "['e']",
         "_deepnote_index_column": 79
        },
        {
         "class": "e",
         "test_result": "['e']",
         "_deepnote_index_column": 80
        },
        {
         "class": "p",
         "test_result": "['p']",
         "_deepnote_index_column": 81
        },
        {
         "class": "e",
         "test_result": "['e']",
         "_deepnote_index_column": 82
        },
        {
         "class": "e",
         "test_result": "['e']",
         "_deepnote_index_column": 83
        },
        {
         "class": "e",
         "test_result": "['e']",
         "_deepnote_index_column": 84
        },
        {
         "class": "e",
         "test_result": "['e']",
         "_deepnote_index_column": 85
        },
        {
         "class": "e",
         "test_result": "['e']",
         "_deepnote_index_column": 86
        },
        {
         "class": "e",
         "test_result": "['e']",
         "_deepnote_index_column": 87
        },
        {
         "class": "e",
         "test_result": "['e']",
         "_deepnote_index_column": 88
        },
        {
         "class": "e",
         "test_result": "['e']",
         "_deepnote_index_column": 89
        },
        {
         "class": "e",
         "test_result": "['e']",
         "_deepnote_index_column": 90
        },
        {
         "class": "e",
         "test_result": "['e']",
         "_deepnote_index_column": 91
        },
        {
         "class": "e",
         "test_result": "['e']",
         "_deepnote_index_column": 92
        },
        {
         "class": "e",
         "test_result": "['e']",
         "_deepnote_index_column": 93
        },
        {
         "class": "e",
         "test_result": "['e']",
         "_deepnote_index_column": 94
        },
        {
         "class": "e",
         "test_result": "['e']",
         "_deepnote_index_column": 95
        },
        {
         "class": "e",
         "test_result": "['e']",
         "_deepnote_index_column": 96
        },
        {
         "class": "e",
         "test_result": "['e']",
         "_deepnote_index_column": 97
        },
        {
         "class": "e",
         "test_result": "['e']",
         "_deepnote_index_column": 98
        },
        {
         "class": "e",
         "test_result": "['e']",
         "_deepnote_index_column": 99
        },
        {
         "class": "e",
         "test_result": "['e']",
         "_deepnote_index_column": 100
        },
        {
         "class": "e",
         "test_result": "['e']",
         "_deepnote_index_column": 101
        },
        {
         "class": "e",
         "test_result": "['e']",
         "_deepnote_index_column": 102
        },
        {
         "class": "e",
         "test_result": "['e']",
         "_deepnote_index_column": 103
        },
        {
         "class": "e",
         "test_result": "['e']",
         "_deepnote_index_column": 104
        },
        {
         "class": "e",
         "test_result": "['e']",
         "_deepnote_index_column": 105
        },
        {
         "class": "e",
         "test_result": "['e']",
         "_deepnote_index_column": 106
        },
        {
         "class": "e",
         "test_result": "['e']",
         "_deepnote_index_column": 107
        },
        {
         "class": "e",
         "test_result": "['e']",
         "_deepnote_index_column": 108
        },
        {
         "class": "e",
         "test_result": "['e']",
         "_deepnote_index_column": 109
        },
        {
         "class": "e",
         "test_result": "['e']",
         "_deepnote_index_column": 110
        },
        {
         "class": "e",
         "test_result": "['e']",
         "_deepnote_index_column": 111
        },
        {
         "class": "e",
         "test_result": "['e']",
         "_deepnote_index_column": 112
        },
        {
         "class": "e",
         "test_result": "['e']",
         "_deepnote_index_column": 113
        },
        {
         "class": "p",
         "test_result": "['p']",
         "_deepnote_index_column": 114
        },
        {
         "class": "e",
         "test_result": "['e']",
         "_deepnote_index_column": 115
        },
        {
         "class": "e",
         "test_result": "['e']",
         "_deepnote_index_column": 116
        },
        {
         "class": "e",
         "test_result": "['e']",
         "_deepnote_index_column": 117
        },
        {
         "class": "e",
         "test_result": "['e']",
         "_deepnote_index_column": 118
        },
        {
         "class": "e",
         "test_result": "['e']",
         "_deepnote_index_column": 119
        },
        {
         "class": "p",
         "test_result": "['p']",
         "_deepnote_index_column": 120
        },
        {
         "class": "e",
         "test_result": "['e']",
         "_deepnote_index_column": 121
        },
        {
         "class": "p",
         "test_result": "['p']",
         "_deepnote_index_column": 122
        },
        {
         "class": "e",
         "test_result": "['e']",
         "_deepnote_index_column": 123
        },
        {
         "class": "e",
         "test_result": "['e']",
         "_deepnote_index_column": 124
        },
        {
         "class": "e",
         "test_result": "['e']",
         "_deepnote_index_column": 125
        },
        {
         "class": "e",
         "test_result": "['e']",
         "_deepnote_index_column": 126
        },
        {
         "class": "e",
         "test_result": "['e']",
         "_deepnote_index_column": 127
        },
        {
         "class": "e",
         "test_result": "['e']",
         "_deepnote_index_column": 128
        },
        {
         "class": "e",
         "test_result": "['e']",
         "_deepnote_index_column": 129
        },
        {
         "class": "e",
         "test_result": "['e']",
         "_deepnote_index_column": 130
        },
        {
         "class": "e",
         "test_result": "['e']",
         "_deepnote_index_column": 131
        },
        {
         "class": "e",
         "test_result": "['e']",
         "_deepnote_index_column": 132
        },
        {
         "class": "e",
         "test_result": "['e']",
         "_deepnote_index_column": 133
        },
        {
         "class": "e",
         "test_result": "['e']",
         "_deepnote_index_column": 134
        },
        {
         "class": "p",
         "test_result": "['p']",
         "_deepnote_index_column": 135
        },
        {
         "class": "e",
         "test_result": "['e']",
         "_deepnote_index_column": 136
        },
        {
         "class": "e",
         "test_result": "['e']",
         "_deepnote_index_column": 137
        },
        {
         "class": "p",
         "test_result": "['p']",
         "_deepnote_index_column": 138
        },
        {
         "class": "e",
         "test_result": "['e']",
         "_deepnote_index_column": 139
        },
        {
         "class": "e",
         "test_result": "['e']",
         "_deepnote_index_column": 140
        },
        {
         "class": "e",
         "test_result": "['e']",
         "_deepnote_index_column": 141
        },
        {
         "class": "e",
         "test_result": "['e']",
         "_deepnote_index_column": 142
        },
        {
         "class": "e",
         "test_result": "['e']",
         "_deepnote_index_column": 143
        },
        {
         "class": "e",
         "test_result": "['e']",
         "_deepnote_index_column": 144
        },
        {
         "class": "e",
         "test_result": "['e']",
         "_deepnote_index_column": 145
        },
        {
         "class": "e",
         "test_result": "['e']",
         "_deepnote_index_column": 146
        },
        {
         "class": "e",
         "test_result": "['e']",
         "_deepnote_index_column": 147
        },
        {
         "class": "e",
         "test_result": "['e']",
         "_deepnote_index_column": 148
        },
        {
         "class": "e",
         "test_result": "['e']",
         "_deepnote_index_column": 149
        },
        {
         "class": "e",
         "test_result": "['e']",
         "_deepnote_index_column": 150
        },
        {
         "class": "e",
         "test_result": "['e']",
         "_deepnote_index_column": 151
        },
        {
         "class": "e",
         "test_result": "['e']",
         "_deepnote_index_column": 152
        },
        {
         "class": "e",
         "test_result": "['e']",
         "_deepnote_index_column": 153
        },
        {
         "class": "e",
         "test_result": "['e']",
         "_deepnote_index_column": 154
        },
        {
         "class": "e",
         "test_result": "['e']",
         "_deepnote_index_column": 155
        },
        {
         "class": "e",
         "test_result": "['e']",
         "_deepnote_index_column": 156
        },
        {
         "class": "e",
         "test_result": "['e']",
         "_deepnote_index_column": 157
        },
        {
         "class": "e",
         "test_result": "['e']",
         "_deepnote_index_column": 158
        },
        {
         "class": "e",
         "test_result": "['e']",
         "_deepnote_index_column": 159
        },
        {
         "class": "e",
         "test_result": "['e']",
         "_deepnote_index_column": 160
        },
        {
         "class": "e",
         "test_result": "['e']",
         "_deepnote_index_column": 161
        },
        {
         "class": "e",
         "test_result": "['e']",
         "_deepnote_index_column": 162
        },
        {
         "class": "e",
         "test_result": "['e']",
         "_deepnote_index_column": 163
        },
        {
         "class": "e",
         "test_result": "['e']",
         "_deepnote_index_column": 164
        },
        {
         "class": "e",
         "test_result": "['e']",
         "_deepnote_index_column": 165
        },
        {
         "class": "e",
         "test_result": "['e']",
         "_deepnote_index_column": 166
        },
        {
         "class": "e",
         "test_result": "['e']",
         "_deepnote_index_column": 167
        },
        {
         "class": "e",
         "test_result": "['e']",
         "_deepnote_index_column": 168
        },
        {
         "class": "e",
         "test_result": "['e']",
         "_deepnote_index_column": 169
        },
        {
         "class": "e",
         "test_result": "['e']",
         "_deepnote_index_column": 170
        },
        {
         "class": "e",
         "test_result": "['e']",
         "_deepnote_index_column": 171
        },
        {
         "class": "e",
         "test_result": "['e']",
         "_deepnote_index_column": 172
        },
        {
         "class": "e",
         "test_result": "['e']",
         "_deepnote_index_column": 173
        },
        {
         "class": "e",
         "test_result": "['e']",
         "_deepnote_index_column": 174
        },
        {
         "class": "e",
         "test_result": "['e']",
         "_deepnote_index_column": 175
        },
        {
         "class": "e",
         "test_result": "['e']",
         "_deepnote_index_column": 176
        },
        {
         "class": "e",
         "test_result": "['e']",
         "_deepnote_index_column": 177
        },
        {
         "class": "e",
         "test_result": "['e']",
         "_deepnote_index_column": 178
        },
        {
         "class": "e",
         "test_result": "['e']",
         "_deepnote_index_column": 179
        },
        {
         "class": "p",
         "test_result": "['p']",
         "_deepnote_index_column": 180
        },
        {
         "class": "e",
         "test_result": "['e']",
         "_deepnote_index_column": 181
        },
        {
         "class": "e",
         "test_result": "['e']",
         "_deepnote_index_column": 182
        },
        {
         "class": "e",
         "test_result": "['e']",
         "_deepnote_index_column": 183
        },
        {
         "class": "e",
         "test_result": "['e']",
         "_deepnote_index_column": 184
        },
        {
         "class": "p",
         "test_result": "['p']",
         "_deepnote_index_column": 185
        },
        {
         "class": "e",
         "test_result": "['e']",
         "_deepnote_index_column": 186
        },
        {
         "class": "e",
         "test_result": "['e']",
         "_deepnote_index_column": 187
        },
        {
         "class": "e",
         "test_result": "['e']",
         "_deepnote_index_column": 188
        },
        {
         "class": "e",
         "test_result": "['e']",
         "_deepnote_index_column": 189
        },
        {
         "class": "e",
         "test_result": "['e']",
         "_deepnote_index_column": 190
        },
        {
         "class": "e",
         "test_result": "['e']",
         "_deepnote_index_column": 191
        },
        {
         "class": "e",
         "test_result": "['e']",
         "_deepnote_index_column": 192
        },
        {
         "class": "e",
         "test_result": "['e']",
         "_deepnote_index_column": 193
        },
        {
         "class": "e",
         "test_result": "['e']",
         "_deepnote_index_column": 194
        },
        {
         "class": "e",
         "test_result": "['e']",
         "_deepnote_index_column": 195
        },
        {
         "class": "e",
         "test_result": "['e']",
         "_deepnote_index_column": 196
        },
        {
         "class": "e",
         "test_result": "['e']",
         "_deepnote_index_column": 197
        },
        {
         "class": "e",
         "test_result": "['e']",
         "_deepnote_index_column": 198
        },
        {
         "class": "e",
         "test_result": "['e']",
         "_deepnote_index_column": 199
        },
        {
         "class": "e",
         "test_result": "['e']",
         "_deepnote_index_column": 200
        },
        {
         "class": "e",
         "test_result": "['e']",
         "_deepnote_index_column": 201
        },
        {
         "class": "e",
         "test_result": "['e']",
         "_deepnote_index_column": 202
        },
        {
         "class": "e",
         "test_result": "['e']",
         "_deepnote_index_column": 203
        },
        {
         "class": "e",
         "test_result": "['e']",
         "_deepnote_index_column": 204
        },
        {
         "class": "p",
         "test_result": "['p']",
         "_deepnote_index_column": 205
        },
        {
         "class": "e",
         "test_result": "['e']",
         "_deepnote_index_column": 206
        },
        {
         "class": "e",
         "test_result": "['e']",
         "_deepnote_index_column": 207
        },
        {
         "class": "e",
         "test_result": "['e']",
         "_deepnote_index_column": 208
        },
        {
         "class": "e",
         "test_result": "['e']",
         "_deepnote_index_column": 209
        },
        {
         "class": "e",
         "test_result": "['e']",
         "_deepnote_index_column": 210
        },
        {
         "class": "e",
         "test_result": "['e']",
         "_deepnote_index_column": 211
        },
        {
         "class": "e",
         "test_result": "['e']",
         "_deepnote_index_column": 212
        },
        {
         "class": "e",
         "test_result": "['e']",
         "_deepnote_index_column": 213
        },
        {
         "class": "e",
         "test_result": "['e']",
         "_deepnote_index_column": 214
        },
        {
         "class": "e",
         "test_result": "['e']",
         "_deepnote_index_column": 215
        },
        {
         "class": "e",
         "test_result": "['e']",
         "_deepnote_index_column": 216
        },
        {
         "class": "e",
         "test_result": "['e']",
         "_deepnote_index_column": 217
        },
        {
         "class": "e",
         "test_result": "['e']",
         "_deepnote_index_column": 218
        },
        {
         "class": "e",
         "test_result": "['e']",
         "_deepnote_index_column": 219
        },
        {
         "class": "e",
         "test_result": "['e']",
         "_deepnote_index_column": 220
        },
        {
         "class": "p",
         "test_result": "['p']",
         "_deepnote_index_column": 221
        },
        {
         "class": "e",
         "test_result": "['e']",
         "_deepnote_index_column": 222
        },
        {
         "class": "e",
         "test_result": "['e']",
         "_deepnote_index_column": 223
        },
        {
         "class": "e",
         "test_result": "['e']",
         "_deepnote_index_column": 224
        },
        {
         "class": "e",
         "test_result": "['e']",
         "_deepnote_index_column": 225
        },
        {
         "class": "e",
         "test_result": "['e']",
         "_deepnote_index_column": 226
        },
        {
         "class": "e",
         "test_result": "['e']",
         "_deepnote_index_column": 227
        },
        {
         "class": "p",
         "test_result": "['p']",
         "_deepnote_index_column": 228
        },
        {
         "class": "e",
         "test_result": "['e']",
         "_deepnote_index_column": 229
        },
        {
         "class": "e",
         "test_result": "['e']",
         "_deepnote_index_column": 230
        },
        {
         "class": "p",
         "test_result": "['p']",
         "_deepnote_index_column": 231
        },
        {
         "class": "e",
         "test_result": "['e']",
         "_deepnote_index_column": 232
        },
        {
         "class": "e",
         "test_result": "['e']",
         "_deepnote_index_column": 233
        },
        {
         "class": "e",
         "test_result": "['e']",
         "_deepnote_index_column": 234
        },
        {
         "class": "e",
         "test_result": "['e']",
         "_deepnote_index_column": 235
        },
        {
         "class": "e",
         "test_result": "['e']",
         "_deepnote_index_column": 236
        },
        {
         "class": "e",
         "test_result": "['e']",
         "_deepnote_index_column": 237
        },
        {
         "class": "e",
         "test_result": "['e']",
         "_deepnote_index_column": 238
        },
        {
         "class": "e",
         "test_result": "['e']",
         "_deepnote_index_column": 239
        },
        {
         "class": "e",
         "test_result": "['e']",
         "_deepnote_index_column": 240
        },
        {
         "class": "e",
         "test_result": "['e']",
         "_deepnote_index_column": 241
        },
        {
         "class": "e",
         "test_result": "['e']",
         "_deepnote_index_column": 242
        },
        {
         "class": "p",
         "test_result": "['p']",
         "_deepnote_index_column": 243
        },
        {
         "class": "e",
         "test_result": "['e']",
         "_deepnote_index_column": 244
        },
        {
         "class": "e",
         "test_result": "['e']",
         "_deepnote_index_column": 245
        },
        {
         "class": "e",
         "test_result": "['e']",
         "_deepnote_index_column": 246
        },
        {
         "class": "e",
         "test_result": "['e']",
         "_deepnote_index_column": 247
        },
        {
         "class": "e",
         "test_result": "['e']",
         "_deepnote_index_column": 248
        },
        {
         "class": "e",
         "test_result": "['e']",
         "_deepnote_index_column": 249
        }
       ],
       "rows_bottom": [
        {
         "class": "p",
         "test_result": "['p']",
         "_deepnote_index_column": 7874
        },
        {
         "class": "p",
         "test_result": "['p']",
         "_deepnote_index_column": 7875
        },
        {
         "class": "p",
         "test_result": "['p']",
         "_deepnote_index_column": 7876
        },
        {
         "class": "p",
         "test_result": "['p']",
         "_deepnote_index_column": 7877
        },
        {
         "class": "e",
         "test_result": "['e']",
         "_deepnote_index_column": 7878
        },
        {
         "class": "p",
         "test_result": "['p']",
         "_deepnote_index_column": 7879
        },
        {
         "class": "p",
         "test_result": "['p']",
         "_deepnote_index_column": 7880
        },
        {
         "class": "p",
         "test_result": "['p']",
         "_deepnote_index_column": 7881
        },
        {
         "class": "e",
         "test_result": "['e']",
         "_deepnote_index_column": 7882
        },
        {
         "class": "p",
         "test_result": "['p']",
         "_deepnote_index_column": 7883
        },
        {
         "class": "p",
         "test_result": "['p']",
         "_deepnote_index_column": 7884
        },
        {
         "class": "p",
         "test_result": "['p']",
         "_deepnote_index_column": 7885
        },
        {
         "class": "e",
         "test_result": "['e']",
         "_deepnote_index_column": 7886
        },
        {
         "class": "e",
         "test_result": "['e']",
         "_deepnote_index_column": 7887
        },
        {
         "class": "p",
         "test_result": "['p']",
         "_deepnote_index_column": 7888
        },
        {
         "class": "p",
         "test_result": "['p']",
         "_deepnote_index_column": 7889
        },
        {
         "class": "e",
         "test_result": "['e']",
         "_deepnote_index_column": 7890
        },
        {
         "class": "p",
         "test_result": "['p']",
         "_deepnote_index_column": 7891
        },
        {
         "class": "p",
         "test_result": "['p']",
         "_deepnote_index_column": 7892
        },
        {
         "class": "e",
         "test_result": "['e']",
         "_deepnote_index_column": 7893
        },
        {
         "class": "e",
         "test_result": "['e']",
         "_deepnote_index_column": 7894
        },
        {
         "class": "e",
         "test_result": "['e']",
         "_deepnote_index_column": 7895
        },
        {
         "class": "p",
         "test_result": "['p']",
         "_deepnote_index_column": 7896
        },
        {
         "class": "p",
         "test_result": "['p']",
         "_deepnote_index_column": 7897
        },
        {
         "class": "e",
         "test_result": "['e']",
         "_deepnote_index_column": 7898
        },
        {
         "class": "p",
         "test_result": "['p']",
         "_deepnote_index_column": 7899
        },
        {
         "class": "e",
         "test_result": "['e']",
         "_deepnote_index_column": 7900
        },
        {
         "class": "p",
         "test_result": "['p']",
         "_deepnote_index_column": 7901
        },
        {
         "class": "p",
         "test_result": "['p']",
         "_deepnote_index_column": 7902
        },
        {
         "class": "p",
         "test_result": "['p']",
         "_deepnote_index_column": 7903
        },
        {
         "class": "e",
         "test_result": "['e']",
         "_deepnote_index_column": 7904
        },
        {
         "class": "e",
         "test_result": "['e']",
         "_deepnote_index_column": 7905
        },
        {
         "class": "p",
         "test_result": "['p']",
         "_deepnote_index_column": 7906
        },
        {
         "class": "e",
         "test_result": "['e']",
         "_deepnote_index_column": 7907
        },
        {
         "class": "p",
         "test_result": "['p']",
         "_deepnote_index_column": 7908
        },
        {
         "class": "e",
         "test_result": "['e']",
         "_deepnote_index_column": 7909
        },
        {
         "class": "p",
         "test_result": "['p']",
         "_deepnote_index_column": 7910
        },
        {
         "class": "e",
         "test_result": "['e']",
         "_deepnote_index_column": 7911
        },
        {
         "class": "e",
         "test_result": "['e']",
         "_deepnote_index_column": 7912
        },
        {
         "class": "e",
         "test_result": "['e']",
         "_deepnote_index_column": 7913
        },
        {
         "class": "p",
         "test_result": "['p']",
         "_deepnote_index_column": 7914
        },
        {
         "class": "e",
         "test_result": "['e']",
         "_deepnote_index_column": 7915
        },
        {
         "class": "e",
         "test_result": "['e']",
         "_deepnote_index_column": 7916
        },
        {
         "class": "p",
         "test_result": "['p']",
         "_deepnote_index_column": 7917
        },
        {
         "class": "e",
         "test_result": "['e']",
         "_deepnote_index_column": 7918
        },
        {
         "class": "e",
         "test_result": "['e']",
         "_deepnote_index_column": 7919
        },
        {
         "class": "p",
         "test_result": "['p']",
         "_deepnote_index_column": 7920
        },
        {
         "class": "e",
         "test_result": "['e']",
         "_deepnote_index_column": 7921
        },
        {
         "class": "e",
         "test_result": "['e']",
         "_deepnote_index_column": 7922
        },
        {
         "class": "p",
         "test_result": "['p']",
         "_deepnote_index_column": 7923
        },
        {
         "class": "p",
         "test_result": "['p']",
         "_deepnote_index_column": 7924
        },
        {
         "class": "p",
         "test_result": "['p']",
         "_deepnote_index_column": 7925
        },
        {
         "class": "p",
         "test_result": "['p']",
         "_deepnote_index_column": 7926
        },
        {
         "class": "e",
         "test_result": "['e']",
         "_deepnote_index_column": 7927
        },
        {
         "class": "p",
         "test_result": "['p']",
         "_deepnote_index_column": 7928
        },
        {
         "class": "e",
         "test_result": "['e']",
         "_deepnote_index_column": 7929
        },
        {
         "class": "p",
         "test_result": "['p']",
         "_deepnote_index_column": 7930
        },
        {
         "class": "e",
         "test_result": "['e']",
         "_deepnote_index_column": 7931
        },
        {
         "class": "p",
         "test_result": "['p']",
         "_deepnote_index_column": 7932
        },
        {
         "class": "e",
         "test_result": "['e']",
         "_deepnote_index_column": 7933
        },
        {
         "class": "p",
         "test_result": "['p']",
         "_deepnote_index_column": 7934
        },
        {
         "class": "p",
         "test_result": "['p']",
         "_deepnote_index_column": 7935
        },
        {
         "class": "p",
         "test_result": "['p']",
         "_deepnote_index_column": 7936
        },
        {
         "class": "e",
         "test_result": "['e']",
         "_deepnote_index_column": 7937
        },
        {
         "class": "e",
         "test_result": "['e']",
         "_deepnote_index_column": 7938
        },
        {
         "class": "e",
         "test_result": "['e']",
         "_deepnote_index_column": 7939
        },
        {
         "class": "e",
         "test_result": "['e']",
         "_deepnote_index_column": 7940
        },
        {
         "class": "p",
         "test_result": "['p']",
         "_deepnote_index_column": 7941
        },
        {
         "class": "p",
         "test_result": "['p']",
         "_deepnote_index_column": 7942
        },
        {
         "class": "p",
         "test_result": "['p']",
         "_deepnote_index_column": 7943
        },
        {
         "class": "e",
         "test_result": "['e']",
         "_deepnote_index_column": 7944
        },
        {
         "class": "e",
         "test_result": "['e']",
         "_deepnote_index_column": 7945
        },
        {
         "class": "e",
         "test_result": "['e']",
         "_deepnote_index_column": 7946
        },
        {
         "class": "p",
         "test_result": "['p']",
         "_deepnote_index_column": 7947
        },
        {
         "class": "p",
         "test_result": "['p']",
         "_deepnote_index_column": 7948
        },
        {
         "class": "p",
         "test_result": "['p']",
         "_deepnote_index_column": 7949
        },
        {
         "class": "p",
         "test_result": "['p']",
         "_deepnote_index_column": 7950
        },
        {
         "class": "p",
         "test_result": "['p']",
         "_deepnote_index_column": 7951
        },
        {
         "class": "e",
         "test_result": "['e']",
         "_deepnote_index_column": 7952
        },
        {
         "class": "e",
         "test_result": "['e']",
         "_deepnote_index_column": 7953
        },
        {
         "class": "e",
         "test_result": "['e']",
         "_deepnote_index_column": 7954
        },
        {
         "class": "e",
         "test_result": "['e']",
         "_deepnote_index_column": 7955
        },
        {
         "class": "e",
         "test_result": "['e']",
         "_deepnote_index_column": 7956
        },
        {
         "class": "e",
         "test_result": "['e']",
         "_deepnote_index_column": 7957
        },
        {
         "class": "e",
         "test_result": "['e']",
         "_deepnote_index_column": 7958
        },
        {
         "class": "p",
         "test_result": "['p']",
         "_deepnote_index_column": 7959
        },
        {
         "class": "e",
         "test_result": "['e']",
         "_deepnote_index_column": 7960
        },
        {
         "class": "p",
         "test_result": "['p']",
         "_deepnote_index_column": 7961
        },
        {
         "class": "p",
         "test_result": "['p']",
         "_deepnote_index_column": 7962
        },
        {
         "class": "p",
         "test_result": "['p']",
         "_deepnote_index_column": 7963
        },
        {
         "class": "e",
         "test_result": "['e']",
         "_deepnote_index_column": 7964
        },
        {
         "class": "e",
         "test_result": "['e']",
         "_deepnote_index_column": 7965
        },
        {
         "class": "e",
         "test_result": "['e']",
         "_deepnote_index_column": 7966
        },
        {
         "class": "p",
         "test_result": "['p']",
         "_deepnote_index_column": 7967
        },
        {
         "class": "p",
         "test_result": "['p']",
         "_deepnote_index_column": 7968
        },
        {
         "class": "p",
         "test_result": "['p']",
         "_deepnote_index_column": 7969
        },
        {
         "class": "e",
         "test_result": "['e']",
         "_deepnote_index_column": 7970
        },
        {
         "class": "e",
         "test_result": "['e']",
         "_deepnote_index_column": 7971
        },
        {
         "class": "e",
         "test_result": "['e']",
         "_deepnote_index_column": 7972
        },
        {
         "class": "p",
         "test_result": "['p']",
         "_deepnote_index_column": 7973
        },
        {
         "class": "e",
         "test_result": "['e']",
         "_deepnote_index_column": 7974
        },
        {
         "class": "e",
         "test_result": "['e']",
         "_deepnote_index_column": 7975
        },
        {
         "class": "e",
         "test_result": "['e']",
         "_deepnote_index_column": 7976
        },
        {
         "class": "e",
         "test_result": "['e']",
         "_deepnote_index_column": 7977
        },
        {
         "class": "p",
         "test_result": "['p']",
         "_deepnote_index_column": 7978
        },
        {
         "class": "e",
         "test_result": "['e']",
         "_deepnote_index_column": 7979
        },
        {
         "class": "p",
         "test_result": "['p']",
         "_deepnote_index_column": 7980
        },
        {
         "class": "p",
         "test_result": "['p']",
         "_deepnote_index_column": 7981
        },
        {
         "class": "p",
         "test_result": "['p']",
         "_deepnote_index_column": 7982
        },
        {
         "class": "e",
         "test_result": "['e']",
         "_deepnote_index_column": 7983
        },
        {
         "class": "e",
         "test_result": "['e']",
         "_deepnote_index_column": 7984
        },
        {
         "class": "e",
         "test_result": "['e']",
         "_deepnote_index_column": 7985
        },
        {
         "class": "e",
         "test_result": "['e']",
         "_deepnote_index_column": 7986
        },
        {
         "class": "p",
         "test_result": "['p']",
         "_deepnote_index_column": 7987
        },
        {
         "class": "e",
         "test_result": "['e']",
         "_deepnote_index_column": 7988
        },
        {
         "class": "p",
         "test_result": "['p']",
         "_deepnote_index_column": 7989
        },
        {
         "class": "p",
         "test_result": "['p']",
         "_deepnote_index_column": 7990
        },
        {
         "class": "e",
         "test_result": "['e']",
         "_deepnote_index_column": 7991
        },
        {
         "class": "p",
         "test_result": "['p']",
         "_deepnote_index_column": 7992
        },
        {
         "class": "e",
         "test_result": "['e']",
         "_deepnote_index_column": 7993
        },
        {
         "class": "e",
         "test_result": "['e']",
         "_deepnote_index_column": 7994
        },
        {
         "class": "p",
         "test_result": "['p']",
         "_deepnote_index_column": 7995
        },
        {
         "class": "e",
         "test_result": "['e']",
         "_deepnote_index_column": 7996
        },
        {
         "class": "p",
         "test_result": "['p']",
         "_deepnote_index_column": 7997
        },
        {
         "class": "p",
         "test_result": "['p']",
         "_deepnote_index_column": 7998
        },
        {
         "class": "e",
         "test_result": "['e']",
         "_deepnote_index_column": 7999
        },
        {
         "class": "e",
         "test_result": "['e']",
         "_deepnote_index_column": 8000
        },
        {
         "class": "e",
         "test_result": "['e']",
         "_deepnote_index_column": 8001
        },
        {
         "class": "e",
         "test_result": "['e']",
         "_deepnote_index_column": 8002
        },
        {
         "class": "e",
         "test_result": "['e']",
         "_deepnote_index_column": 8003
        },
        {
         "class": "p",
         "test_result": "['p']",
         "_deepnote_index_column": 8004
        },
        {
         "class": "p",
         "test_result": "['p']",
         "_deepnote_index_column": 8005
        },
        {
         "class": "p",
         "test_result": "['p']",
         "_deepnote_index_column": 8006
        },
        {
         "class": "p",
         "test_result": "['p']",
         "_deepnote_index_column": 8007
        },
        {
         "class": "p",
         "test_result": "['p']",
         "_deepnote_index_column": 8008
        },
        {
         "class": "e",
         "test_result": "['e']",
         "_deepnote_index_column": 8009
        },
        {
         "class": "e",
         "test_result": "['e']",
         "_deepnote_index_column": 8010
        },
        {
         "class": "e",
         "test_result": "['e']",
         "_deepnote_index_column": 8011
        },
        {
         "class": "p",
         "test_result": "['p']",
         "_deepnote_index_column": 8012
        },
        {
         "class": "e",
         "test_result": "['e']",
         "_deepnote_index_column": 8013
        },
        {
         "class": "e",
         "test_result": "['e']",
         "_deepnote_index_column": 8014
        },
        {
         "class": "e",
         "test_result": "['e']",
         "_deepnote_index_column": 8015
        },
        {
         "class": "p",
         "test_result": "['p']",
         "_deepnote_index_column": 8016
        },
        {
         "class": "e",
         "test_result": "['e']",
         "_deepnote_index_column": 8017
        },
        {
         "class": "e",
         "test_result": "['e']",
         "_deepnote_index_column": 8018
        },
        {
         "class": "e",
         "test_result": "['e']",
         "_deepnote_index_column": 8019
        },
        {
         "class": "p",
         "test_result": "['p']",
         "_deepnote_index_column": 8020
        },
        {
         "class": "p",
         "test_result": "['p']",
         "_deepnote_index_column": 8021
        },
        {
         "class": "p",
         "test_result": "['p']",
         "_deepnote_index_column": 8022
        },
        {
         "class": "p",
         "test_result": "['p']",
         "_deepnote_index_column": 8023
        },
        {
         "class": "p",
         "test_result": "['p']",
         "_deepnote_index_column": 8024
        },
        {
         "class": "e",
         "test_result": "['e']",
         "_deepnote_index_column": 8025
        },
        {
         "class": "e",
         "test_result": "['e']",
         "_deepnote_index_column": 8026
        },
        {
         "class": "p",
         "test_result": "['p']",
         "_deepnote_index_column": 8027
        },
        {
         "class": "p",
         "test_result": "['p']",
         "_deepnote_index_column": 8028
        },
        {
         "class": "e",
         "test_result": "['e']",
         "_deepnote_index_column": 8029
        },
        {
         "class": "e",
         "test_result": "['e']",
         "_deepnote_index_column": 8030
        },
        {
         "class": "p",
         "test_result": "['p']",
         "_deepnote_index_column": 8031
        },
        {
         "class": "p",
         "test_result": "['p']",
         "_deepnote_index_column": 8032
        },
        {
         "class": "p",
         "test_result": "['p']",
         "_deepnote_index_column": 8033
        },
        {
         "class": "e",
         "test_result": "['e']",
         "_deepnote_index_column": 8034
        },
        {
         "class": "e",
         "test_result": "['e']",
         "_deepnote_index_column": 8035
        },
        {
         "class": "e",
         "test_result": "['e']",
         "_deepnote_index_column": 8036
        },
        {
         "class": "p",
         "test_result": "['p']",
         "_deepnote_index_column": 8037
        },
        {
         "class": "e",
         "test_result": "['e']",
         "_deepnote_index_column": 8038
        },
        {
         "class": "p",
         "test_result": "['p']",
         "_deepnote_index_column": 8039
        },
        {
         "class": "e",
         "test_result": "['e']",
         "_deepnote_index_column": 8040
        },
        {
         "class": "p",
         "test_result": "['p']",
         "_deepnote_index_column": 8041
        },
        {
         "class": "e",
         "test_result": "['e']",
         "_deepnote_index_column": 8042
        },
        {
         "class": "e",
         "test_result": "['e']",
         "_deepnote_index_column": 8043
        },
        {
         "class": "e",
         "test_result": "['e']",
         "_deepnote_index_column": 8044
        },
        {
         "class": "p",
         "test_result": "['p']",
         "_deepnote_index_column": 8045
        },
        {
         "class": "e",
         "test_result": "['e']",
         "_deepnote_index_column": 8046
        },
        {
         "class": "p",
         "test_result": "['p']",
         "_deepnote_index_column": 8047
        },
        {
         "class": "p",
         "test_result": "['p']",
         "_deepnote_index_column": 8048
        },
        {
         "class": "p",
         "test_result": "['p']",
         "_deepnote_index_column": 8049
        },
        {
         "class": "p",
         "test_result": "['p']",
         "_deepnote_index_column": 8050
        },
        {
         "class": "e",
         "test_result": "['e']",
         "_deepnote_index_column": 8051
        },
        {
         "class": "e",
         "test_result": "['e']",
         "_deepnote_index_column": 8052
        },
        {
         "class": "p",
         "test_result": "['p']",
         "_deepnote_index_column": 8053
        },
        {
         "class": "e",
         "test_result": "['e']",
         "_deepnote_index_column": 8054
        },
        {
         "class": "e",
         "test_result": "['e']",
         "_deepnote_index_column": 8055
        },
        {
         "class": "e",
         "test_result": "['e']",
         "_deepnote_index_column": 8056
        },
        {
         "class": "e",
         "test_result": "['e']",
         "_deepnote_index_column": 8057
        },
        {
         "class": "p",
         "test_result": "['p']",
         "_deepnote_index_column": 8058
        },
        {
         "class": "p",
         "test_result": "['p']",
         "_deepnote_index_column": 8059
        },
        {
         "class": "p",
         "test_result": "['p']",
         "_deepnote_index_column": 8060
        },
        {
         "class": "p",
         "test_result": "['p']",
         "_deepnote_index_column": 8061
        },
        {
         "class": "p",
         "test_result": "['p']",
         "_deepnote_index_column": 8062
        },
        {
         "class": "e",
         "test_result": "['e']",
         "_deepnote_index_column": 8063
        },
        {
         "class": "p",
         "test_result": "['p']",
         "_deepnote_index_column": 8064
        },
        {
         "class": "e",
         "test_result": "['e']",
         "_deepnote_index_column": 8065
        },
        {
         "class": "p",
         "test_result": "['p']",
         "_deepnote_index_column": 8066
        },
        {
         "class": "e",
         "test_result": "['e']",
         "_deepnote_index_column": 8067
        },
        {
         "class": "e",
         "test_result": "['e']",
         "_deepnote_index_column": 8068
        },
        {
         "class": "e",
         "test_result": "['e']",
         "_deepnote_index_column": 8069
        },
        {
         "class": "p",
         "test_result": "['p']",
         "_deepnote_index_column": 8070
        },
        {
         "class": "e",
         "test_result": "['e']",
         "_deepnote_index_column": 8071
        },
        {
         "class": "p",
         "test_result": "['p']",
         "_deepnote_index_column": 8072
        },
        {
         "class": "e",
         "test_result": "['e']",
         "_deepnote_index_column": 8073
        },
        {
         "class": "e",
         "test_result": "['e']",
         "_deepnote_index_column": 8074
        },
        {
         "class": "e",
         "test_result": "['e']",
         "_deepnote_index_column": 8075
        },
        {
         "class": "e",
         "test_result": "['e']",
         "_deepnote_index_column": 8076
        },
        {
         "class": "e",
         "test_result": "['e']",
         "_deepnote_index_column": 8077
        },
        {
         "class": "e",
         "test_result": "['e']",
         "_deepnote_index_column": 8078
        },
        {
         "class": "p",
         "test_result": "['p']",
         "_deepnote_index_column": 8079
        },
        {
         "class": "p",
         "test_result": "['p']",
         "_deepnote_index_column": 8080
        },
        {
         "class": "p",
         "test_result": "['p']",
         "_deepnote_index_column": 8081
        },
        {
         "class": "p",
         "test_result": "['p']",
         "_deepnote_index_column": 8082
        },
        {
         "class": "p",
         "test_result": "['p']",
         "_deepnote_index_column": 8083
        },
        {
         "class": "e",
         "test_result": "['e']",
         "_deepnote_index_column": 8084
        },
        {
         "class": "e",
         "test_result": "['e']",
         "_deepnote_index_column": 8085
        },
        {
         "class": "e",
         "test_result": "['e']",
         "_deepnote_index_column": 8086
        },
        {
         "class": "p",
         "test_result": "['p']",
         "_deepnote_index_column": 8087
        },
        {
         "class": "e",
         "test_result": "['e']",
         "_deepnote_index_column": 8088
        },
        {
         "class": "p",
         "test_result": "['p']",
         "_deepnote_index_column": 8089
        },
        {
         "class": "p",
         "test_result": "['p']",
         "_deepnote_index_column": 8090
        },
        {
         "class": "p",
         "test_result": "['p']",
         "_deepnote_index_column": 8091
        },
        {
         "class": "p",
         "test_result": "['p']",
         "_deepnote_index_column": 8092
        },
        {
         "class": "p",
         "test_result": "['p']",
         "_deepnote_index_column": 8093
        },
        {
         "class": "e",
         "test_result": "['e']",
         "_deepnote_index_column": 8094
        },
        {
         "class": "p",
         "test_result": "['p']",
         "_deepnote_index_column": 8095
        },
        {
         "class": "e",
         "test_result": "['e']",
         "_deepnote_index_column": 8096
        },
        {
         "class": "p",
         "test_result": "['p']",
         "_deepnote_index_column": 8097
        },
        {
         "class": "p",
         "test_result": "['p']",
         "_deepnote_index_column": 8098
        },
        {
         "class": "e",
         "test_result": "['e']",
         "_deepnote_index_column": 8099
        },
        {
         "class": "e",
         "test_result": "['e']",
         "_deepnote_index_column": 8100
        },
        {
         "class": "p",
         "test_result": "['p']",
         "_deepnote_index_column": 8101
        },
        {
         "class": "e",
         "test_result": "['e']",
         "_deepnote_index_column": 8102
        },
        {
         "class": "e",
         "test_result": "['e']",
         "_deepnote_index_column": 8103
        },
        {
         "class": "e",
         "test_result": "['e']",
         "_deepnote_index_column": 8104
        },
        {
         "class": "e",
         "test_result": "['e']",
         "_deepnote_index_column": 8105
        },
        {
         "class": "e",
         "test_result": "['e']",
         "_deepnote_index_column": 8106
        },
        {
         "class": "e",
         "test_result": "['e']",
         "_deepnote_index_column": 8107
        },
        {
         "class": "p",
         "test_result": "['p']",
         "_deepnote_index_column": 8108
        },
        {
         "class": "e",
         "test_result": "['e']",
         "_deepnote_index_column": 8109
        },
        {
         "class": "e",
         "test_result": "['e']",
         "_deepnote_index_column": 8110
        },
        {
         "class": "e",
         "test_result": "['e']",
         "_deepnote_index_column": 8111
        },
        {
         "class": "e",
         "test_result": "['e']",
         "_deepnote_index_column": 8112
        },
        {
         "class": "p",
         "test_result": "['p']",
         "_deepnote_index_column": 8113
        },
        {
         "class": "p",
         "test_result": "['p']",
         "_deepnote_index_column": 8114
        },
        {
         "class": "e",
         "test_result": "['e']",
         "_deepnote_index_column": 8115
        },
        {
         "class": "p",
         "test_result": "['p']",
         "_deepnote_index_column": 8116
        },
        {
         "class": "p",
         "test_result": "['p']",
         "_deepnote_index_column": 8117
        },
        {
         "class": "p",
         "test_result": "['p']",
         "_deepnote_index_column": 8118
        },
        {
         "class": "e",
         "test_result": "['e']",
         "_deepnote_index_column": 8119
        },
        {
         "class": "e",
         "test_result": "['e']",
         "_deepnote_index_column": 8120
        },
        {
         "class": "e",
         "test_result": "['e']",
         "_deepnote_index_column": 8121
        },
        {
         "class": "p",
         "test_result": "['p']",
         "_deepnote_index_column": 8122
        },
        {
         "class": "e",
         "test_result": "['e']",
         "_deepnote_index_column": 8123
        }
       ]
      },
      "text/plain": "     class test_result\n0        p         [p]\n1        e         [e]\n2        e         [e]\n3        p         [p]\n4        e         [e]\n...    ...         ...\n8119     e         [e]\n8120     e         [e]\n8121     e         [e]\n8122     p         [p]\n8123     e         [e]\n\n[8124 rows x 2 columns]",
      "text/html": "<div>\n<style scoped>\n    .dataframe tbody tr th:only-of-type {\n        vertical-align: middle;\n    }\n\n    .dataframe tbody tr th {\n        vertical-align: top;\n    }\n\n    .dataframe thead th {\n        text-align: right;\n    }\n</style>\n<table border=\"1\" class=\"dataframe\">\n  <thead>\n    <tr style=\"text-align: right;\">\n      <th></th>\n      <th>class</th>\n      <th>test_result</th>\n    </tr>\n  </thead>\n  <tbody>\n    <tr>\n      <th>0</th>\n      <td>p</td>\n      <td>[p]</td>\n    </tr>\n    <tr>\n      <th>1</th>\n      <td>e</td>\n      <td>[e]</td>\n    </tr>\n    <tr>\n      <th>2</th>\n      <td>e</td>\n      <td>[e]</td>\n    </tr>\n    <tr>\n      <th>3</th>\n      <td>p</td>\n      <td>[p]</td>\n    </tr>\n    <tr>\n      <th>4</th>\n      <td>e</td>\n      <td>[e]</td>\n    </tr>\n    <tr>\n      <th>...</th>\n      <td>...</td>\n      <td>...</td>\n    </tr>\n    <tr>\n      <th>8119</th>\n      <td>e</td>\n      <td>[e]</td>\n    </tr>\n    <tr>\n      <th>8120</th>\n      <td>e</td>\n      <td>[e]</td>\n    </tr>\n    <tr>\n      <th>8121</th>\n      <td>e</td>\n      <td>[e]</td>\n    </tr>\n    <tr>\n      <th>8122</th>\n      <td>p</td>\n      <td>[p]</td>\n    </tr>\n    <tr>\n      <th>8123</th>\n      <td>e</td>\n      <td>[e]</td>\n    </tr>\n  </tbody>\n</table>\n<p>8124 rows × 2 columns</p>\n</div>"
     },
     "metadata": {}
    }
   ],
   "execution_count": null
  },
  {
   "cell_type": "code",
   "metadata": {
    "tags": [],
    "deepnote_to_be_reexecuted": false,
    "source_hash": "b623e53d",
    "execution_start": 1633648314706,
    "execution_millis": 78807,
    "cell_id": "00027-853eb99d-b1a1-469b-b8bb-e328dbd68177",
    "deepnote_cell_type": "code"
   },
   "source": "",
   "outputs": [],
   "execution_count": null
  },
  {
   "cell_type": "markdown",
   "source": "<a style='text-decoration:none;line-height:16px;display:flex;color:#5B5B62;padding:10px;justify-content:end;' href='https://deepnote.com?utm_source=created-in-deepnote-cell&projectId=9a66d969-af84-4258-a4a2-724e61aa71b5' target=\"_blank\">\n<img alt='Created in deepnote.com' style='display:inline;max-height:16px;margin:0px;margin-right:7.5px;' src='data:image/svg+xml;base64,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' > </img>\nCreated in <span style='font-weight:600;margin-left:4px;'>Deepnote</span></a>",
   "metadata": {
    "tags": [],
    "created_in_deepnote_cell": true,
    "deepnote_cell_type": "markdown"
   }
  }
 ],
 "nbformat": 4,
 "nbformat_minor": 2,
 "metadata": {
  "deepnoteSessionId": "dea8a0f5-35e3-4468-94eb-804ff5fc7baa",
  "kernelspec": {
   "display_name": "Python 3",
   "language": "python",
   "name": "python3"
  },
  "language_info": {
   "codemirror_mode": {
    "name": "ipython",
    "version": 3
   },
   "file_extension": ".py",
   "mimetype": "text/x-python",
   "name": "python",
   "nbconvert_exporter": "python",
   "pygments_lexer": "ipython3",
   "version": "3.7.5"
  },
  "deepnote_execution_queue": [],
  "deepnote_notebook_id": "dc75d525-019d-4783-bd83-c297b45f18ed",
  "deepnote": {}
 }
}