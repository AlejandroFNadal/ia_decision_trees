{
 "cells": [
  {
   "cell_type": "markdown",
   "source": "",
   "metadata": {
    "tags": [],
    "cell_id": "00002-e2e450be-6acd-41b4-9130-6defdf006845",
    "deepnote_cell_type": "markdown"
   }
  },
  {
   "cell_type": "markdown",
   "source": "Ideas: Introducimos la data en un Pandas. Iteramos sobre las columnas y analizamos los valores posibles para cada columna, incluyendo la clase de cada caso. Podemos crear luego un objeto que sea conjunto o algo asi, y ese objeto le damos el metodo \"entropia\". Aparte, creamos una funcion que reciba uno de estos conjuntos y tome los atributos que analizamos de la tabla. La funcion itera sobre la lista de atributos y nos devuelve el atributo con mayor ganancia\nAhi miramos si tenemos suficiente ganancia, sit enemos, creamos un nodo y separamos cada caso dependiendo del valor del atributo en subconjuntos. Guardamos los subconjuntos en una lista en el nodo y llamamos al algoritmo con los elementos de la lista.",
   "metadata": {
    "tags": [],
    "cell_id": "00004-4ddd2aa7-865d-4c5f-8cd7-1789ad6a42f6",
    "deepnote_cell_type": "markdown"
   }
  },
  {
   "cell_type": "code",
   "metadata": {
    "tags": [],
    "cell_id": "00008-ea6563fe-b2ef-4cab-bdec-f4932d8a19a9",
    "deepnote_to_be_reexecuted": false,
    "source_hash": "b623e53d",
    "execution_start": 1633647713822,
    "execution_millis": 28051,
    "deepnote_cell_type": "code"
   },
   "source": "",
   "execution_count": 0,
   "outputs": []
  },
  {
   "cell_type": "code",
   "metadata": {
    "tags": [],
    "output_cleared": false,
    "source_hash": "bfa9fb56",
    "execution_start": 1633647713863,
    "execution_millis": 811,
    "deepnote_to_be_reexecuted": false,
    "cell_id": "00005-b7af80e8-e623-4426-bb5c-b072965133ff",
    "deepnote_cell_type": "code"
   },
   "source": "import pandas as pd\nimport math\nimport streamlit as st\nimport graphviz as graphviz",
   "outputs": [],
   "execution_count": null
  },
  {
   "cell_type": "code",
   "metadata": {
    "tags": [],
    "deepnote_to_be_reexecuted": false,
    "source_hash": "3024745a",
    "execution_start": 1633647714684,
    "execution_millis": 37,
    "cell_id": "00006-da6163c8-96ff-48e3-8f2d-90aefc144185",
    "deepnote_cell_type": "code"
   },
   "source": "df = pd.read_csv('mushrooms.csv').head(10)\ndf['class'].value_counts().items()",
   "outputs": [],
   "execution_count": null
  },
  {
   "cell_type": "code",
   "metadata": {
    "tags": [],
    "cell_id": "00012-32c4a469-39cd-4c65-bb71-1646488e9d84",
    "deepnote_to_be_reexecuted": false,
    "source_hash": "c085b6ba",
    "execution_start": 1633647714819,
    "execution_millis": 15,
    "deepnote_cell_type": "code"
   },
   "source": "df.head()",
   "outputs": [
    {
     "output_type": "execute_result",
     "execution_count": 3,
     "data": {
      "application/vnd.deepnote.dataframe.v2+json": {
       "row_count": 5,
       "column_count": 23,
       "columns": [
        {
         "name": "class",
         "dtype": "object",
         "stats": {
          "unique_count": 2,
          "nan_count": 0,
          "categories": [
           {
            "name": "e",
            "count": 3
           },
           {
            "name": "p",
            "count": 2
           }
          ]
         }
        },
        {
         "name": "cap-shape",
         "dtype": "object",
         "stats": {
          "unique_count": 2,
          "nan_count": 0,
          "categories": [
           {
            "name": "x",
            "count": 4
           },
           {
            "name": "b",
            "count": 1
           }
          ]
         }
        },
        {
         "name": "cap-surface",
         "dtype": "object",
         "stats": {
          "unique_count": 2,
          "nan_count": 0,
          "categories": [
           {
            "name": "s",
            "count": 4
           },
           {
            "name": "y",
            "count": 1
           }
          ]
         }
        },
        {
         "name": "cap-color",
         "dtype": "object",
         "stats": {
          "unique_count": 4,
          "nan_count": 0,
          "categories": [
           {
            "name": "w",
            "count": 2
           },
           {
            "name": "n",
            "count": 1
           },
           {
            "name": "2 others",
            "count": 2
           }
          ]
         }
        },
        {
         "name": "bruises",
         "dtype": "object",
         "stats": {
          "unique_count": 2,
          "nan_count": 0,
          "categories": [
           {
            "name": "t",
            "count": 4
           },
           {
            "name": "f",
            "count": 1
           }
          ]
         }
        },
        {
         "name": "odor",
         "dtype": "object",
         "stats": {
          "unique_count": 4,
          "nan_count": 0,
          "categories": [
           {
            "name": "p",
            "count": 2
           },
           {
            "name": "a",
            "count": 1
           },
           {
            "name": "2 others",
            "count": 2
           }
          ]
         }
        },
        {
         "name": "gill-attachment",
         "dtype": "object",
         "stats": {
          "unique_count": 1,
          "nan_count": 0,
          "categories": [
           {
            "name": "f",
            "count": 5
           }
          ]
         }
        },
        {
         "name": "gill-spacing",
         "dtype": "object",
         "stats": {
          "unique_count": 2,
          "nan_count": 0,
          "categories": [
           {
            "name": "c",
            "count": 4
           },
           {
            "name": "w",
            "count": 1
           }
          ]
         }
        },
        {
         "name": "gill-size",
         "dtype": "object",
         "stats": {
          "unique_count": 2,
          "nan_count": 0,
          "categories": [
           {
            "name": "b",
            "count": 3
           },
           {
            "name": "n",
            "count": 2
           }
          ]
         }
        },
        {
         "name": "gill-color",
         "dtype": "object",
         "stats": {
          "unique_count": 2,
          "nan_count": 0,
          "categories": [
           {
            "name": "k",
            "count": 3
           },
           {
            "name": "n",
            "count": 2
           }
          ]
         }
        },
        {
         "name": "stalk-shape",
         "dtype": "object",
         "stats": {
          "unique_count": 2,
          "nan_count": 0,
          "categories": [
           {
            "name": "e",
            "count": 4
           },
           {
            "name": "t",
            "count": 1
           }
          ]
         }
        },
        {
         "name": "stalk-root",
         "dtype": "object",
         "stats": {
          "unique_count": 2,
          "nan_count": 0,
          "categories": [
           {
            "name": "e",
            "count": 3
           },
           {
            "name": "c",
            "count": 2
           }
          ]
         }
        },
        {
         "name": "stalk-surface-above-ring",
         "dtype": "object",
         "stats": {
          "unique_count": 1,
          "nan_count": 0,
          "categories": [
           {
            "name": "s",
            "count": 5
           }
          ]
         }
        },
        {
         "name": "stalk-surface-below-ring",
         "dtype": "object",
         "stats": {
          "unique_count": 1,
          "nan_count": 0,
          "categories": [
           {
            "name": "s",
            "count": 5
           }
          ]
         }
        },
        {
         "name": "stalk-color-above-ring",
         "dtype": "object",
         "stats": {
          "unique_count": 1,
          "nan_count": 0,
          "categories": [
           {
            "name": "w",
            "count": 5
           }
          ]
         }
        },
        {
         "name": "stalk-color-below-ring",
         "dtype": "object",
         "stats": {
          "unique_count": 1,
          "nan_count": 0,
          "categories": [
           {
            "name": "w",
            "count": 5
           }
          ]
         }
        },
        {
         "name": "veil-type",
         "dtype": "object",
         "stats": {
          "unique_count": 1,
          "nan_count": 0,
          "categories": [
           {
            "name": "p",
            "count": 5
           }
          ]
         }
        },
        {
         "name": "veil-color",
         "dtype": "object",
         "stats": {
          "unique_count": 1,
          "nan_count": 0,
          "categories": [
           {
            "name": "w",
            "count": 5
           }
          ]
         }
        },
        {
         "name": "ring-number",
         "dtype": "object",
         "stats": {
          "unique_count": 1,
          "nan_count": 0,
          "categories": [
           {
            "name": "o",
            "count": 5
           }
          ]
         }
        },
        {
         "name": "ring-type",
         "dtype": "object",
         "stats": {
          "unique_count": 2,
          "nan_count": 0,
          "categories": [
           {
            "name": "p",
            "count": 4
           },
           {
            "name": "e",
            "count": 1
           }
          ]
         }
        },
        {
         "name": "spore-print-color",
         "dtype": "object",
         "stats": {
          "unique_count": 2,
          "nan_count": 0,
          "categories": [
           {
            "name": "n",
            "count": 3
           },
           {
            "name": "k",
            "count": 2
           }
          ]
         }
        },
        {
         "name": "population",
         "dtype": "object",
         "stats": {
          "unique_count": 3,
          "nan_count": 0,
          "categories": [
           {
            "name": "s",
            "count": 2
           },
           {
            "name": "n",
            "count": 2
           },
           {
            "name": "a",
            "count": 1
           }
          ]
         }
        },
        {
         "name": "habitat",
         "dtype": "object",
         "stats": {
          "unique_count": 3,
          "nan_count": 0,
          "categories": [
           {
            "name": "u",
            "count": 2
           },
           {
            "name": "g",
            "count": 2
           },
           {
            "name": "m",
            "count": 1
           }
          ]
         }
        },
        {
         "name": "_deepnote_index_column",
         "dtype": "int64"
        }
       ],
       "rows_top": [
        {
         "class": "p",
         "cap-shape": "x",
         "cap-surface": "s",
         "cap-color": "n",
         "bruises": "t",
         "odor": "p",
         "gill-attachment": "f",
         "gill-spacing": "c",
         "gill-size": "n",
         "gill-color": "k",
         "stalk-shape": "e",
         "stalk-root": "e",
         "stalk-surface-above-ring": "s",
         "stalk-surface-below-ring": "s",
         "stalk-color-above-ring": "w",
         "stalk-color-below-ring": "w",
         "veil-type": "p",
         "veil-color": "w",
         "ring-number": "o",
         "ring-type": "p",
         "spore-print-color": "k",
         "population": "s",
         "habitat": "u",
         "_deepnote_index_column": 0
        },
        {
         "class": "e",
         "cap-shape": "x",
         "cap-surface": "s",
         "cap-color": "y",
         "bruises": "t",
         "odor": "a",
         "gill-attachment": "f",
         "gill-spacing": "c",
         "gill-size": "b",
         "gill-color": "k",
         "stalk-shape": "e",
         "stalk-root": "c",
         "stalk-surface-above-ring": "s",
         "stalk-surface-below-ring": "s",
         "stalk-color-above-ring": "w",
         "stalk-color-below-ring": "w",
         "veil-type": "p",
         "veil-color": "w",
         "ring-number": "o",
         "ring-type": "p",
         "spore-print-color": "n",
         "population": "n",
         "habitat": "g",
         "_deepnote_index_column": 1
        },
        {
         "class": "e",
         "cap-shape": "b",
         "cap-surface": "s",
         "cap-color": "w",
         "bruises": "t",
         "odor": "l",
         "gill-attachment": "f",
         "gill-spacing": "c",
         "gill-size": "b",
         "gill-color": "n",
         "stalk-shape": "e",
         "stalk-root": "c",
         "stalk-surface-above-ring": "s",
         "stalk-surface-below-ring": "s",
         "stalk-color-above-ring": "w",
         "stalk-color-below-ring": "w",
         "veil-type": "p",
         "veil-color": "w",
         "ring-number": "o",
         "ring-type": "p",
         "spore-print-color": "n",
         "population": "n",
         "habitat": "m",
         "_deepnote_index_column": 2
        },
        {
         "class": "p",
         "cap-shape": "x",
         "cap-surface": "y",
         "cap-color": "w",
         "bruises": "t",
         "odor": "p",
         "gill-attachment": "f",
         "gill-spacing": "c",
         "gill-size": "n",
         "gill-color": "n",
         "stalk-shape": "e",
         "stalk-root": "e",
         "stalk-surface-above-ring": "s",
         "stalk-surface-below-ring": "s",
         "stalk-color-above-ring": "w",
         "stalk-color-below-ring": "w",
         "veil-type": "p",
         "veil-color": "w",
         "ring-number": "o",
         "ring-type": "p",
         "spore-print-color": "k",
         "population": "s",
         "habitat": "u",
         "_deepnote_index_column": 3
        },
        {
         "class": "e",
         "cap-shape": "x",
         "cap-surface": "s",
         "cap-color": "g",
         "bruises": "f",
         "odor": "n",
         "gill-attachment": "f",
         "gill-spacing": "w",
         "gill-size": "b",
         "gill-color": "k",
         "stalk-shape": "t",
         "stalk-root": "e",
         "stalk-surface-above-ring": "s",
         "stalk-surface-below-ring": "s",
         "stalk-color-above-ring": "w",
         "stalk-color-below-ring": "w",
         "veil-type": "p",
         "veil-color": "w",
         "ring-number": "o",
         "ring-type": "e",
         "spore-print-color": "n",
         "population": "a",
         "habitat": "g",
         "_deepnote_index_column": 4
        }
       ],
       "rows_bottom": null
      },
      "text/plain": "  class cap-shape cap-surface cap-color bruises odor gill-attachment  \\\n0     p         x           s         n       t    p               f   \n1     e         x           s         y       t    a               f   \n2     e         b           s         w       t    l               f   \n3     p         x           y         w       t    p               f   \n4     e         x           s         g       f    n               f   \n\n  gill-spacing gill-size gill-color  ... stalk-surface-below-ring  \\\n0            c         n          k  ...                        s   \n1            c         b          k  ...                        s   \n2            c         b          n  ...                        s   \n3            c         n          n  ...                        s   \n4            w         b          k  ...                        s   \n\n  stalk-color-above-ring stalk-color-below-ring veil-type veil-color  \\\n0                      w                      w         p          w   \n1                      w                      w         p          w   \n2                      w                      w         p          w   \n3                      w                      w         p          w   \n4                      w                      w         p          w   \n\n  ring-number ring-type spore-print-color population habitat  \n0           o         p                 k          s       u  \n1           o         p                 n          n       g  \n2           o         p                 n          n       m  \n3           o         p                 k          s       u  \n4           o         e                 n          a       g  \n\n[5 rows x 23 columns]",
      "text/html": "<div>\n<style scoped>\n    .dataframe tbody tr th:only-of-type {\n        vertical-align: middle;\n    }\n\n    .dataframe tbody tr th {\n        vertical-align: top;\n    }\n\n    .dataframe thead th {\n        text-align: right;\n    }\n</style>\n<table border=\"1\" class=\"dataframe\">\n  <thead>\n    <tr style=\"text-align: right;\">\n      <th></th>\n      <th>class</th>\n      <th>cap-shape</th>\n      <th>cap-surface</th>\n      <th>cap-color</th>\n      <th>bruises</th>\n      <th>odor</th>\n      <th>gill-attachment</th>\n      <th>gill-spacing</th>\n      <th>gill-size</th>\n      <th>gill-color</th>\n      <th>...</th>\n      <th>stalk-surface-below-ring</th>\n      <th>stalk-color-above-ring</th>\n      <th>stalk-color-below-ring</th>\n      <th>veil-type</th>\n      <th>veil-color</th>\n      <th>ring-number</th>\n      <th>ring-type</th>\n      <th>spore-print-color</th>\n      <th>population</th>\n      <th>habitat</th>\n    </tr>\n  </thead>\n  <tbody>\n    <tr>\n      <th>0</th>\n      <td>p</td>\n      <td>x</td>\n      <td>s</td>\n      <td>n</td>\n      <td>t</td>\n      <td>p</td>\n      <td>f</td>\n      <td>c</td>\n      <td>n</td>\n      <td>k</td>\n      <td>...</td>\n      <td>s</td>\n      <td>w</td>\n      <td>w</td>\n      <td>p</td>\n      <td>w</td>\n      <td>o</td>\n      <td>p</td>\n      <td>k</td>\n      <td>s</td>\n      <td>u</td>\n    </tr>\n    <tr>\n      <th>1</th>\n      <td>e</td>\n      <td>x</td>\n      <td>s</td>\n      <td>y</td>\n      <td>t</td>\n      <td>a</td>\n      <td>f</td>\n      <td>c</td>\n      <td>b</td>\n      <td>k</td>\n      <td>...</td>\n      <td>s</td>\n      <td>w</td>\n      <td>w</td>\n      <td>p</td>\n      <td>w</td>\n      <td>o</td>\n      <td>p</td>\n      <td>n</td>\n      <td>n</td>\n      <td>g</td>\n    </tr>\n    <tr>\n      <th>2</th>\n      <td>e</td>\n      <td>b</td>\n      <td>s</td>\n      <td>w</td>\n      <td>t</td>\n      <td>l</td>\n      <td>f</td>\n      <td>c</td>\n      <td>b</td>\n      <td>n</td>\n      <td>...</td>\n      <td>s</td>\n      <td>w</td>\n      <td>w</td>\n      <td>p</td>\n      <td>w</td>\n      <td>o</td>\n      <td>p</td>\n      <td>n</td>\n      <td>n</td>\n      <td>m</td>\n    </tr>\n    <tr>\n      <th>3</th>\n      <td>p</td>\n      <td>x</td>\n      <td>y</td>\n      <td>w</td>\n      <td>t</td>\n      <td>p</td>\n      <td>f</td>\n      <td>c</td>\n      <td>n</td>\n      <td>n</td>\n      <td>...</td>\n      <td>s</td>\n      <td>w</td>\n      <td>w</td>\n      <td>p</td>\n      <td>w</td>\n      <td>o</td>\n      <td>p</td>\n      <td>k</td>\n      <td>s</td>\n      <td>u</td>\n    </tr>\n    <tr>\n      <th>4</th>\n      <td>e</td>\n      <td>x</td>\n      <td>s</td>\n      <td>g</td>\n      <td>f</td>\n      <td>n</td>\n      <td>f</td>\n      <td>w</td>\n      <td>b</td>\n      <td>k</td>\n      <td>...</td>\n      <td>s</td>\n      <td>w</td>\n      <td>w</td>\n      <td>p</td>\n      <td>w</td>\n      <td>o</td>\n      <td>e</td>\n      <td>n</td>\n      <td>a</td>\n      <td>g</td>\n    </tr>\n  </tbody>\n</table>\n<p>5 rows × 23 columns</p>\n</div>"
     },
     "metadata": {}
    }
   ],
   "execution_count": null
  },
  {
   "cell_type": "code",
   "metadata": {
    "tags": [],
    "deepnote_to_be_reexecuted": false,
    "source_hash": "424220c7",
    "execution_start": 1633647714838,
    "execution_millis": 48,
    "cell_id": "00008-ad4a1771-d9a4-42b3-ab47-e5aed7790ec6",
    "deepnote_cell_type": "code"
   },
   "source": " list(df['class'].value_counts().values)",
   "outputs": [
    {
     "output_type": "execute_result",
     "execution_count": 4,
     "data": {
      "text/plain": "[4208, 3916]"
     },
     "metadata": {}
    }
   ],
   "execution_count": null
  },
  {
   "cell_type": "code",
   "metadata": {
    "tags": [],
    "deepnote_to_be_reexecuted": false,
    "source_hash": "cf4a17a4",
    "execution_start": 1633647714880,
    "execution_millis": 6,
    "cell_id": "00009-be596af1-3f96-4744-b8d3-025f073213e7",
    "deepnote_cell_type": "code"
   },
   "source": "df['class'].mode().item()",
   "outputs": [
    {
     "output_type": "execute_result",
     "execution_count": 5,
     "data": {
      "text/plain": "'e'"
     },
     "metadata": {}
    }
   ],
   "execution_count": null
  },
  {
   "cell_type": "code",
   "metadata": {
    "tags": [],
    "deepnote_to_be_reexecuted": false,
    "source_hash": "ea5197b4",
    "execution_start": 1633647714881,
    "execution_millis": 5,
    "cell_id": "00012-b1fe3e42-a290-4e5d-a80d-3af888c9b9d7",
    "deepnote_cell_type": "code"
   },
   "source": "classValues = list(df['class'].value_counts().index) # Valores posibles de la columna clase\nclassValues",
   "outputs": [
    {
     "output_type": "execute_result",
     "execution_count": 6,
     "data": {
      "text/plain": "['e', 'p']"
     },
     "metadata": {}
    }
   ],
   "execution_count": null
  },
  {
   "cell_type": "code",
   "metadata": {
    "tags": [],
    "deepnote_to_be_reexecuted": false,
    "source_hash": "7cd80747",
    "execution_start": 1633647714955,
    "execution_millis": 5,
    "cell_id": "00013-d2ef0d8b-b3fe-4e7e-ab07-74f9960fe426",
    "deepnote_cell_type": "code"
   },
   "source": "class SetCases:\n    def __init__(self,cases,case_count,class_column_name):\n        self.cases = cases\n        self.class_column_name = class_column_name\n        self.case_count = case_count\n        self.columns = list(cases.columns)\n        #self.attributes = self.columns\n        self.attributes = [item for item in self.columns if item != self.class_column_name] # This is 'A' in the theory\n        #self.attributes.remove(self.class_column_name)  \n    def cases_count(self):\n        self.case_count = self.cases.shape[0]\n        return self.case_count\n        \n    def get_attributes(self) -> list:\n        return self.attributes\n    \n    def entropy(self) -> float:  # Entropy Formula function\n        entropy = 0\n        counts = self.cases[self.class_column_name].value_counts()\n        for item in classValues:\n            prob = self.cases[self.cases[self.class_column_name]==item][self.class_column_name].count()/self.case_count\n            entropy -= (prob)*(math.log2(prob))\n        return round(entropy,3)\n\n    def entropy_attribute(self) -> float: # Entropia de cada tributo de 'A'\n        entropy_result = {}\n        for attribute in self.attributes:  # Bucle sobre cada atributo de la lista\n            result = 0\n            attr_indexes = list(self.cases[attribute].value_counts().index)\n            attr_counts = list(self.cases[attribute].value_counts().values)\n            i=0\n            for value in attr_indexes: # Bucle sobre los valores posibles de cada atributo\n                attr_entropy = 0\n                attr_count = attr_counts[i]\n\n                for c_value in classValues: # Bucle sobre cada caso de un valor posible de un atributo\n                    class_count = len(self.cases[(self.cases[attribute]==value)&(self.cases[self.class_column_name]==c_value)])\n                    if class_count != 0:\n                        attr_entropy -= (class_count/attr_count) * (math.log2((class_count/attr_count)))\n                    else:\n                        attr_entropy -= 0 #ESTO SE TENDRIA QUE SACAR DE ACA, CUANDO ESTE EL CODIGO COMPLETO ESTO IRIA AL PRINCIPIO\n                i+=1\n\n                result += (attr_count/self.case_count) * attr_entropy # Resultado de entropia de un atributo posible\n            entropy_result[attribute] = result\n        return entropy_result\n\n    def gain(self) -> list: # return [Att, Value]\n        entropy = self.entropy()\n        entropy_atts = self.entropy_attribute()\n        max_gain = 0\n        curr_gain = 0\n        result = [0,0]\n        for key,value in entropy_atts.items():\n            curr_gain = float(entropy) - value \n            if curr_gain > max_gain:\n                max_gain = curr_gain\n                result[0] = key\n                result[1] = curr_gain\n        return result\n\n    def gain2(self) -> list: # return list of [Att, Value], something like: [[Att1, Value] [Att2, Value]] \n        entropy = self.entropy()\n        entropy_atts = self.entropy_attribute()\n        curr_gain = 0\n        max_gain = 0\n        result = []\n        for key,value in entropy_atts.items():\n            curr_gain = float(entropy) - value\n            if curr_gain > max_gain:\n                result.insert(0, [key, curr_gain])\n                max_gain=curr_gain\n            else:\n                result.append([key, curr_gain])      \n        return result\n    \n    def gain_ratio(self) -> list:\n        entropy = self.entropy()\n        gain = self.gain2()\n        split_info = 0\n        max_gain_rate = 0\n        result=[0,0]\n        for att_name, gain_per_att in gain: # gain is [Att, Value]\n            # We generate a list of all the quantities of occurences of each attribute\n            attr_counts = list(self.cases[att_name].value_counts().values) # \n            split_info = 0\n            for attr_count in attr_counts:\n                split_info -= (attr_count/self.case_count) * (math.log2((attr_count/self.case_count)))\n                print(\"Split Info\", split_info, gain_per_att)\n            curr_gain_rate = gain_per_att / split_info\n            if curr_gain_rate > max_gain_rate: \n                max_gain_rate = curr_gain_rate\n                result[0] = att_name\n                result[1] = curr_gain_rate\n        return result\n\n    def is_pure(self) -> bool:\n        classes = self.cases[self.class_column_name].unique()\n        if len(classes) == 1:\n            return True\n        return False\n    \n    def most_frequent_class(self) -> str:\n        return self.cases[self.class_column_name].mode().item()\n    \n    def separate_data(self, attr) -> list: # Esto retorna un arreglo con dataframes\n        attr_values = list(self.cases[attr].unique())\n        frames = []\n        for val in attr_values:\n            frames.append([val, self.cases[self.cases[attr]==val] ])\n        return frames",
   "outputs": [],
   "execution_count": null
  },
  {
   "cell_type": "code",
   "metadata": {
    "tags": [],
    "deepnote_to_be_reexecuted": false,
    "source_hash": "58df4726",
    "execution_start": 1633647715001,
    "execution_millis": 1,
    "cell_id": "00014-425f0b6f-1a7e-457f-b5ef-777ce8008d3f",
    "deepnote_cell_type": "code"
   },
   "source": "name_counter = 1",
   "outputs": [],
   "execution_count": null
  },
  {
   "cell_type": "code",
   "metadata": {
    "tags": [],
    "deepnote_to_be_reexecuted": false,
    "source_hash": "3e6dbed",
    "execution_start": 1633647715002,
    "execution_millis": 1,
    "cell_id": "00015-4a9d65b6-c2a3-4528-abe9-8be0c70a4200",
    "deepnote_cell_type": "code"
   },
   "source": "class Node:\n    def __init__(self, data: SetCases, id_node: int , val_attr = None):\n        self.data = data\n        self.children = []\n        self.curr_class = ''\n        self.chosen_att = ''\n        self.id_node = id_node\n        self.val_attr = val_attr\n        self.gain = 0\n        global name_counter\n\n    def addChildren(self, node):\n        self.children.append(node)\n        \n    def printTree(self, depth: int, graph, previous_node, name_previous_node: int):\n        print('###############################################')\n        print(f\"Depth {depth}\")\n        print(self.curr_class)\n        global name_counter\n        if self.chosen_att != '':\n            print(f'Created node with name {self.id_node} and label {self.chosen_att}')\n            graph.node(name = str(self.id_node),label = f'{self.chosen_att} \\n Gain: {self.gain}')\n        else:\n            print(f'Created node with name {self.id_node} and label {self.curr_class}')\n            print(self.data.cases[self.data.class_column_name].value_counts())\n            graph.node(name = str(self.id_node), label= f'{self.curr_class} \\n Gain: {self.gain} \\n {self.data.cases[self.data.class_column_name].value_counts().values}',color='green')\n        if depth != 0:\n            print(f'Created edge between {name_previous_node} and {self.id_node}')\n            graph.edge(str(name_previous_node), str(self.id_node))\n        #name_counter+=1\n        name_previous_node+=1\n        for item in self.children:\n            item.printTree(depth+1, graph, self, self.id_node)\n        ",
   "outputs": [],
   "execution_count": null
  },
  {
   "cell_type": "code",
   "metadata": {
    "tags": [],
    "deepnote_to_be_reexecuted": false,
    "source_hash": "c65fe070",
    "execution_start": 1633647715003,
    "execution_millis": 118,
    "cell_id": "00016-95640183-b242-43cf-9050-b37d6d438406",
    "deepnote_cell_type": "code"
   },
   "source": "\"\"\"\nprint(root_node.data.class_column_name)\nprint(root_node.data.cases)\nprint(root_node.data.cases[root_node.data.class_column_name])\nprint(root_node.children[0].data.cases)\nprint(root_node.children[0].data.cases[root_node.children[0].data.class_column_name])\n\"\"\"",
   "outputs": [
    {
     "output_type": "execute_result",
     "execution_count": 10,
     "data": {
      "text/plain": "'\\nprint(root_node.data.class_column_name)\\nprint(root_node.data.cases)\\nprint(root_node.data.cases[root_node.data.class_column_name])\\nprint(root_node.children[0].data.cases)\\nprint(root_node.children[0].data.cases[root_node.children[0].data.class_column_name])\\n'"
     },
     "metadata": {}
    }
   ],
   "execution_count": null
  },
  {
   "cell_type": "code",
   "metadata": {
    "tags": [],
    "deepnote_to_be_reexecuted": false,
    "source_hash": "d4b4fcde",
    "execution_start": 1633647715052,
    "execution_millis": 0,
    "cell_id": "00017-1149f2e7-4f96-4bc0-a331-74ad7883d719",
    "deepnote_cell_type": "code"
   },
   "source": "def decisionTree(D : SetCases, A : list, T : Node, guide_int : int):\n    global name_counter\n    if D.is_pure():\n        class_name = D.most_frequent_class()\n        T.curr_class = class_name\n    elif not A:\n        class_name = D.most_frequent_class()\n        T.curr_class = class_name\n    else:\n        print('Depth ' + str(guide_int))\n        #gain = D.gain()\n        gain = D.gain_ratio()\n        #gain = D.gain2()[0]\n        print('Attribute chosen '+ gain[0])\n        print(\"ACA ESTA LA GANANCIA\",gain[1])\n        if gain[1] < threshold:\n            class_name = D.most_frequent_class()\n            T.curr_class = class_name\n        else:\n            T.chosen_att = gain[0]\n            A1 = [item for item in A if item != gain[0]]\n            subsets = D.separate_data(gain[0])\n            for subset in subsets:\n                elem = SetCases(subset[1], len(subset[1]), D.class_column_name)\n                print(f'Name_counter {name_counter} Size {subset[1].shape}')\n                T.gain = round(gain[1],2)\n                new_node = Node(elem, name_counter, subset[0])\n                name_counter+=1\n                T.addChildren(new_node)\n                decisionTree(elem, A1, new_node, guide_int+1)",
   "outputs": [],
   "execution_count": null
  },
  {
   "cell_type": "code",
   "metadata": {
    "tags": [],
    "deepnote_to_be_reexecuted": false,
    "source_hash": "61e460b3",
    "execution_start": 1633647715053,
    "execution_millis": 0,
    "cell_id": "00018-ba3e31e4-1a45-4a31-8cb4-03b5e999649d",
    "deepnote_cell_type": "code"
   },
   "source": "graph = graphviz.Digraph()",
   "outputs": [],
   "execution_count": null
  },
  {
   "cell_type": "code",
   "metadata": {
    "tags": [],
    "deepnote_to_be_reexecuted": false,
    "source_hash": "da095cac",
    "execution_start": 1633647715053,
    "execution_millis": 22331,
    "cell_id": "00019-fd298242-2ab1-40e2-8955-8adf3fcb800b",
    "deepnote_cell_type": "code"
   },
   "source": "threshold = 0.05\nset_init = SetCases(df,len(df),'class')\nroot_node = Node(set_init, 0)\ndecisionTree(set_init, set_init.get_attributes(),root_node,0)\n",
   "outputs": [
    {
     "name": "stdout",
     "text": "Split Info 1.4952329751257345 0.019239115693178155\nSplit Info 1.9390591942632778 0.019239115693178155\nSplit Info 1.9658994103044949 0.019239115693178155\nSplit Info 0.42503316777584116 0.007536105770635126\nSplit Info 0.9556222693531469 0.007536105770635126\nSplit Info 0.0 0.00026853175033625387\nSplit Info 0.0 0.00026853175033625387\nSplit Info 0.4693822960739032 0.027271799613788728\nSplit Info 0.9901226308935798 0.027271799613788728\nSplit Info 0.48413786985908475 0.062159848532709394\nSplit Info 0.9020844734913567 0.062159848532709394\nSplit Info 1.3200310771236285 0.062159848532709394\nSplit Info 1.7379776807559004 0.062159848532709394\nSplit Info 0.0 0.00026853175033625387\nSplit Info 0.2217446572009569 0.0006009014198802842\nSplit Info 0.6550239908788728 0.0006009014198802842\nSplit Info 0.4045002278702446 0.05971593881623438\nSplit Info 0.9208873484581315 0.05971593881623438\nSplit Info 1.1032960772882774 0.05971593881623438\nSplit Info 1.2400957276959372 0.05971593881623438\nSplit Info 0.4045002278702446 0.1835999723192471\nSplit Info 0.89467565263059 0.1835999723192471\nSplit Info 1.181571032368804 0.1835999723192471\nSplit Info 1.36397976119895 0.1835999723192471\nSplit Info 0.23686905043226034 0.019777961186250026\nSplit Info 0.6548156540645322 0.019777961186250026\nSplit Info 0.7916153044721921 0.019777961186250026\nSplit Info 0.3709078255192236 0.16029610782615078\nSplit Info 0.7888544291514955 0.16029610782615078\nSplit Info 1.1713035779576695 0.16029610782615078\nSplit Info 1.3081032283653293 0.16029610782615078\nSplit Info 0.0 0.00026853175033625387\nSplit Info 0.0 0.00026853175033625387\nSplit Info 0.19062207543124116 0.2049956840747205\nSplit Info 0.5916727785823275 0.2049956840747205\nSplit Info 0.4693822960739032 0.027271799613788728\nSplit Info 0.9901226308935798 0.027271799613788728\nSplit Info 0.0 0.00026853175033625387\nSplit Info 0.5269254386104469 0.12522266576994484\nSplit Info 1.0171008633707923 0.12522266576994484\nSplit Info 1.5072762881311377 0.12522266576994484\nSplit Info 1.9252228917634095 0.12522266576994484\nSplit Info 2.1468741406306773 0.12522266576994484\nAttribute chosen odor\nACA ESTA LA GANANCIA inf\nName_counter 68 Size (616, 23)\nDepth 63\nSplit Info 0.5128183819882235 0.24633311786346615\nSplit Info 1.037023277564456 0.24633311786346615\nSplit Info 1.3515170610769376 0.24633311786346615\nSplit Info 1.6076767004150896 0.24633311786346615\nSplit Info 1.8638363397532416 0.24633311786346615\nSplit Info 0.19062207543124116 0.2049956840747205\nSplit Info 0.5916727785823275 0.2049956840747205\nSplit Info 0.49816001971136364 0.1660208879270248\nSplit Info 0.9963200394227273 0.1660208879270248\nSplit Info 1.4434894246295087 0.1660208879270248\nSplit Info 1.7579832081419902 0.1660208879270248\nSplit Info 2.044878587880204 0.1660208879270248\nSplit Info 2.3317739676184175 0.1660208879270248\nSplit Info 2.553425216485685 0.1660208879270248\nSplit Info 2.690224866893345 0.1660208879270248\nSplit Info 0.5238824662870492 0.07726487087729839\nSplit Info 1.0445859136464184 0.07726487087729839\nSplit Info 1.552888614809727 0.07726487087729839\nSplit Info 1.6000755403986548 0.07726487087729839\nSplit Info 0.5280027346421668 0.019239115693178155\nSplit Info 1.0514067559881914 0.019239115693178155\nSplit Info 1.4952329751257345 0.019239115693178155\nSplit Info 1.9390591942632778 0.019239115693178155\nSplit Info 1.9658994103044949 0.019239115693178155\nSplit Info 0.42503316777584116 0.007536105770635126\nSplit Info 0.9556222693531469 0.007536105770635126\nSplit Info 0.0 0.00026853175033625387\nSplit Info 0.0 0.00026853175033625387\nSplit Info 0.4693822960739032 0.027271799613788728\nSplit Info 0.9901226308935798 0.027271799613788728\nSplit Info 0.48413786985908475 0.062159848532709394\nSplit Info 0.9020844734913567 0.062159848532709394\nSplit Info 1.3200310771236285 0.062159848532709394\nSplit Info 1.7379776807559004 0.062159848532709394\nSplit Info 0.0 0.00026853175033625387\nSplit Info 0.2217446572009569 0.0006009014198802842\nSplit Info 0.6550239908788728 0.0006009014198802842\nSplit Info 0.4045002278702446 0.05971593881623438\nSplit Info 0.9208873484581315 0.05971593881623438\nSplit Info 1.1032960772882774 0.05971593881623438\nSplit Info 1.2400957276959372 0.05971593881623438\nSplit Info 0.4045002278702446 0.1835999723192471\nSplit Info 0.89467565263059 0.1835999723192471\nSplit Info 1.181571032368804 0.1835999723192471\nSplit Info 1.36397976119895 0.1835999723192471\nSplit Info 0.23686905043226034 0.019777961186250026\nSplit Info 0.6548156540645322 0.019777961186250026\nSplit Info 0.7916153044721921 0.019777961186250026\nSplit Info 0.3709078255192236 0.16029610782615078\nSplit Info 0.7888544291514955 0.16029610782615078\nSplit Info 1.1713035779576695 0.16029610782615078\nSplit Info 1.3081032283653293 0.16029610782615078\nSplit Info 0.0 0.00026853175033625387\nSplit Info 0.0 0.00026853175033625387\nSplit Info 0.19062207543124116 0.2049956840747205\nSplit Info 0.5916727785823275 0.2049956840747205\nSplit Info 0.4693822960739032 0.027271799613788728\nSplit Info 0.9901226308935798 0.027271799613788728\nSplit Info 0.0 0.00026853175033625387\nSplit Info 0.5269254386104469 0.12522266576994484\nSplit Info 1.0171008633707923 0.12522266576994484\nSplit Info 1.5072762881311377 0.12522266576994484\nSplit Info 1.9252228917634095 0.12522266576994484\nSplit Info 2.1468741406306773 0.12522266576994484\nAttribute chosen odor\nACA ESTA LA GANANCIA inf\nName_counter 69 Size (616, 23)\nDepth 64\nSplit Info 0.5128183819882235 0.24633311786346615\nSplit Info 1.037023277564456 0.24633311786346615\nSplit Info 1.3515170610769376 0.24633311786346615\nSplit Info 1.6076767004150896 0.24633311786346615\nSplit Info 1.8638363397532416 0.24633311786346615\nSplit Info 0.19062207543124116 0.2049956840747205\nSplit Info 0.5916727785823275 0.2049956840747205\nSplit Info 0.49816001971136364 0.1660208879270248\nSplit Info 0.9963200394227273 0.1660208879270248\nSplit Info 1.4434894246295087 0.1660208879270248\nSplit Info 1.7579832081419902 0.1660208879270248\nSplit Info 2.044878587880204 0.1660208879270248\nSplit Info 2.3317739676184175 0.1660208879270248\nSplit Info 2.553425216485685 0.1660208879270248\nSplit Info 2.690224866893345 0.1660208879270248\nSplit Info 0.5238824662870492 0.07726487087729839\nSplit Info 1.0445859136464184 0.07726487087729839\nSplit Info 1.552888614809727 0.07726487087729839\nSplit Info 1.6000755403986548 0.07726487087729839\nSplit Info 0.5280027346421668 0.019239115693178155\nSplit Info 1.0514067559881914 0.019239115693178155\nSplit Info 1.4952329751257345 0.019239115693178155\nSplit Info 1.9390591942632778 0.019239115693178155\nSplit Info 1.9658994103044949 0.019239115693178155\nSplit Info 0.42503316777584116 0.007536105770635126\nSplit Info 0.9556222693531469 0.007536105770635126\nSplit Info 0.0 0.00026853175033625387\nSplit Info 0.0 0.00026853175033625387\nSplit Info 0.4693822960739032 0.027271799613788728\nSplit Info 0.9901226308935798 0.027271799613788728\nSplit Info 0.48413786985908475 0.062159848532709394\nSplit Info 0.9020844734913567 0.062159848532709394\nSplit Info 1.3200310771236285 0.062159848532709394\nSplit Info 1.7379776807559004 0.062159848532709394\nSplit Info 0.0 0.00026853175033625387\nSplit Info 0.2217446572009569 0.0006009014198802842\nSplit Info 0.6550239908788728 0.0006009014198802842\nSplit Info 0.4045002278702446 0.05971593881623438\nSplit Info 0.9208873484581315 0.05971593881623438\nSplit Info 1.1032960772882774 0.05971593881623438\nSplit Info 1.2400957276959372 0.05971593881623438\nSplit Info 0.4045002278702446 0.1835999723192471\nSplit Info 0.89467565263059 0.1835999723192471\nSplit Info 1.181571032368804 0.1835999723192471\nSplit Info 1.36397976119895 0.1835999723192471\nSplit Info 0.23686905043226034 0.019777961186250026\nSplit Info 0.6548156540645322 0.019777961186250026\nSplit Info 0.7916153044721921 0.019777961186250026\nSplit Info 0.3709078255192236 0.16029610782615078\nSplit Info 0.7888544291514955 0.16029610782615078\nSplit Info 1.1713035779576695 0.16029610782615078\nSplit Info 1.3081032283653293 0.16029610782615078\nSplit Info 0.0 0.00026853175033625387\nSplit Info 0.0 0.00026853175033625387\nSplit Info 0.19062207543124116 0.2049956840747205\nSplit Info 0.5916727785823275 0.2049956840747205\nSplit Info 0.4693822960739032 0.027271799613788728\nSplit Info 0.9901226308935798 0.027271799613788728\nSplit Info 0.0 0.00026853175033625387\nSplit Info 0.5269254386104469 0.12522266576994484\nSplit Info 1.0171008633707923 0.12522266576994484\nSplit Info 1.5072762881311377 0.12522266576994484\nSplit Info 1.9252228917634095 0.12522266576994484\nSplit Info 2.1468741406306773 0.12522266576994484\nAttribute chosen odor\nACA ESTA LA GANANCIA inf\nName_counter 70 Size (616, 23)\nDepth 65\nSplit Info 0.5128183819882235 0.24633311786346615\nSplit Info 1.037023277564456 0.24633311786346615\nSplit Info 1.3515170610769376 0.24633311786346615\nSplit Info 1.6076767004150896 0.24633311786346615\nSplit Info 1.8638363397532416 0.24633311786346615\nSplit Info 0.19062207543124116 0.2049956840747205\nSplit Info 0.5916727785823275 0.2049956840747205\nSplit Info 0.49816001971136364 0.1660208879270248\nSplit Info 0.9963200394227273 0.1660208879270248\nSplit Info 1.4434894246295087 0.1660208879270248\nSplit Info 1.7579832081419902 0.1660208879270248\nSplit Info 2.044878587880204 0.1660208879270248\nSplit Info 2.3317739676184175 0.1660208879270248\nSplit Info 2.553425216485685 0.1660208879270248\nSplit Info 2.690224866893345 0.1660208879270248\nSplit Info 0.5238824662870492 0.07726487087729839\nSplit Info 1.0445859136464184 0.07726487087729839\nSplit Info 1.552888614809727 0.07726487087729839\nSplit Info 1.6000755403986548 0.07726487087729839\nSplit Info 0.5280027346421668 0.019239115693178155\nSplit Info 1.0514067559881914 0.019239115693178155\nSplit Info 1.4952329751257345 0.019239115693178155\nSplit Info 1.9390591942632778 0.019239115693178155\nSplit Info 1.9658994103044949 0.019239115693178155\nSplit Info 0.42503316777584116 0.007536105770635126\nSplit Info 0.9556222693531469 0.007536105770635126\nSplit Info 0.0 0.00026853175033625387\nSplit Info 0.0 0.00026853175033625387\nSplit Info 0.4693822960739032 0.027271799613788728\nSplit Info 0.9901226308935798 0.027271799613788728\nSplit Info 0.48413786985908475 0.062159848532709394\nSplit Info 0.9020844734913567 0.062159848532709394\nSplit Info 1.3200310771236285 0.062159848532709394\nSplit Info 1.7379776807559004 0.062159848532709394\nSplit Info 0.0 0.00026853175033625387\nSplit Info 0.2217446572009569 0.0006009014198802842\nSplit Info 0.6550239908788728 0.0006009014198802842\nSplit Info 0.4045002278702446 0.05971593881623438\nSplit Info 0.9208873484581315 0.05971593881623438\nSplit Info 1.1032960772882774 0.05971593881623438\nSplit Info 1.2400957276959372 0.05971593881623438\nSplit Info 0.4045002278702446 0.1835999723192471\nSplit Info 0.89467565263059 0.1835999723192471\nSplit Info 1.181571032368804 0.1835999723192471\nSplit Info 1.36397976119895 0.1835999723192471\nSplit Info 0.23686905043226034 0.019777961186250026\nSplit Info 0.6548156540645322 0.019777961186250026\nSplit Info 0.7916153044721921 0.019777961186250026\nSplit Info 0.3709078255192236 0.16029610782615078\nSplit Info 0.7888544291514955 0.16029610782615078\nSplit Info 1.1713035779576695 0.16029610782615078\nSplit Info 1.3081032283653293 0.16029610782615078\nSplit Info 0.0 0.00026853175033625387\nSplit Info 0.0 0.00026853175033625387\nSplit Info 0.19062207543124116 0.2049956840747205\nSplit Info 0.5916727785823275 0.2049956840747205\nSplit Info 0.4693822960739032 0.027271799613788728\nSplit Info 0.9901226308935798 0.027271799613788728\nSplit Info 0.0 0.00026853175033625387\nSplit Info 0.5269254386104469 0.12522266576994484\nSplit Info 1.0171008633707923 0.12522266576994484\nSplit Info 1.5072762881311377 0.12522266576994484\nSplit Info 1.9252228917634095 0.12522266576994484\nSplit Info 2.1468741406306773 0.12522266576994484\nAttribute chosen odor\nACA ESTA LA GANANCIA inf\nName_counter 71 Size (616, 23)\nDepth 66\nSplit Info 0.5128183819882235 0.24633311786346615\nSplit Info 1.037023277564456 0.24633311786346615\nSplit Info 1.3515170610769376 0.24633311786346615\nSplit Info 1.6076767004150896 0.24633311786346615\nSplit Info 1.8638363397532416 0.24633311786346615\nSplit Info 0.19062207543124116 0.2049956840747205\nSplit Info 0.5916727785823275 0.2049956840747205\nSplit Info 0.49816001971136364 0.1660208879270248\nSplit Info 0.9963200394227273 0.1660208879270248\nSplit Info 1.4434894246295087 0.1660208879270248\nSplit Info 1.7579832081419902 0.1660208879270248\nSplit Info 2.044878587880204 0.1660208879270248\nSplit Info 2.3317739676184175 0.1660208879270248\nSplit Info 2.553425216485685 0.1660208879270248\nSplit Info 2.690224866893345 0.1660208879270248\nSplit Info 0.5238824662870492 0.07726487087729839\nSplit Info 1.0445859136464184 0.07726487087729839\nSplit Info 1.552888614809727 0.07726487087729839\nSplit Info 1.6000755403986548 0.07726487087729839\nSplit Info 0.5280027346421668 0.019239115693178155\nSplit Info 1.0514067559881914 0.019239115693178155\nSplit Info 1.4952329751257345 0.019239115693178155\nSplit Info 1.9390591942632778 0.019239115693178155\nSplit Info 1.9658994103044949 0.019239115693178155\nSplit Info 0.42503316777584116 0.007536105770635126\nSplit Info 0.9556222693531469 0.007536105770635126\nSplit Info 0.0 0.00026853175033625387\nSplit Info 0.0 0.00026853175033625387\nSplit Info 0.4693822960739032 0.027271799613788728\nSplit Info 0.9901226308935798 0.027271799613788728\nSplit Info 0.48413786985908475 0.062159848532709394\nSplit Info 0.9020844734913567 0.062159848532709394\nSplit Info 1.3200310771236285 0.062159848532709394\nSplit Info 1.7379776807559004 0.062159848532709394\nSplit Info 0.0 0.00026853175033625387\nSplit Info 0.2217446572009569 0.0006009014198802842\nSplit Info 0.6550239908788728 0.0006009014198802842\nSplit Info 0.4045002278702446 0.05971593881623438\nSplit Info 0.9208873484581315 0.05971593881623438\nSplit Info 1.1032960772882774 0.05971593881623438\nSplit Info 1.2400957276959372 0.05971593881623438\nSplit Info 0.4045002278702446 0.1835999723192471\nSplit Info 0.89467565263059 0.1835999723192471\nSplit Info 1.181571032368804 0.1835999723192471\nSplit Info 1.36397976119895 0.1835999723192471\nSplit Info 0.23686905043226034 0.019777961186250026\nSplit Info 0.6548156540645322 0.019777961186250026\nSplit Info 0.7916153044721921 0.019777961186250026\nSplit Info 0.3709078255192236 0.16029610782615078\nSplit Info 0.7888544291514955 0.16029610782615078\nSplit Info 1.1713035779576695 0.16029610782615078\nSplit Info 1.3081032283653293 0.16029610782615078\nSplit Info 0.0 0.00026853175033625387\nSplit Info 0.0 0.00026853175033625387\nSplit Info 0.19062207543124116 0.2049956840747205\nSplit Info 0.5916727785823275 0.2049956840747205\nSplit Info 0.4693822960739032 0.027271799613788728\nSplit Info 0.9901226308935798 0.027271799613788728\nSplit Info 0.0 0.00026853175033625387\nSplit Info 0.5269254386104469 0.12522266576994484\nSplit Info 1.0171008633707923 0.12522266576994484\nSplit Info 1.5072762881311377 0.12522266576994484\nSplit Info 1.9252228917634095 0.12522266576994484\nSplit Info 2.1468741406306773 0.12522266576994484\nAttribute chosen odor\nACA ESTA LA GANANCIA inf\nName_counter 72 Size (616, 23)\nDepth 67\nSplit Info 0.5128183819882235 0.24633311786346615\nSplit Info 1.037023277564456 0.24633311786346615\nSplit Info 1.3515170610769376 0.24633311786346615\nSplit Info 1.6076767004150896 0.24633311786346615\nSplit Info 1.8638363397532416 0.24633311786346615\nSplit Info 0.19062207543124116 0.2049956840747205\nSplit Info 0.5916727785823275 0.2049956840747205\nSplit Info 0.49816001971136364 0.1660208879270248\nSplit Info 0.9963200394227273 0.1660208879270248\nSplit Info 1.4434894246295087 0.1660208879270248\nSplit Info 1.7579832081419902 0.1660208879270248\nSplit Info 2.044878587880204 0.1660208879270248\nSplit Info 2.3317739676184175 0.1660208879270248\nSplit Info 2.553425216485685 0.1660208879270248\nSplit Info 2.690224866893345 0.1660208879270248\nSplit Info 0.5238824662870492 0.07726487087729839\nSplit Info 1.0445859136464184 0.07726487087729839\nSplit Info 1.552888614809727 0.07726487087729839\nSplit Info 1.6000755403986548 0.07726487087729839\nSplit Info 0.5280027346421668 0.019239115693178155\nSplit Info 1.0514067559881914 0.019239115693178155\nSplit Info 1.4952329751257345 0.019239115693178155\nSplit Info 1.9390591942632778 0.019239115693178155\nSplit Info 1.9658994103044949 0.019239115693178155\nSplit Info 0.42503316777584116 0.007536105770635126\nSplit Info 0.9556222693531469 0.007536105770635126\nSplit Info 0.0 0.00026853175033625387\nSplit Info 0.0 0.00026853175033625387\nSplit Info 0.4693822960739032 0.027271799613788728\nSplit Info 0.9901226308935798 0.027271799613788728\nSplit Info 0.48413786985908475 0.062159848532709394\nSplit Info 0.9020844734913567 0.062159848532709394\nSplit Info 1.3200310771236285 0.062159848532709394\nSplit Info 1.7379776807559004 0.062159848532709394\nSplit Info 0.0 0.00026853175033625387\nSplit Info 0.2217446572009569 0.0006009014198802842\nSplit Info 0.6550239908788728 0.0006009014198802842\nSplit Info 0.4045002278702446 0.05971593881623438\nSplit Info 0.9208873484581315 0.05971593881623438\nSplit Info 1.1032960772882774 0.05971593881623438\nSplit Info 1.2400957276959372 0.05971593881623438\nSplit Info 0.4045002278702446 0.1835999723192471\nSplit Info 0.89467565263059 0.1835999723192471\nSplit Info 1.181571032368804 0.1835999723192471\nSplit Info 1.36397976119895 0.1835999723192471\nSplit Info 0.23686905043226034 0.019777961186250026\nSplit Info 0.6548156540645322 0.019777961186250026\nSplit Info 0.7916153044721921 0.019777961186250026\nSplit Info 0.3709078255192236 0.16029610782615078\nSplit Info 0.7888544291514955 0.16029610782615078\nSplit Info 1.1713035779576695 0.16029610782615078\nSplit Info 1.3081032283653293 0.16029610782615078\nSplit Info 0.0 0.00026853175033625387\nSplit Info 0.0 0.00026853175033625387\nSplit Info 0.19062207543124116 0.2049956840747205\nSplit Info 0.5916727785823275 0.2049956840747205\nSplit Info 0.4693822960739032 0.027271799613788728\nSplit Info 0.9901226308935798 0.027271799613788728\nSplit Info 0.0 0.00026853175033625387\nSplit Info 0.5269254386104469 0.12522266576994484\nSplit Info 1.0171008633707923 0.12522266576994484\nSplit Info 1.5072762881311377 0.12522266576994484\nSplit Info 1.9252228917634095 0.12522266576994484\nSplit Info 2.1468741406306773 0.12522266576994484\nAttribute chosen odor\nACA ESTA LA GANANCIA inf\nName_counter 73 Size (616, 23)\nDepth 68\nSplit Info 0.5128183819882235 0.24633311786346615\nSplit Info 1.037023277564456 0.24633311786346615\nSplit Info 1.3515170610769376 0.24633311786346615\nSplit Info 1.6076767004150896 0.24633311786346615\nSplit Info 1.8638363397532416 0.24633311786346615\nSplit Info 0.19062207543124116 0.2049956840747205\nSplit Info 0.5916727785823275 0.2049956840747205\nSplit Info 0.49816001971136364 0.1660208879270248\nSplit Info 0.9963200394227273 0.1660208879270248\nSplit Info 1.4434894246295087 0.1660208879270248\nSplit Info 1.7579832081419902 0.1660208879270248\nSplit Info 2.044878587880204 0.1660208879270248\nSplit Info 2.3317739676184175 0.1660208879270248\nSplit Info 2.553425216485685 0.1660208879270248\nSplit Info 2.690224866893345 0.1660208879270248\nSplit Info 0.5238824662870492 0.07726487087729839\nSplit Info 1.0445859136464184 0.07726487087729839\nSplit Info 1.552888614809727 0.07726487087729839\nSplit Info 1.6000755403986548 0.07726487087729839\nSplit Info 0.5280027346421668 0.019239115693178155\nSplit Info 1.0514067559881914 0.019239115693178155\nSplit Info 1.4952329751257345 0.019239115693178155\nSplit Info 1.9390591942632778 0.019239115693178155\nSplit Info 1.9658994103044949 0.019239115693178155\nSplit Info 0.42503316777584116 0.007536105770635126\nSplit Info 0.9556222693531469 0.007536105770635126\nSplit Info 0.0 0.00026853175033625387\nSplit Info 0.0 0.00026853175033625387\nSplit Info 0.4693822960739032 0.027271799613788728\nSplit Info 0.9901226308935798 0.027271799613788728\nSplit Info 0.48413786985908475 0.062159848532709394\nSplit Info 0.9020844734913567 0.062159848532709394\nSplit Info 1.3200310771236285 0.062159848532709394\nSplit Info 1.7379776807559004 0.062159848532709394\nSplit Info 0.0 0.00026853175033625387\nSplit Info 0.2217446572009569 0.0006009014198802842\nSplit Info 0.6550239908788728 0.0006009014198802842\nSplit Info 0.4045002278702446 0.05971593881623438\nSplit Info 0.9208873484581315 0.05971593881623438\nSplit Info 1.1032960772882774 0.05971593881623438\nSplit Info 1.2400957276959372 0.05971593881623438\nSplit Info 0.4045002278702446 0.1835999723192471\nSplit Info 0.89467565263059 0.1835999723192471\nSplit Info 1.181571032368804 0.1835999723192471\nSplit Info 1.36397976119895 0.1835999723192471\nSplit Info 0.23686905043226034 0.019777961186250026\nSplit Info 0.6548156540645322 0.019777961186250026\nSplit Info 0.7916153044721921 0.019777961186250026\nSplit Info 0.3709078255192236 0.16029610782615078\nSplit Info 0.7888544291514955 0.16029610782615078\nSplit Info 1.1713035779576695 0.16029610782615078\nSplit Info 1.3081032283653293 0.16029610782615078\nSplit Info 0.0 0.00026853175033625387\nSplit Info 0.0 0.00026853175033625387\nSplit Info 0.19062207543124116 0.2049956840747205\nSplit Info 0.5916727785823275 0.2049956840747205\nSplit Info 0.4693822960739032 0.027271799613788728\nSplit Info 0.9901226308935798 0.027271799613788728\nSplit Info 0.0 0.00026853175033625387\nSplit Info 0.5269254386104469 0.12522266576994484\nSplit Info 1.0171008633707923 0.12522266576994484\nSplit Info 1.5072762881311377 0.12522266576994484\nSplit Info 1.9252228917634095 0.12522266576994484\nSplit Info 2.1468741406306773 0.12522266576994484\nAttribute chosen odor\nACA ESTA LA GANANCIA inf\nName_counter 74 Size (616, 23)\nDepth 69\nSplit Info 0.5128183819882235 0.24633311786346615\nSplit Info 1.037023277564456 0.24633311786346615\nSplit Info 1.3515170610769376 0.24633311786346615\nSplit Info 1.6076767004150896 0.24633311786346615\nSplit Info 1.8638363397532416 0.24633311786346615\nSplit Info 0.19062207543124116 0.2049956840747205\nSplit Info 0.5916727785823275 0.2049956840747205\nSplit Info 0.49816001971136364 0.1660208879270248\nSplit Info 0.9963200394227273 0.1660208879270248\nSplit Info 1.4434894246295087 0.1660208879270248\nSplit Info 1.7579832081419902 0.1660208879270248\nSplit Info 2.044878587880204 0.1660208879270248\nSplit Info 2.3317739676184175 0.1660208879270248\nSplit Info 2.553425216485685 0.1660208879270248\nSplit Info 2.690224866893345 0.1660208879270248\nSplit Info 0.5238824662870492 0.07726487087729839\nSplit Info 1.0445859136464184 0.07726487087729839\nSplit Info 1.552888614809727 0.07726487087729839\nSplit Info 1.6000755403986548 0.07726487087729839\nSplit Info 0.5280027346421668 0.019239115693178155\nSplit Info 1.0514067559881914 0.019239115693178155\nSplit Info 1.4952329751257345 0.019239115693178155\nSplit Info 1.9390591942632778 0.019239115693178155\nSplit Info 1.9658994103044949 0.019239115693178155\nSplit Info 0.42503316777584116 0.007536105770635126\nSplit Info 0.9556222693531469 0.007536105770635126\nSplit Info 0.0 0.00026853175033625387\nSplit Info 0.0 0.00026853175033625387\nSplit Info 0.4693822960739032 0.027271799613788728\nSplit Info 0.9901226308935798 0.027271799613788728\nSplit Info 0.48413786985908475 0.062159848532709394\nSplit Info 0.9020844734913567 0.062159848532709394\nSplit Info 1.3200310771236285 0.062159848532709394\nSplit Info 1.7379776807559004 0.062159848532709394\nSplit Info 0.0 0.00026853175033625387\nSplit Info 0.2217446572009569 0.0006009014198802842\nSplit Info 0.6550239908788728 0.0006009014198802842\nSplit Info 0.4045002278702446 0.05971593881623438\nSplit Info 0.9208873484581315 0.05971593881623438\nSplit Info 1.1032960772882774 0.05971593881623438\nSplit Info 1.2400957276959372 0.05971593881623438\nSplit Info 0.4045002278702446 0.1835999723192471\nSplit Info 0.89467565263059 0.1835999723192471\nSplit Info 1.181571032368804 0.1835999723192471\nSplit Info 1.36397976119895 0.1835999723192471\nSplit Info 0.23686905043226034 0.019777961186250026\nSplit Info 0.6548156540645322 0.019777961186250026\nSplit Info 0.7916153044721921 0.019777961186250026\nSplit Info 0.3709078255192236 0.16029610782615078\nSplit Info 0.7888544291514955 0.16029610782615078\nSplit Info 1.1713035779576695 0.16029610782615078\nSplit Info 1.3081032283653293 0.16029610782615078\nSplit Info 0.0 0.00026853175033625387\nSplit Info 0.0 0.00026853175033625387\nSplit Info 0.19062207543124116 0.2049956840747205\nSplit Info 0.5916727785823275 0.2049956840747205\nSplit Info 0.4693822960739032 0.027271799613788728\nSplit Info 0.9901226308935798 0.027271799613788728\nSplit Info 0.0 0.00026853175033625387\nSplit Info 0.5269254386104469 0.12522266576994484\nSplit Info 1.0171008633707923 0.12522266576994484\nSplit Info 1.5072762881311377 0.12522266576994484\nSplit Info 1.9252228917634095 0.12522266576994484\nSplit Info 2.1468741406306773 0.12522266576994484\nAttribute chosen odor\nACA ESTA LA GANANCIA inf\nName_counter 75 Size (616, 23)\nDepth 70\nSplit Info 0.5128183819882235 0.24633311786346615\nSplit Info 1.037023277564456 0.24633311786346615\nSplit Info 1.3515170610769376 0.24633311786346615\nSplit Info 1.6076767004150896 0.24633311786346615\nSplit Info 1.8638363397532416 0.24633311786346615\nSplit Info 0.19062207543124116 0.2049956840747205\nSplit Info 0.5916727785823275 0.2049956840747205\nSplit Info 0.49816001971136364 0.1660208879270248\nSplit Info 0.9963200394227273 0.1660208879270248\nSplit Info 1.4434894246295087 0.1660208879270248\nSplit Info 1.7579832081419902 0.1660208879270248\nSplit Info 2.044878587880204 0.1660208879270248\nSplit Info 2.3317739676184175 0.1660208879270248\nSplit Info 2.553425216485685 0.1660208879270248\nSplit Info 2.690224866893345 0.1660208879270248\nSplit Info 0.5238824662870492 0.07726487087729839\nSplit Info 1.0445859136464184 0.07726487087729839\nSplit Info 1.552888614809727 0.07726487087729839\nSplit Info 1.6000755403986548 0.07726487087729839\nSplit Info 0.5280027346421668 0.019239115693178155\nSplit Info 1.0514067559881914 0.019239115693178155\nSplit Info 1.4952329751257345 0.019239115693178155\nSplit Info 1.9390591942632778 0.019239115693178155\nSplit Info 1.9658994103044949 0.019239115693178155\nSplit Info 0.42503316777584116 0.007536105770635126\nSplit Info 0.9556222693531469 0.007536105770635126\nSplit Info 0.0 0.00026853175033625387\nSplit Info 0.0 0.00026853175033625387\nSplit Info 0.4693822960739032 0.027271799613788728\nSplit Info 0.9901226308935798 0.027271799613788728\nSplit Info 0.48413786985908475 0.062159848532709394\nSplit Info 0.9020844734913567 0.062159848532709394\nSplit Info 1.3200310771236285 0.062159848532709394\nSplit Info 1.7379776807559004 0.062159848532709394\nSplit Info 0.0 0.00026853175033625387\nSplit Info 0.2217446572009569 0.0006009014198802842\nSplit Info 0.6550239908788728 0.0006009014198802842\nSplit Info 0.4045002278702446 0.05971593881623438\nSplit Info 0.9208873484581315 0.05971593881623438\nSplit Info 1.1032960772882774 0.05971593881623438\nSplit Info 1.2400957276959372 0.05971593881623438\nSplit Info 0.4045002278702446 0.1835999723192471\nSplit Info 0.89467565263059 0.1835999723192471\nSplit Info 1.181571032368804 0.1835999723192471\nSplit Info 1.36397976119895 0.1835999723192471\nSplit Info 0.23686905043226034 0.019777961186250026\nSplit Info 0.6548156540645322 0.019777961186250026\nSplit Info 0.7916153044721921 0.019777961186250026\nSplit Info 0.3709078255192236 0.16029610782615078\nSplit Info 0.7888544291514955 0.16029610782615078\nSplit Info 1.1713035779576695 0.16029610782615078\nSplit Info 1.3081032283653293 0.16029610782615078\nSplit Info 0.0 0.00026853175033625387\nSplit Info 0.0 0.00026853175033625387\nSplit Info 0.19062207543124116 0.2049956840747205\nSplit Info 0.5916727785823275 0.2049956840747205\nSplit Info 0.4693822960739032 0.027271799613788728\nSplit Info 0.9901226308935798 0.027271799613788728\nSplit Info 0.0 0.00026853175033625387\nSplit Info 0.5269254386104469 0.12522266576994484\nSplit Info 1.0171008633707923 0.12522266576994484\nSplit Info 1.5072762881311377 0.12522266576994484\nSplit Info 1.9252228917634095 0.12522266576994484\nSplit Info 2.1468741406306773 0.12522266576994484\nAttribute chosen odor\nACA ESTA LA GANANCIA inf\nName_counter 76 Size (616, 23)\nDepth 71\nSplit Info 0.5128183819882235 0.24633311786346615\nSplit Info 1.037023277564456 0.24633311786346615\nSplit Info 1.3515170610769376 0.24633311786346615\nSplit Info 1.6076767004150896 0.24633311786346615\nSplit Info 1.8638363397532416 0.24633311786346615\nSplit Info 0.19062207543124116 0.2049956840747205\nSplit Info 0.5916727785823275 0.2049956840747205\nSplit Info 0.49816001971136364 0.1660208879270248\nSplit Info 0.9963200394227273 0.1660208879270248\nSplit Info 1.4434894246295087 0.1660208879270248\nSplit Info 1.7579832081419902 0.1660208879270248\nSplit Info 2.044878587880204 0.1660208879270248\nSplit Info 2.3317739676184175 0.1660208879270248\nSplit Info 2.553425216485685 0.1660208879270248\nSplit Info 2.690224866893345 0.1660208879270248\nSplit Info 0.5238824662870492 0.07726487087729839\nSplit Info 1.0445859136464184 0.07726487087729839\nSplit Info 1.552888614809727 0.07726487087729839\nSplit Info 1.6000755403986548 0.07726487087729839\nSplit Info 0.5280027346421668 0.019239115693178155\nSplit Info 1.0514067559881914 0.019239115693178155\nSplit Info 1.4952329751257345 0.019239115693178155\nSplit Info 1.9390591942632778 0.019239115693178155\nSplit Info 1.9658994103044949 0.019239115693178155\nSplit Info 0.42503316777584116 0.007536105770635126\nSplit Info 0.9556222693531469 0.007536105770635126\nSplit Info 0.0 0.00026853175033625387\nSplit Info 0.0 0.00026853175033625387\nSplit Info 0.4693822960739032 0.027271799613788728\nSplit Info 0.9901226308935798 0.027271799613788728\nSplit Info 0.48413786985908475 0.062159848532709394\nSplit Info 0.9020844734913567 0.062159848532709394\nSplit Info 1.3200310771236285 0.062159848532709394\nSplit Info 1.7379776807559004 0.062159848532709394\nSplit Info 0.0 0.00026853175033625387\nSplit Info 0.2217446572009569 0.0006009014198802842\nSplit Info 0.6550239908788728 0.0006009014198802842\nSplit Info 0.4045002278702446 0.05971593881623438\nSplit Info 0.9208873484581315 0.05971593881623438\nSplit Info 1.1032960772882774 0.05971593881623438\nSplit Info 1.2400957276959372 0.05971593881623438\nSplit Info 0.4045002278702446 0.1835999723192471\nSplit Info 0.89467565263059 0.1835999723192471\nSplit Info 1.181571032368804 0.1835999723192471\nSplit Info 1.36397976119895 0.1835999723192471\nSplit Info 0.23686905043226034 0.019777961186250026\nSplit Info 0.6548156540645322 0.019777961186250026\nSplit Info 0.7916153044721921 0.019777961186250026\nSplit Info 0.3709078255192236 0.16029610782615078\nSplit Info 0.7888544291514955 0.16029610782615078\nSplit Info 1.1713035779576695 0.16029610782615078\nSplit Info 1.3081032283653293 0.16029610782615078\nSplit Info 0.0 0.00026853175033625387\nSplit Info 0.0 0.00026853175033625387\nSplit Info 0.19062207543124116 0.2049956840747205\nSplit Info 0.5916727785823275 0.2049956840747205\nSplit Info 0.4693822960739032 0.027271799613788728\nSplit Info 0.9901226308935798 0.027271799613788728\nSplit Info 0.0 0.00026853175033625387\nSplit Info 0.5269254386104469 0.12522266576994484\nSplit Info 1.0171008633707923 0.12522266576994484\nSplit Info 1.5072762881311377 0.12522266576994484\nSplit Info 1.9252228917634095 0.12522266576994484\nSplit Info 2.1468741406306773 0.12522266576994484\nAttribute chosen odor\nACA ESTA LA GANANCIA inf\nName_counter 77 Size (616, 23)\nDepth 72\nSplit Info 0.5128183819882235 0.24633311786346615\nSplit Info 1.037023277564456 0.24633311786346615\nSplit Info 1.3515170610769376 0.24633311786346615\nSplit Info 1.6076767004150896 0.24633311786346615\nSplit Info 1.8638363397532416 0.24633311786346615\nSplit Info 0.19062207543124116 0.2049956840747205\nSplit Info 0.5916727785823275 0.2049956840747205\nSplit Info 0.49816001971136364 0.1660208879270248\nSplit Info 0.9963200394227273 0.1660208879270248\nSplit Info 1.4434894246295087 0.1660208879270248\nSplit Info 1.7579832081419902 0.1660208879270248\nSplit Info 2.044878587880204 0.1660208879270248\nSplit Info 2.3317739676184175 0.1660208879270248\nSplit Info 2.553425216485685 0.1660208879270248\nSplit Info 2.690224866893345 0.1660208879270248\nSplit Info 0.5238824662870492 0.07726487087729839\nSplit Info 1.0445859136464184 0.07726487087729839\nSplit Info 1.552888614809727 0.07726487087729839\nSplit Info 1.6000755403986548 0.07726487087729839\nSplit Info 0.5280027346421668 0.019239115693178155\nSplit Info 1.0514067559881914 0.019239115693178155\nSplit Info 1.4952329751257345 0.019239115693178155\nSplit Info 1.9390591942632778 0.019239115693178155\nSplit Info 1.9658994103044949 0.019239115693178155\nSplit Info 0.42503316777584116 0.007536105770635126\nSplit Info 0.9556222693531469 0.007536105770635126\nSplit Info 0.0 0.00026853175033625387\nSplit Info 0.0 0.00026853175033625387\nSplit Info 0.4693822960739032 0.027271799613788728\nSplit Info 0.9901226308935798 0.027271799613788728\nSplit Info 0.48413786985908475 0.062159848532709394\nSplit Info 0.9020844734913567 0.062159848532709394\nSplit Info 1.3200310771236285 0.062159848532709394\nSplit Info 1.7379776807559004 0.062159848532709394\nSplit Info 0.0 0.00026853175033625387\nSplit Info 0.2217446572009569 0.0006009014198802842\nSplit Info 0.6550239908788728 0.0006009014198802842\nSplit Info 0.4045002278702446 0.05971593881623438\nSplit Info 0.9208873484581315 0.05971593881623438\nSplit Info 1.1032960772882774 0.05971593881623438\nSplit Info 1.2400957276959372 0.05971593881623438\nSplit Info 0.4045002278702446 0.1835999723192471\nSplit Info 0.89467565263059 0.1835999723192471\nSplit Info 1.181571032368804 0.1835999723192471\nSplit Info 1.36397976119895 0.1835999723192471\nSplit Info 0.23686905043226034 0.019777961186250026\nSplit Info 0.6548156540645322 0.019777961186250026\nSplit Info 0.7916153044721921 0.019777961186250026\nSplit Info 0.3709078255192236 0.16029610782615078\nSplit Info 0.7888544291514955 0.16029610782615078\nSplit Info 1.1713035779576695 0.16029610782615078\nSplit Info 1.3081032283653293 0.16029610782615078\nSplit Info 0.0 0.00026853175033625387\nSplit Info 0.0 0.00026853175033625387\nSplit Info 0.19062207543124116 0.2049956840747205\nSplit Info 0.5916727785823275 0.2049956840747205\nSplit Info 0.4693822960739032 0.027271799613788728\nSplit Info 0.9901226308935798 0.027271799613788728\nSplit Info 0.0 0.00026853175033625387\nSplit Info 0.5269254386104469 0.12522266576994484\nSplit Info 1.0171008633707923 0.12522266576994484\nSplit Info 1.5072762881311377 0.12522266576994484\nSplit Info 1.9252228917634095 0.12522266576994484\nSplit Info 2.1468741406306773 0.12522266576994484\nAttribute chosen odor\nACA ESTA LA GANANCIA inf\nName_counter 78 Size (616, 23)\nDepth 73\nSplit Info 0.5128183819882235 0.24633311786346615\nSplit Info 1.037023277564456 0.24633311786346615\nSplit Info 1.3515170610769376 0.24633311786346615\nSplit Info 1.6076767004150896 0.24633311786346615\nSplit Info 1.8638363397532416 0.24633311786346615\nSplit Info 0.19062207543124116 0.2049956840747205\nSplit Info 0.5916727785823275 0.2049956840747205\nSplit Info 0.49816001971136364 0.1660208879270248\nSplit Info 0.9963200394227273 0.1660208879270248\nSplit Info 1.4434894246295087 0.1660208879270248\nSplit Info 1.7579832081419902 0.1660208879270248\nSplit Info 2.044878587880204 0.1660208879270248\nSplit Info 2.3317739676184175 0.1660208879270248\nSplit Info 2.553425216485685 0.1660208879270248\nSplit Info 2.690224866893345 0.1660208879270248\nSplit Info 0.5238824662870492 0.07726487087729839\nSplit Info 1.0445859136464184 0.07726487087729839\nSplit Info 1.552888614809727 0.07726487087729839\nSplit Info 1.6000755403986548 0.07726487087729839\nSplit Info 0.5280027346421668 0.019239115693178155\nSplit Info 1.0514067559881914 0.019239115693178155\nSplit Info 1.4952329751257345 0.019239115693178155\nSplit Info 1.9390591942632778 0.019239115693178155\nSplit Info 1.9658994103044949 0.019239115693178155\nSplit Info 0.42503316777584116 0.007536105770635126\nSplit Info 0.9556222693531469 0.007536105770635126\nSplit Info 0.0 0.00026853175033625387\nSplit Info 0.0 0.00026853175033625387\nSplit Info 0.4693822960739032 0.027271799613788728\nSplit Info 0.9901226308935798 0.027271799613788728\nSplit Info 0.48413786985908475 0.062159848532709394\nSplit Info 0.9020844734913567 0.062159848532709394\nSplit Info 1.3200310771236285 0.062159848532709394\nSplit Info 1.7379776807559004 0.062159848532709394\nSplit Info 0.0 0.00026853175033625387\nSplit Info 0.2217446572009569 0.0006009014198802842\nSplit Info 0.6550239908788728 0.0006009014198802842\nSplit Info 0.4045002278702446 0.05971593881623438\nSplit Info 0.9208873484581315 0.05971593881623438\nSplit Info 1.1032960772882774 0.05971593881623438\nSplit Info 1.2400957276959372 0.05971593881623438\nSplit Info 0.4045002278702446 0.1835999723192471\nSplit Info 0.89467565263059 0.1835999723192471\nSplit Info 1.181571032368804 0.1835999723192471\nSplit Info 1.36397976119895 0.1835999723192471\nSplit Info 0.23686905043226034 0.019777961186250026\nSplit Info 0.6548156540645322 0.019777961186250026\nSplit Info 0.7916153044721921 0.019777961186250026\nSplit Info 0.3709078255192236 0.16029610782615078\nSplit Info 0.7888544291514955 0.16029610782615078\nSplit Info 1.1713035779576695 0.16029610782615078\nSplit Info 1.3081032283653293 0.16029610782615078\nSplit Info 0.0 0.00026853175033625387\nSplit Info 0.0 0.00026853175033625387\nSplit Info 0.19062207543124116 0.2049956840747205\nSplit Info 0.5916727785823275 0.2049956840747205\nSplit Info 0.4693822960739032 0.027271799613788728\nSplit Info 0.9901226308935798 0.027271799613788728\nSplit Info 0.0 0.00026853175033625387\nSplit Info 0.5269254386104469 0.12522266576994484\nSplit Info 1.0171008633707923 0.12522266576994484\nSplit Info 1.5072762881311377 0.12522266576994484\nSplit Info 1.9252228917634095 0.12522266576994484\nSplit Info 2.1468741406306773 0.12522266576994484\nAttribute chosen odor\nACA ESTA LA GANANCIA inf\nName_counter 79 Size (616, 23)\nDepth 74\nSplit Info 0.5128183819882235 0.24633311786346615\nSplit Info 1.037023277564456 0.24633311786346615\nSplit Info 1.3515170610769376 0.24633311786346615\nSplit Info 1.6076767004150896 0.24633311786346615\nSplit Info 1.8638363397532416 0.24633311786346615\nSplit Info 0.19062207543124116 0.2049956840747205\nSplit Info 0.5916727785823275 0.2049956840747205\nSplit Info 0.49816001971136364 0.1660208879270248\nSplit Info 0.9963200394227273 0.1660208879270248\nSplit Info 1.4434894246295087 0.1660208879270248\nSplit Info 1.7579832081419902 0.1660208879270248\nSplit Info 2.044878587880204 0.1660208879270248\nSplit Info 2.3317739676184175 0.1660208879270248\nSplit Info 2.553425216485685 0.1660208879270248\nSplit Info 2.690224866893345 0.1660208879270248\nSplit Info 0.5238824662870492 0.07726487087729839\nSplit Info 1.0445859136464184 0.07726487087729839\nSplit Info 1.552888614809727 0.07726487087729839\nSplit Info 1.6000755403986548 0.07726487087729839\nSplit Info 0.5280027346421668 0.019239115693178155\nSplit Info 1.0514067559881914 0.019239115693178155\nSplit Info 1.4952329751257345 0.019239115693178155\nSplit Info 1.9390591942632778 0.019239115693178155\nSplit Info 1.9658994103044949 0.019239115693178155\nSplit Info 0.42503316777584116 0.007536105770635126\nSplit Info 0.9556222693531469 0.007536105770635126\nSplit Info 0.0 0.00026853175033625387\nSplit Info 0.0 0.00026853175033625387\nSplit Info 0.4693822960739032 0.027271799613788728\nSplit Info 0.9901226308935798 0.027271799613788728\nSplit Info 0.48413786985908475 0.062159848532709394\nSplit Info 0.9020844734913567 0.062159848532709394\nSplit Info 1.3200310771236285 0.062159848532709394\nSplit Info 1.7379776807559004 0.062159848532709394\nSplit Info 0.0 0.00026853175033625387\nSplit Info 0.2217446572009569 0.0006009014198802842\nSplit Info 0.6550239908788728 0.0006009014198802842\nSplit Info 0.4045002278702446 0.05971593881623438\nSplit Info 0.9208873484581315 0.05971593881623438\nSplit Info 1.1032960772882774 0.05971593881623438\nSplit Info 1.2400957276959372 0.05971593881623438\nSplit Info 0.4045002278702446 0.1835999723192471\nSplit Info 0.89467565263059 0.1835999723192471\nSplit Info 1.181571032368804 0.1835999723192471\nSplit Info 1.36397976119895 0.1835999723192471\nSplit Info 0.23686905043226034 0.019777961186250026\nSplit Info 0.6548156540645322 0.019777961186250026\nSplit Info 0.7916153044721921 0.019777961186250026\nSplit Info 0.3709078255192236 0.16029610782615078\nSplit Info 0.7888544291514955 0.16029610782615078\nSplit Info 1.1713035779576695 0.16029610782615078\nSplit Info 1.3081032283653293 0.16029610782615078\nSplit Info 0.0 0.00026853175033625387\nSplit Info 0.0 0.00026853175033625387\nSplit Info 0.19062207543124116 0.2049956840747205\nSplit Info 0.5916727785823275 0.2049956840747205\nSplit Info 0.4693822960739032 0.027271799613788728\nSplit Info 0.9901226308935798 0.027271799613788728\nSplit Info 0.0 0.00026853175033625387\nSplit Info 0.5269254386104469 0.12522266576994484\nSplit Info 1.0171008633707923 0.12522266576994484\nSplit Info 1.5072762881311377 0.12522266576994484\nSplit Info 1.9252228917634095 0.12522266576994484\nSplit Info 2.1468741406306773 0.12522266576994484\nAttribute chosen odor\nACA ESTA LA GANANCIA inf\nName_counter 80 Size (616, 23)\nDepth 75\nSplit Info 0.5128183819882235 0.24633311786346615\nSplit Info 1.037023277564456 0.24633311786346615\nSplit Info 1.3515170610769376 0.24633311786346615\nSplit Info 1.6076767004150896 0.24633311786346615\nSplit Info 1.8638363397532416 0.24633311786346615\nSplit Info 0.19062207543124116 0.2049956840747205\nSplit Info 0.5916727785823275 0.2049956840747205\nSplit Info 0.49816001971136364 0.1660208879270248\nSplit Info 0.9963200394227273 0.1660208879270248\nSplit Info 1.4434894246295087 0.1660208879270248\nSplit Info 1.7579832081419902 0.1660208879270248\nSplit Info 2.044878587880204 0.1660208879270248\nSplit Info 2.3317739676184175 0.1660208879270248\nSplit Info 2.553425216485685 0.1660208879270248\nSplit Info 2.690224866893345 0.1660208879270248\nSplit Info 0.5238824662870492 0.07726487087729839\nSplit Info 1.0445859136464184 0.07726487087729839\nSplit Info 1.552888614809727 0.07726487087729839\nSplit Info 1.6000755403986548 0.07726487087729839\nSplit Info 0.5280027346421668 0.019239115693178155\nSplit Info 1.0514067559881914 0.019239115693178155\nSplit Info 1.4952329751257345 0.019239115693178155\nSplit Info 1.9390591942632778 0.019239115693178155\nSplit Info 1.9658994103044949 0.019239115693178155\nSplit Info 0.42503316777584116 0.007536105770635126\nSplit Info 0.9556222693531469 0.007536105770635126\nSplit Info 0.0 0.00026853175033625387\nSplit Info 0.0 0.00026853175033625387\nSplit Info 0.4693822960739032 0.027271799613788728\nSplit Info 0.9901226308935798 0.027271799613788728\nSplit Info 0.48413786985908475 0.062159848532709394\nSplit Info 0.9020844734913567 0.062159848532709394\nSplit Info 1.3200310771236285 0.062159848532709394\nSplit Info 1.7379776807559004 0.062159848532709394\nSplit Info 0.0 0.00026853175033625387\nSplit Info 0.2217446572009569 0.0006009014198802842\nSplit Info 0.6550239908788728 0.0006009014198802842\nSplit Info 0.4045002278702446 0.05971593881623438\nSplit Info 0.9208873484581315 0.05971593881623438\nSplit Info 1.1032960772882774 0.05971593881623438\nSplit Info 1.2400957276959372 0.05971593881623438\nSplit Info 0.4045002278702446 0.1835999723192471\nSplit Info 0.89467565263059 0.1835999723192471\nSplit Info 1.181571032368804 0.1835999723192471\nSplit Info 1.36397976119895 0.1835999723192471\nSplit Info 0.23686905043226034 0.019777961186250026\nSplit Info 0.6548156540645322 0.019777961186250026\nSplit Info 0.7916153044721921 0.019777961186250026\nSplit Info 0.3709078255192236 0.16029610782615078\nSplit Info 0.7888544291514955 0.16029610782615078\nSplit Info 1.1713035779576695 0.16029610782615078\nSplit Info 1.3081032283653293 0.16029610782615078\nSplit Info 0.0 0.00026853175033625387\nSplit Info 0.0 0.00026853175033625387\nSplit Info 0.19062207543124116 0.2049956840747205\nSplit Info 0.5916727785823275 0.2049956840747205\nSplit Info 0.4693822960739032 0.027271799613788728\nSplit Info 0.9901226308935798 0.027271799613788728\nSplit Info 0.0 0.00026853175033625387\nSplit Info 0.5269254386104469 0.12522266576994484\nSplit Info 1.0171008633707923 0.12522266576994484\nSplit Info 1.5072762881311377 0.12522266576994484\nSplit Info 1.9252228917634095 0.12522266576994484\nSplit Info 2.1468741406306773 0.12522266576994484\nAttribute chosen odor\nACA ESTA LA GANANCIA inf\nName_counter 81 Size (616, 23)\nDepth 76\nSplit Info 0.5128183819882235 0.24633311786346615\nSplit Info 1.037023277564456 0.24633311786346615\nSplit Info 1.3515170610769376 0.24633311786346615\nSplit Info 1.6076767004150896 0.24633311786346615\nSplit Info 1.8638363397532416 0.24633311786346615\nSplit Info 0.19062207543124116 0.2049956840747205\nSplit Info 0.5916727785823275 0.2049956840747205\nSplit Info 0.49816001971136364 0.1660208879270248\nSplit Info 0.9963200394227273 0.1660208879270248\nSplit Info 1.4434894246295087 0.1660208879270248\nSplit Info 1.7579832081419902 0.1660208879270248\nSplit Info 2.044878587880204 0.1660208879270248\nSplit Info 2.3317739676184175 0.1660208879270248\nSplit Info 2.553425216485685 0.1660208879270248\nSplit Info 2.690224866893345 0.1660208879270248\nSplit Info 0.5238824662870492 0.07726487087729839\nSplit Info 1.0445859136464184 0.07726487087729839\nSplit Info 1.552888614809727 0.07726487087729839\nSplit Info 1.6000755403986548 0.07726487087729839\nSplit Info 0.5280027346421668 0.019239115693178155\nSplit Info 1.0514067559881914 0.019239115693178155\nSplit Info 1.4952329751257345 0.019239115693178155\nSplit Info 1.9390591942632778 0.019239115693178155\nSplit Info 1.9658994103044949 0.019239115693178155\nSplit Info 0.42503316777584116 0.007536105770635126\nSplit Info 0.9556222693531469 0.007536105770635126\nSplit Info 0.0 0.00026853175033625387\nSplit Info 0.0 0.00026853175033625387\nSplit Info 0.4693822960739032 0.027271799613788728\nSplit Info 0.9901226308935798 0.027271799613788728\nSplit Info 0.48413786985908475 0.062159848532709394\nSplit Info 0.9020844734913567 0.062159848532709394\nSplit Info 1.3200310771236285 0.062159848532709394\nSplit Info 1.7379776807559004 0.062159848532709394\nSplit Info 0.0 0.00026853175033625387\nSplit Info 0.2217446572009569 0.0006009014198802842\nSplit Info 0.6550239908788728 0.0006009014198802842\nSplit Info 0.4045002278702446 0.05971593881623438\nSplit Info 0.9208873484581315 0.05971593881623438\nSplit Info 1.1032960772882774 0.05971593881623438\nSplit Info 1.2400957276959372 0.05971593881623438\nSplit Info 0.4045002278702446 0.1835999723192471\nSplit Info 0.89467565263059 0.1835999723192471\nSplit Info 1.181571032368804 0.1835999723192471\nSplit Info 1.36397976119895 0.1835999723192471\nSplit Info 0.23686905043226034 0.019777961186250026\nSplit Info 0.6548156540645322 0.019777961186250026\nSplit Info 0.7916153044721921 0.019777961186250026\nSplit Info 0.3709078255192236 0.16029610782615078\nSplit Info 0.7888544291514955 0.16029610782615078\nSplit Info 1.1713035779576695 0.16029610782615078\nSplit Info 1.3081032283653293 0.16029610782615078\nSplit Info 0.0 0.00026853175033625387\nSplit Info 0.0 0.00026853175033625387\nSplit Info 0.19062207543124116 0.2049956840747205\nSplit Info 0.5916727785823275 0.2049956840747205\nSplit Info 0.4693822960739032 0.027271799613788728\nSplit Info 0.9901226308935798 0.027271799613788728\nSplit Info 0.0 0.00026853175033625387\nSplit Info 0.5269254386104469 0.12522266576994484\nSplit Info 1.0171008633707923 0.12522266576994484\nSplit Info 1.5072762881311377 0.12522266576994484\nSplit Info 1.9252228917634095 0.12522266576994484\nSplit Info 2.1468741406306773 0.12522266576994484\nAttribute chosen odor\nACA ESTA LA GANANCIA inf\nName_counter 82 Size (616, 23)\nDepth 77\n",
     "output_type": "stream"
    },
    {
     "output_type": "error",
     "ename": "KeyboardInterrupt",
     "evalue": "",
     "traceback": [
      "\u001b[0;31m---------------------------------------------------------------------------\u001b[0m",
      "\u001b[0;31mKeyboardInterrupt\u001b[0m                         Traceback (most recent call last)",
      "\u001b[0;32m/tmp/ipykernel_1677/3054844813.py\u001b[0m in \u001b[0;36m<module>\u001b[0;34m\u001b[0m\n\u001b[1;32m      2\u001b[0m \u001b[0mset_init\u001b[0m \u001b[0;34m=\u001b[0m \u001b[0mSetCases\u001b[0m\u001b[0;34m(\u001b[0m\u001b[0mdf\u001b[0m\u001b[0;34m,\u001b[0m\u001b[0mlen\u001b[0m\u001b[0;34m(\u001b[0m\u001b[0mdf\u001b[0m\u001b[0;34m)\u001b[0m\u001b[0;34m,\u001b[0m\u001b[0;34m'class'\u001b[0m\u001b[0;34m)\u001b[0m\u001b[0;34m\u001b[0m\u001b[0;34m\u001b[0m\u001b[0m\n\u001b[1;32m      3\u001b[0m \u001b[0mroot_node\u001b[0m \u001b[0;34m=\u001b[0m \u001b[0mNode\u001b[0m\u001b[0;34m(\u001b[0m\u001b[0mset_init\u001b[0m\u001b[0;34m,\u001b[0m \u001b[0;36m0\u001b[0m\u001b[0;34m)\u001b[0m\u001b[0;34m\u001b[0m\u001b[0;34m\u001b[0m\u001b[0m\n\u001b[0;32m----> 4\u001b[0;31m \u001b[0mdecisionTree\u001b[0m\u001b[0;34m(\u001b[0m\u001b[0mset_init\u001b[0m\u001b[0;34m,\u001b[0m \u001b[0mset_init\u001b[0m\u001b[0;34m.\u001b[0m\u001b[0mget_attributes\u001b[0m\u001b[0;34m(\u001b[0m\u001b[0;34m)\u001b[0m\u001b[0;34m,\u001b[0m\u001b[0mroot_node\u001b[0m\u001b[0;34m,\u001b[0m\u001b[0;36m0\u001b[0m\u001b[0;34m)\u001b[0m\u001b[0;34m\u001b[0m\u001b[0;34m\u001b[0m\u001b[0m\n\u001b[0m",
      "\u001b[0;32m/tmp/ipykernel_1677/2254831521.py\u001b[0m in \u001b[0;36mdecisionTree\u001b[0;34m(D, A, T, guide_int)\u001b[0m\n\u001b[1;32m     28\u001b[0m                 \u001b[0mname_counter\u001b[0m\u001b[0;34m+=\u001b[0m\u001b[0;36m1\u001b[0m\u001b[0;34m\u001b[0m\u001b[0;34m\u001b[0m\u001b[0m\n\u001b[1;32m     29\u001b[0m                 \u001b[0mT\u001b[0m\u001b[0;34m.\u001b[0m\u001b[0maddChildren\u001b[0m\u001b[0;34m(\u001b[0m\u001b[0mnew_node\u001b[0m\u001b[0;34m)\u001b[0m\u001b[0;34m\u001b[0m\u001b[0;34m\u001b[0m\u001b[0m\n\u001b[0;32m---> 30\u001b[0;31m                 \u001b[0mdecisionTree\u001b[0m\u001b[0;34m(\u001b[0m\u001b[0melem\u001b[0m\u001b[0;34m,\u001b[0m \u001b[0mA1\u001b[0m\u001b[0;34m,\u001b[0m \u001b[0mnew_node\u001b[0m\u001b[0;34m,\u001b[0m \u001b[0mguide_int\u001b[0m\u001b[0;34m+\u001b[0m\u001b[0;36m1\u001b[0m\u001b[0;34m)\u001b[0m\u001b[0;34m\u001b[0m\u001b[0;34m\u001b[0m\u001b[0m\n\u001b[0m",
      "\u001b[0;32m/tmp/ipykernel_1677/2254831521.py\u001b[0m in \u001b[0;36mdecisionTree\u001b[0;34m(D, A, T, guide_int)\u001b[0m\n\u001b[1;32m     28\u001b[0m                 \u001b[0mname_counter\u001b[0m\u001b[0;34m+=\u001b[0m\u001b[0;36m1\u001b[0m\u001b[0;34m\u001b[0m\u001b[0;34m\u001b[0m\u001b[0m\n\u001b[1;32m     29\u001b[0m                 \u001b[0mT\u001b[0m\u001b[0;34m.\u001b[0m\u001b[0maddChildren\u001b[0m\u001b[0;34m(\u001b[0m\u001b[0mnew_node\u001b[0m\u001b[0;34m)\u001b[0m\u001b[0;34m\u001b[0m\u001b[0;34m\u001b[0m\u001b[0m\n\u001b[0;32m---> 30\u001b[0;31m                 \u001b[0mdecisionTree\u001b[0m\u001b[0;34m(\u001b[0m\u001b[0melem\u001b[0m\u001b[0;34m,\u001b[0m \u001b[0mA1\u001b[0m\u001b[0;34m,\u001b[0m \u001b[0mnew_node\u001b[0m\u001b[0;34m,\u001b[0m \u001b[0mguide_int\u001b[0m\u001b[0;34m+\u001b[0m\u001b[0;36m1\u001b[0m\u001b[0;34m)\u001b[0m\u001b[0;34m\u001b[0m\u001b[0;34m\u001b[0m\u001b[0m\n\u001b[0m",
      "\u001b[0;32m/tmp/ipykernel_1677/2254831521.py\u001b[0m in \u001b[0;36mdecisionTree\u001b[0;34m(D, A, T, guide_int)\u001b[0m\n\u001b[1;32m     28\u001b[0m                 \u001b[0mname_counter\u001b[0m\u001b[0;34m+=\u001b[0m\u001b[0;36m1\u001b[0m\u001b[0;34m\u001b[0m\u001b[0;34m\u001b[0m\u001b[0m\n\u001b[1;32m     29\u001b[0m                 \u001b[0mT\u001b[0m\u001b[0;34m.\u001b[0m\u001b[0maddChildren\u001b[0m\u001b[0;34m(\u001b[0m\u001b[0mnew_node\u001b[0m\u001b[0;34m)\u001b[0m\u001b[0;34m\u001b[0m\u001b[0;34m\u001b[0m\u001b[0m\n\u001b[0;32m---> 30\u001b[0;31m                 \u001b[0mdecisionTree\u001b[0m\u001b[0;34m(\u001b[0m\u001b[0melem\u001b[0m\u001b[0;34m,\u001b[0m \u001b[0mA1\u001b[0m\u001b[0;34m,\u001b[0m \u001b[0mnew_node\u001b[0m\u001b[0;34m,\u001b[0m \u001b[0mguide_int\u001b[0m\u001b[0;34m+\u001b[0m\u001b[0;36m1\u001b[0m\u001b[0;34m)\u001b[0m\u001b[0;34m\u001b[0m\u001b[0;34m\u001b[0m\u001b[0m\n\u001b[0m",
      "\u001b[0;32m/tmp/ipykernel_1677/2254831521.py\u001b[0m in \u001b[0;36mdecisionTree\u001b[0;34m(D, A, T, guide_int)\u001b[0m\n\u001b[1;32m     28\u001b[0m                 \u001b[0mname_counter\u001b[0m\u001b[0;34m+=\u001b[0m\u001b[0;36m1\u001b[0m\u001b[0;34m\u001b[0m\u001b[0;34m\u001b[0m\u001b[0m\n\u001b[1;32m     29\u001b[0m                 \u001b[0mT\u001b[0m\u001b[0;34m.\u001b[0m\u001b[0maddChildren\u001b[0m\u001b[0;34m(\u001b[0m\u001b[0mnew_node\u001b[0m\u001b[0;34m)\u001b[0m\u001b[0;34m\u001b[0m\u001b[0;34m\u001b[0m\u001b[0m\n\u001b[0;32m---> 30\u001b[0;31m                 \u001b[0mdecisionTree\u001b[0m\u001b[0;34m(\u001b[0m\u001b[0melem\u001b[0m\u001b[0;34m,\u001b[0m \u001b[0mA1\u001b[0m\u001b[0;34m,\u001b[0m \u001b[0mnew_node\u001b[0m\u001b[0;34m,\u001b[0m \u001b[0mguide_int\u001b[0m\u001b[0;34m+\u001b[0m\u001b[0;36m1\u001b[0m\u001b[0;34m)\u001b[0m\u001b[0;34m\u001b[0m\u001b[0;34m\u001b[0m\u001b[0m\n\u001b[0m",
      "\u001b[0;32m/tmp/ipykernel_1677/2254831521.py\u001b[0m in \u001b[0;36mdecisionTree\u001b[0;34m(D, A, T, guide_int)\u001b[0m\n\u001b[1;32m     28\u001b[0m                 \u001b[0mname_counter\u001b[0m\u001b[0;34m+=\u001b[0m\u001b[0;36m1\u001b[0m\u001b[0;34m\u001b[0m\u001b[0;34m\u001b[0m\u001b[0m\n\u001b[1;32m     29\u001b[0m                 \u001b[0mT\u001b[0m\u001b[0;34m.\u001b[0m\u001b[0maddChildren\u001b[0m\u001b[0;34m(\u001b[0m\u001b[0mnew_node\u001b[0m\u001b[0;34m)\u001b[0m\u001b[0;34m\u001b[0m\u001b[0;34m\u001b[0m\u001b[0m\n\u001b[0;32m---> 30\u001b[0;31m                 \u001b[0mdecisionTree\u001b[0m\u001b[0;34m(\u001b[0m\u001b[0melem\u001b[0m\u001b[0;34m,\u001b[0m \u001b[0mA1\u001b[0m\u001b[0;34m,\u001b[0m \u001b[0mnew_node\u001b[0m\u001b[0;34m,\u001b[0m \u001b[0mguide_int\u001b[0m\u001b[0;34m+\u001b[0m\u001b[0;36m1\u001b[0m\u001b[0;34m)\u001b[0m\u001b[0;34m\u001b[0m\u001b[0;34m\u001b[0m\u001b[0m\n\u001b[0m",
      "\u001b[0;32m/tmp/ipykernel_1677/2254831521.py\u001b[0m in \u001b[0;36mdecisionTree\u001b[0;34m(D, A, T, guide_int)\u001b[0m\n\u001b[1;32m     28\u001b[0m                 \u001b[0mname_counter\u001b[0m\u001b[0;34m+=\u001b[0m\u001b[0;36m1\u001b[0m\u001b[0;34m\u001b[0m\u001b[0;34m\u001b[0m\u001b[0m\n\u001b[1;32m     29\u001b[0m                 \u001b[0mT\u001b[0m\u001b[0;34m.\u001b[0m\u001b[0maddChildren\u001b[0m\u001b[0;34m(\u001b[0m\u001b[0mnew_node\u001b[0m\u001b[0;34m)\u001b[0m\u001b[0;34m\u001b[0m\u001b[0;34m\u001b[0m\u001b[0m\n\u001b[0;32m---> 30\u001b[0;31m                 \u001b[0mdecisionTree\u001b[0m\u001b[0;34m(\u001b[0m\u001b[0melem\u001b[0m\u001b[0;34m,\u001b[0m \u001b[0mA1\u001b[0m\u001b[0;34m,\u001b[0m \u001b[0mnew_node\u001b[0m\u001b[0;34m,\u001b[0m \u001b[0mguide_int\u001b[0m\u001b[0;34m+\u001b[0m\u001b[0;36m1\u001b[0m\u001b[0;34m)\u001b[0m\u001b[0;34m\u001b[0m\u001b[0;34m\u001b[0m\u001b[0m\n\u001b[0m",
      "\u001b[0;32m/tmp/ipykernel_1677/2254831521.py\u001b[0m in \u001b[0;36mdecisionTree\u001b[0;34m(D, A, T, guide_int)\u001b[0m\n\u001b[1;32m     28\u001b[0m                 \u001b[0mname_counter\u001b[0m\u001b[0;34m+=\u001b[0m\u001b[0;36m1\u001b[0m\u001b[0;34m\u001b[0m\u001b[0;34m\u001b[0m\u001b[0m\n\u001b[1;32m     29\u001b[0m                 \u001b[0mT\u001b[0m\u001b[0;34m.\u001b[0m\u001b[0maddChildren\u001b[0m\u001b[0;34m(\u001b[0m\u001b[0mnew_node\u001b[0m\u001b[0;34m)\u001b[0m\u001b[0;34m\u001b[0m\u001b[0;34m\u001b[0m\u001b[0m\n\u001b[0;32m---> 30\u001b[0;31m                 \u001b[0mdecisionTree\u001b[0m\u001b[0;34m(\u001b[0m\u001b[0melem\u001b[0m\u001b[0;34m,\u001b[0m \u001b[0mA1\u001b[0m\u001b[0;34m,\u001b[0m \u001b[0mnew_node\u001b[0m\u001b[0;34m,\u001b[0m \u001b[0mguide_int\u001b[0m\u001b[0;34m+\u001b[0m\u001b[0;36m1\u001b[0m\u001b[0;34m)\u001b[0m\u001b[0;34m\u001b[0m\u001b[0;34m\u001b[0m\u001b[0m\n\u001b[0m",
      "\u001b[0;32m/tmp/ipykernel_1677/2254831521.py\u001b[0m in \u001b[0;36mdecisionTree\u001b[0;34m(D, A, T, guide_int)\u001b[0m\n\u001b[1;32m     28\u001b[0m                 \u001b[0mname_counter\u001b[0m\u001b[0;34m+=\u001b[0m\u001b[0;36m1\u001b[0m\u001b[0;34m\u001b[0m\u001b[0;34m\u001b[0m\u001b[0m\n\u001b[1;32m     29\u001b[0m                 \u001b[0mT\u001b[0m\u001b[0;34m.\u001b[0m\u001b[0maddChildren\u001b[0m\u001b[0;34m(\u001b[0m\u001b[0mnew_node\u001b[0m\u001b[0;34m)\u001b[0m\u001b[0;34m\u001b[0m\u001b[0;34m\u001b[0m\u001b[0m\n\u001b[0;32m---> 30\u001b[0;31m                 \u001b[0mdecisionTree\u001b[0m\u001b[0;34m(\u001b[0m\u001b[0melem\u001b[0m\u001b[0;34m,\u001b[0m \u001b[0mA1\u001b[0m\u001b[0;34m,\u001b[0m \u001b[0mnew_node\u001b[0m\u001b[0;34m,\u001b[0m \u001b[0mguide_int\u001b[0m\u001b[0;34m+\u001b[0m\u001b[0;36m1\u001b[0m\u001b[0;34m)\u001b[0m\u001b[0;34m\u001b[0m\u001b[0;34m\u001b[0m\u001b[0m\n\u001b[0m",
      "\u001b[0;32m/tmp/ipykernel_1677/2254831521.py\u001b[0m in \u001b[0;36mdecisionTree\u001b[0;34m(D, A, T, guide_int)\u001b[0m\n\u001b[1;32m     28\u001b[0m                 \u001b[0mname_counter\u001b[0m\u001b[0;34m+=\u001b[0m\u001b[0;36m1\u001b[0m\u001b[0;34m\u001b[0m\u001b[0;34m\u001b[0m\u001b[0m\n\u001b[1;32m     29\u001b[0m                 \u001b[0mT\u001b[0m\u001b[0;34m.\u001b[0m\u001b[0maddChildren\u001b[0m\u001b[0;34m(\u001b[0m\u001b[0mnew_node\u001b[0m\u001b[0;34m)\u001b[0m\u001b[0;34m\u001b[0m\u001b[0;34m\u001b[0m\u001b[0m\n\u001b[0;32m---> 30\u001b[0;31m                 \u001b[0mdecisionTree\u001b[0m\u001b[0;34m(\u001b[0m\u001b[0melem\u001b[0m\u001b[0;34m,\u001b[0m \u001b[0mA1\u001b[0m\u001b[0;34m,\u001b[0m \u001b[0mnew_node\u001b[0m\u001b[0;34m,\u001b[0m \u001b[0mguide_int\u001b[0m\u001b[0;34m+\u001b[0m\u001b[0;36m1\u001b[0m\u001b[0;34m)\u001b[0m\u001b[0;34m\u001b[0m\u001b[0;34m\u001b[0m\u001b[0m\n\u001b[0m",
      "\u001b[0;32m/tmp/ipykernel_1677/2254831521.py\u001b[0m in \u001b[0;36mdecisionTree\u001b[0;34m(D, A, T, guide_int)\u001b[0m\n\u001b[1;32m     28\u001b[0m                 \u001b[0mname_counter\u001b[0m\u001b[0;34m+=\u001b[0m\u001b[0;36m1\u001b[0m\u001b[0;34m\u001b[0m\u001b[0;34m\u001b[0m\u001b[0m\n\u001b[1;32m     29\u001b[0m                 \u001b[0mT\u001b[0m\u001b[0;34m.\u001b[0m\u001b[0maddChildren\u001b[0m\u001b[0;34m(\u001b[0m\u001b[0mnew_node\u001b[0m\u001b[0;34m)\u001b[0m\u001b[0;34m\u001b[0m\u001b[0;34m\u001b[0m\u001b[0m\n\u001b[0;32m---> 30\u001b[0;31m                 \u001b[0mdecisionTree\u001b[0m\u001b[0;34m(\u001b[0m\u001b[0melem\u001b[0m\u001b[0;34m,\u001b[0m \u001b[0mA1\u001b[0m\u001b[0;34m,\u001b[0m \u001b[0mnew_node\u001b[0m\u001b[0;34m,\u001b[0m \u001b[0mguide_int\u001b[0m\u001b[0;34m+\u001b[0m\u001b[0;36m1\u001b[0m\u001b[0;34m)\u001b[0m\u001b[0;34m\u001b[0m\u001b[0;34m\u001b[0m\u001b[0m\n\u001b[0m",
      "\u001b[0;32m/tmp/ipykernel_1677/2254831521.py\u001b[0m in \u001b[0;36mdecisionTree\u001b[0;34m(D, A, T, guide_int)\u001b[0m\n\u001b[1;32m     28\u001b[0m                 \u001b[0mname_counter\u001b[0m\u001b[0;34m+=\u001b[0m\u001b[0;36m1\u001b[0m\u001b[0;34m\u001b[0m\u001b[0;34m\u001b[0m\u001b[0m\n\u001b[1;32m     29\u001b[0m                 \u001b[0mT\u001b[0m\u001b[0;34m.\u001b[0m\u001b[0maddChildren\u001b[0m\u001b[0;34m(\u001b[0m\u001b[0mnew_node\u001b[0m\u001b[0;34m)\u001b[0m\u001b[0;34m\u001b[0m\u001b[0;34m\u001b[0m\u001b[0m\n\u001b[0;32m---> 30\u001b[0;31m                 \u001b[0mdecisionTree\u001b[0m\u001b[0;34m(\u001b[0m\u001b[0melem\u001b[0m\u001b[0;34m,\u001b[0m \u001b[0mA1\u001b[0m\u001b[0;34m,\u001b[0m \u001b[0mnew_node\u001b[0m\u001b[0;34m,\u001b[0m \u001b[0mguide_int\u001b[0m\u001b[0;34m+\u001b[0m\u001b[0;36m1\u001b[0m\u001b[0;34m)\u001b[0m\u001b[0;34m\u001b[0m\u001b[0;34m\u001b[0m\u001b[0m\n\u001b[0m",
      "\u001b[0;32m/tmp/ipykernel_1677/2254831521.py\u001b[0m in \u001b[0;36mdecisionTree\u001b[0;34m(D, A, T, guide_int)\u001b[0m\n\u001b[1;32m     28\u001b[0m                 \u001b[0mname_counter\u001b[0m\u001b[0;34m+=\u001b[0m\u001b[0;36m1\u001b[0m\u001b[0;34m\u001b[0m\u001b[0;34m\u001b[0m\u001b[0m\n\u001b[1;32m     29\u001b[0m                 \u001b[0mT\u001b[0m\u001b[0;34m.\u001b[0m\u001b[0maddChildren\u001b[0m\u001b[0;34m(\u001b[0m\u001b[0mnew_node\u001b[0m\u001b[0;34m)\u001b[0m\u001b[0;34m\u001b[0m\u001b[0;34m\u001b[0m\u001b[0m\n\u001b[0;32m---> 30\u001b[0;31m                 \u001b[0mdecisionTree\u001b[0m\u001b[0;34m(\u001b[0m\u001b[0melem\u001b[0m\u001b[0;34m,\u001b[0m \u001b[0mA1\u001b[0m\u001b[0;34m,\u001b[0m \u001b[0mnew_node\u001b[0m\u001b[0;34m,\u001b[0m \u001b[0mguide_int\u001b[0m\u001b[0;34m+\u001b[0m\u001b[0;36m1\u001b[0m\u001b[0;34m)\u001b[0m\u001b[0;34m\u001b[0m\u001b[0;34m\u001b[0m\u001b[0m\n\u001b[0m",
      "\u001b[0;32m/tmp/ipykernel_1677/2254831521.py\u001b[0m in \u001b[0;36mdecisionTree\u001b[0;34m(D, A, T, guide_int)\u001b[0m\n\u001b[1;32m     28\u001b[0m                 \u001b[0mname_counter\u001b[0m\u001b[0;34m+=\u001b[0m\u001b[0;36m1\u001b[0m\u001b[0;34m\u001b[0m\u001b[0;34m\u001b[0m\u001b[0m\n\u001b[1;32m     29\u001b[0m                 \u001b[0mT\u001b[0m\u001b[0;34m.\u001b[0m\u001b[0maddChildren\u001b[0m\u001b[0;34m(\u001b[0m\u001b[0mnew_node\u001b[0m\u001b[0;34m)\u001b[0m\u001b[0;34m\u001b[0m\u001b[0;34m\u001b[0m\u001b[0m\n\u001b[0;32m---> 30\u001b[0;31m                 \u001b[0mdecisionTree\u001b[0m\u001b[0;34m(\u001b[0m\u001b[0melem\u001b[0m\u001b[0;34m,\u001b[0m \u001b[0mA1\u001b[0m\u001b[0;34m,\u001b[0m \u001b[0mnew_node\u001b[0m\u001b[0;34m,\u001b[0m \u001b[0mguide_int\u001b[0m\u001b[0;34m+\u001b[0m\u001b[0;36m1\u001b[0m\u001b[0;34m)\u001b[0m\u001b[0;34m\u001b[0m\u001b[0;34m\u001b[0m\u001b[0m\n\u001b[0m",
      "\u001b[0;32m/tmp/ipykernel_1677/2254831521.py\u001b[0m in \u001b[0;36mdecisionTree\u001b[0;34m(D, A, T, guide_int)\u001b[0m\n\u001b[1;32m     28\u001b[0m                 \u001b[0mname_counter\u001b[0m\u001b[0;34m+=\u001b[0m\u001b[0;36m1\u001b[0m\u001b[0;34m\u001b[0m\u001b[0;34m\u001b[0m\u001b[0m\n\u001b[1;32m     29\u001b[0m                 \u001b[0mT\u001b[0m\u001b[0;34m.\u001b[0m\u001b[0maddChildren\u001b[0m\u001b[0;34m(\u001b[0m\u001b[0mnew_node\u001b[0m\u001b[0;34m)\u001b[0m\u001b[0;34m\u001b[0m\u001b[0;34m\u001b[0m\u001b[0m\n\u001b[0;32m---> 30\u001b[0;31m                 \u001b[0mdecisionTree\u001b[0m\u001b[0;34m(\u001b[0m\u001b[0melem\u001b[0m\u001b[0;34m,\u001b[0m \u001b[0mA1\u001b[0m\u001b[0;34m,\u001b[0m \u001b[0mnew_node\u001b[0m\u001b[0;34m,\u001b[0m \u001b[0mguide_int\u001b[0m\u001b[0;34m+\u001b[0m\u001b[0;36m1\u001b[0m\u001b[0;34m)\u001b[0m\u001b[0;34m\u001b[0m\u001b[0;34m\u001b[0m\u001b[0m\n\u001b[0m",
      "\u001b[0;32m/tmp/ipykernel_1677/2254831521.py\u001b[0m in \u001b[0;36mdecisionTree\u001b[0;34m(D, A, T, guide_int)\u001b[0m\n\u001b[1;32m     28\u001b[0m                 \u001b[0mname_counter\u001b[0m\u001b[0;34m+=\u001b[0m\u001b[0;36m1\u001b[0m\u001b[0;34m\u001b[0m\u001b[0;34m\u001b[0m\u001b[0m\n\u001b[1;32m     29\u001b[0m                 \u001b[0mT\u001b[0m\u001b[0;34m.\u001b[0m\u001b[0maddChildren\u001b[0m\u001b[0;34m(\u001b[0m\u001b[0mnew_node\u001b[0m\u001b[0;34m)\u001b[0m\u001b[0;34m\u001b[0m\u001b[0;34m\u001b[0m\u001b[0m\n\u001b[0;32m---> 30\u001b[0;31m                 \u001b[0mdecisionTree\u001b[0m\u001b[0;34m(\u001b[0m\u001b[0melem\u001b[0m\u001b[0;34m,\u001b[0m \u001b[0mA1\u001b[0m\u001b[0;34m,\u001b[0m \u001b[0mnew_node\u001b[0m\u001b[0;34m,\u001b[0m \u001b[0mguide_int\u001b[0m\u001b[0;34m+\u001b[0m\u001b[0;36m1\u001b[0m\u001b[0;34m)\u001b[0m\u001b[0;34m\u001b[0m\u001b[0;34m\u001b[0m\u001b[0m\n\u001b[0m",
      "\u001b[0;32m/tmp/ipykernel_1677/2254831521.py\u001b[0m in \u001b[0;36mdecisionTree\u001b[0;34m(D, A, T, guide_int)\u001b[0m\n\u001b[1;32m     28\u001b[0m                 \u001b[0mname_counter\u001b[0m\u001b[0;34m+=\u001b[0m\u001b[0;36m1\u001b[0m\u001b[0;34m\u001b[0m\u001b[0;34m\u001b[0m\u001b[0m\n\u001b[1;32m     29\u001b[0m                 \u001b[0mT\u001b[0m\u001b[0;34m.\u001b[0m\u001b[0maddChildren\u001b[0m\u001b[0;34m(\u001b[0m\u001b[0mnew_node\u001b[0m\u001b[0;34m)\u001b[0m\u001b[0;34m\u001b[0m\u001b[0;34m\u001b[0m\u001b[0m\n\u001b[0;32m---> 30\u001b[0;31m                 \u001b[0mdecisionTree\u001b[0m\u001b[0;34m(\u001b[0m\u001b[0melem\u001b[0m\u001b[0;34m,\u001b[0m \u001b[0mA1\u001b[0m\u001b[0;34m,\u001b[0m \u001b[0mnew_node\u001b[0m\u001b[0;34m,\u001b[0m \u001b[0mguide_int\u001b[0m\u001b[0;34m+\u001b[0m\u001b[0;36m1\u001b[0m\u001b[0;34m)\u001b[0m\u001b[0;34m\u001b[0m\u001b[0;34m\u001b[0m\u001b[0m\n\u001b[0m",
      "\u001b[0;32m/tmp/ipykernel_1677/2254831521.py\u001b[0m in \u001b[0;36mdecisionTree\u001b[0;34m(D, A, T, guide_int)\u001b[0m\n\u001b[1;32m     28\u001b[0m                 \u001b[0mname_counter\u001b[0m\u001b[0;34m+=\u001b[0m\u001b[0;36m1\u001b[0m\u001b[0;34m\u001b[0m\u001b[0;34m\u001b[0m\u001b[0m\n\u001b[1;32m     29\u001b[0m                 \u001b[0mT\u001b[0m\u001b[0;34m.\u001b[0m\u001b[0maddChildren\u001b[0m\u001b[0;34m(\u001b[0m\u001b[0mnew_node\u001b[0m\u001b[0;34m)\u001b[0m\u001b[0;34m\u001b[0m\u001b[0;34m\u001b[0m\u001b[0m\n\u001b[0;32m---> 30\u001b[0;31m                 \u001b[0mdecisionTree\u001b[0m\u001b[0;34m(\u001b[0m\u001b[0melem\u001b[0m\u001b[0;34m,\u001b[0m \u001b[0mA1\u001b[0m\u001b[0;34m,\u001b[0m \u001b[0mnew_node\u001b[0m\u001b[0;34m,\u001b[0m \u001b[0mguide_int\u001b[0m\u001b[0;34m+\u001b[0m\u001b[0;36m1\u001b[0m\u001b[0;34m)\u001b[0m\u001b[0;34m\u001b[0m\u001b[0;34m\u001b[0m\u001b[0m\n\u001b[0m",
      "\u001b[0;32m/tmp/ipykernel_1677/2254831521.py\u001b[0m in \u001b[0;36mdecisionTree\u001b[0;34m(D, A, T, guide_int)\u001b[0m\n\u001b[1;32m     28\u001b[0m                 \u001b[0mname_counter\u001b[0m\u001b[0;34m+=\u001b[0m\u001b[0;36m1\u001b[0m\u001b[0;34m\u001b[0m\u001b[0;34m\u001b[0m\u001b[0m\n\u001b[1;32m     29\u001b[0m                 \u001b[0mT\u001b[0m\u001b[0;34m.\u001b[0m\u001b[0maddChildren\u001b[0m\u001b[0;34m(\u001b[0m\u001b[0mnew_node\u001b[0m\u001b[0;34m)\u001b[0m\u001b[0;34m\u001b[0m\u001b[0;34m\u001b[0m\u001b[0m\n\u001b[0;32m---> 30\u001b[0;31m                 \u001b[0mdecisionTree\u001b[0m\u001b[0;34m(\u001b[0m\u001b[0melem\u001b[0m\u001b[0;34m,\u001b[0m \u001b[0mA1\u001b[0m\u001b[0;34m,\u001b[0m \u001b[0mnew_node\u001b[0m\u001b[0;34m,\u001b[0m \u001b[0mguide_int\u001b[0m\u001b[0;34m+\u001b[0m\u001b[0;36m1\u001b[0m\u001b[0;34m)\u001b[0m\u001b[0;34m\u001b[0m\u001b[0;34m\u001b[0m\u001b[0m\n\u001b[0m",
      "\u001b[0;32m/tmp/ipykernel_1677/2254831521.py\u001b[0m in \u001b[0;36mdecisionTree\u001b[0;34m(D, A, T, guide_int)\u001b[0m\n\u001b[1;32m     28\u001b[0m                 \u001b[0mname_counter\u001b[0m\u001b[0;34m+=\u001b[0m\u001b[0;36m1\u001b[0m\u001b[0;34m\u001b[0m\u001b[0;34m\u001b[0m\u001b[0m\n\u001b[1;32m     29\u001b[0m                 \u001b[0mT\u001b[0m\u001b[0;34m.\u001b[0m\u001b[0maddChildren\u001b[0m\u001b[0;34m(\u001b[0m\u001b[0mnew_node\u001b[0m\u001b[0;34m)\u001b[0m\u001b[0;34m\u001b[0m\u001b[0;34m\u001b[0m\u001b[0m\n\u001b[0;32m---> 30\u001b[0;31m                 \u001b[0mdecisionTree\u001b[0m\u001b[0;34m(\u001b[0m\u001b[0melem\u001b[0m\u001b[0;34m,\u001b[0m \u001b[0mA1\u001b[0m\u001b[0;34m,\u001b[0m \u001b[0mnew_node\u001b[0m\u001b[0;34m,\u001b[0m \u001b[0mguide_int\u001b[0m\u001b[0;34m+\u001b[0m\u001b[0;36m1\u001b[0m\u001b[0;34m)\u001b[0m\u001b[0;34m\u001b[0m\u001b[0;34m\u001b[0m\u001b[0m\n\u001b[0m",
      "\u001b[0;32m/tmp/ipykernel_1677/2254831521.py\u001b[0m in \u001b[0;36mdecisionTree\u001b[0;34m(D, A, T, guide_int)\u001b[0m\n\u001b[1;32m     28\u001b[0m                 \u001b[0mname_counter\u001b[0m\u001b[0;34m+=\u001b[0m\u001b[0;36m1\u001b[0m\u001b[0;34m\u001b[0m\u001b[0;34m\u001b[0m\u001b[0m\n\u001b[1;32m     29\u001b[0m                 \u001b[0mT\u001b[0m\u001b[0;34m.\u001b[0m\u001b[0maddChildren\u001b[0m\u001b[0;34m(\u001b[0m\u001b[0mnew_node\u001b[0m\u001b[0;34m)\u001b[0m\u001b[0;34m\u001b[0m\u001b[0;34m\u001b[0m\u001b[0m\n\u001b[0;32m---> 30\u001b[0;31m                 \u001b[0mdecisionTree\u001b[0m\u001b[0;34m(\u001b[0m\u001b[0melem\u001b[0m\u001b[0;34m,\u001b[0m \u001b[0mA1\u001b[0m\u001b[0;34m,\u001b[0m \u001b[0mnew_node\u001b[0m\u001b[0;34m,\u001b[0m \u001b[0mguide_int\u001b[0m\u001b[0;34m+\u001b[0m\u001b[0;36m1\u001b[0m\u001b[0;34m)\u001b[0m\u001b[0;34m\u001b[0m\u001b[0;34m\u001b[0m\u001b[0m\n\u001b[0m",
      "\u001b[0;32m/tmp/ipykernel_1677/2254831521.py\u001b[0m in \u001b[0;36mdecisionTree\u001b[0;34m(D, A, T, guide_int)\u001b[0m\n\u001b[1;32m     28\u001b[0m                 \u001b[0mname_counter\u001b[0m\u001b[0;34m+=\u001b[0m\u001b[0;36m1\u001b[0m\u001b[0;34m\u001b[0m\u001b[0;34m\u001b[0m\u001b[0m\n\u001b[1;32m     29\u001b[0m                 \u001b[0mT\u001b[0m\u001b[0;34m.\u001b[0m\u001b[0maddChildren\u001b[0m\u001b[0;34m(\u001b[0m\u001b[0mnew_node\u001b[0m\u001b[0;34m)\u001b[0m\u001b[0;34m\u001b[0m\u001b[0;34m\u001b[0m\u001b[0m\n\u001b[0;32m---> 30\u001b[0;31m                 \u001b[0mdecisionTree\u001b[0m\u001b[0;34m(\u001b[0m\u001b[0melem\u001b[0m\u001b[0;34m,\u001b[0m \u001b[0mA1\u001b[0m\u001b[0;34m,\u001b[0m \u001b[0mnew_node\u001b[0m\u001b[0;34m,\u001b[0m \u001b[0mguide_int\u001b[0m\u001b[0;34m+\u001b[0m\u001b[0;36m1\u001b[0m\u001b[0;34m)\u001b[0m\u001b[0;34m\u001b[0m\u001b[0;34m\u001b[0m\u001b[0m\n\u001b[0m",
      "\u001b[0;32m/tmp/ipykernel_1677/2254831521.py\u001b[0m in \u001b[0;36mdecisionTree\u001b[0;34m(D, A, T, guide_int)\u001b[0m\n\u001b[1;32m     28\u001b[0m                 \u001b[0mname_counter\u001b[0m\u001b[0;34m+=\u001b[0m\u001b[0;36m1\u001b[0m\u001b[0;34m\u001b[0m\u001b[0;34m\u001b[0m\u001b[0m\n\u001b[1;32m     29\u001b[0m                 \u001b[0mT\u001b[0m\u001b[0;34m.\u001b[0m\u001b[0maddChildren\u001b[0m\u001b[0;34m(\u001b[0m\u001b[0mnew_node\u001b[0m\u001b[0;34m)\u001b[0m\u001b[0;34m\u001b[0m\u001b[0;34m\u001b[0m\u001b[0m\n\u001b[0;32m---> 30\u001b[0;31m                 \u001b[0mdecisionTree\u001b[0m\u001b[0;34m(\u001b[0m\u001b[0melem\u001b[0m\u001b[0;34m,\u001b[0m \u001b[0mA1\u001b[0m\u001b[0;34m,\u001b[0m \u001b[0mnew_node\u001b[0m\u001b[0;34m,\u001b[0m \u001b[0mguide_int\u001b[0m\u001b[0;34m+\u001b[0m\u001b[0;36m1\u001b[0m\u001b[0;34m)\u001b[0m\u001b[0;34m\u001b[0m\u001b[0;34m\u001b[0m\u001b[0m\n\u001b[0m",
      "\u001b[0;32m/tmp/ipykernel_1677/2254831521.py\u001b[0m in \u001b[0;36mdecisionTree\u001b[0;34m(D, A, T, guide_int)\u001b[0m\n\u001b[1;32m     28\u001b[0m                 \u001b[0mname_counter\u001b[0m\u001b[0;34m+=\u001b[0m\u001b[0;36m1\u001b[0m\u001b[0;34m\u001b[0m\u001b[0;34m\u001b[0m\u001b[0m\n\u001b[1;32m     29\u001b[0m                 \u001b[0mT\u001b[0m\u001b[0;34m.\u001b[0m\u001b[0maddChildren\u001b[0m\u001b[0;34m(\u001b[0m\u001b[0mnew_node\u001b[0m\u001b[0;34m)\u001b[0m\u001b[0;34m\u001b[0m\u001b[0;34m\u001b[0m\u001b[0m\n\u001b[0;32m---> 30\u001b[0;31m                 \u001b[0mdecisionTree\u001b[0m\u001b[0;34m(\u001b[0m\u001b[0melem\u001b[0m\u001b[0;34m,\u001b[0m \u001b[0mA1\u001b[0m\u001b[0;34m,\u001b[0m \u001b[0mnew_node\u001b[0m\u001b[0;34m,\u001b[0m \u001b[0mguide_int\u001b[0m\u001b[0;34m+\u001b[0m\u001b[0;36m1\u001b[0m\u001b[0;34m)\u001b[0m\u001b[0;34m\u001b[0m\u001b[0;34m\u001b[0m\u001b[0m\n\u001b[0m",
      "\u001b[0;32m/tmp/ipykernel_1677/2254831521.py\u001b[0m in \u001b[0;36mdecisionTree\u001b[0;34m(D, A, T, guide_int)\u001b[0m\n\u001b[1;32m     28\u001b[0m                 \u001b[0mname_counter\u001b[0m\u001b[0;34m+=\u001b[0m\u001b[0;36m1\u001b[0m\u001b[0;34m\u001b[0m\u001b[0;34m\u001b[0m\u001b[0m\n\u001b[1;32m     29\u001b[0m                 \u001b[0mT\u001b[0m\u001b[0;34m.\u001b[0m\u001b[0maddChildren\u001b[0m\u001b[0;34m(\u001b[0m\u001b[0mnew_node\u001b[0m\u001b[0;34m)\u001b[0m\u001b[0;34m\u001b[0m\u001b[0;34m\u001b[0m\u001b[0m\n\u001b[0;32m---> 30\u001b[0;31m                 \u001b[0mdecisionTree\u001b[0m\u001b[0;34m(\u001b[0m\u001b[0melem\u001b[0m\u001b[0;34m,\u001b[0m \u001b[0mA1\u001b[0m\u001b[0;34m,\u001b[0m \u001b[0mnew_node\u001b[0m\u001b[0;34m,\u001b[0m \u001b[0mguide_int\u001b[0m\u001b[0;34m+\u001b[0m\u001b[0;36m1\u001b[0m\u001b[0;34m)\u001b[0m\u001b[0;34m\u001b[0m\u001b[0;34m\u001b[0m\u001b[0m\n\u001b[0m",
      "\u001b[0;32m/tmp/ipykernel_1677/2254831521.py\u001b[0m in \u001b[0;36mdecisionTree\u001b[0;34m(D, A, T, guide_int)\u001b[0m\n\u001b[1;32m     28\u001b[0m                 \u001b[0mname_counter\u001b[0m\u001b[0;34m+=\u001b[0m\u001b[0;36m1\u001b[0m\u001b[0;34m\u001b[0m\u001b[0;34m\u001b[0m\u001b[0m\n\u001b[1;32m     29\u001b[0m                 \u001b[0mT\u001b[0m\u001b[0;34m.\u001b[0m\u001b[0maddChildren\u001b[0m\u001b[0;34m(\u001b[0m\u001b[0mnew_node\u001b[0m\u001b[0;34m)\u001b[0m\u001b[0;34m\u001b[0m\u001b[0;34m\u001b[0m\u001b[0m\n\u001b[0;32m---> 30\u001b[0;31m                 \u001b[0mdecisionTree\u001b[0m\u001b[0;34m(\u001b[0m\u001b[0melem\u001b[0m\u001b[0;34m,\u001b[0m \u001b[0mA1\u001b[0m\u001b[0;34m,\u001b[0m \u001b[0mnew_node\u001b[0m\u001b[0;34m,\u001b[0m \u001b[0mguide_int\u001b[0m\u001b[0;34m+\u001b[0m\u001b[0;36m1\u001b[0m\u001b[0;34m)\u001b[0m\u001b[0;34m\u001b[0m\u001b[0;34m\u001b[0m\u001b[0m\n\u001b[0m",
      "\u001b[0;32m/tmp/ipykernel_1677/2254831521.py\u001b[0m in \u001b[0;36mdecisionTree\u001b[0;34m(D, A, T, guide_int)\u001b[0m\n\u001b[1;32m     28\u001b[0m                 \u001b[0mname_counter\u001b[0m\u001b[0;34m+=\u001b[0m\u001b[0;36m1\u001b[0m\u001b[0;34m\u001b[0m\u001b[0;34m\u001b[0m\u001b[0m\n\u001b[1;32m     29\u001b[0m                 \u001b[0mT\u001b[0m\u001b[0;34m.\u001b[0m\u001b[0maddChildren\u001b[0m\u001b[0;34m(\u001b[0m\u001b[0mnew_node\u001b[0m\u001b[0;34m)\u001b[0m\u001b[0;34m\u001b[0m\u001b[0;34m\u001b[0m\u001b[0m\n\u001b[0;32m---> 30\u001b[0;31m                 \u001b[0mdecisionTree\u001b[0m\u001b[0;34m(\u001b[0m\u001b[0melem\u001b[0m\u001b[0;34m,\u001b[0m \u001b[0mA1\u001b[0m\u001b[0;34m,\u001b[0m \u001b[0mnew_node\u001b[0m\u001b[0;34m,\u001b[0m \u001b[0mguide_int\u001b[0m\u001b[0;34m+\u001b[0m\u001b[0;36m1\u001b[0m\u001b[0;34m)\u001b[0m\u001b[0;34m\u001b[0m\u001b[0;34m\u001b[0m\u001b[0m\n\u001b[0m",
      "\u001b[0;32m/tmp/ipykernel_1677/2254831521.py\u001b[0m in \u001b[0;36mdecisionTree\u001b[0;34m(D, A, T, guide_int)\u001b[0m\n\u001b[1;32m     28\u001b[0m                 \u001b[0mname_counter\u001b[0m\u001b[0;34m+=\u001b[0m\u001b[0;36m1\u001b[0m\u001b[0;34m\u001b[0m\u001b[0;34m\u001b[0m\u001b[0m\n\u001b[1;32m     29\u001b[0m                 \u001b[0mT\u001b[0m\u001b[0;34m.\u001b[0m\u001b[0maddChildren\u001b[0m\u001b[0;34m(\u001b[0m\u001b[0mnew_node\u001b[0m\u001b[0;34m)\u001b[0m\u001b[0;34m\u001b[0m\u001b[0;34m\u001b[0m\u001b[0m\n\u001b[0;32m---> 30\u001b[0;31m                 \u001b[0mdecisionTree\u001b[0m\u001b[0;34m(\u001b[0m\u001b[0melem\u001b[0m\u001b[0;34m,\u001b[0m \u001b[0mA1\u001b[0m\u001b[0;34m,\u001b[0m \u001b[0mnew_node\u001b[0m\u001b[0;34m,\u001b[0m \u001b[0mguide_int\u001b[0m\u001b[0;34m+\u001b[0m\u001b[0;36m1\u001b[0m\u001b[0;34m)\u001b[0m\u001b[0;34m\u001b[0m\u001b[0;34m\u001b[0m\u001b[0m\n\u001b[0m",
      "\u001b[0;32m/tmp/ipykernel_1677/2254831521.py\u001b[0m in \u001b[0;36mdecisionTree\u001b[0;34m(D, A, T, guide_int)\u001b[0m\n\u001b[1;32m     28\u001b[0m                 \u001b[0mname_counter\u001b[0m\u001b[0;34m+=\u001b[0m\u001b[0;36m1\u001b[0m\u001b[0;34m\u001b[0m\u001b[0;34m\u001b[0m\u001b[0m\n\u001b[1;32m     29\u001b[0m                 \u001b[0mT\u001b[0m\u001b[0;34m.\u001b[0m\u001b[0maddChildren\u001b[0m\u001b[0;34m(\u001b[0m\u001b[0mnew_node\u001b[0m\u001b[0;34m)\u001b[0m\u001b[0;34m\u001b[0m\u001b[0;34m\u001b[0m\u001b[0m\n\u001b[0;32m---> 30\u001b[0;31m                 \u001b[0mdecisionTree\u001b[0m\u001b[0;34m(\u001b[0m\u001b[0melem\u001b[0m\u001b[0;34m,\u001b[0m \u001b[0mA1\u001b[0m\u001b[0;34m,\u001b[0m \u001b[0mnew_node\u001b[0m\u001b[0;34m,\u001b[0m \u001b[0mguide_int\u001b[0m\u001b[0;34m+\u001b[0m\u001b[0;36m1\u001b[0m\u001b[0;34m)\u001b[0m\u001b[0;34m\u001b[0m\u001b[0;34m\u001b[0m\u001b[0m\n\u001b[0m",
      "\u001b[0;32m/tmp/ipykernel_1677/2254831521.py\u001b[0m in \u001b[0;36mdecisionTree\u001b[0;34m(D, A, T, guide_int)\u001b[0m\n\u001b[1;32m     28\u001b[0m                 \u001b[0mname_counter\u001b[0m\u001b[0;34m+=\u001b[0m\u001b[0;36m1\u001b[0m\u001b[0;34m\u001b[0m\u001b[0;34m\u001b[0m\u001b[0m\n\u001b[1;32m     29\u001b[0m                 \u001b[0mT\u001b[0m\u001b[0;34m.\u001b[0m\u001b[0maddChildren\u001b[0m\u001b[0;34m(\u001b[0m\u001b[0mnew_node\u001b[0m\u001b[0;34m)\u001b[0m\u001b[0;34m\u001b[0m\u001b[0;34m\u001b[0m\u001b[0m\n\u001b[0;32m---> 30\u001b[0;31m                 \u001b[0mdecisionTree\u001b[0m\u001b[0;34m(\u001b[0m\u001b[0melem\u001b[0m\u001b[0;34m,\u001b[0m \u001b[0mA1\u001b[0m\u001b[0;34m,\u001b[0m \u001b[0mnew_node\u001b[0m\u001b[0;34m,\u001b[0m \u001b[0mguide_int\u001b[0m\u001b[0;34m+\u001b[0m\u001b[0;36m1\u001b[0m\u001b[0;34m)\u001b[0m\u001b[0;34m\u001b[0m\u001b[0;34m\u001b[0m\u001b[0m\n\u001b[0m",
      "\u001b[0;32m/tmp/ipykernel_1677/2254831521.py\u001b[0m in \u001b[0;36mdecisionTree\u001b[0;34m(D, A, T, guide_int)\u001b[0m\n\u001b[1;32m     28\u001b[0m                 \u001b[0mname_counter\u001b[0m\u001b[0;34m+=\u001b[0m\u001b[0;36m1\u001b[0m\u001b[0;34m\u001b[0m\u001b[0;34m\u001b[0m\u001b[0m\n\u001b[1;32m     29\u001b[0m                 \u001b[0mT\u001b[0m\u001b[0;34m.\u001b[0m\u001b[0maddChildren\u001b[0m\u001b[0;34m(\u001b[0m\u001b[0mnew_node\u001b[0m\u001b[0;34m)\u001b[0m\u001b[0;34m\u001b[0m\u001b[0;34m\u001b[0m\u001b[0m\n\u001b[0;32m---> 30\u001b[0;31m                 \u001b[0mdecisionTree\u001b[0m\u001b[0;34m(\u001b[0m\u001b[0melem\u001b[0m\u001b[0;34m,\u001b[0m \u001b[0mA1\u001b[0m\u001b[0;34m,\u001b[0m \u001b[0mnew_node\u001b[0m\u001b[0;34m,\u001b[0m \u001b[0mguide_int\u001b[0m\u001b[0;34m+\u001b[0m\u001b[0;36m1\u001b[0m\u001b[0;34m)\u001b[0m\u001b[0;34m\u001b[0m\u001b[0;34m\u001b[0m\u001b[0m\n\u001b[0m",
      "\u001b[0;32m/tmp/ipykernel_1677/2254831521.py\u001b[0m in \u001b[0;36mdecisionTree\u001b[0;34m(D, A, T, guide_int)\u001b[0m\n\u001b[1;32m     28\u001b[0m                 \u001b[0mname_counter\u001b[0m\u001b[0;34m+=\u001b[0m\u001b[0;36m1\u001b[0m\u001b[0;34m\u001b[0m\u001b[0;34m\u001b[0m\u001b[0m\n\u001b[1;32m     29\u001b[0m                 \u001b[0mT\u001b[0m\u001b[0;34m.\u001b[0m\u001b[0maddChildren\u001b[0m\u001b[0;34m(\u001b[0m\u001b[0mnew_node\u001b[0m\u001b[0;34m)\u001b[0m\u001b[0;34m\u001b[0m\u001b[0;34m\u001b[0m\u001b[0m\n\u001b[0;32m---> 30\u001b[0;31m                 \u001b[0mdecisionTree\u001b[0m\u001b[0;34m(\u001b[0m\u001b[0melem\u001b[0m\u001b[0;34m,\u001b[0m \u001b[0mA1\u001b[0m\u001b[0;34m,\u001b[0m \u001b[0mnew_node\u001b[0m\u001b[0;34m,\u001b[0m \u001b[0mguide_int\u001b[0m\u001b[0;34m+\u001b[0m\u001b[0;36m1\u001b[0m\u001b[0;34m)\u001b[0m\u001b[0;34m\u001b[0m\u001b[0;34m\u001b[0m\u001b[0m\n\u001b[0m",
      "\u001b[0;32m/tmp/ipykernel_1677/2254831521.py\u001b[0m in \u001b[0;36mdecisionTree\u001b[0;34m(D, A, T, guide_int)\u001b[0m\n\u001b[1;32m     28\u001b[0m                 \u001b[0mname_counter\u001b[0m\u001b[0;34m+=\u001b[0m\u001b[0;36m1\u001b[0m\u001b[0;34m\u001b[0m\u001b[0;34m\u001b[0m\u001b[0m\n\u001b[1;32m     29\u001b[0m                 \u001b[0mT\u001b[0m\u001b[0;34m.\u001b[0m\u001b[0maddChildren\u001b[0m\u001b[0;34m(\u001b[0m\u001b[0mnew_node\u001b[0m\u001b[0;34m)\u001b[0m\u001b[0;34m\u001b[0m\u001b[0;34m\u001b[0m\u001b[0m\n\u001b[0;32m---> 30\u001b[0;31m                 \u001b[0mdecisionTree\u001b[0m\u001b[0;34m(\u001b[0m\u001b[0melem\u001b[0m\u001b[0;34m,\u001b[0m \u001b[0mA1\u001b[0m\u001b[0;34m,\u001b[0m \u001b[0mnew_node\u001b[0m\u001b[0;34m,\u001b[0m \u001b[0mguide_int\u001b[0m\u001b[0;34m+\u001b[0m\u001b[0;36m1\u001b[0m\u001b[0;34m)\u001b[0m\u001b[0;34m\u001b[0m\u001b[0;34m\u001b[0m\u001b[0m\n\u001b[0m",
      "\u001b[0;32m/tmp/ipykernel_1677/2254831521.py\u001b[0m in \u001b[0;36mdecisionTree\u001b[0;34m(D, A, T, guide_int)\u001b[0m\n\u001b[1;32m     28\u001b[0m                 \u001b[0mname_counter\u001b[0m\u001b[0;34m+=\u001b[0m\u001b[0;36m1\u001b[0m\u001b[0;34m\u001b[0m\u001b[0;34m\u001b[0m\u001b[0m\n\u001b[1;32m     29\u001b[0m                 \u001b[0mT\u001b[0m\u001b[0;34m.\u001b[0m\u001b[0maddChildren\u001b[0m\u001b[0;34m(\u001b[0m\u001b[0mnew_node\u001b[0m\u001b[0;34m)\u001b[0m\u001b[0;34m\u001b[0m\u001b[0;34m\u001b[0m\u001b[0m\n\u001b[0;32m---> 30\u001b[0;31m                 \u001b[0mdecisionTree\u001b[0m\u001b[0;34m(\u001b[0m\u001b[0melem\u001b[0m\u001b[0;34m,\u001b[0m \u001b[0mA1\u001b[0m\u001b[0;34m,\u001b[0m \u001b[0mnew_node\u001b[0m\u001b[0;34m,\u001b[0m \u001b[0mguide_int\u001b[0m\u001b[0;34m+\u001b[0m\u001b[0;36m1\u001b[0m\u001b[0;34m)\u001b[0m\u001b[0;34m\u001b[0m\u001b[0;34m\u001b[0m\u001b[0m\n\u001b[0m",
      "\u001b[0;32m/tmp/ipykernel_1677/2254831521.py\u001b[0m in \u001b[0;36mdecisionTree\u001b[0;34m(D, A, T, guide_int)\u001b[0m\n\u001b[1;32m     28\u001b[0m                 \u001b[0mname_counter\u001b[0m\u001b[0;34m+=\u001b[0m\u001b[0;36m1\u001b[0m\u001b[0;34m\u001b[0m\u001b[0;34m\u001b[0m\u001b[0m\n\u001b[1;32m     29\u001b[0m                 \u001b[0mT\u001b[0m\u001b[0;34m.\u001b[0m\u001b[0maddChildren\u001b[0m\u001b[0;34m(\u001b[0m\u001b[0mnew_node\u001b[0m\u001b[0;34m)\u001b[0m\u001b[0;34m\u001b[0m\u001b[0;34m\u001b[0m\u001b[0m\n\u001b[0;32m---> 30\u001b[0;31m                 \u001b[0mdecisionTree\u001b[0m\u001b[0;34m(\u001b[0m\u001b[0melem\u001b[0m\u001b[0;34m,\u001b[0m \u001b[0mA1\u001b[0m\u001b[0;34m,\u001b[0m \u001b[0mnew_node\u001b[0m\u001b[0;34m,\u001b[0m \u001b[0mguide_int\u001b[0m\u001b[0;34m+\u001b[0m\u001b[0;36m1\u001b[0m\u001b[0;34m)\u001b[0m\u001b[0;34m\u001b[0m\u001b[0;34m\u001b[0m\u001b[0m\n\u001b[0m",
      "\u001b[0;32m/tmp/ipykernel_1677/2254831521.py\u001b[0m in \u001b[0;36mdecisionTree\u001b[0;34m(D, A, T, guide_int)\u001b[0m\n\u001b[1;32m     28\u001b[0m                 \u001b[0mname_counter\u001b[0m\u001b[0;34m+=\u001b[0m\u001b[0;36m1\u001b[0m\u001b[0;34m\u001b[0m\u001b[0;34m\u001b[0m\u001b[0m\n\u001b[1;32m     29\u001b[0m                 \u001b[0mT\u001b[0m\u001b[0;34m.\u001b[0m\u001b[0maddChildren\u001b[0m\u001b[0;34m(\u001b[0m\u001b[0mnew_node\u001b[0m\u001b[0;34m)\u001b[0m\u001b[0;34m\u001b[0m\u001b[0;34m\u001b[0m\u001b[0m\n\u001b[0;32m---> 30\u001b[0;31m                 \u001b[0mdecisionTree\u001b[0m\u001b[0;34m(\u001b[0m\u001b[0melem\u001b[0m\u001b[0;34m,\u001b[0m \u001b[0mA1\u001b[0m\u001b[0;34m,\u001b[0m \u001b[0mnew_node\u001b[0m\u001b[0;34m,\u001b[0m \u001b[0mguide_int\u001b[0m\u001b[0;34m+\u001b[0m\u001b[0;36m1\u001b[0m\u001b[0;34m)\u001b[0m\u001b[0;34m\u001b[0m\u001b[0;34m\u001b[0m\u001b[0m\n\u001b[0m",
      "\u001b[0;32m/tmp/ipykernel_1677/2254831521.py\u001b[0m in \u001b[0;36mdecisionTree\u001b[0;34m(D, A, T, guide_int)\u001b[0m\n\u001b[1;32m     28\u001b[0m                 \u001b[0mname_counter\u001b[0m\u001b[0;34m+=\u001b[0m\u001b[0;36m1\u001b[0m\u001b[0;34m\u001b[0m\u001b[0;34m\u001b[0m\u001b[0m\n\u001b[1;32m     29\u001b[0m                 \u001b[0mT\u001b[0m\u001b[0;34m.\u001b[0m\u001b[0maddChildren\u001b[0m\u001b[0;34m(\u001b[0m\u001b[0mnew_node\u001b[0m\u001b[0;34m)\u001b[0m\u001b[0;34m\u001b[0m\u001b[0;34m\u001b[0m\u001b[0m\n\u001b[0;32m---> 30\u001b[0;31m                 \u001b[0mdecisionTree\u001b[0m\u001b[0;34m(\u001b[0m\u001b[0melem\u001b[0m\u001b[0;34m,\u001b[0m \u001b[0mA1\u001b[0m\u001b[0;34m,\u001b[0m \u001b[0mnew_node\u001b[0m\u001b[0;34m,\u001b[0m \u001b[0mguide_int\u001b[0m\u001b[0;34m+\u001b[0m\u001b[0;36m1\u001b[0m\u001b[0;34m)\u001b[0m\u001b[0;34m\u001b[0m\u001b[0;34m\u001b[0m\u001b[0m\n\u001b[0m",
      "\u001b[0;32m/tmp/ipykernel_1677/2254831521.py\u001b[0m in \u001b[0;36mdecisionTree\u001b[0;34m(D, A, T, guide_int)\u001b[0m\n\u001b[1;32m     28\u001b[0m                 \u001b[0mname_counter\u001b[0m\u001b[0;34m+=\u001b[0m\u001b[0;36m1\u001b[0m\u001b[0;34m\u001b[0m\u001b[0;34m\u001b[0m\u001b[0m\n\u001b[1;32m     29\u001b[0m                 \u001b[0mT\u001b[0m\u001b[0;34m.\u001b[0m\u001b[0maddChildren\u001b[0m\u001b[0;34m(\u001b[0m\u001b[0mnew_node\u001b[0m\u001b[0;34m)\u001b[0m\u001b[0;34m\u001b[0m\u001b[0;34m\u001b[0m\u001b[0m\n\u001b[0;32m---> 30\u001b[0;31m                 \u001b[0mdecisionTree\u001b[0m\u001b[0;34m(\u001b[0m\u001b[0melem\u001b[0m\u001b[0;34m,\u001b[0m \u001b[0mA1\u001b[0m\u001b[0;34m,\u001b[0m \u001b[0mnew_node\u001b[0m\u001b[0;34m,\u001b[0m \u001b[0mguide_int\u001b[0m\u001b[0;34m+\u001b[0m\u001b[0;36m1\u001b[0m\u001b[0;34m)\u001b[0m\u001b[0;34m\u001b[0m\u001b[0;34m\u001b[0m\u001b[0m\n\u001b[0m",
      "\u001b[0;32m/tmp/ipykernel_1677/2254831521.py\u001b[0m in \u001b[0;36mdecisionTree\u001b[0;34m(D, A, T, guide_int)\u001b[0m\n\u001b[1;32m     28\u001b[0m                 \u001b[0mname_counter\u001b[0m\u001b[0;34m+=\u001b[0m\u001b[0;36m1\u001b[0m\u001b[0;34m\u001b[0m\u001b[0;34m\u001b[0m\u001b[0m\n\u001b[1;32m     29\u001b[0m                 \u001b[0mT\u001b[0m\u001b[0;34m.\u001b[0m\u001b[0maddChildren\u001b[0m\u001b[0;34m(\u001b[0m\u001b[0mnew_node\u001b[0m\u001b[0;34m)\u001b[0m\u001b[0;34m\u001b[0m\u001b[0;34m\u001b[0m\u001b[0m\n\u001b[0;32m---> 30\u001b[0;31m                 \u001b[0mdecisionTree\u001b[0m\u001b[0;34m(\u001b[0m\u001b[0melem\u001b[0m\u001b[0;34m,\u001b[0m \u001b[0mA1\u001b[0m\u001b[0;34m,\u001b[0m \u001b[0mnew_node\u001b[0m\u001b[0;34m,\u001b[0m \u001b[0mguide_int\u001b[0m\u001b[0;34m+\u001b[0m\u001b[0;36m1\u001b[0m\u001b[0;34m)\u001b[0m\u001b[0;34m\u001b[0m\u001b[0;34m\u001b[0m\u001b[0m\n\u001b[0m",
      "\u001b[0;32m/tmp/ipykernel_1677/2254831521.py\u001b[0m in \u001b[0;36mdecisionTree\u001b[0;34m(D, A, T, guide_int)\u001b[0m\n\u001b[1;32m     28\u001b[0m                 \u001b[0mname_counter\u001b[0m\u001b[0;34m+=\u001b[0m\u001b[0;36m1\u001b[0m\u001b[0;34m\u001b[0m\u001b[0;34m\u001b[0m\u001b[0m\n\u001b[1;32m     29\u001b[0m                 \u001b[0mT\u001b[0m\u001b[0;34m.\u001b[0m\u001b[0maddChildren\u001b[0m\u001b[0;34m(\u001b[0m\u001b[0mnew_node\u001b[0m\u001b[0;34m)\u001b[0m\u001b[0;34m\u001b[0m\u001b[0;34m\u001b[0m\u001b[0m\n\u001b[0;32m---> 30\u001b[0;31m                 \u001b[0mdecisionTree\u001b[0m\u001b[0;34m(\u001b[0m\u001b[0melem\u001b[0m\u001b[0;34m,\u001b[0m \u001b[0mA1\u001b[0m\u001b[0;34m,\u001b[0m \u001b[0mnew_node\u001b[0m\u001b[0;34m,\u001b[0m \u001b[0mguide_int\u001b[0m\u001b[0;34m+\u001b[0m\u001b[0;36m1\u001b[0m\u001b[0;34m)\u001b[0m\u001b[0;34m\u001b[0m\u001b[0;34m\u001b[0m\u001b[0m\n\u001b[0m",
      "\u001b[0;32m/tmp/ipykernel_1677/2254831521.py\u001b[0m in \u001b[0;36mdecisionTree\u001b[0;34m(D, A, T, guide_int)\u001b[0m\n\u001b[1;32m     28\u001b[0m                 \u001b[0mname_counter\u001b[0m\u001b[0;34m+=\u001b[0m\u001b[0;36m1\u001b[0m\u001b[0;34m\u001b[0m\u001b[0;34m\u001b[0m\u001b[0m\n\u001b[1;32m     29\u001b[0m                 \u001b[0mT\u001b[0m\u001b[0;34m.\u001b[0m\u001b[0maddChildren\u001b[0m\u001b[0;34m(\u001b[0m\u001b[0mnew_node\u001b[0m\u001b[0;34m)\u001b[0m\u001b[0;34m\u001b[0m\u001b[0;34m\u001b[0m\u001b[0m\n\u001b[0;32m---> 30\u001b[0;31m                 \u001b[0mdecisionTree\u001b[0m\u001b[0;34m(\u001b[0m\u001b[0melem\u001b[0m\u001b[0;34m,\u001b[0m \u001b[0mA1\u001b[0m\u001b[0;34m,\u001b[0m \u001b[0mnew_node\u001b[0m\u001b[0;34m,\u001b[0m \u001b[0mguide_int\u001b[0m\u001b[0;34m+\u001b[0m\u001b[0;36m1\u001b[0m\u001b[0;34m)\u001b[0m\u001b[0;34m\u001b[0m\u001b[0;34m\u001b[0m\u001b[0m\n\u001b[0m",
      "\u001b[0;32m/tmp/ipykernel_1677/2254831521.py\u001b[0m in \u001b[0;36mdecisionTree\u001b[0;34m(D, A, T, guide_int)\u001b[0m\n\u001b[1;32m     28\u001b[0m                 \u001b[0mname_counter\u001b[0m\u001b[0;34m+=\u001b[0m\u001b[0;36m1\u001b[0m\u001b[0;34m\u001b[0m\u001b[0;34m\u001b[0m\u001b[0m\n\u001b[1;32m     29\u001b[0m                 \u001b[0mT\u001b[0m\u001b[0;34m.\u001b[0m\u001b[0maddChildren\u001b[0m\u001b[0;34m(\u001b[0m\u001b[0mnew_node\u001b[0m\u001b[0;34m)\u001b[0m\u001b[0;34m\u001b[0m\u001b[0;34m\u001b[0m\u001b[0m\n\u001b[0;32m---> 30\u001b[0;31m                 \u001b[0mdecisionTree\u001b[0m\u001b[0;34m(\u001b[0m\u001b[0melem\u001b[0m\u001b[0;34m,\u001b[0m \u001b[0mA1\u001b[0m\u001b[0;34m,\u001b[0m \u001b[0mnew_node\u001b[0m\u001b[0;34m,\u001b[0m \u001b[0mguide_int\u001b[0m\u001b[0;34m+\u001b[0m\u001b[0;36m1\u001b[0m\u001b[0;34m)\u001b[0m\u001b[0;34m\u001b[0m\u001b[0;34m\u001b[0m\u001b[0m\n\u001b[0m",
      "\u001b[0;32m/tmp/ipykernel_1677/2254831521.py\u001b[0m in \u001b[0;36mdecisionTree\u001b[0;34m(D, A, T, guide_int)\u001b[0m\n\u001b[1;32m     28\u001b[0m                 \u001b[0mname_counter\u001b[0m\u001b[0;34m+=\u001b[0m\u001b[0;36m1\u001b[0m\u001b[0;34m\u001b[0m\u001b[0;34m\u001b[0m\u001b[0m\n\u001b[1;32m     29\u001b[0m                 \u001b[0mT\u001b[0m\u001b[0;34m.\u001b[0m\u001b[0maddChildren\u001b[0m\u001b[0;34m(\u001b[0m\u001b[0mnew_node\u001b[0m\u001b[0;34m)\u001b[0m\u001b[0;34m\u001b[0m\u001b[0;34m\u001b[0m\u001b[0m\n\u001b[0;32m---> 30\u001b[0;31m                 \u001b[0mdecisionTree\u001b[0m\u001b[0;34m(\u001b[0m\u001b[0melem\u001b[0m\u001b[0;34m,\u001b[0m \u001b[0mA1\u001b[0m\u001b[0;34m,\u001b[0m \u001b[0mnew_node\u001b[0m\u001b[0;34m,\u001b[0m \u001b[0mguide_int\u001b[0m\u001b[0;34m+\u001b[0m\u001b[0;36m1\u001b[0m\u001b[0;34m)\u001b[0m\u001b[0;34m\u001b[0m\u001b[0;34m\u001b[0m\u001b[0m\n\u001b[0m",
      "\u001b[0;32m/tmp/ipykernel_1677/2254831521.py\u001b[0m in \u001b[0;36mdecisionTree\u001b[0;34m(D, A, T, guide_int)\u001b[0m\n\u001b[1;32m     28\u001b[0m                 \u001b[0mname_counter\u001b[0m\u001b[0;34m+=\u001b[0m\u001b[0;36m1\u001b[0m\u001b[0;34m\u001b[0m\u001b[0;34m\u001b[0m\u001b[0m\n\u001b[1;32m     29\u001b[0m                 \u001b[0mT\u001b[0m\u001b[0;34m.\u001b[0m\u001b[0maddChildren\u001b[0m\u001b[0;34m(\u001b[0m\u001b[0mnew_node\u001b[0m\u001b[0;34m)\u001b[0m\u001b[0;34m\u001b[0m\u001b[0;34m\u001b[0m\u001b[0m\n\u001b[0;32m---> 30\u001b[0;31m                 \u001b[0mdecisionTree\u001b[0m\u001b[0;34m(\u001b[0m\u001b[0melem\u001b[0m\u001b[0;34m,\u001b[0m \u001b[0mA1\u001b[0m\u001b[0;34m,\u001b[0m \u001b[0mnew_node\u001b[0m\u001b[0;34m,\u001b[0m \u001b[0mguide_int\u001b[0m\u001b[0;34m+\u001b[0m\u001b[0;36m1\u001b[0m\u001b[0;34m)\u001b[0m\u001b[0;34m\u001b[0m\u001b[0;34m\u001b[0m\u001b[0m\n\u001b[0m",
      "\u001b[0;32m/tmp/ipykernel_1677/2254831521.py\u001b[0m in \u001b[0;36mdecisionTree\u001b[0;34m(D, A, T, guide_int)\u001b[0m\n\u001b[1;32m     28\u001b[0m                 \u001b[0mname_counter\u001b[0m\u001b[0;34m+=\u001b[0m\u001b[0;36m1\u001b[0m\u001b[0;34m\u001b[0m\u001b[0;34m\u001b[0m\u001b[0m\n\u001b[1;32m     29\u001b[0m                 \u001b[0mT\u001b[0m\u001b[0;34m.\u001b[0m\u001b[0maddChildren\u001b[0m\u001b[0;34m(\u001b[0m\u001b[0mnew_node\u001b[0m\u001b[0;34m)\u001b[0m\u001b[0;34m\u001b[0m\u001b[0;34m\u001b[0m\u001b[0m\n\u001b[0;32m---> 30\u001b[0;31m                 \u001b[0mdecisionTree\u001b[0m\u001b[0;34m(\u001b[0m\u001b[0melem\u001b[0m\u001b[0;34m,\u001b[0m \u001b[0mA1\u001b[0m\u001b[0;34m,\u001b[0m \u001b[0mnew_node\u001b[0m\u001b[0;34m,\u001b[0m \u001b[0mguide_int\u001b[0m\u001b[0;34m+\u001b[0m\u001b[0;36m1\u001b[0m\u001b[0;34m)\u001b[0m\u001b[0;34m\u001b[0m\u001b[0;34m\u001b[0m\u001b[0m\n\u001b[0m",
      "\u001b[0;32m/tmp/ipykernel_1677/2254831521.py\u001b[0m in \u001b[0;36mdecisionTree\u001b[0;34m(D, A, T, guide_int)\u001b[0m\n\u001b[1;32m     28\u001b[0m                 \u001b[0mname_counter\u001b[0m\u001b[0;34m+=\u001b[0m\u001b[0;36m1\u001b[0m\u001b[0;34m\u001b[0m\u001b[0;34m\u001b[0m\u001b[0m\n\u001b[1;32m     29\u001b[0m                 \u001b[0mT\u001b[0m\u001b[0;34m.\u001b[0m\u001b[0maddChildren\u001b[0m\u001b[0;34m(\u001b[0m\u001b[0mnew_node\u001b[0m\u001b[0;34m)\u001b[0m\u001b[0;34m\u001b[0m\u001b[0;34m\u001b[0m\u001b[0m\n\u001b[0;32m---> 30\u001b[0;31m                 \u001b[0mdecisionTree\u001b[0m\u001b[0;34m(\u001b[0m\u001b[0melem\u001b[0m\u001b[0;34m,\u001b[0m \u001b[0mA1\u001b[0m\u001b[0;34m,\u001b[0m \u001b[0mnew_node\u001b[0m\u001b[0;34m,\u001b[0m \u001b[0mguide_int\u001b[0m\u001b[0;34m+\u001b[0m\u001b[0;36m1\u001b[0m\u001b[0;34m)\u001b[0m\u001b[0;34m\u001b[0m\u001b[0;34m\u001b[0m\u001b[0m\n\u001b[0m",
      "\u001b[0;32m/tmp/ipykernel_1677/2254831521.py\u001b[0m in \u001b[0;36mdecisionTree\u001b[0;34m(D, A, T, guide_int)\u001b[0m\n\u001b[1;32m     28\u001b[0m                 \u001b[0mname_counter\u001b[0m\u001b[0;34m+=\u001b[0m\u001b[0;36m1\u001b[0m\u001b[0;34m\u001b[0m\u001b[0;34m\u001b[0m\u001b[0m\n\u001b[1;32m     29\u001b[0m                 \u001b[0mT\u001b[0m\u001b[0;34m.\u001b[0m\u001b[0maddChildren\u001b[0m\u001b[0;34m(\u001b[0m\u001b[0mnew_node\u001b[0m\u001b[0;34m)\u001b[0m\u001b[0;34m\u001b[0m\u001b[0;34m\u001b[0m\u001b[0m\n\u001b[0;32m---> 30\u001b[0;31m                 \u001b[0mdecisionTree\u001b[0m\u001b[0;34m(\u001b[0m\u001b[0melem\u001b[0m\u001b[0;34m,\u001b[0m \u001b[0mA1\u001b[0m\u001b[0;34m,\u001b[0m \u001b[0mnew_node\u001b[0m\u001b[0;34m,\u001b[0m \u001b[0mguide_int\u001b[0m\u001b[0;34m+\u001b[0m\u001b[0;36m1\u001b[0m\u001b[0;34m)\u001b[0m\u001b[0;34m\u001b[0m\u001b[0;34m\u001b[0m\u001b[0m\n\u001b[0m",
      "\u001b[0;32m/tmp/ipykernel_1677/2254831521.py\u001b[0m in \u001b[0;36mdecisionTree\u001b[0;34m(D, A, T, guide_int)\u001b[0m\n\u001b[1;32m     28\u001b[0m                 \u001b[0mname_counter\u001b[0m\u001b[0;34m+=\u001b[0m\u001b[0;36m1\u001b[0m\u001b[0;34m\u001b[0m\u001b[0;34m\u001b[0m\u001b[0m\n\u001b[1;32m     29\u001b[0m                 \u001b[0mT\u001b[0m\u001b[0;34m.\u001b[0m\u001b[0maddChildren\u001b[0m\u001b[0;34m(\u001b[0m\u001b[0mnew_node\u001b[0m\u001b[0;34m)\u001b[0m\u001b[0;34m\u001b[0m\u001b[0;34m\u001b[0m\u001b[0m\n\u001b[0;32m---> 30\u001b[0;31m                 \u001b[0mdecisionTree\u001b[0m\u001b[0;34m(\u001b[0m\u001b[0melem\u001b[0m\u001b[0;34m,\u001b[0m \u001b[0mA1\u001b[0m\u001b[0;34m,\u001b[0m \u001b[0mnew_node\u001b[0m\u001b[0;34m,\u001b[0m \u001b[0mguide_int\u001b[0m\u001b[0;34m+\u001b[0m\u001b[0;36m1\u001b[0m\u001b[0;34m)\u001b[0m\u001b[0;34m\u001b[0m\u001b[0;34m\u001b[0m\u001b[0m\n\u001b[0m",
      "\u001b[0;32m/tmp/ipykernel_1677/2254831521.py\u001b[0m in \u001b[0;36mdecisionTree\u001b[0;34m(D, A, T, guide_int)\u001b[0m\n\u001b[1;32m     28\u001b[0m                 \u001b[0mname_counter\u001b[0m\u001b[0;34m+=\u001b[0m\u001b[0;36m1\u001b[0m\u001b[0;34m\u001b[0m\u001b[0;34m\u001b[0m\u001b[0m\n\u001b[1;32m     29\u001b[0m                 \u001b[0mT\u001b[0m\u001b[0;34m.\u001b[0m\u001b[0maddChildren\u001b[0m\u001b[0;34m(\u001b[0m\u001b[0mnew_node\u001b[0m\u001b[0;34m)\u001b[0m\u001b[0;34m\u001b[0m\u001b[0;34m\u001b[0m\u001b[0m\n\u001b[0;32m---> 30\u001b[0;31m                 \u001b[0mdecisionTree\u001b[0m\u001b[0;34m(\u001b[0m\u001b[0melem\u001b[0m\u001b[0;34m,\u001b[0m \u001b[0mA1\u001b[0m\u001b[0;34m,\u001b[0m \u001b[0mnew_node\u001b[0m\u001b[0;34m,\u001b[0m \u001b[0mguide_int\u001b[0m\u001b[0;34m+\u001b[0m\u001b[0;36m1\u001b[0m\u001b[0;34m)\u001b[0m\u001b[0;34m\u001b[0m\u001b[0;34m\u001b[0m\u001b[0m\n\u001b[0m",
      "\u001b[0;32m/tmp/ipykernel_1677/2254831521.py\u001b[0m in \u001b[0;36mdecisionTree\u001b[0;34m(D, A, T, guide_int)\u001b[0m\n\u001b[1;32m     28\u001b[0m                 \u001b[0mname_counter\u001b[0m\u001b[0;34m+=\u001b[0m\u001b[0;36m1\u001b[0m\u001b[0;34m\u001b[0m\u001b[0;34m\u001b[0m\u001b[0m\n\u001b[1;32m     29\u001b[0m                 \u001b[0mT\u001b[0m\u001b[0;34m.\u001b[0m\u001b[0maddChildren\u001b[0m\u001b[0;34m(\u001b[0m\u001b[0mnew_node\u001b[0m\u001b[0;34m)\u001b[0m\u001b[0;34m\u001b[0m\u001b[0;34m\u001b[0m\u001b[0m\n\u001b[0;32m---> 30\u001b[0;31m                 \u001b[0mdecisionTree\u001b[0m\u001b[0;34m(\u001b[0m\u001b[0melem\u001b[0m\u001b[0;34m,\u001b[0m \u001b[0mA1\u001b[0m\u001b[0;34m,\u001b[0m \u001b[0mnew_node\u001b[0m\u001b[0;34m,\u001b[0m \u001b[0mguide_int\u001b[0m\u001b[0;34m+\u001b[0m\u001b[0;36m1\u001b[0m\u001b[0;34m)\u001b[0m\u001b[0;34m\u001b[0m\u001b[0;34m\u001b[0m\u001b[0m\n\u001b[0m",
      "\u001b[0;32m/tmp/ipykernel_1677/2254831521.py\u001b[0m in \u001b[0;36mdecisionTree\u001b[0;34m(D, A, T, guide_int)\u001b[0m\n\u001b[1;32m     28\u001b[0m                 \u001b[0mname_counter\u001b[0m\u001b[0;34m+=\u001b[0m\u001b[0;36m1\u001b[0m\u001b[0;34m\u001b[0m\u001b[0;34m\u001b[0m\u001b[0m\n\u001b[1;32m     29\u001b[0m                 \u001b[0mT\u001b[0m\u001b[0;34m.\u001b[0m\u001b[0maddChildren\u001b[0m\u001b[0;34m(\u001b[0m\u001b[0mnew_node\u001b[0m\u001b[0;34m)\u001b[0m\u001b[0;34m\u001b[0m\u001b[0;34m\u001b[0m\u001b[0m\n\u001b[0;32m---> 30\u001b[0;31m                 \u001b[0mdecisionTree\u001b[0m\u001b[0;34m(\u001b[0m\u001b[0melem\u001b[0m\u001b[0;34m,\u001b[0m \u001b[0mA1\u001b[0m\u001b[0;34m,\u001b[0m \u001b[0mnew_node\u001b[0m\u001b[0;34m,\u001b[0m \u001b[0mguide_int\u001b[0m\u001b[0;34m+\u001b[0m\u001b[0;36m1\u001b[0m\u001b[0;34m)\u001b[0m\u001b[0;34m\u001b[0m\u001b[0;34m\u001b[0m\u001b[0m\n\u001b[0m",
      "\u001b[0;32m/tmp/ipykernel_1677/2254831521.py\u001b[0m in \u001b[0;36mdecisionTree\u001b[0;34m(D, A, T, guide_int)\u001b[0m\n\u001b[1;32m     28\u001b[0m                 \u001b[0mname_counter\u001b[0m\u001b[0;34m+=\u001b[0m\u001b[0;36m1\u001b[0m\u001b[0;34m\u001b[0m\u001b[0;34m\u001b[0m\u001b[0m\n\u001b[1;32m     29\u001b[0m                 \u001b[0mT\u001b[0m\u001b[0;34m.\u001b[0m\u001b[0maddChildren\u001b[0m\u001b[0;34m(\u001b[0m\u001b[0mnew_node\u001b[0m\u001b[0;34m)\u001b[0m\u001b[0;34m\u001b[0m\u001b[0;34m\u001b[0m\u001b[0m\n\u001b[0;32m---> 30\u001b[0;31m                 \u001b[0mdecisionTree\u001b[0m\u001b[0;34m(\u001b[0m\u001b[0melem\u001b[0m\u001b[0;34m,\u001b[0m \u001b[0mA1\u001b[0m\u001b[0;34m,\u001b[0m \u001b[0mnew_node\u001b[0m\u001b[0;34m,\u001b[0m \u001b[0mguide_int\u001b[0m\u001b[0;34m+\u001b[0m\u001b[0;36m1\u001b[0m\u001b[0;34m)\u001b[0m\u001b[0;34m\u001b[0m\u001b[0;34m\u001b[0m\u001b[0m\n\u001b[0m",
      "\u001b[0;32m/tmp/ipykernel_1677/2254831521.py\u001b[0m in \u001b[0;36mdecisionTree\u001b[0;34m(D, A, T, guide_int)\u001b[0m\n\u001b[1;32m     28\u001b[0m                 \u001b[0mname_counter\u001b[0m\u001b[0;34m+=\u001b[0m\u001b[0;36m1\u001b[0m\u001b[0;34m\u001b[0m\u001b[0;34m\u001b[0m\u001b[0m\n\u001b[1;32m     29\u001b[0m                 \u001b[0mT\u001b[0m\u001b[0;34m.\u001b[0m\u001b[0maddChildren\u001b[0m\u001b[0;34m(\u001b[0m\u001b[0mnew_node\u001b[0m\u001b[0;34m)\u001b[0m\u001b[0;34m\u001b[0m\u001b[0;34m\u001b[0m\u001b[0m\n\u001b[0;32m---> 30\u001b[0;31m                 \u001b[0mdecisionTree\u001b[0m\u001b[0;34m(\u001b[0m\u001b[0melem\u001b[0m\u001b[0;34m,\u001b[0m \u001b[0mA1\u001b[0m\u001b[0;34m,\u001b[0m \u001b[0mnew_node\u001b[0m\u001b[0;34m,\u001b[0m \u001b[0mguide_int\u001b[0m\u001b[0;34m+\u001b[0m\u001b[0;36m1\u001b[0m\u001b[0;34m)\u001b[0m\u001b[0;34m\u001b[0m\u001b[0;34m\u001b[0m\u001b[0m\n\u001b[0m",
      "\u001b[0;32m/tmp/ipykernel_1677/2254831521.py\u001b[0m in \u001b[0;36mdecisionTree\u001b[0;34m(D, A, T, guide_int)\u001b[0m\n\u001b[1;32m     28\u001b[0m                 \u001b[0mname_counter\u001b[0m\u001b[0;34m+=\u001b[0m\u001b[0;36m1\u001b[0m\u001b[0;34m\u001b[0m\u001b[0;34m\u001b[0m\u001b[0m\n\u001b[1;32m     29\u001b[0m                 \u001b[0mT\u001b[0m\u001b[0;34m.\u001b[0m\u001b[0maddChildren\u001b[0m\u001b[0;34m(\u001b[0m\u001b[0mnew_node\u001b[0m\u001b[0;34m)\u001b[0m\u001b[0;34m\u001b[0m\u001b[0;34m\u001b[0m\u001b[0m\n\u001b[0;32m---> 30\u001b[0;31m                 \u001b[0mdecisionTree\u001b[0m\u001b[0;34m(\u001b[0m\u001b[0melem\u001b[0m\u001b[0;34m,\u001b[0m \u001b[0mA1\u001b[0m\u001b[0;34m,\u001b[0m \u001b[0mnew_node\u001b[0m\u001b[0;34m,\u001b[0m \u001b[0mguide_int\u001b[0m\u001b[0;34m+\u001b[0m\u001b[0;36m1\u001b[0m\u001b[0;34m)\u001b[0m\u001b[0;34m\u001b[0m\u001b[0;34m\u001b[0m\u001b[0m\n\u001b[0m",
      "\u001b[0;32m/tmp/ipykernel_1677/2254831521.py\u001b[0m in \u001b[0;36mdecisionTree\u001b[0;34m(D, A, T, guide_int)\u001b[0m\n\u001b[1;32m     28\u001b[0m                 \u001b[0mname_counter\u001b[0m\u001b[0;34m+=\u001b[0m\u001b[0;36m1\u001b[0m\u001b[0;34m\u001b[0m\u001b[0;34m\u001b[0m\u001b[0m\n\u001b[1;32m     29\u001b[0m                 \u001b[0mT\u001b[0m\u001b[0;34m.\u001b[0m\u001b[0maddChildren\u001b[0m\u001b[0;34m(\u001b[0m\u001b[0mnew_node\u001b[0m\u001b[0;34m)\u001b[0m\u001b[0;34m\u001b[0m\u001b[0;34m\u001b[0m\u001b[0m\n\u001b[0;32m---> 30\u001b[0;31m                 \u001b[0mdecisionTree\u001b[0m\u001b[0;34m(\u001b[0m\u001b[0melem\u001b[0m\u001b[0;34m,\u001b[0m \u001b[0mA1\u001b[0m\u001b[0;34m,\u001b[0m \u001b[0mnew_node\u001b[0m\u001b[0;34m,\u001b[0m \u001b[0mguide_int\u001b[0m\u001b[0;34m+\u001b[0m\u001b[0;36m1\u001b[0m\u001b[0;34m)\u001b[0m\u001b[0;34m\u001b[0m\u001b[0;34m\u001b[0m\u001b[0m\n\u001b[0m",
      "\u001b[0;32m/tmp/ipykernel_1677/2254831521.py\u001b[0m in \u001b[0;36mdecisionTree\u001b[0;34m(D, A, T, guide_int)\u001b[0m\n\u001b[1;32m     28\u001b[0m                 \u001b[0mname_counter\u001b[0m\u001b[0;34m+=\u001b[0m\u001b[0;36m1\u001b[0m\u001b[0;34m\u001b[0m\u001b[0;34m\u001b[0m\u001b[0m\n\u001b[1;32m     29\u001b[0m                 \u001b[0mT\u001b[0m\u001b[0;34m.\u001b[0m\u001b[0maddChildren\u001b[0m\u001b[0;34m(\u001b[0m\u001b[0mnew_node\u001b[0m\u001b[0;34m)\u001b[0m\u001b[0;34m\u001b[0m\u001b[0;34m\u001b[0m\u001b[0m\n\u001b[0;32m---> 30\u001b[0;31m                 \u001b[0mdecisionTree\u001b[0m\u001b[0;34m(\u001b[0m\u001b[0melem\u001b[0m\u001b[0;34m,\u001b[0m \u001b[0mA1\u001b[0m\u001b[0;34m,\u001b[0m \u001b[0mnew_node\u001b[0m\u001b[0;34m,\u001b[0m \u001b[0mguide_int\u001b[0m\u001b[0;34m+\u001b[0m\u001b[0;36m1\u001b[0m\u001b[0;34m)\u001b[0m\u001b[0;34m\u001b[0m\u001b[0;34m\u001b[0m\u001b[0m\n\u001b[0m",
      "\u001b[0;32m/tmp/ipykernel_1677/2254831521.py\u001b[0m in \u001b[0;36mdecisionTree\u001b[0;34m(D, A, T, guide_int)\u001b[0m\n\u001b[1;32m     28\u001b[0m                 \u001b[0mname_counter\u001b[0m\u001b[0;34m+=\u001b[0m\u001b[0;36m1\u001b[0m\u001b[0;34m\u001b[0m\u001b[0;34m\u001b[0m\u001b[0m\n\u001b[1;32m     29\u001b[0m                 \u001b[0mT\u001b[0m\u001b[0;34m.\u001b[0m\u001b[0maddChildren\u001b[0m\u001b[0;34m(\u001b[0m\u001b[0mnew_node\u001b[0m\u001b[0;34m)\u001b[0m\u001b[0;34m\u001b[0m\u001b[0;34m\u001b[0m\u001b[0m\n\u001b[0;32m---> 30\u001b[0;31m                 \u001b[0mdecisionTree\u001b[0m\u001b[0;34m(\u001b[0m\u001b[0melem\u001b[0m\u001b[0;34m,\u001b[0m \u001b[0mA1\u001b[0m\u001b[0;34m,\u001b[0m \u001b[0mnew_node\u001b[0m\u001b[0;34m,\u001b[0m \u001b[0mguide_int\u001b[0m\u001b[0;34m+\u001b[0m\u001b[0;36m1\u001b[0m\u001b[0;34m)\u001b[0m\u001b[0;34m\u001b[0m\u001b[0;34m\u001b[0m\u001b[0m\n\u001b[0m",
      "\u001b[0;32m/tmp/ipykernel_1677/2254831521.py\u001b[0m in \u001b[0;36mdecisionTree\u001b[0;34m(D, A, T, guide_int)\u001b[0m\n\u001b[1;32m     28\u001b[0m                 \u001b[0mname_counter\u001b[0m\u001b[0;34m+=\u001b[0m\u001b[0;36m1\u001b[0m\u001b[0;34m\u001b[0m\u001b[0;34m\u001b[0m\u001b[0m\n\u001b[1;32m     29\u001b[0m                 \u001b[0mT\u001b[0m\u001b[0;34m.\u001b[0m\u001b[0maddChildren\u001b[0m\u001b[0;34m(\u001b[0m\u001b[0mnew_node\u001b[0m\u001b[0;34m)\u001b[0m\u001b[0;34m\u001b[0m\u001b[0;34m\u001b[0m\u001b[0m\n\u001b[0;32m---> 30\u001b[0;31m                 \u001b[0mdecisionTree\u001b[0m\u001b[0;34m(\u001b[0m\u001b[0melem\u001b[0m\u001b[0;34m,\u001b[0m \u001b[0mA1\u001b[0m\u001b[0;34m,\u001b[0m \u001b[0mnew_node\u001b[0m\u001b[0;34m,\u001b[0m \u001b[0mguide_int\u001b[0m\u001b[0;34m+\u001b[0m\u001b[0;36m1\u001b[0m\u001b[0;34m)\u001b[0m\u001b[0;34m\u001b[0m\u001b[0;34m\u001b[0m\u001b[0m\n\u001b[0m",
      "\u001b[0;32m/tmp/ipykernel_1677/2254831521.py\u001b[0m in \u001b[0;36mdecisionTree\u001b[0;34m(D, A, T, guide_int)\u001b[0m\n\u001b[1;32m     28\u001b[0m                 \u001b[0mname_counter\u001b[0m\u001b[0;34m+=\u001b[0m\u001b[0;36m1\u001b[0m\u001b[0;34m\u001b[0m\u001b[0;34m\u001b[0m\u001b[0m\n\u001b[1;32m     29\u001b[0m                 \u001b[0mT\u001b[0m\u001b[0;34m.\u001b[0m\u001b[0maddChildren\u001b[0m\u001b[0;34m(\u001b[0m\u001b[0mnew_node\u001b[0m\u001b[0;34m)\u001b[0m\u001b[0;34m\u001b[0m\u001b[0;34m\u001b[0m\u001b[0m\n\u001b[0;32m---> 30\u001b[0;31m                 \u001b[0mdecisionTree\u001b[0m\u001b[0;34m(\u001b[0m\u001b[0melem\u001b[0m\u001b[0;34m,\u001b[0m \u001b[0mA1\u001b[0m\u001b[0;34m,\u001b[0m \u001b[0mnew_node\u001b[0m\u001b[0;34m,\u001b[0m \u001b[0mguide_int\u001b[0m\u001b[0;34m+\u001b[0m\u001b[0;36m1\u001b[0m\u001b[0;34m)\u001b[0m\u001b[0;34m\u001b[0m\u001b[0;34m\u001b[0m\u001b[0m\n\u001b[0m",
      "\u001b[0;32m/tmp/ipykernel_1677/2254831521.py\u001b[0m in \u001b[0;36mdecisionTree\u001b[0;34m(D, A, T, guide_int)\u001b[0m\n\u001b[1;32m     28\u001b[0m                 \u001b[0mname_counter\u001b[0m\u001b[0;34m+=\u001b[0m\u001b[0;36m1\u001b[0m\u001b[0;34m\u001b[0m\u001b[0;34m\u001b[0m\u001b[0m\n\u001b[1;32m     29\u001b[0m                 \u001b[0mT\u001b[0m\u001b[0;34m.\u001b[0m\u001b[0maddChildren\u001b[0m\u001b[0;34m(\u001b[0m\u001b[0mnew_node\u001b[0m\u001b[0;34m)\u001b[0m\u001b[0;34m\u001b[0m\u001b[0;34m\u001b[0m\u001b[0m\n\u001b[0;32m---> 30\u001b[0;31m                 \u001b[0mdecisionTree\u001b[0m\u001b[0;34m(\u001b[0m\u001b[0melem\u001b[0m\u001b[0;34m,\u001b[0m \u001b[0mA1\u001b[0m\u001b[0;34m,\u001b[0m \u001b[0mnew_node\u001b[0m\u001b[0;34m,\u001b[0m \u001b[0mguide_int\u001b[0m\u001b[0;34m+\u001b[0m\u001b[0;36m1\u001b[0m\u001b[0;34m)\u001b[0m\u001b[0;34m\u001b[0m\u001b[0;34m\u001b[0m\u001b[0m\n\u001b[0m",
      "\u001b[0;32m/tmp/ipykernel_1677/2254831521.py\u001b[0m in \u001b[0;36mdecisionTree\u001b[0;34m(D, A, T, guide_int)\u001b[0m\n\u001b[1;32m     28\u001b[0m                 \u001b[0mname_counter\u001b[0m\u001b[0;34m+=\u001b[0m\u001b[0;36m1\u001b[0m\u001b[0;34m\u001b[0m\u001b[0;34m\u001b[0m\u001b[0m\n\u001b[1;32m     29\u001b[0m                 \u001b[0mT\u001b[0m\u001b[0;34m.\u001b[0m\u001b[0maddChildren\u001b[0m\u001b[0;34m(\u001b[0m\u001b[0mnew_node\u001b[0m\u001b[0;34m)\u001b[0m\u001b[0;34m\u001b[0m\u001b[0;34m\u001b[0m\u001b[0m\n\u001b[0;32m---> 30\u001b[0;31m                 \u001b[0mdecisionTree\u001b[0m\u001b[0;34m(\u001b[0m\u001b[0melem\u001b[0m\u001b[0;34m,\u001b[0m \u001b[0mA1\u001b[0m\u001b[0;34m,\u001b[0m \u001b[0mnew_node\u001b[0m\u001b[0;34m,\u001b[0m \u001b[0mguide_int\u001b[0m\u001b[0;34m+\u001b[0m\u001b[0;36m1\u001b[0m\u001b[0;34m)\u001b[0m\u001b[0;34m\u001b[0m\u001b[0;34m\u001b[0m\u001b[0m\n\u001b[0m",
      "\u001b[0;32m/tmp/ipykernel_1677/2254831521.py\u001b[0m in \u001b[0;36mdecisionTree\u001b[0;34m(D, A, T, guide_int)\u001b[0m\n\u001b[1;32m     28\u001b[0m                 \u001b[0mname_counter\u001b[0m\u001b[0;34m+=\u001b[0m\u001b[0;36m1\u001b[0m\u001b[0;34m\u001b[0m\u001b[0;34m\u001b[0m\u001b[0m\n\u001b[1;32m     29\u001b[0m                 \u001b[0mT\u001b[0m\u001b[0;34m.\u001b[0m\u001b[0maddChildren\u001b[0m\u001b[0;34m(\u001b[0m\u001b[0mnew_node\u001b[0m\u001b[0;34m)\u001b[0m\u001b[0;34m\u001b[0m\u001b[0;34m\u001b[0m\u001b[0m\n\u001b[0;32m---> 30\u001b[0;31m                 \u001b[0mdecisionTree\u001b[0m\u001b[0;34m(\u001b[0m\u001b[0melem\u001b[0m\u001b[0;34m,\u001b[0m \u001b[0mA1\u001b[0m\u001b[0;34m,\u001b[0m \u001b[0mnew_node\u001b[0m\u001b[0;34m,\u001b[0m \u001b[0mguide_int\u001b[0m\u001b[0;34m+\u001b[0m\u001b[0;36m1\u001b[0m\u001b[0;34m)\u001b[0m\u001b[0;34m\u001b[0m\u001b[0;34m\u001b[0m\u001b[0m\n\u001b[0m",
      "\u001b[0;32m/tmp/ipykernel_1677/2254831521.py\u001b[0m in \u001b[0;36mdecisionTree\u001b[0;34m(D, A, T, guide_int)\u001b[0m\n\u001b[1;32m     28\u001b[0m                 \u001b[0mname_counter\u001b[0m\u001b[0;34m+=\u001b[0m\u001b[0;36m1\u001b[0m\u001b[0;34m\u001b[0m\u001b[0;34m\u001b[0m\u001b[0m\n\u001b[1;32m     29\u001b[0m                 \u001b[0mT\u001b[0m\u001b[0;34m.\u001b[0m\u001b[0maddChildren\u001b[0m\u001b[0;34m(\u001b[0m\u001b[0mnew_node\u001b[0m\u001b[0;34m)\u001b[0m\u001b[0;34m\u001b[0m\u001b[0;34m\u001b[0m\u001b[0m\n\u001b[0;32m---> 30\u001b[0;31m                 \u001b[0mdecisionTree\u001b[0m\u001b[0;34m(\u001b[0m\u001b[0melem\u001b[0m\u001b[0;34m,\u001b[0m \u001b[0mA1\u001b[0m\u001b[0;34m,\u001b[0m \u001b[0mnew_node\u001b[0m\u001b[0;34m,\u001b[0m \u001b[0mguide_int\u001b[0m\u001b[0;34m+\u001b[0m\u001b[0;36m1\u001b[0m\u001b[0;34m)\u001b[0m\u001b[0;34m\u001b[0m\u001b[0;34m\u001b[0m\u001b[0m\n\u001b[0m",
      "\u001b[0;32m/tmp/ipykernel_1677/2254831521.py\u001b[0m in \u001b[0;36mdecisionTree\u001b[0;34m(D, A, T, guide_int)\u001b[0m\n\u001b[1;32m     28\u001b[0m                 \u001b[0mname_counter\u001b[0m\u001b[0;34m+=\u001b[0m\u001b[0;36m1\u001b[0m\u001b[0;34m\u001b[0m\u001b[0;34m\u001b[0m\u001b[0m\n\u001b[1;32m     29\u001b[0m                 \u001b[0mT\u001b[0m\u001b[0;34m.\u001b[0m\u001b[0maddChildren\u001b[0m\u001b[0;34m(\u001b[0m\u001b[0mnew_node\u001b[0m\u001b[0;34m)\u001b[0m\u001b[0;34m\u001b[0m\u001b[0;34m\u001b[0m\u001b[0m\n\u001b[0;32m---> 30\u001b[0;31m                 \u001b[0mdecisionTree\u001b[0m\u001b[0;34m(\u001b[0m\u001b[0melem\u001b[0m\u001b[0;34m,\u001b[0m \u001b[0mA1\u001b[0m\u001b[0;34m,\u001b[0m \u001b[0mnew_node\u001b[0m\u001b[0;34m,\u001b[0m \u001b[0mguide_int\u001b[0m\u001b[0;34m+\u001b[0m\u001b[0;36m1\u001b[0m\u001b[0;34m)\u001b[0m\u001b[0;34m\u001b[0m\u001b[0;34m\u001b[0m\u001b[0m\n\u001b[0m",
      "\u001b[0;32m/tmp/ipykernel_1677/2254831521.py\u001b[0m in \u001b[0;36mdecisionTree\u001b[0;34m(D, A, T, guide_int)\u001b[0m\n\u001b[1;32m     28\u001b[0m                 \u001b[0mname_counter\u001b[0m\u001b[0;34m+=\u001b[0m\u001b[0;36m1\u001b[0m\u001b[0;34m\u001b[0m\u001b[0;34m\u001b[0m\u001b[0m\n\u001b[1;32m     29\u001b[0m                 \u001b[0mT\u001b[0m\u001b[0;34m.\u001b[0m\u001b[0maddChildren\u001b[0m\u001b[0;34m(\u001b[0m\u001b[0mnew_node\u001b[0m\u001b[0;34m)\u001b[0m\u001b[0;34m\u001b[0m\u001b[0;34m\u001b[0m\u001b[0m\n\u001b[0;32m---> 30\u001b[0;31m                 \u001b[0mdecisionTree\u001b[0m\u001b[0;34m(\u001b[0m\u001b[0melem\u001b[0m\u001b[0;34m,\u001b[0m \u001b[0mA1\u001b[0m\u001b[0;34m,\u001b[0m \u001b[0mnew_node\u001b[0m\u001b[0;34m,\u001b[0m \u001b[0mguide_int\u001b[0m\u001b[0;34m+\u001b[0m\u001b[0;36m1\u001b[0m\u001b[0;34m)\u001b[0m\u001b[0;34m\u001b[0m\u001b[0;34m\u001b[0m\u001b[0m\n\u001b[0m",
      "\u001b[0;32m/tmp/ipykernel_1677/2254831521.py\u001b[0m in \u001b[0;36mdecisionTree\u001b[0;34m(D, A, T, guide_int)\u001b[0m\n\u001b[1;32m     28\u001b[0m                 \u001b[0mname_counter\u001b[0m\u001b[0;34m+=\u001b[0m\u001b[0;36m1\u001b[0m\u001b[0;34m\u001b[0m\u001b[0;34m\u001b[0m\u001b[0m\n\u001b[1;32m     29\u001b[0m                 \u001b[0mT\u001b[0m\u001b[0;34m.\u001b[0m\u001b[0maddChildren\u001b[0m\u001b[0;34m(\u001b[0m\u001b[0mnew_node\u001b[0m\u001b[0;34m)\u001b[0m\u001b[0;34m\u001b[0m\u001b[0;34m\u001b[0m\u001b[0m\n\u001b[0;32m---> 30\u001b[0;31m                 \u001b[0mdecisionTree\u001b[0m\u001b[0;34m(\u001b[0m\u001b[0melem\u001b[0m\u001b[0;34m,\u001b[0m \u001b[0mA1\u001b[0m\u001b[0;34m,\u001b[0m \u001b[0mnew_node\u001b[0m\u001b[0;34m,\u001b[0m \u001b[0mguide_int\u001b[0m\u001b[0;34m+\u001b[0m\u001b[0;36m1\u001b[0m\u001b[0;34m)\u001b[0m\u001b[0;34m\u001b[0m\u001b[0;34m\u001b[0m\u001b[0m\n\u001b[0m",
      "\u001b[0;32m/tmp/ipykernel_1677/2254831521.py\u001b[0m in \u001b[0;36mdecisionTree\u001b[0;34m(D, A, T, guide_int)\u001b[0m\n\u001b[1;32m     28\u001b[0m                 \u001b[0mname_counter\u001b[0m\u001b[0;34m+=\u001b[0m\u001b[0;36m1\u001b[0m\u001b[0;34m\u001b[0m\u001b[0;34m\u001b[0m\u001b[0m\n\u001b[1;32m     29\u001b[0m                 \u001b[0mT\u001b[0m\u001b[0;34m.\u001b[0m\u001b[0maddChildren\u001b[0m\u001b[0;34m(\u001b[0m\u001b[0mnew_node\u001b[0m\u001b[0;34m)\u001b[0m\u001b[0;34m\u001b[0m\u001b[0;34m\u001b[0m\u001b[0m\n\u001b[0;32m---> 30\u001b[0;31m                 \u001b[0mdecisionTree\u001b[0m\u001b[0;34m(\u001b[0m\u001b[0melem\u001b[0m\u001b[0;34m,\u001b[0m \u001b[0mA1\u001b[0m\u001b[0;34m,\u001b[0m \u001b[0mnew_node\u001b[0m\u001b[0;34m,\u001b[0m \u001b[0mguide_int\u001b[0m\u001b[0;34m+\u001b[0m\u001b[0;36m1\u001b[0m\u001b[0;34m)\u001b[0m\u001b[0;34m\u001b[0m\u001b[0;34m\u001b[0m\u001b[0m\n\u001b[0m",
      "\u001b[0;32m/tmp/ipykernel_1677/2254831521.py\u001b[0m in \u001b[0;36mdecisionTree\u001b[0;34m(D, A, T, guide_int)\u001b[0m\n\u001b[1;32m     28\u001b[0m                 \u001b[0mname_counter\u001b[0m\u001b[0;34m+=\u001b[0m\u001b[0;36m1\u001b[0m\u001b[0;34m\u001b[0m\u001b[0;34m\u001b[0m\u001b[0m\n\u001b[1;32m     29\u001b[0m                 \u001b[0mT\u001b[0m\u001b[0;34m.\u001b[0m\u001b[0maddChildren\u001b[0m\u001b[0;34m(\u001b[0m\u001b[0mnew_node\u001b[0m\u001b[0;34m)\u001b[0m\u001b[0;34m\u001b[0m\u001b[0;34m\u001b[0m\u001b[0m\n\u001b[0;32m---> 30\u001b[0;31m                 \u001b[0mdecisionTree\u001b[0m\u001b[0;34m(\u001b[0m\u001b[0melem\u001b[0m\u001b[0;34m,\u001b[0m \u001b[0mA1\u001b[0m\u001b[0;34m,\u001b[0m \u001b[0mnew_node\u001b[0m\u001b[0;34m,\u001b[0m \u001b[0mguide_int\u001b[0m\u001b[0;34m+\u001b[0m\u001b[0;36m1\u001b[0m\u001b[0;34m)\u001b[0m\u001b[0;34m\u001b[0m\u001b[0;34m\u001b[0m\u001b[0m\n\u001b[0m",
      "\u001b[0;32m/tmp/ipykernel_1677/2254831521.py\u001b[0m in \u001b[0;36mdecisionTree\u001b[0;34m(D, A, T, guide_int)\u001b[0m\n\u001b[1;32m     28\u001b[0m                 \u001b[0mname_counter\u001b[0m\u001b[0;34m+=\u001b[0m\u001b[0;36m1\u001b[0m\u001b[0;34m\u001b[0m\u001b[0;34m\u001b[0m\u001b[0m\n\u001b[1;32m     29\u001b[0m                 \u001b[0mT\u001b[0m\u001b[0;34m.\u001b[0m\u001b[0maddChildren\u001b[0m\u001b[0;34m(\u001b[0m\u001b[0mnew_node\u001b[0m\u001b[0;34m)\u001b[0m\u001b[0;34m\u001b[0m\u001b[0;34m\u001b[0m\u001b[0m\n\u001b[0;32m---> 30\u001b[0;31m                 \u001b[0mdecisionTree\u001b[0m\u001b[0;34m(\u001b[0m\u001b[0melem\u001b[0m\u001b[0;34m,\u001b[0m \u001b[0mA1\u001b[0m\u001b[0;34m,\u001b[0m \u001b[0mnew_node\u001b[0m\u001b[0;34m,\u001b[0m \u001b[0mguide_int\u001b[0m\u001b[0;34m+\u001b[0m\u001b[0;36m1\u001b[0m\u001b[0;34m)\u001b[0m\u001b[0;34m\u001b[0m\u001b[0;34m\u001b[0m\u001b[0m\n\u001b[0m",
      "\u001b[0;32m/tmp/ipykernel_1677/2254831521.py\u001b[0m in \u001b[0;36mdecisionTree\u001b[0;34m(D, A, T, guide_int)\u001b[0m\n\u001b[1;32m     28\u001b[0m                 \u001b[0mname_counter\u001b[0m\u001b[0;34m+=\u001b[0m\u001b[0;36m1\u001b[0m\u001b[0;34m\u001b[0m\u001b[0;34m\u001b[0m\u001b[0m\n\u001b[1;32m     29\u001b[0m                 \u001b[0mT\u001b[0m\u001b[0;34m.\u001b[0m\u001b[0maddChildren\u001b[0m\u001b[0;34m(\u001b[0m\u001b[0mnew_node\u001b[0m\u001b[0;34m)\u001b[0m\u001b[0;34m\u001b[0m\u001b[0;34m\u001b[0m\u001b[0m\n\u001b[0;32m---> 30\u001b[0;31m                 \u001b[0mdecisionTree\u001b[0m\u001b[0;34m(\u001b[0m\u001b[0melem\u001b[0m\u001b[0;34m,\u001b[0m \u001b[0mA1\u001b[0m\u001b[0;34m,\u001b[0m \u001b[0mnew_node\u001b[0m\u001b[0;34m,\u001b[0m \u001b[0mguide_int\u001b[0m\u001b[0;34m+\u001b[0m\u001b[0;36m1\u001b[0m\u001b[0;34m)\u001b[0m\u001b[0;34m\u001b[0m\u001b[0;34m\u001b[0m\u001b[0m\n\u001b[0m",
      "\u001b[0;32m/tmp/ipykernel_1677/2254831521.py\u001b[0m in \u001b[0;36mdecisionTree\u001b[0;34m(D, A, T, guide_int)\u001b[0m\n\u001b[1;32m     28\u001b[0m                 \u001b[0mname_counter\u001b[0m\u001b[0;34m+=\u001b[0m\u001b[0;36m1\u001b[0m\u001b[0;34m\u001b[0m\u001b[0;34m\u001b[0m\u001b[0m\n\u001b[1;32m     29\u001b[0m                 \u001b[0mT\u001b[0m\u001b[0;34m.\u001b[0m\u001b[0maddChildren\u001b[0m\u001b[0;34m(\u001b[0m\u001b[0mnew_node\u001b[0m\u001b[0;34m)\u001b[0m\u001b[0;34m\u001b[0m\u001b[0;34m\u001b[0m\u001b[0m\n\u001b[0;32m---> 30\u001b[0;31m                 \u001b[0mdecisionTree\u001b[0m\u001b[0;34m(\u001b[0m\u001b[0melem\u001b[0m\u001b[0;34m,\u001b[0m \u001b[0mA1\u001b[0m\u001b[0;34m,\u001b[0m \u001b[0mnew_node\u001b[0m\u001b[0;34m,\u001b[0m \u001b[0mguide_int\u001b[0m\u001b[0;34m+\u001b[0m\u001b[0;36m1\u001b[0m\u001b[0;34m)\u001b[0m\u001b[0;34m\u001b[0m\u001b[0;34m\u001b[0m\u001b[0m\n\u001b[0m",
      "\u001b[0;32m/tmp/ipykernel_1677/2254831521.py\u001b[0m in \u001b[0;36mdecisionTree\u001b[0;34m(D, A, T, guide_int)\u001b[0m\n\u001b[1;32m     28\u001b[0m                 \u001b[0mname_counter\u001b[0m\u001b[0;34m+=\u001b[0m\u001b[0;36m1\u001b[0m\u001b[0;34m\u001b[0m\u001b[0;34m\u001b[0m\u001b[0m\n\u001b[1;32m     29\u001b[0m                 \u001b[0mT\u001b[0m\u001b[0;34m.\u001b[0m\u001b[0maddChildren\u001b[0m\u001b[0;34m(\u001b[0m\u001b[0mnew_node\u001b[0m\u001b[0;34m)\u001b[0m\u001b[0;34m\u001b[0m\u001b[0;34m\u001b[0m\u001b[0m\n\u001b[0;32m---> 30\u001b[0;31m                 \u001b[0mdecisionTree\u001b[0m\u001b[0;34m(\u001b[0m\u001b[0melem\u001b[0m\u001b[0;34m,\u001b[0m \u001b[0mA1\u001b[0m\u001b[0;34m,\u001b[0m \u001b[0mnew_node\u001b[0m\u001b[0;34m,\u001b[0m \u001b[0mguide_int\u001b[0m\u001b[0;34m+\u001b[0m\u001b[0;36m1\u001b[0m\u001b[0;34m)\u001b[0m\u001b[0;34m\u001b[0m\u001b[0;34m\u001b[0m\u001b[0m\n\u001b[0m",
      "\u001b[0;32m/tmp/ipykernel_1677/2254831521.py\u001b[0m in \u001b[0;36mdecisionTree\u001b[0;34m(D, A, T, guide_int)\u001b[0m\n\u001b[1;32m     28\u001b[0m                 \u001b[0mname_counter\u001b[0m\u001b[0;34m+=\u001b[0m\u001b[0;36m1\u001b[0m\u001b[0;34m\u001b[0m\u001b[0;34m\u001b[0m\u001b[0m\n\u001b[1;32m     29\u001b[0m                 \u001b[0mT\u001b[0m\u001b[0;34m.\u001b[0m\u001b[0maddChildren\u001b[0m\u001b[0;34m(\u001b[0m\u001b[0mnew_node\u001b[0m\u001b[0;34m)\u001b[0m\u001b[0;34m\u001b[0m\u001b[0;34m\u001b[0m\u001b[0m\n\u001b[0;32m---> 30\u001b[0;31m                 \u001b[0mdecisionTree\u001b[0m\u001b[0;34m(\u001b[0m\u001b[0melem\u001b[0m\u001b[0;34m,\u001b[0m \u001b[0mA1\u001b[0m\u001b[0;34m,\u001b[0m \u001b[0mnew_node\u001b[0m\u001b[0;34m,\u001b[0m \u001b[0mguide_int\u001b[0m\u001b[0;34m+\u001b[0m\u001b[0;36m1\u001b[0m\u001b[0;34m)\u001b[0m\u001b[0;34m\u001b[0m\u001b[0;34m\u001b[0m\u001b[0m\n\u001b[0m",
      "\u001b[0;32m/tmp/ipykernel_1677/2254831521.py\u001b[0m in \u001b[0;36mdecisionTree\u001b[0;34m(D, A, T, guide_int)\u001b[0m\n\u001b[1;32m     28\u001b[0m                 \u001b[0mname_counter\u001b[0m\u001b[0;34m+=\u001b[0m\u001b[0;36m1\u001b[0m\u001b[0;34m\u001b[0m\u001b[0;34m\u001b[0m\u001b[0m\n\u001b[1;32m     29\u001b[0m                 \u001b[0mT\u001b[0m\u001b[0;34m.\u001b[0m\u001b[0maddChildren\u001b[0m\u001b[0;34m(\u001b[0m\u001b[0mnew_node\u001b[0m\u001b[0;34m)\u001b[0m\u001b[0;34m\u001b[0m\u001b[0;34m\u001b[0m\u001b[0m\n\u001b[0;32m---> 30\u001b[0;31m                 \u001b[0mdecisionTree\u001b[0m\u001b[0;34m(\u001b[0m\u001b[0melem\u001b[0m\u001b[0;34m,\u001b[0m \u001b[0mA1\u001b[0m\u001b[0;34m,\u001b[0m \u001b[0mnew_node\u001b[0m\u001b[0;34m,\u001b[0m \u001b[0mguide_int\u001b[0m\u001b[0;34m+\u001b[0m\u001b[0;36m1\u001b[0m\u001b[0;34m)\u001b[0m\u001b[0;34m\u001b[0m\u001b[0;34m\u001b[0m\u001b[0m\n\u001b[0m",
      "\u001b[0;32m/tmp/ipykernel_1677/2254831521.py\u001b[0m in \u001b[0;36mdecisionTree\u001b[0;34m(D, A, T, guide_int)\u001b[0m\n\u001b[1;32m     28\u001b[0m                 \u001b[0mname_counter\u001b[0m\u001b[0;34m+=\u001b[0m\u001b[0;36m1\u001b[0m\u001b[0;34m\u001b[0m\u001b[0;34m\u001b[0m\u001b[0m\n\u001b[1;32m     29\u001b[0m                 \u001b[0mT\u001b[0m\u001b[0;34m.\u001b[0m\u001b[0maddChildren\u001b[0m\u001b[0;34m(\u001b[0m\u001b[0mnew_node\u001b[0m\u001b[0;34m)\u001b[0m\u001b[0;34m\u001b[0m\u001b[0;34m\u001b[0m\u001b[0m\n\u001b[0;32m---> 30\u001b[0;31m                 \u001b[0mdecisionTree\u001b[0m\u001b[0;34m(\u001b[0m\u001b[0melem\u001b[0m\u001b[0;34m,\u001b[0m \u001b[0mA1\u001b[0m\u001b[0;34m,\u001b[0m \u001b[0mnew_node\u001b[0m\u001b[0;34m,\u001b[0m \u001b[0mguide_int\u001b[0m\u001b[0;34m+\u001b[0m\u001b[0;36m1\u001b[0m\u001b[0;34m)\u001b[0m\u001b[0;34m\u001b[0m\u001b[0;34m\u001b[0m\u001b[0m\n\u001b[0m",
      "\u001b[0;32m/tmp/ipykernel_1677/2254831521.py\u001b[0m in \u001b[0;36mdecisionTree\u001b[0;34m(D, A, T, guide_int)\u001b[0m\n\u001b[1;32m     28\u001b[0m                 \u001b[0mname_counter\u001b[0m\u001b[0;34m+=\u001b[0m\u001b[0;36m1\u001b[0m\u001b[0;34m\u001b[0m\u001b[0;34m\u001b[0m\u001b[0m\n\u001b[1;32m     29\u001b[0m                 \u001b[0mT\u001b[0m\u001b[0;34m.\u001b[0m\u001b[0maddChildren\u001b[0m\u001b[0;34m(\u001b[0m\u001b[0mnew_node\u001b[0m\u001b[0;34m)\u001b[0m\u001b[0;34m\u001b[0m\u001b[0;34m\u001b[0m\u001b[0m\n\u001b[0;32m---> 30\u001b[0;31m                 \u001b[0mdecisionTree\u001b[0m\u001b[0;34m(\u001b[0m\u001b[0melem\u001b[0m\u001b[0;34m,\u001b[0m \u001b[0mA1\u001b[0m\u001b[0;34m,\u001b[0m \u001b[0mnew_node\u001b[0m\u001b[0;34m,\u001b[0m \u001b[0mguide_int\u001b[0m\u001b[0;34m+\u001b[0m\u001b[0;36m1\u001b[0m\u001b[0;34m)\u001b[0m\u001b[0;34m\u001b[0m\u001b[0;34m\u001b[0m\u001b[0m\n\u001b[0m",
      "\u001b[0;32m/tmp/ipykernel_1677/2254831521.py\u001b[0m in \u001b[0;36mdecisionTree\u001b[0;34m(D, A, T, guide_int)\u001b[0m\n\u001b[1;32m     28\u001b[0m                 \u001b[0mname_counter\u001b[0m\u001b[0;34m+=\u001b[0m\u001b[0;36m1\u001b[0m\u001b[0;34m\u001b[0m\u001b[0;34m\u001b[0m\u001b[0m\n\u001b[1;32m     29\u001b[0m                 \u001b[0mT\u001b[0m\u001b[0;34m.\u001b[0m\u001b[0maddChildren\u001b[0m\u001b[0;34m(\u001b[0m\u001b[0mnew_node\u001b[0m\u001b[0;34m)\u001b[0m\u001b[0;34m\u001b[0m\u001b[0;34m\u001b[0m\u001b[0m\n\u001b[0;32m---> 30\u001b[0;31m                 \u001b[0mdecisionTree\u001b[0m\u001b[0;34m(\u001b[0m\u001b[0melem\u001b[0m\u001b[0;34m,\u001b[0m \u001b[0mA1\u001b[0m\u001b[0;34m,\u001b[0m \u001b[0mnew_node\u001b[0m\u001b[0;34m,\u001b[0m \u001b[0mguide_int\u001b[0m\u001b[0;34m+\u001b[0m\u001b[0;36m1\u001b[0m\u001b[0;34m)\u001b[0m\u001b[0;34m\u001b[0m\u001b[0;34m\u001b[0m\u001b[0m\n\u001b[0m",
      "\u001b[0;32m/tmp/ipykernel_1677/2254831521.py\u001b[0m in \u001b[0;36mdecisionTree\u001b[0;34m(D, A, T, guide_int)\u001b[0m\n\u001b[1;32m     28\u001b[0m                 \u001b[0mname_counter\u001b[0m\u001b[0;34m+=\u001b[0m\u001b[0;36m1\u001b[0m\u001b[0;34m\u001b[0m\u001b[0;34m\u001b[0m\u001b[0m\n\u001b[1;32m     29\u001b[0m                 \u001b[0mT\u001b[0m\u001b[0;34m.\u001b[0m\u001b[0maddChildren\u001b[0m\u001b[0;34m(\u001b[0m\u001b[0mnew_node\u001b[0m\u001b[0;34m)\u001b[0m\u001b[0;34m\u001b[0m\u001b[0;34m\u001b[0m\u001b[0m\n\u001b[0;32m---> 30\u001b[0;31m                 \u001b[0mdecisionTree\u001b[0m\u001b[0;34m(\u001b[0m\u001b[0melem\u001b[0m\u001b[0;34m,\u001b[0m \u001b[0mA1\u001b[0m\u001b[0;34m,\u001b[0m \u001b[0mnew_node\u001b[0m\u001b[0;34m,\u001b[0m \u001b[0mguide_int\u001b[0m\u001b[0;34m+\u001b[0m\u001b[0;36m1\u001b[0m\u001b[0;34m)\u001b[0m\u001b[0;34m\u001b[0m\u001b[0;34m\u001b[0m\u001b[0m\n\u001b[0m",
      "\u001b[0;32m/tmp/ipykernel_1677/2254831521.py\u001b[0m in \u001b[0;36mdecisionTree\u001b[0;34m(D, A, T, guide_int)\u001b[0m\n\u001b[1;32m     10\u001b[0m         \u001b[0mprint\u001b[0m\u001b[0;34m(\u001b[0m\u001b[0;34m'Depth '\u001b[0m \u001b[0;34m+\u001b[0m \u001b[0mstr\u001b[0m\u001b[0;34m(\u001b[0m\u001b[0mguide_int\u001b[0m\u001b[0;34m)\u001b[0m\u001b[0;34m)\u001b[0m\u001b[0;34m\u001b[0m\u001b[0;34m\u001b[0m\u001b[0m\n\u001b[1;32m     11\u001b[0m         \u001b[0;31m#gain = D.gain()\u001b[0m\u001b[0;34m\u001b[0m\u001b[0;34m\u001b[0m\u001b[0;34m\u001b[0m\u001b[0m\n\u001b[0;32m---> 12\u001b[0;31m         \u001b[0mgain\u001b[0m \u001b[0;34m=\u001b[0m \u001b[0mD\u001b[0m\u001b[0;34m.\u001b[0m\u001b[0mgain_ratio\u001b[0m\u001b[0;34m(\u001b[0m\u001b[0;34m)\u001b[0m\u001b[0;34m\u001b[0m\u001b[0;34m\u001b[0m\u001b[0m\n\u001b[0m\u001b[1;32m     13\u001b[0m         \u001b[0;31m#gain = D.gain2()[0]\u001b[0m\u001b[0;34m\u001b[0m\u001b[0;34m\u001b[0m\u001b[0;34m\u001b[0m\u001b[0m\n\u001b[1;32m     14\u001b[0m         \u001b[0mprint\u001b[0m\u001b[0;34m(\u001b[0m\u001b[0;34m'Attribute chosen '\u001b[0m\u001b[0;34m+\u001b[0m \u001b[0mgain\u001b[0m\u001b[0;34m[\u001b[0m\u001b[0;36m0\u001b[0m\u001b[0;34m]\u001b[0m\u001b[0;34m)\u001b[0m\u001b[0;34m\u001b[0m\u001b[0;34m\u001b[0m\u001b[0m\n",
      "\u001b[0;32m/tmp/ipykernel_1677/1723074321.py\u001b[0m in \u001b[0;36mgain_ratio\u001b[0;34m(self)\u001b[0m\n\u001b[1;32m     77\u001b[0m     \u001b[0;32mdef\u001b[0m \u001b[0mgain_ratio\u001b[0m\u001b[0;34m(\u001b[0m\u001b[0mself\u001b[0m\u001b[0;34m)\u001b[0m \u001b[0;34m->\u001b[0m \u001b[0mlist\u001b[0m\u001b[0;34m:\u001b[0m\u001b[0;34m\u001b[0m\u001b[0;34m\u001b[0m\u001b[0m\n\u001b[1;32m     78\u001b[0m         \u001b[0mentropy\u001b[0m \u001b[0;34m=\u001b[0m \u001b[0mself\u001b[0m\u001b[0;34m.\u001b[0m\u001b[0mentropy\u001b[0m\u001b[0;34m(\u001b[0m\u001b[0;34m)\u001b[0m\u001b[0;34m\u001b[0m\u001b[0;34m\u001b[0m\u001b[0m\n\u001b[0;32m---> 79\u001b[0;31m         \u001b[0mgain\u001b[0m \u001b[0;34m=\u001b[0m \u001b[0mself\u001b[0m\u001b[0;34m.\u001b[0m\u001b[0mgain2\u001b[0m\u001b[0;34m(\u001b[0m\u001b[0;34m)\u001b[0m\u001b[0;34m\u001b[0m\u001b[0;34m\u001b[0m\u001b[0m\n\u001b[0m\u001b[1;32m     80\u001b[0m         \u001b[0msplit_info\u001b[0m \u001b[0;34m=\u001b[0m \u001b[0;36m0\u001b[0m\u001b[0;34m\u001b[0m\u001b[0;34m\u001b[0m\u001b[0m\n\u001b[1;32m     81\u001b[0m         \u001b[0mmax_gain_rate\u001b[0m \u001b[0;34m=\u001b[0m \u001b[0;36m0\u001b[0m\u001b[0;34m\u001b[0m\u001b[0;34m\u001b[0m\u001b[0m\n",
      "\u001b[0;32m/tmp/ipykernel_1677/1723074321.py\u001b[0m in \u001b[0;36mgain2\u001b[0;34m(self)\u001b[0m\n\u001b[1;32m     62\u001b[0m     \u001b[0;32mdef\u001b[0m \u001b[0mgain2\u001b[0m\u001b[0;34m(\u001b[0m\u001b[0mself\u001b[0m\u001b[0;34m)\u001b[0m \u001b[0;34m->\u001b[0m \u001b[0mlist\u001b[0m\u001b[0;34m:\u001b[0m \u001b[0;31m# return list of [Att, Value], something like: [[Att1, Value] [Att2, Value]]\u001b[0m\u001b[0;34m\u001b[0m\u001b[0;34m\u001b[0m\u001b[0m\n\u001b[1;32m     63\u001b[0m         \u001b[0mentropy\u001b[0m \u001b[0;34m=\u001b[0m \u001b[0mself\u001b[0m\u001b[0;34m.\u001b[0m\u001b[0mentropy\u001b[0m\u001b[0;34m(\u001b[0m\u001b[0;34m)\u001b[0m\u001b[0;34m\u001b[0m\u001b[0;34m\u001b[0m\u001b[0m\n\u001b[0;32m---> 64\u001b[0;31m         \u001b[0mentropy_atts\u001b[0m \u001b[0;34m=\u001b[0m \u001b[0mself\u001b[0m\u001b[0;34m.\u001b[0m\u001b[0mentropy_attribute\u001b[0m\u001b[0;34m(\u001b[0m\u001b[0;34m)\u001b[0m\u001b[0;34m\u001b[0m\u001b[0;34m\u001b[0m\u001b[0m\n\u001b[0m\u001b[1;32m     65\u001b[0m         \u001b[0mcurr_gain\u001b[0m \u001b[0;34m=\u001b[0m \u001b[0;36m0\u001b[0m\u001b[0;34m\u001b[0m\u001b[0;34m\u001b[0m\u001b[0m\n\u001b[1;32m     66\u001b[0m         \u001b[0mmax_gain\u001b[0m \u001b[0;34m=\u001b[0m \u001b[0;36m0\u001b[0m\u001b[0;34m\u001b[0m\u001b[0;34m\u001b[0m\u001b[0m\n",
      "\u001b[0;32m/tmp/ipykernel_1677/1723074321.py\u001b[0m in \u001b[0;36mentropy_attribute\u001b[0;34m(self)\u001b[0m\n\u001b[1;32m     35\u001b[0m \u001b[0;34m\u001b[0m\u001b[0m\n\u001b[1;32m     36\u001b[0m                 \u001b[0;32mfor\u001b[0m \u001b[0mc_value\u001b[0m \u001b[0;32min\u001b[0m \u001b[0mclassValues\u001b[0m\u001b[0;34m:\u001b[0m \u001b[0;31m# Bucle sobre cada caso de un valor posible de un atributo\u001b[0m\u001b[0;34m\u001b[0m\u001b[0;34m\u001b[0m\u001b[0m\n\u001b[0;32m---> 37\u001b[0;31m                     \u001b[0mclass_count\u001b[0m \u001b[0;34m=\u001b[0m \u001b[0mlen\u001b[0m\u001b[0;34m(\u001b[0m\u001b[0mself\u001b[0m\u001b[0;34m.\u001b[0m\u001b[0mcases\u001b[0m\u001b[0;34m[\u001b[0m\u001b[0;34m(\u001b[0m\u001b[0mself\u001b[0m\u001b[0;34m.\u001b[0m\u001b[0mcases\u001b[0m\u001b[0;34m[\u001b[0m\u001b[0mattribute\u001b[0m\u001b[0;34m]\u001b[0m\u001b[0;34m==\u001b[0m\u001b[0mvalue\u001b[0m\u001b[0;34m)\u001b[0m\u001b[0;34m&\u001b[0m\u001b[0;34m(\u001b[0m\u001b[0mself\u001b[0m\u001b[0;34m.\u001b[0m\u001b[0mcases\u001b[0m\u001b[0;34m[\u001b[0m\u001b[0mself\u001b[0m\u001b[0;34m.\u001b[0m\u001b[0mclass_column_name\u001b[0m\u001b[0;34m]\u001b[0m\u001b[0;34m==\u001b[0m\u001b[0mc_value\u001b[0m\u001b[0;34m)\u001b[0m\u001b[0;34m]\u001b[0m\u001b[0;34m)\u001b[0m\u001b[0;34m\u001b[0m\u001b[0;34m\u001b[0m\u001b[0m\n\u001b[0m\u001b[1;32m     38\u001b[0m                     \u001b[0;32mif\u001b[0m \u001b[0mclass_count\u001b[0m \u001b[0;34m!=\u001b[0m \u001b[0;36m0\u001b[0m\u001b[0;34m:\u001b[0m\u001b[0;34m\u001b[0m\u001b[0;34m\u001b[0m\u001b[0m\n\u001b[1;32m     39\u001b[0m                         \u001b[0mattr_entropy\u001b[0m \u001b[0;34m-=\u001b[0m \u001b[0;34m(\u001b[0m\u001b[0mclass_count\u001b[0m\u001b[0;34m/\u001b[0m\u001b[0mattr_count\u001b[0m\u001b[0;34m)\u001b[0m \u001b[0;34m*\u001b[0m \u001b[0;34m(\u001b[0m\u001b[0mmath\u001b[0m\u001b[0;34m.\u001b[0m\u001b[0mlog2\u001b[0m\u001b[0;34m(\u001b[0m\u001b[0;34m(\u001b[0m\u001b[0mclass_count\u001b[0m\u001b[0;34m/\u001b[0m\u001b[0mattr_count\u001b[0m\u001b[0;34m)\u001b[0m\u001b[0;34m)\u001b[0m\u001b[0;34m)\u001b[0m\u001b[0;34m\u001b[0m\u001b[0;34m\u001b[0m\u001b[0m\n",
      "\u001b[0;32m/shared-libs/python3.7/py/lib/python3.7/site-packages/pandas/core/ops/common.py\u001b[0m in \u001b[0;36mnew_method\u001b[0;34m(self, other)\u001b[0m\n\u001b[1;32m     63\u001b[0m         \u001b[0mother\u001b[0m \u001b[0;34m=\u001b[0m \u001b[0mitem_from_zerodim\u001b[0m\u001b[0;34m(\u001b[0m\u001b[0mother\u001b[0m\u001b[0;34m)\u001b[0m\u001b[0;34m\u001b[0m\u001b[0;34m\u001b[0m\u001b[0m\n\u001b[1;32m     64\u001b[0m \u001b[0;34m\u001b[0m\u001b[0m\n\u001b[0;32m---> 65\u001b[0;31m         \u001b[0;32mreturn\u001b[0m \u001b[0mmethod\u001b[0m\u001b[0;34m(\u001b[0m\u001b[0mself\u001b[0m\u001b[0;34m,\u001b[0m \u001b[0mother\u001b[0m\u001b[0;34m)\u001b[0m\u001b[0;34m\u001b[0m\u001b[0;34m\u001b[0m\u001b[0m\n\u001b[0m\u001b[1;32m     66\u001b[0m \u001b[0;34m\u001b[0m\u001b[0m\n\u001b[1;32m     67\u001b[0m     \u001b[0;32mreturn\u001b[0m \u001b[0mnew_method\u001b[0m\u001b[0;34m\u001b[0m\u001b[0;34m\u001b[0m\u001b[0m\n",
      "\u001b[0;32m/shared-libs/python3.7/py/lib/python3.7/site-packages/pandas/core/arraylike.py\u001b[0m in \u001b[0;36m__eq__\u001b[0;34m(self, other)\u001b[0m\n\u001b[1;32m     27\u001b[0m     \u001b[0;34m@\u001b[0m\u001b[0munpack_zerodim_and_defer\u001b[0m\u001b[0;34m(\u001b[0m\u001b[0;34m\"__eq__\"\u001b[0m\u001b[0;34m)\u001b[0m\u001b[0;34m\u001b[0m\u001b[0;34m\u001b[0m\u001b[0m\n\u001b[1;32m     28\u001b[0m     \u001b[0;32mdef\u001b[0m \u001b[0m__eq__\u001b[0m\u001b[0;34m(\u001b[0m\u001b[0mself\u001b[0m\u001b[0;34m,\u001b[0m \u001b[0mother\u001b[0m\u001b[0;34m)\u001b[0m\u001b[0;34m:\u001b[0m\u001b[0;34m\u001b[0m\u001b[0;34m\u001b[0m\u001b[0m\n\u001b[0;32m---> 29\u001b[0;31m         \u001b[0;32mreturn\u001b[0m \u001b[0mself\u001b[0m\u001b[0;34m.\u001b[0m\u001b[0m_cmp_method\u001b[0m\u001b[0;34m(\u001b[0m\u001b[0mother\u001b[0m\u001b[0;34m,\u001b[0m \u001b[0moperator\u001b[0m\u001b[0;34m.\u001b[0m\u001b[0meq\u001b[0m\u001b[0;34m)\u001b[0m\u001b[0;34m\u001b[0m\u001b[0;34m\u001b[0m\u001b[0m\n\u001b[0m\u001b[1;32m     30\u001b[0m \u001b[0;34m\u001b[0m\u001b[0m\n\u001b[1;32m     31\u001b[0m     \u001b[0;34m@\u001b[0m\u001b[0munpack_zerodim_and_defer\u001b[0m\u001b[0;34m(\u001b[0m\u001b[0;34m\"__ne__\"\u001b[0m\u001b[0;34m)\u001b[0m\u001b[0;34m\u001b[0m\u001b[0;34m\u001b[0m\u001b[0m\n",
      "\u001b[0;32m/shared-libs/python3.7/py/lib/python3.7/site-packages/pandas/core/series.py\u001b[0m in \u001b[0;36m_cmp_method\u001b[0;34m(self, other, op)\u001b[0m\n\u001b[1;32m   4978\u001b[0m         \u001b[0mres_values\u001b[0m \u001b[0;34m=\u001b[0m \u001b[0mops\u001b[0m\u001b[0;34m.\u001b[0m\u001b[0mcomparison_op\u001b[0m\u001b[0;34m(\u001b[0m\u001b[0mlvalues\u001b[0m\u001b[0;34m,\u001b[0m \u001b[0mrvalues\u001b[0m\u001b[0;34m,\u001b[0m \u001b[0mop\u001b[0m\u001b[0;34m)\u001b[0m\u001b[0;34m\u001b[0m\u001b[0;34m\u001b[0m\u001b[0m\n\u001b[1;32m   4979\u001b[0m \u001b[0;34m\u001b[0m\u001b[0m\n\u001b[0;32m-> 4980\u001b[0;31m         \u001b[0;32mreturn\u001b[0m \u001b[0mself\u001b[0m\u001b[0;34m.\u001b[0m\u001b[0m_construct_result\u001b[0m\u001b[0;34m(\u001b[0m\u001b[0mres_values\u001b[0m\u001b[0;34m,\u001b[0m \u001b[0mname\u001b[0m\u001b[0;34m=\u001b[0m\u001b[0mres_name\u001b[0m\u001b[0;34m)\u001b[0m\u001b[0;34m\u001b[0m\u001b[0;34m\u001b[0m\u001b[0m\n\u001b[0m\u001b[1;32m   4981\u001b[0m \u001b[0;34m\u001b[0m\u001b[0m\n\u001b[1;32m   4982\u001b[0m     \u001b[0;32mdef\u001b[0m \u001b[0m_logical_method\u001b[0m\u001b[0;34m(\u001b[0m\u001b[0mself\u001b[0m\u001b[0;34m,\u001b[0m \u001b[0mother\u001b[0m\u001b[0;34m,\u001b[0m \u001b[0mop\u001b[0m\u001b[0;34m)\u001b[0m\u001b[0;34m:\u001b[0m\u001b[0;34m\u001b[0m\u001b[0;34m\u001b[0m\u001b[0m\n",
      "\u001b[0;32m/shared-libs/python3.7/py/lib/python3.7/site-packages/pandas/core/series.py\u001b[0m in \u001b[0;36m_construct_result\u001b[0;34m(self, result, name)\u001b[0m\n\u001b[1;32m   2761\u001b[0m         \u001b[0;31m# We do not pass dtype to ensure that the Series constructor\u001b[0m\u001b[0;34m\u001b[0m\u001b[0;34m\u001b[0m\u001b[0;34m\u001b[0m\u001b[0m\n\u001b[1;32m   2762\u001b[0m         \u001b[0;31m#  does inference in the case where `result` has object-dtype.\u001b[0m\u001b[0;34m\u001b[0m\u001b[0;34m\u001b[0m\u001b[0;34m\u001b[0m\u001b[0m\n\u001b[0;32m-> 2763\u001b[0;31m         \u001b[0mout\u001b[0m \u001b[0;34m=\u001b[0m \u001b[0mself\u001b[0m\u001b[0;34m.\u001b[0m\u001b[0m_constructor\u001b[0m\u001b[0;34m(\u001b[0m\u001b[0mresult\u001b[0m\u001b[0;34m,\u001b[0m \u001b[0mindex\u001b[0m\u001b[0;34m=\u001b[0m\u001b[0mself\u001b[0m\u001b[0;34m.\u001b[0m\u001b[0mindex\u001b[0m\u001b[0;34m)\u001b[0m\u001b[0;34m\u001b[0m\u001b[0;34m\u001b[0m\u001b[0m\n\u001b[0m\u001b[1;32m   2764\u001b[0m         \u001b[0mout\u001b[0m \u001b[0;34m=\u001b[0m \u001b[0mout\u001b[0m\u001b[0;34m.\u001b[0m\u001b[0m__finalize__\u001b[0m\u001b[0;34m(\u001b[0m\u001b[0mself\u001b[0m\u001b[0;34m)\u001b[0m\u001b[0;34m\u001b[0m\u001b[0;34m\u001b[0m\u001b[0m\n\u001b[1;32m   2765\u001b[0m \u001b[0;34m\u001b[0m\u001b[0m\n",
      "\u001b[0;32m/shared-libs/python3.7/py/lib/python3.7/site-packages/pandas/core/series.py\u001b[0m in \u001b[0;36m__init__\u001b[0;34m(self, data, index, dtype, name, copy, fastpath)\u001b[0m\n\u001b[1;32m    367\u001b[0m \u001b[0;34m\u001b[0m\u001b[0m\n\u001b[1;32m    368\u001b[0m         \u001b[0mgeneric\u001b[0m\u001b[0;34m.\u001b[0m\u001b[0mNDFrame\u001b[0m\u001b[0;34m.\u001b[0m\u001b[0m__init__\u001b[0m\u001b[0;34m(\u001b[0m\u001b[0mself\u001b[0m\u001b[0;34m,\u001b[0m \u001b[0mdata\u001b[0m\u001b[0;34m)\u001b[0m\u001b[0;34m\u001b[0m\u001b[0;34m\u001b[0m\u001b[0m\n\u001b[0;32m--> 369\u001b[0;31m         \u001b[0mself\u001b[0m\u001b[0;34m.\u001b[0m\u001b[0mname\u001b[0m \u001b[0;34m=\u001b[0m \u001b[0mname\u001b[0m\u001b[0;34m\u001b[0m\u001b[0;34m\u001b[0m\u001b[0m\n\u001b[0m\u001b[1;32m    370\u001b[0m         \u001b[0mself\u001b[0m\u001b[0;34m.\u001b[0m\u001b[0m_set_axis\u001b[0m\u001b[0;34m(\u001b[0m\u001b[0;36m0\u001b[0m\u001b[0;34m,\u001b[0m \u001b[0mindex\u001b[0m\u001b[0;34m,\u001b[0m \u001b[0mfastpath\u001b[0m\u001b[0;34m=\u001b[0m\u001b[0;32mTrue\u001b[0m\u001b[0;34m)\u001b[0m\u001b[0;34m\u001b[0m\u001b[0;34m\u001b[0m\u001b[0m\n\u001b[1;32m    371\u001b[0m \u001b[0;34m\u001b[0m\u001b[0m\n",
      "\u001b[0;32m/shared-libs/python3.7/py/lib/python3.7/site-packages/pandas/core/generic.py\u001b[0m in \u001b[0;36m__setattr__\u001b[0;34m(self, name, value)\u001b[0m\n\u001b[1;32m   5475\u001b[0m \u001b[0;34m\u001b[0m\u001b[0m\n\u001b[1;32m   5476\u001b[0m         \u001b[0;32mtry\u001b[0m\u001b[0;34m:\u001b[0m\u001b[0;34m\u001b[0m\u001b[0;34m\u001b[0m\u001b[0m\n\u001b[0;32m-> 5477\u001b[0;31m             \u001b[0mobject\u001b[0m\u001b[0;34m.\u001b[0m\u001b[0m__getattribute__\u001b[0m\u001b[0;34m(\u001b[0m\u001b[0mself\u001b[0m\u001b[0;34m,\u001b[0m \u001b[0mname\u001b[0m\u001b[0;34m)\u001b[0m\u001b[0;34m\u001b[0m\u001b[0;34m\u001b[0m\u001b[0m\n\u001b[0m\u001b[1;32m   5478\u001b[0m             \u001b[0;32mreturn\u001b[0m \u001b[0mobject\u001b[0m\u001b[0;34m.\u001b[0m\u001b[0m__setattr__\u001b[0m\u001b[0;34m(\u001b[0m\u001b[0mself\u001b[0m\u001b[0;34m,\u001b[0m \u001b[0mname\u001b[0m\u001b[0;34m,\u001b[0m \u001b[0mvalue\u001b[0m\u001b[0;34m)\u001b[0m\u001b[0;34m\u001b[0m\u001b[0;34m\u001b[0m\u001b[0m\n\u001b[1;32m   5479\u001b[0m         \u001b[0;32mexcept\u001b[0m \u001b[0mAttributeError\u001b[0m\u001b[0;34m:\u001b[0m\u001b[0;34m\u001b[0m\u001b[0;34m\u001b[0m\u001b[0m\n",
      "\u001b[0;32m/shared-libs/python3.7/py/lib/python3.7/site-packages/pandas/core/series.py\u001b[0m in \u001b[0;36mname\u001b[0;34m(self)\u001b[0m\n\u001b[1;32m    534\u001b[0m         \u001b[0;34m'Even Numbers'\u001b[0m\u001b[0;34m\u001b[0m\u001b[0;34m\u001b[0m\u001b[0m\n\u001b[1;32m    535\u001b[0m         \"\"\"\n\u001b[0;32m--> 536\u001b[0;31m         \u001b[0;32mreturn\u001b[0m \u001b[0mself\u001b[0m\u001b[0;34m.\u001b[0m\u001b[0m_name\u001b[0m\u001b[0;34m\u001b[0m\u001b[0;34m\u001b[0m\u001b[0m\n\u001b[0m\u001b[1;32m    537\u001b[0m \u001b[0;34m\u001b[0m\u001b[0m\n\u001b[1;32m    538\u001b[0m     \u001b[0;34m@\u001b[0m\u001b[0mname\u001b[0m\u001b[0;34m.\u001b[0m\u001b[0msetter\u001b[0m\u001b[0;34m\u001b[0m\u001b[0;34m\u001b[0m\u001b[0m\n",
      "\u001b[0;32m/shared-libs/python3.7/py/lib/python3.7/site-packages/pandas/core/generic.py\u001b[0m in \u001b[0;36m__getattr__\u001b[0;34m(self, name)\u001b[0m\n\u001b[1;32m   5447\u001b[0m         \u001b[0;32mreturn\u001b[0m \u001b[0mself\u001b[0m\u001b[0;34m\u001b[0m\u001b[0;34m\u001b[0m\u001b[0m\n\u001b[1;32m   5448\u001b[0m \u001b[0;34m\u001b[0m\u001b[0m\n\u001b[0;32m-> 5449\u001b[0;31m     \u001b[0;32mdef\u001b[0m \u001b[0m__getattr__\u001b[0m\u001b[0;34m(\u001b[0m\u001b[0mself\u001b[0m\u001b[0;34m,\u001b[0m \u001b[0mname\u001b[0m\u001b[0;34m:\u001b[0m \u001b[0mstr\u001b[0m\u001b[0;34m)\u001b[0m\u001b[0;34m:\u001b[0m\u001b[0;34m\u001b[0m\u001b[0;34m\u001b[0m\u001b[0m\n\u001b[0m\u001b[1;32m   5450\u001b[0m         \"\"\"\n\u001b[1;32m   5451\u001b[0m         \u001b[0mAfter\u001b[0m \u001b[0mregular\u001b[0m \u001b[0mattribute\u001b[0m \u001b[0maccess\u001b[0m\u001b[0;34m,\u001b[0m \u001b[0;32mtry\u001b[0m \u001b[0mlooking\u001b[0m \u001b[0mup\u001b[0m \u001b[0mthe\u001b[0m \u001b[0mname\u001b[0m\u001b[0;34m\u001b[0m\u001b[0;34m\u001b[0m\u001b[0m\n",
      "\u001b[0;31mKeyboardInterrupt\u001b[0m: "
     ]
    }
   ],
   "execution_count": null
  },
  {
   "cell_type": "code",
   "metadata": {
    "tags": [],
    "deepnote_to_be_reexecuted": true,
    "source_hash": "92cdd843",
    "execution_start": 1633647688428,
    "execution_millis": 21,
    "cell_id": "00020-13c80be3-327b-450a-b488-d2484d0fb61c",
    "deepnote_cell_type": "code"
   },
   "source": "root_node.printTree(0, graph, root_node,name_counter)",
   "outputs": [
    {
     "name": "stdout",
     "text": "###############################################\nDepth 0\n\nCreated node with name 0 and label gill-size\n###############################################\nDepth 1\n['p']\nCreated node with name 1 and label ['p']\np    3\nName: class, dtype: int64\nCreated edge between 0 and 1\n###############################################\nDepth 1\n['e']\nCreated node with name 2 and label ['e']\ne    7\nName: class, dtype: int64\nCreated edge between 0 and 2\n",
     "output_type": "stream"
    }
   ],
   "execution_count": null
  },
  {
   "cell_type": "code",
   "metadata": {
    "tags": [],
    "deepnote_to_be_reexecuted": true,
    "source_hash": "48d2cb31",
    "execution_start": 1633647688454,
    "execution_millis": 94,
    "cell_id": "00023-5bf99bed-6c47-4e72-8a25-2bb5105c91a6",
    "deepnote_cell_type": "code"
   },
   "source": "\ngraph ",
   "outputs": [
    {
     "output_type": "execute_result",
     "execution_count": 15,
     "data": {
      "text/plain": "<graphviz.dot.Digraph at 0x7fe4ac59e410>",
      "image/svg+xml": "<?xml version=\"1.0\" encoding=\"UTF-8\" standalone=\"no\"?>\n<!DOCTYPE svg PUBLIC \"-//W3C//DTD SVG 1.1//EN\"\n \"http://www.w3.org/Graphics/SVG/1.1/DTD/svg11.dtd\">\n<!-- Generated by graphviz version 2.40.1 (20161225.0304)\n -->\n<!-- Title: %3 Pages: 1 -->\n<svg width=\"244pt\" height=\"173pt\"\n viewBox=\"0.00 0.00 243.89 172.69\" xmlns=\"http://www.w3.org/2000/svg\" xmlns:xlink=\"http://www.w3.org/1999/xlink\">\n<g id=\"graph0\" class=\"graph\" transform=\"scale(1 1) rotate(0) translate(4 168.6934)\">\n<title>%3</title>\n<polygon fill=\"#ffffff\" stroke=\"transparent\" points=\"-4,4 -4,-168.6934 239.8944,-168.6934 239.8944,4 -4,4\"/>\n<!-- 0 -->\n<g id=\"node1\" class=\"node\">\n<title>0</title>\n<ellipse fill=\"none\" stroke=\"#000000\" cx=\"117.4472\" cy=\"-137.8234\" rx=\"60.623\" ry=\"26.7407\"/>\n<text text-anchor=\"middle\" x=\"117.4472\" y=\"-141.6234\" font-family=\"Times,serif\" font-size=\"14.00\" fill=\"#000000\">gill&#45;size </text>\n<text text-anchor=\"middle\" x=\"117.4472\" y=\"-126.6234\" font-family=\"Times,serif\" font-size=\"14.00\" fill=\"#000000\"> Gain: 1.0</text>\n</g>\n<!-- 1 -->\n<g id=\"node2\" class=\"node\">\n<title>1</title>\n<ellipse fill=\"none\" stroke=\"#00ff00\" cx=\"54.4472\" cy=\"-37.4767\" rx=\"54.3945\" ry=\"37.4533\"/>\n<text text-anchor=\"middle\" x=\"54.4472\" y=\"-48.7767\" font-family=\"Times,serif\" font-size=\"14.00\" fill=\"#000000\">[&#39;p&#39;] </text>\n<text text-anchor=\"middle\" x=\"54.4472\" y=\"-33.7767\" font-family=\"Times,serif\" font-size=\"14.00\" fill=\"#000000\"> Gain: 0 </text>\n<text text-anchor=\"middle\" x=\"54.4472\" y=\"-18.7767\" font-family=\"Times,serif\" font-size=\"14.00\" fill=\"#000000\"> [3]</text>\n</g>\n<!-- 0&#45;&gt;1 -->\n<g id=\"edge1\" class=\"edge\">\n<title>0&#45;&gt;1</title>\n<path fill=\"none\" stroke=\"#000000\" d=\"M101.0592,-111.7204C95.1347,-102.2839 88.2756,-91.3586 81.6719,-80.8402\"/>\n<polygon fill=\"#000000\" stroke=\"#000000\" points=\"84.4924,-78.7502 76.2109,-72.142 78.5639,-82.4723 84.4924,-78.7502\"/>\n</g>\n<!-- 2 -->\n<g id=\"node3\" class=\"node\">\n<title>2</title>\n<ellipse fill=\"none\" stroke=\"#00ff00\" cx=\"181.4472\" cy=\"-37.4767\" rx=\"54.3945\" ry=\"37.4533\"/>\n<text text-anchor=\"middle\" x=\"181.4472\" y=\"-48.7767\" font-family=\"Times,serif\" font-size=\"14.00\" fill=\"#000000\">[&#39;e&#39;] </text>\n<text text-anchor=\"middle\" x=\"181.4472\" y=\"-33.7767\" font-family=\"Times,serif\" font-size=\"14.00\" fill=\"#000000\"> Gain: 0 </text>\n<text text-anchor=\"middle\" x=\"181.4472\" y=\"-18.7767\" font-family=\"Times,serif\" font-size=\"14.00\" fill=\"#000000\"> [7]</text>\n</g>\n<!-- 0&#45;&gt;2 -->\n<g id=\"edge2\" class=\"edge\">\n<title>0&#45;&gt;2</title>\n<path fill=\"none\" stroke=\"#000000\" d=\"M134.0954,-111.7204C140.1139,-102.2839 147.0819,-91.3586 153.7904,-80.8402\"/>\n<polygon fill=\"#000000\" stroke=\"#000000\" points=\"156.9116,-82.4553 159.338,-72.142 151.0098,-78.6911 156.9116,-82.4553\"/>\n</g>\n</g>\n</svg>\n"
     },
     "metadata": {}
    }
   ],
   "execution_count": null
  },
  {
   "cell_type": "markdown",
   "source": "## Predicciones",
   "metadata": {
    "tags": [],
    "is_collapsed": false,
    "cell_id": "00024-1fe0f578-dc98-4cb3-96a3-1a82d7d7dd83",
    "deepnote_cell_type": "text-cell-h2"
   }
  },
  {
   "cell_type": "markdown",
   "source": "",
   "metadata": {
    "tags": [],
    "is_collapsed": false,
    "cell_id": "00025-b1ba068f-ebfa-48e8-8935-3c28a7e88f1d",
    "deepnote_cell_type": "text-cell-p"
   }
  },
  {
   "cell_type": "code",
   "metadata": {
    "tags": [],
    "deepnote_to_be_reexecuted": true,
    "source_hash": "956aeeba",
    "execution_start": 1633647688604,
    "execution_millis": 0,
    "cell_id": "00028-c379c8a6-0d17-4a43-85af-a34936116aa6",
    "deepnote_cell_type": "code"
   },
   "source": "def predict_case(case, node: Node):\n    while node.children:\n        node_att = node.chosen_att\n        case_att = case[node_att]\n        for child in node.children:\n            if case_att == child.val_attr:\n                node = child\n                break\n    return node.curr_class\n        \n",
   "outputs": [],
   "execution_count": null
  },
  {
   "cell_type": "code",
   "metadata": {
    "tags": [],
    "deepnote_to_be_reexecuted": true,
    "source_hash": "dde0fb64",
    "execution_start": 1633647688605,
    "execution_millis": 42,
    "cell_id": "00029-92ed03a7-5763-4cf9-a09e-10a1e7df4fac",
    "deepnote_cell_type": "code"
   },
   "source": "def predict_cases(cases,node:Node):\n    predictions = []\n    for item,value in cases.iterrows():\n        aux = node\n        predictions.append(predict_case(value, aux))\n    return predictions",
   "outputs": [],
   "execution_count": null
  },
  {
   "cell_type": "code",
   "metadata": {
    "tags": [],
    "deepnote_to_be_reexecuted": true,
    "source_hash": "72ed8d48",
    "execution_start": 1633647688647,
    "execution_millis": 168,
    "cell_id": "00030-bfbc95c5-b045-4cc9-9491-be591f6ac71c",
    "deepnote_cell_type": "code"
   },
   "source": "pos = 0\ndf.loc[pos:pos]",
   "outputs": [
    {
     "output_type": "execute_result",
     "execution_count": 18,
     "data": {
      "application/vnd.deepnote.dataframe.v2+json": {
       "row_count": 1,
       "column_count": 23,
       "columns": [
        {
         "name": "class",
         "dtype": "object",
         "stats": {
          "unique_count": 1,
          "nan_count": 0,
          "categories": [
           {
            "name": "p",
            "count": 1
           }
          ]
         }
        },
        {
         "name": "cap-shape",
         "dtype": "object",
         "stats": {
          "unique_count": 1,
          "nan_count": 0,
          "categories": [
           {
            "name": "x",
            "count": 1
           }
          ]
         }
        },
        {
         "name": "cap-surface",
         "dtype": "object",
         "stats": {
          "unique_count": 1,
          "nan_count": 0,
          "categories": [
           {
            "name": "s",
            "count": 1
           }
          ]
         }
        },
        {
         "name": "cap-color",
         "dtype": "object",
         "stats": {
          "unique_count": 1,
          "nan_count": 0,
          "categories": [
           {
            "name": "n",
            "count": 1
           }
          ]
         }
        },
        {
         "name": "bruises",
         "dtype": "object",
         "stats": {
          "unique_count": 1,
          "nan_count": 0,
          "categories": [
           {
            "name": "t",
            "count": 1
           }
          ]
         }
        },
        {
         "name": "odor",
         "dtype": "object",
         "stats": {
          "unique_count": 1,
          "nan_count": 0,
          "categories": [
           {
            "name": "p",
            "count": 1
           }
          ]
         }
        },
        {
         "name": "gill-attachment",
         "dtype": "object",
         "stats": {
          "unique_count": 1,
          "nan_count": 0,
          "categories": [
           {
            "name": "f",
            "count": 1
           }
          ]
         }
        },
        {
         "name": "gill-spacing",
         "dtype": "object",
         "stats": {
          "unique_count": 1,
          "nan_count": 0,
          "categories": [
           {
            "name": "c",
            "count": 1
           }
          ]
         }
        },
        {
         "name": "gill-size",
         "dtype": "object",
         "stats": {
          "unique_count": 1,
          "nan_count": 0,
          "categories": [
           {
            "name": "n",
            "count": 1
           }
          ]
         }
        },
        {
         "name": "gill-color",
         "dtype": "object",
         "stats": {
          "unique_count": 1,
          "nan_count": 0,
          "categories": [
           {
            "name": "k",
            "count": 1
           }
          ]
         }
        },
        {
         "name": "stalk-shape",
         "dtype": "object",
         "stats": {
          "unique_count": 1,
          "nan_count": 0,
          "categories": [
           {
            "name": "e",
            "count": 1
           }
          ]
         }
        },
        {
         "name": "stalk-root",
         "dtype": "object",
         "stats": {
          "unique_count": 1,
          "nan_count": 0,
          "categories": [
           {
            "name": "e",
            "count": 1
           }
          ]
         }
        },
        {
         "name": "stalk-surface-above-ring",
         "dtype": "object",
         "stats": {
          "unique_count": 1,
          "nan_count": 0,
          "categories": [
           {
            "name": "s",
            "count": 1
           }
          ]
         }
        },
        {
         "name": "stalk-surface-below-ring",
         "dtype": "object",
         "stats": {
          "unique_count": 1,
          "nan_count": 0,
          "categories": [
           {
            "name": "s",
            "count": 1
           }
          ]
         }
        },
        {
         "name": "stalk-color-above-ring",
         "dtype": "object",
         "stats": {
          "unique_count": 1,
          "nan_count": 0,
          "categories": [
           {
            "name": "w",
            "count": 1
           }
          ]
         }
        },
        {
         "name": "stalk-color-below-ring",
         "dtype": "object",
         "stats": {
          "unique_count": 1,
          "nan_count": 0,
          "categories": [
           {
            "name": "w",
            "count": 1
           }
          ]
         }
        },
        {
         "name": "veil-type",
         "dtype": "object",
         "stats": {
          "unique_count": 1,
          "nan_count": 0,
          "categories": [
           {
            "name": "p",
            "count": 1
           }
          ]
         }
        },
        {
         "name": "veil-color",
         "dtype": "object",
         "stats": {
          "unique_count": 1,
          "nan_count": 0,
          "categories": [
           {
            "name": "w",
            "count": 1
           }
          ]
         }
        },
        {
         "name": "ring-number",
         "dtype": "object",
         "stats": {
          "unique_count": 1,
          "nan_count": 0,
          "categories": [
           {
            "name": "o",
            "count": 1
           }
          ]
         }
        },
        {
         "name": "ring-type",
         "dtype": "object",
         "stats": {
          "unique_count": 1,
          "nan_count": 0,
          "categories": [
           {
            "name": "p",
            "count": 1
           }
          ]
         }
        },
        {
         "name": "spore-print-color",
         "dtype": "object",
         "stats": {
          "unique_count": 1,
          "nan_count": 0,
          "categories": [
           {
            "name": "k",
            "count": 1
           }
          ]
         }
        },
        {
         "name": "population",
         "dtype": "object",
         "stats": {
          "unique_count": 1,
          "nan_count": 0,
          "categories": [
           {
            "name": "s",
            "count": 1
           }
          ]
         }
        },
        {
         "name": "habitat",
         "dtype": "object",
         "stats": {
          "unique_count": 1,
          "nan_count": 0,
          "categories": [
           {
            "name": "u",
            "count": 1
           }
          ]
         }
        },
        {
         "name": "_deepnote_index_column",
         "dtype": "int64"
        }
       ],
       "rows_top": [
        {
         "class": "p",
         "cap-shape": "x",
         "cap-surface": "s",
         "cap-color": "n",
         "bruises": "t",
         "odor": "p",
         "gill-attachment": "f",
         "gill-spacing": "c",
         "gill-size": "n",
         "gill-color": "k",
         "stalk-shape": "e",
         "stalk-root": "e",
         "stalk-surface-above-ring": "s",
         "stalk-surface-below-ring": "s",
         "stalk-color-above-ring": "w",
         "stalk-color-below-ring": "w",
         "veil-type": "p",
         "veil-color": "w",
         "ring-number": "o",
         "ring-type": "p",
         "spore-print-color": "k",
         "population": "s",
         "habitat": "u",
         "_deepnote_index_column": 0
        }
       ],
       "rows_bottom": null
      },
      "text/plain": "  class cap-shape cap-surface cap-color bruises odor gill-attachment  \\\n0     p         x           s         n       t    p               f   \n\n  gill-spacing gill-size gill-color  ... stalk-surface-below-ring  \\\n0            c         n          k  ...                        s   \n\n  stalk-color-above-ring stalk-color-below-ring veil-type veil-color  \\\n0                      w                      w         p          w   \n\n  ring-number ring-type spore-print-color population habitat  \n0           o         p                 k          s       u  \n\n[1 rows x 23 columns]",
      "text/html": "<div>\n<style scoped>\n    .dataframe tbody tr th:only-of-type {\n        vertical-align: middle;\n    }\n\n    .dataframe tbody tr th {\n        vertical-align: top;\n    }\n\n    .dataframe thead th {\n        text-align: right;\n    }\n</style>\n<table border=\"1\" class=\"dataframe\">\n  <thead>\n    <tr style=\"text-align: right;\">\n      <th></th>\n      <th>class</th>\n      <th>cap-shape</th>\n      <th>cap-surface</th>\n      <th>cap-color</th>\n      <th>bruises</th>\n      <th>odor</th>\n      <th>gill-attachment</th>\n      <th>gill-spacing</th>\n      <th>gill-size</th>\n      <th>gill-color</th>\n      <th>...</th>\n      <th>stalk-surface-below-ring</th>\n      <th>stalk-color-above-ring</th>\n      <th>stalk-color-below-ring</th>\n      <th>veil-type</th>\n      <th>veil-color</th>\n      <th>ring-number</th>\n      <th>ring-type</th>\n      <th>spore-print-color</th>\n      <th>population</th>\n      <th>habitat</th>\n    </tr>\n  </thead>\n  <tbody>\n    <tr>\n      <th>0</th>\n      <td>p</td>\n      <td>x</td>\n      <td>s</td>\n      <td>n</td>\n      <td>t</td>\n      <td>p</td>\n      <td>f</td>\n      <td>c</td>\n      <td>n</td>\n      <td>k</td>\n      <td>...</td>\n      <td>s</td>\n      <td>w</td>\n      <td>w</td>\n      <td>p</td>\n      <td>w</td>\n      <td>o</td>\n      <td>p</td>\n      <td>k</td>\n      <td>s</td>\n      <td>u</td>\n    </tr>\n  </tbody>\n</table>\n<p>1 rows × 23 columns</p>\n</div>"
     },
     "metadata": {}
    }
   ],
   "execution_count": null
  },
  {
   "cell_type": "code",
   "metadata": {
    "tags": [],
    "deepnote_to_be_reexecuted": true,
    "source_hash": "f9bdb89d",
    "execution_start": 1633647688808,
    "execution_millis": 2544652,
    "cell_id": "00031-038d67f5-eaa3-41ba-a91e-d71a35f8c172",
    "deepnote_cell_type": "code"
   },
   "source": "test = df.loc[pos:pos]",
   "outputs": [],
   "execution_count": null
  },
  {
   "cell_type": "code",
   "metadata": {
    "tags": [],
    "deepnote_to_be_reexecuted": true,
    "source_hash": "8820ef73",
    "execution_start": 1633647688817,
    "execution_millis": 2544651,
    "cell_id": "00032-1f4b09e7-0085-4047-928b-9bd5eacd22d8",
    "deepnote_cell_type": "code"
   },
   "source": "#predict_case(test,root_node)",
   "outputs": [],
   "execution_count": null
  },
  {
   "cell_type": "code",
   "metadata": {
    "tags": [],
    "deepnote_to_be_reexecuted": true,
    "source_hash": "1151621d",
    "execution_start": 1633647688875,
    "execution_millis": 2544667,
    "cell_id": "00033-ceec52c8-a2f6-461f-b067-ec5d728f31a4",
    "deepnote_cell_type": "code"
   },
   "source": "df['test_result'] = predict_cases(df,root_node)",
   "outputs": [],
   "execution_count": null
  },
  {
   "cell_type": "code",
   "metadata": {
    "tags": [],
    "deepnote_to_be_reexecuted": true,
    "source_hash": "41c0aff3",
    "execution_start": 1633647688876,
    "execution_millis": 54,
    "cell_id": "00034-731e1dcd-8a5b-43b1-9972-08ce0e4c7d67",
    "deepnote_cell_type": "code"
   },
   "source": "df[['class','test_result']]",
   "outputs": [
    {
     "output_type": "execute_result",
     "execution_count": 22,
     "data": {
      "application/vnd.deepnote.dataframe.v2+json": {
       "row_count": 10,
       "column_count": 2,
       "columns": [
        {
         "name": "class",
         "dtype": "object",
         "stats": {
          "unique_count": 2,
          "nan_count": 0,
          "categories": [
           {
            "name": "e",
            "count": 7
           },
           {
            "name": "p",
            "count": 3
           }
          ]
         }
        },
        {
         "name": "test_result",
         "dtype": "object",
         "stats": {
          "unique_count": 10,
          "nan_count": 0,
          "categories": [
           {
            "name": "['e']",
            "count": 7
           },
           {
            "name": "['p']",
            "count": 3
           }
          ]
         }
        },
        {
         "name": "_deepnote_index_column",
         "dtype": "int64"
        }
       ],
       "rows_top": [
        {
         "class": "p",
         "test_result": "['p']",
         "_deepnote_index_column": 0
        },
        {
         "class": "e",
         "test_result": "['e']",
         "_deepnote_index_column": 1
        },
        {
         "class": "e",
         "test_result": "['e']",
         "_deepnote_index_column": 2
        },
        {
         "class": "p",
         "test_result": "['p']",
         "_deepnote_index_column": 3
        },
        {
         "class": "e",
         "test_result": "['e']",
         "_deepnote_index_column": 4
        },
        {
         "class": "e",
         "test_result": "['e']",
         "_deepnote_index_column": 5
        },
        {
         "class": "e",
         "test_result": "['e']",
         "_deepnote_index_column": 6
        },
        {
         "class": "e",
         "test_result": "['e']",
         "_deepnote_index_column": 7
        },
        {
         "class": "p",
         "test_result": "['p']",
         "_deepnote_index_column": 8
        },
        {
         "class": "e",
         "test_result": "['e']",
         "_deepnote_index_column": 9
        }
       ],
       "rows_bottom": null
      },
      "text/plain": "  class test_result\n0     p         [p]\n1     e         [e]\n2     e         [e]\n3     p         [p]\n4     e         [e]\n5     e         [e]\n6     e         [e]\n7     e         [e]\n8     p         [p]\n9     e         [e]",
      "text/html": "<div>\n<style scoped>\n    .dataframe tbody tr th:only-of-type {\n        vertical-align: middle;\n    }\n\n    .dataframe tbody tr th {\n        vertical-align: top;\n    }\n\n    .dataframe thead th {\n        text-align: right;\n    }\n</style>\n<table border=\"1\" class=\"dataframe\">\n  <thead>\n    <tr style=\"text-align: right;\">\n      <th></th>\n      <th>class</th>\n      <th>test_result</th>\n    </tr>\n  </thead>\n  <tbody>\n    <tr>\n      <th>0</th>\n      <td>p</td>\n      <td>[p]</td>\n    </tr>\n    <tr>\n      <th>1</th>\n      <td>e</td>\n      <td>[e]</td>\n    </tr>\n    <tr>\n      <th>2</th>\n      <td>e</td>\n      <td>[e]</td>\n    </tr>\n    <tr>\n      <th>3</th>\n      <td>p</td>\n      <td>[p]</td>\n    </tr>\n    <tr>\n      <th>4</th>\n      <td>e</td>\n      <td>[e]</td>\n    </tr>\n    <tr>\n      <th>5</th>\n      <td>e</td>\n      <td>[e]</td>\n    </tr>\n    <tr>\n      <th>6</th>\n      <td>e</td>\n      <td>[e]</td>\n    </tr>\n    <tr>\n      <th>7</th>\n      <td>e</td>\n      <td>[e]</td>\n    </tr>\n    <tr>\n      <th>8</th>\n      <td>p</td>\n      <td>[p]</td>\n    </tr>\n    <tr>\n      <th>9</th>\n      <td>e</td>\n      <td>[e]</td>\n    </tr>\n  </tbody>\n</table>\n</div>"
     },
     "metadata": {}
    }
   ],
   "execution_count": null
  },
  {
   "cell_type": "code",
   "metadata": {
    "tags": [],
    "cell_id": "00028-8c4bbe71-4436-407d-b7b3-cddc10b48d12",
    "deepnote_to_be_reexecuted": true,
    "source_hash": "b623e53d",
    "execution_start": 1633647688921,
    "execution_millis": 1,
    "deepnote_cell_type": "code"
   },
   "source": "",
   "outputs": [],
   "execution_count": null
  },
  {
   "cell_type": "markdown",
   "source": "<a style='text-decoration:none;line-height:16px;display:flex;color:#5B5B62;padding:10px;justify-content:end;' href='https://deepnote.com?utm_source=created-in-deepnote-cell&projectId=9a66d969-af84-4258-a4a2-724e61aa71b5' target=\"_blank\">\n<img alt='Created in deepnote.com' style='display:inline;max-height:16px;margin:0px;margin-right:7.5px;' src='data:image/svg+xml;base64,PD94bWwgdmVyc2lvbj0iMS4wIiBlbmNvZGluZz0iVVRGLTgiPz4KPHN2ZyB3aWR0aD0iODBweCIgaGVpZ2h0PSI4MHB4IiB2aWV3Qm94PSIwIDAgODAgODAiIHZlcnNpb249IjEuMSIgeG1sbnM9Imh0dHA6Ly93d3cudzMub3JnLzIwMDAvc3ZnIiB4bWxuczp4bGluaz0iaHR0cDovL3d3dy53My5vcmcvMTk5OS94bGluayI+CiAgICA8IS0tIEdlbmVyYXRvcjogU2tldGNoIDU0LjEgKDc2NDkwKSAtIGh0dHBzOi8vc2tldGNoYXBwLmNvbSAtLT4KICAgIDx0aXRsZT5Hcm91cCAzPC90aXRsZT4KICAgIDxkZXNjPkNyZWF0ZWQgd2l0aCBTa2V0Y2guPC9kZXNjPgogICAgPGcgaWQ9IkxhbmRpbmciIHN0cm9rZT0ibm9uZSIgc3Ryb2tlLXdpZHRoPSIxIiBmaWxsPSJub25lIiBmaWxsLXJ1bGU9ImV2ZW5vZGQiPgogICAgICAgIDxnIGlkPSJBcnRib2FyZCIgdHJhbnNmb3JtPSJ0cmFuc2xhdGUoLTEyMzUuMDAwMDAwLCAtNzkuMDAwMDAwKSI+CiAgICAgICAgICAgIDxnIGlkPSJHcm91cC0zIiB0cmFuc2Zvcm09InRyYW5zbGF0ZSgxMjM1LjAwMDAwMCwgNzkuMDAwMDAwKSI+CiAgICAgICAgICAgICAgICA8cG9seWdvbiBpZD0iUGF0aC0yMCIgZmlsbD0iIzAyNjVCNCIgcG9pbnRzPSIyLjM3NjIzNzYyIDgwIDM4LjA0NzY2NjcgODAgNTcuODIxNzgyMiA3My44MDU3NTkyIDU3LjgyMTc4MjIgMzIuNzU5MjczOSAzOS4xNDAyMjc4IDMxLjY4MzE2ODMiPjwvcG9seWdvbj4KICAgICAgICAgICAgICAgIDxwYXRoIGQ9Ik0zNS4wMDc3MTgsODAgQzQyLjkwNjIwMDcsNzYuNDU0OTM1OCA0Ny41NjQ5MTY3LDcxLjU0MjI2NzEgNDguOTgzODY2LDY1LjI2MTk5MzkgQzUxLjExMjI4OTksNTUuODQxNTg0MiA0MS42NzcxNzk1LDQ5LjIxMjIyODQgMjUuNjIzOTg0Niw0OS4yMTIyMjg0IEMyNS40ODQ5Mjg5LDQ5LjEyNjg0NDggMjkuODI2MTI5Niw0My4yODM4MjQ4IDM4LjY0NzU4NjksMzEuNjgzMTY4MyBMNzIuODcxMjg3MSwzMi41NTQ0MjUgTDY1LjI4MDk3Myw2Ny42NzYzNDIxIEw1MS4xMTIyODk5LDc3LjM3NjE0NCBMMzUuMDA3NzE4LDgwIFoiIGlkPSJQYXRoLTIyIiBmaWxsPSIjMDAyODY4Ij48L3BhdGg+CiAgICAgICAgICAgICAgICA8cGF0aCBkPSJNMCwzNy43MzA0NDA1IEwyNy4xMTQ1MzcsMC4yNTcxMTE0MzYgQzYyLjM3MTUxMjMsLTEuOTkwNzE3MDEgODAsMTAuNTAwMzkyNyA4MCwzNy43MzA0NDA1IEM4MCw2NC45NjA0ODgyIDY0Ljc3NjUwMzgsNzkuMDUwMzQxNCAzNC4zMjk1MTEzLDgwIEM0Ny4wNTUzNDg5LDc3LjU2NzA4MDggNTMuNDE4MjY3Nyw3MC4zMTM2MTAzIDUzLjQxODI2NzcsNTguMjM5NTg4NSBDNTMuNDE4MjY3Nyw0MC4xMjg1NTU3IDM2LjMwMzk1NDQsMzcuNzMwNDQwNSAyNS4yMjc0MTcsMzcuNzMwNDQwNSBDMTcuODQzMDU4NiwzNy43MzA0NDA1IDkuNDMzOTE5NjYsMzcuNzMwNDQwNSAwLDM3LjczMDQ0MDUgWiIgaWQ9IlBhdGgtMTkiIGZpbGw9IiMzNzkzRUYiPjwvcGF0aD4KICAgICAgICAgICAgPC9nPgogICAgICAgIDwvZz4KICAgIDwvZz4KPC9zdmc+' > </img>\nCreated in <span style='font-weight:600;margin-left:4px;'>Deepnote</span></a>",
   "metadata": {
    "tags": [],
    "created_in_deepnote_cell": true,
    "deepnote_cell_type": "markdown"
   }
  }
 ],
 "nbformat": 4,
 "nbformat_minor": 2,
 "metadata": {
  "deepnoteSessionId": "dea8a0f5-35e3-4468-94eb-804ff5fc7baa",
  "kernelspec": {
   "display_name": "Python 3",
   "language": "python",
   "name": "python3"
  },
  "language_info": {
   "codemirror_mode": {
    "name": "ipython",
    "version": 3
   },
   "file_extension": ".py",
   "mimetype": "text/x-python",
   "name": "python",
   "nbconvert_exporter": "python",
   "pygments_lexer": "ipython3",
   "version": "3.7.5"
  },
  "deepnote_execution_queue": [],
  "deepnote_notebook_id": "90136977-97de-4306-8363-e870c00ef1d5",
  "deepnote": {}
 }
}