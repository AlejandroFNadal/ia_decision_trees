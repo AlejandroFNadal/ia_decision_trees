{
 "cells": [
  {
   "cell_type": "markdown",
   "source": "",
   "metadata": {
    "tags": [],
    "cell_id": "00000-7dce4615-57e5-465f-9b7a-1076bb5c5868",
    "deepnote_cell_type": "markdown"
   }
  },
  {
   "cell_type": "markdown",
   "source": "Ideas: Introducimos la data en un Pandas. Iteramos sobre las columnas y analizamos los valores posibles para cada columna, incluyendo la clase de cada caso. Podemos crear luego un objeto que sea conjunto o algo asi, y ese objeto le damos el metodo \"entropia\". Aparte, creamos una funcion que reciba uno de estos conjuntos y tome los atributos que analizamos de la tabla. La funcion itera sobre la lista de atributos y nos devuelve el atributo con mayor ganancia\nAhi miramos si tenemos suficiente ganancia, sit enemos, creamos un nodo y separamos cada caso dependiendo del valor del atributo en subconjuntos. Guardamos los subconjuntos en una lista en el nodo y llamamos al algoritmo con los elementos de la lista.",
   "metadata": {
    "tags": [],
    "cell_id": "00001-bfae69b5-4a52-4df8-b6d9-8cc8822e7b26",
    "deepnote_cell_type": "markdown"
   }
  },
  {
   "cell_type": "code",
   "metadata": {
    "tags": [],
    "output_cleared": false,
    "source_hash": "12c53fbd",
    "execution_start": 1633648879238,
    "execution_millis": 1017216,
    "deepnote_to_be_reexecuted": false,
    "cell_id": "00003-12257753-26c1-4ee2-ba9b-5a49bd55776e",
    "deepnote_cell_type": "code"
   },
   "source": "import pandas as pd\nimport math\nimport graphviz as graphviz",
   "outputs": [],
   "execution_count": null
  },
  {
   "cell_type": "code",
   "metadata": {
    "tags": [],
    "deepnote_to_be_reexecuted": false,
    "source_hash": "7b80ca7f",
    "execution_start": 1633648879280,
    "execution_millis": 10,
    "cell_id": "00004-cf043483-30da-41bf-b228-fd0ff7eaf549",
    "deepnote_cell_type": "code"
   },
   "source": "df = pd.read_csv('automoviles.csv').head(10)\ndf['AltaGama'].value_counts().items()",
   "outputs": [
    {
     "output_type": "execute_result",
     "execution_count": 2,
     "data": {
      "text/plain": "<zip at 0x7f0a4a667d70>"
     },
     "metadata": {}
    }
   ],
   "execution_count": null
  },
  {
   "cell_type": "code",
   "source": "df.to_json(orient='records')",
   "metadata": {
    "tags": [],
    "cell_id": "00004-8c506be6-eb4a-48e9-9028-a23113ede524",
    "deepnote_to_be_reexecuted": false,
    "source_hash": "d72463c2",
    "execution_start": 1633648879324,
    "execution_millis": 0,
    "deepnote_cell_type": "code"
   },
   "outputs": [
    {
     "output_type": "execute_result",
     "execution_count": 3,
     "data": {
      "text/plain": "'[{\"NivelIngreso\":\"medio\",\"Edad\":\"mayor35\",\"CreditoPrendarioActual\":\"si\",\"CuentaSueldo\":\"no\",\"AltaGama\":\"si\"},{\"NivelIngreso\":\"bajo\",\"Edad\":\"mayor35\",\"CreditoPrendarioActual\":\"si\",\"CuentaSueldo\":\"si\",\"AltaGama\":\"no\"},{\"NivelIngreso\":\"medio\",\"Edad\":\"mayor35\",\"CreditoPrendarioActual\":\"si\",\"CuentaSueldo\":\"no\",\"AltaGama\":\"no\"},{\"NivelIngreso\":\"medio\",\"Edad\":\"mayor35\",\"CreditoPrendarioActual\":\"no\",\"CuentaSueldo\":\"no\",\"AltaGama\":\"no\"},{\"NivelIngreso\":\"alto\",\"Edad\":\"menor35\",\"CreditoPrendarioActual\":\"si\",\"CuentaSueldo\":\"no\",\"AltaGama\":\"no\"},{\"NivelIngreso\":\"alto\",\"Edad\":\"menor35\",\"CreditoPrendarioActual\":\"si\",\"CuentaSueldo\":\"si\",\"AltaGama\":\"si\"},{\"NivelIngreso\":\"bajo\",\"Edad\":\"mayor35\",\"CreditoPrendarioActual\":\"si\",\"CuentaSueldo\":\"si\",\"AltaGama\":\"no\"},{\"NivelIngreso\":\"bajo\",\"Edad\":\"menor35\",\"CreditoPrendarioActual\":\"no\",\"CuentaSueldo\":\"no\",\"AltaGama\":\"no\"},{\"NivelIngreso\":\"alto\",\"Edad\":\"menor35\",\"CreditoPrendarioActual\":\"si\",\"CuentaSueldo\":\"no\",\"AltaGama\":\"no\"},{\"NivelIngreso\":\"alto\",\"Edad\":\"mayor35\",\"CreditoPrendarioActual\":\"si\",\"CuentaSueldo\":\"si\",\"AltaGama\":\"si\"}]'"
     },
     "metadata": {}
    }
   ],
   "execution_count": null
  },
  {
   "cell_type": "code",
   "metadata": {
    "tags": [],
    "deepnote_to_be_reexecuted": false,
    "source_hash": "c085b6ba",
    "execution_start": 1633648879324,
    "execution_millis": 53,
    "cell_id": "00005-dd3cb840-7137-461d-8b9d-ef8ab1ec193b",
    "deepnote_cell_type": "code"
   },
   "source": "df.head()",
   "outputs": [
    {
     "output_type": "execute_result",
     "execution_count": 4,
     "data": {
      "application/vnd.deepnote.dataframe.v2+json": {
       "row_count": 5,
       "column_count": 5,
       "columns": [
        {
         "name": "NivelIngreso",
         "dtype": "object",
         "stats": {
          "unique_count": 3,
          "nan_count": 0,
          "categories": [
           {
            "name": "medio",
            "count": 3
           },
           {
            "name": "bajo",
            "count": 1
           },
           {
            "name": "alto",
            "count": 1
           }
          ]
         }
        },
        {
         "name": "Edad",
         "dtype": "object",
         "stats": {
          "unique_count": 2,
          "nan_count": 0,
          "categories": [
           {
            "name": "mayor35",
            "count": 4
           },
           {
            "name": "menor35",
            "count": 1
           }
          ]
         }
        },
        {
         "name": "CreditoPrendarioActual",
         "dtype": "object",
         "stats": {
          "unique_count": 2,
          "nan_count": 0,
          "categories": [
           {
            "name": "si",
            "count": 4
           },
           {
            "name": "no",
            "count": 1
           }
          ]
         }
        },
        {
         "name": "CuentaSueldo",
         "dtype": "object",
         "stats": {
          "unique_count": 2,
          "nan_count": 0,
          "categories": [
           {
            "name": "no",
            "count": 4
           },
           {
            "name": "si",
            "count": 1
           }
          ]
         }
        },
        {
         "name": "AltaGama",
         "dtype": "object",
         "stats": {
          "unique_count": 2,
          "nan_count": 0,
          "categories": [
           {
            "name": "no",
            "count": 4
           },
           {
            "name": "si",
            "count": 1
           }
          ]
         }
        },
        {
         "name": "_deepnote_index_column",
         "dtype": "int64"
        }
       ],
       "rows_top": [
        {
         "NivelIngreso": "medio",
         "Edad": "mayor35",
         "CreditoPrendarioActual": "si",
         "CuentaSueldo": "no",
         "AltaGama": "si",
         "_deepnote_index_column": 0
        },
        {
         "NivelIngreso": "bajo",
         "Edad": "mayor35",
         "CreditoPrendarioActual": "si",
         "CuentaSueldo": "si",
         "AltaGama": "no",
         "_deepnote_index_column": 1
        },
        {
         "NivelIngreso": "medio",
         "Edad": "mayor35",
         "CreditoPrendarioActual": "si",
         "CuentaSueldo": "no",
         "AltaGama": "no",
         "_deepnote_index_column": 2
        },
        {
         "NivelIngreso": "medio",
         "Edad": "mayor35",
         "CreditoPrendarioActual": "no",
         "CuentaSueldo": "no",
         "AltaGama": "no",
         "_deepnote_index_column": 3
        },
        {
         "NivelIngreso": "alto",
         "Edad": "menor35",
         "CreditoPrendarioActual": "si",
         "CuentaSueldo": "no",
         "AltaGama": "no",
         "_deepnote_index_column": 4
        }
       ],
       "rows_bottom": null
      },
      "text/plain": "  NivelIngreso     Edad CreditoPrendarioActual CuentaSueldo AltaGama\n0        medio  mayor35                     si           no       si\n1         bajo  mayor35                     si           si       no\n2        medio  mayor35                     si           no       no\n3        medio  mayor35                     no           no       no\n4         alto  menor35                     si           no       no",
      "text/html": "<div>\n<style scoped>\n    .dataframe tbody tr th:only-of-type {\n        vertical-align: middle;\n    }\n\n    .dataframe tbody tr th {\n        vertical-align: top;\n    }\n\n    .dataframe thead th {\n        text-align: right;\n    }\n</style>\n<table border=\"1\" class=\"dataframe\">\n  <thead>\n    <tr style=\"text-align: right;\">\n      <th></th>\n      <th>NivelIngreso</th>\n      <th>Edad</th>\n      <th>CreditoPrendarioActual</th>\n      <th>CuentaSueldo</th>\n      <th>AltaGama</th>\n    </tr>\n  </thead>\n  <tbody>\n    <tr>\n      <th>0</th>\n      <td>medio</td>\n      <td>mayor35</td>\n      <td>si</td>\n      <td>no</td>\n      <td>si</td>\n    </tr>\n    <tr>\n      <th>1</th>\n      <td>bajo</td>\n      <td>mayor35</td>\n      <td>si</td>\n      <td>si</td>\n      <td>no</td>\n    </tr>\n    <tr>\n      <th>2</th>\n      <td>medio</td>\n      <td>mayor35</td>\n      <td>si</td>\n      <td>no</td>\n      <td>no</td>\n    </tr>\n    <tr>\n      <th>3</th>\n      <td>medio</td>\n      <td>mayor35</td>\n      <td>no</td>\n      <td>no</td>\n      <td>no</td>\n    </tr>\n    <tr>\n      <th>4</th>\n      <td>alto</td>\n      <td>menor35</td>\n      <td>si</td>\n      <td>no</td>\n      <td>no</td>\n    </tr>\n  </tbody>\n</table>\n</div>"
     },
     "metadata": {}
    }
   ],
   "execution_count": null
  },
  {
   "cell_type": "code",
   "metadata": {
    "tags": [],
    "deepnote_to_be_reexecuted": false,
    "source_hash": "d067aa51",
    "execution_start": 1633648879381,
    "execution_millis": 30,
    "cell_id": "00006-077fff35-6242-46da-a3ea-8d8c850c3037",
    "deepnote_cell_type": "code"
   },
   "source": " list(df['AltaGama'].value_counts().values)",
   "outputs": [
    {
     "output_type": "execute_result",
     "execution_count": 5,
     "data": {
      "text/plain": "[7, 3]"
     },
     "metadata": {}
    }
   ],
   "execution_count": null
  },
  {
   "cell_type": "code",
   "metadata": {
    "tags": [],
    "deepnote_to_be_reexecuted": false,
    "source_hash": "1d209800",
    "execution_start": 1633648879420,
    "execution_millis": 51,
    "cell_id": "00007-fd02c810-dd9e-459c-b826-310b3facde4e",
    "deepnote_cell_type": "code"
   },
   "source": "df['AltaGama'].mode().item()",
   "outputs": [
    {
     "output_type": "execute_result",
     "execution_count": 6,
     "data": {
      "text/plain": "'no'"
     },
     "metadata": {}
    }
   ],
   "execution_count": null
  },
  {
   "cell_type": "code",
   "metadata": {
    "tags": [],
    "deepnote_to_be_reexecuted": false,
    "source_hash": "1d974a42",
    "execution_start": 1633648879481,
    "execution_millis": 7,
    "cell_id": "00008-615db2aa-b2e9-4822-874a-85744e3f3f10",
    "deepnote_cell_type": "code"
   },
   "source": "classValues = list(df['AltaGama'].value_counts().index) # Valores posibles de la columna clase\nclassValues",
   "outputs": [
    {
     "output_type": "execute_result",
     "execution_count": 7,
     "data": {
      "text/plain": "['no', 'si']"
     },
     "metadata": {}
    }
   ],
   "execution_count": null
  },
  {
   "cell_type": "code",
   "metadata": {
    "tags": [],
    "deepnote_to_be_reexecuted": false,
    "source_hash": "32d961b1",
    "execution_start": 1633648879482,
    "execution_millis": 55,
    "cell_id": "00009-c83bdd45-7bec-4028-a4f1-226be1faecb7",
    "deepnote_cell_type": "code"
   },
   "source": "class SetCases:\n    def __init__(self,cases,case_count,class_column_name):\n        self.cases = cases\n        self.class_column_name = class_column_name\n        self.case_count = case_count\n        self.columns = list(cases.columns)\n        #self.attributes = self.columns\n        self.attributes = [item for item in self.columns if item != self.class_column_name] # This is 'A' in the theory\n        #self.attributes.remove(self.class_column_name)  \n    def cases_count(self):\n        self.case_count = self.cases.shape[0]\n        return self.case_count\n        \n    def get_attributes(self) -> list:\n        return self.attributes\n    \n    def entropy(self) -> float:  # Entropy Formula function\n        entropy = 0\n        counts = self.cases[self.class_column_name].value_counts()\n        for item in classValues:\n            prob = self.cases[self.cases[self.class_column_name]==item][self.class_column_name].count()/self.case_count\n            entropy -= (prob)*(math.log2(prob))\n        return round(entropy,3)\n\n    def entropy_attribute(self) -> float: # Entropia de cada tributo de 'A'\n        entropy_result = {}\n        for attribute in self.attributes:  # Bucle sobre cada atributo de la lista\n            result = 0\n            attr_indexes = list(self.cases[attribute].value_counts().index)\n            attr_counts = list(self.cases[attribute].value_counts().values)\n            i=0\n            for value in attr_indexes: # Bucle sobre los valores posibles de cada atributo\n                attr_entropy = 0\n                attr_count = attr_counts[i]\n\n                for c_value in classValues: # Bucle sobre cada caso de un valor posible de un atributo\n                    class_count = len(self.cases[(self.cases[attribute]==value)&(self.cases[self.class_column_name]==c_value)])\n                    if class_count != 0:\n                        attr_entropy -= (class_count/attr_count) * (math.log2((class_count/attr_count)))\n                    else:\n                        attr_entropy -= 0 #ESTO SE TENDRIA QUE SACAR DE ACA, CUANDO ESTE EL CODIGO COMPLETO ESTO IRIA AL PRINCIPIO\n                i+=1\n\n                result += (attr_count/self.case_count) * attr_entropy # Resultado de entropia de un atributo posible\n            entropy_result[attribute] = result\n        return entropy_result\n\n    def gain(self) -> list: # return [Att, Value]\n        entropy = self.entropy()\n        entropy_atts = self.entropy_attribute()\n        max_gain = 0\n        curr_gain = 0\n        result = [0,0]\n        for key,value in entropy_atts.items():\n            curr_gain = float(entropy) - value \n            if curr_gain > max_gain:\n                max_gain = curr_gain\n                result[0] = key\n                result[1] = curr_gain\n        return result\n\n    def gain2(self) -> list: # return list of [Att, Value], something like: [[Att1, Value] [Att2, Value]] \n        entropy = self.entropy()\n        entropy_atts = self.entropy_attribute()\n        curr_gain = 0\n        max_gain = 0\n        result = []\n        print(f'Entropia de la clase {entropy}')\n        for key,value in entropy_atts.items():\n            print(f'Entropia del atributo {key} es {value}')\n            curr_gain = float(entropy) - value\n            if curr_gain > max_gain:\n                result.insert(0, [key, curr_gain])\n                max_gain=curr_gain\n            else:\n                result.append([key, curr_gain])      \n        return result\n    \n    def gain_ratio(self) -> list:\n        entropy = self.entropy()\n        gain = self.gain2()\n        split_info = 0\n        max_gain_rate = 0\n        result=[0,0]\n        for att_name, gain_per_att in gain: # gain is [Att, Value]\n            # We generate a list of all the quantities of occurences of each attribute\n            attr_counts = list(self.cases[att_name].value_counts().values) # \n            split_info = 0\n            for attr_count in attr_counts:\n                split_info -= (attr_count/self.case_count) * (math.log2((attr_count/self.case_count)))\n            if ((split_info != 0.0) and (gain_per_att != 0.0)):\n                curr_gain_rate = gain_per_att / split_info\n            else:\n                curr_gain_rate = 0\n            if curr_gain_rate > max_gain_rate: \n                max_gain_rate = curr_gain_rate\n                result[0] = att_name\n                result[1] = curr_gain_rate\n        return result\n\n    def is_pure(self) -> bool:\n        classes = self.cases[self.class_column_name].unique()\n        if len(classes) == 1:\n            return True\n        return False\n    \n    def most_frequent_class(self) -> str:\n        print(f'self.class_column_name {self.class_column_name}')\n        return self.cases[self.class_column_name].mode().tolist()\n    \n    def separate_data(self, attr) -> list: # Esto retorna un arreglo con dataframes\n        attr_values = list(self.cases[attr].unique())\n        frames = []\n        for val in attr_values:\n            frames.append([val, self.cases[self.cases[attr]==val] ])\n        return frames",
   "outputs": [],
   "execution_count": null
  },
  {
   "cell_type": "code",
   "metadata": {
    "tags": [],
    "deepnote_to_be_reexecuted": false,
    "source_hash": "58df4726",
    "execution_start": 1633648879600,
    "execution_millis": 1017389,
    "cell_id": "00010-5b6eea4c-877e-4c38-9b37-6b25a7831e05",
    "deepnote_cell_type": "code"
   },
   "source": "name_counter = 1",
   "outputs": [],
   "execution_count": null
  },
  {
   "cell_type": "code",
   "metadata": {
    "tags": [],
    "deepnote_to_be_reexecuted": false,
    "source_hash": "bf07dae6",
    "execution_start": 1633648879600,
    "execution_millis": 44,
    "cell_id": "00011-e3bcbe61-6c7f-457b-99e2-768ec1d8be02",
    "deepnote_cell_type": "code"
   },
   "source": "class Node:\n    def __init__(self, data: SetCases, id_node: int , val_attr = None):\n        self.data = data\n        self.children = []\n        self.curr_class = ''\n        self.chosen_att = ''\n        self.id_node = id_node\n        self.val_attr = val_attr\n        self.gain = 0\n        global name_counter\n\n    def addChildren(self, node):\n        self.children.append(node)\n        \n    def printTree(self, depth: int, graph, previous_node, name_previous_node: int):\n        print('###############################################')\n        print(f\"Depth {depth}\")\n        print(self.curr_class)\n        global name_counter\n        if self.chosen_att != '':\n            print(f'Created node with name {self.id_node} and label {self.chosen_att}')\n            graph.node(name = str(self.id_node),label = f'{self.chosen_att} \\n Gain: {self.gain}')\n        else:\n            print(f'Created node with name {self.id_node} and label {self.curr_class}')\n            print(self.data.cases[self.data.class_column_name].value_counts())\n            graph.node(name = str(self.id_node), label= f'{self.curr_class} \\n Gain: {self.gain} \\n {self.data.cases[self.data.class_column_name].value_counts().values}',color='green')\n        if depth != 0:\n            print(f'Created edge between {name_previous_node} and {self.id_node}')\n            graph.edge(str(name_previous_node), str(self.id_node),label=self.val_attr)\n        #name_counter+=1\n        name_previous_node+=1\n        for item in self.children:\n            item.printTree(depth+1, graph, self, self.id_node)\n        ",
   "outputs": [],
   "execution_count": null
  },
  {
   "cell_type": "code",
   "metadata": {
    "tags": [],
    "deepnote_to_be_reexecuted": false,
    "source_hash": "c65fe070",
    "execution_start": 1633648879644,
    "execution_millis": 7,
    "cell_id": "00012-dde8a731-79c6-4956-bae2-5516870626c7",
    "deepnote_cell_type": "code"
   },
   "source": "\"\"\"\nprint(root_node.data.class_column_name)\nprint(root_node.data.cases)\nprint(root_node.data.cases[root_node.data.class_column_name])\nprint(root_node.children[0].data.cases)\nprint(root_node.children[0].data.cases[root_node.children[0].data.class_column_name])\n\"\"\"",
   "outputs": [
    {
     "output_type": "execute_result",
     "execution_count": 11,
     "data": {
      "text/plain": "'\\nprint(root_node.data.class_column_name)\\nprint(root_node.data.cases)\\nprint(root_node.data.cases[root_node.data.class_column_name])\\nprint(root_node.children[0].data.cases)\\nprint(root_node.children[0].data.cases[root_node.children[0].data.class_column_name])\\n'"
     },
     "metadata": {}
    }
   ],
   "execution_count": null
  },
  {
   "cell_type": "code",
   "metadata": {
    "tags": [],
    "deepnote_to_be_reexecuted": false,
    "source_hash": "36a018a4",
    "execution_start": 1633648879687,
    "execution_millis": 1,
    "cell_id": "00013-9288e5aa-3c09-4834-a24b-5a9ef660250a",
    "deepnote_cell_type": "code"
   },
   "source": "def decisionTree(D : SetCases, A : list, T : Node, guide_int : int):\n    global name_counter\n    if D.is_pure():\n        class_name = D.most_frequent_class()\n        T.curr_class = class_name\n    elif not A:\n        class_name = D.most_frequent_class()\n        T.curr_class = class_name\n    else:\n        print('Depth ' + str(guide_int))\n        #gain = D.gain()\n        gain = D.gain_ratio()\n        #gain = D.gain2()[0]\n        print('Attribute chosen ', gain[0])\n        print(\"ACA ESTA LA GANANCIA\",gain[1])\n        if gain[1] < threshold:\n            class_name = D.most_frequent_class()\n            T.curr_class = class_name\n        else:\n            T.chosen_att = gain[0]\n            A1 = [item for item in A if item != gain[0]]\n            subsets = D.separate_data(gain[0])\n            print(f'Cantidad de subsets{len(subsets)}')\n            for subset in subsets:\n                elem = SetCases(subset[1], len(subset[1]), D.class_column_name)\n                print(f'Name_counter {name_counter} Size {subset[1].shape}')\n                T.gain = round(gain[1],2)\n                new_node = Node(elem, name_counter, subset[0])\n                name_counter+=1\n                T.addChildren(new_node)\n                decisionTree(elem, A1, new_node, guide_int+1)",
   "outputs": [],
   "execution_count": null
  },
  {
   "cell_type": "code",
   "metadata": {
    "tags": [],
    "deepnote_to_be_reexecuted": false,
    "source_hash": "61e460b3",
    "execution_start": 1633648879689,
    "execution_millis": 1017451,
    "cell_id": "00014-962acd97-638e-4fa2-bd12-a67373e4c9d6",
    "deepnote_cell_type": "code"
   },
   "source": "graph = graphviz.Digraph()",
   "outputs": [],
   "execution_count": null
  },
  {
   "cell_type": "code",
   "metadata": {
    "tags": [],
    "deepnote_to_be_reexecuted": false,
    "source_hash": "4d41fa4d",
    "execution_start": 1633648879733,
    "execution_millis": 147,
    "cell_id": "00015-d76b57b6-355e-4939-adfc-c0303d7aba24",
    "deepnote_cell_type": "code"
   },
   "source": "threshold = 0.00000001\nset_init = SetCases(df,len(df),'AltaGama')\nroot_node = Node(set_init, 0)\ndecisionTree(set_init, set_init.get_attributes(),root_node,0)\n",
   "outputs": [
    {
     "name": "stdout",
     "text": "Depth 0\nEntropia de la clase 0.881\nEntropia del atributo NivelIngreso es 0.6754887502163469\nEntropia del atributo Edad es 0.8754887502163469\nEntropia del atributo CreditoPrendarioActual es 0.763547202339972\nEntropia del atributo CuentaSueldo es 0.7900134529890125\nAttribute chosen  CreditoPrendarioActual\nACA ESTA LA GANANCIA 0.16269320794109476\nCantidad de subsets2\nName_counter 1 Size (8, 5)\nDepth 1\nEntropia de la clase 0.954\nEntropia del atributo NivelIngreso es 0.75\nEntropia del atributo Edad es 0.9512050593046015\nEntropia del atributo CreditoPrendarioActual es 0.9544340029249649\nEntropia del atributo CuentaSueldo es 0.9056390622295665\nAttribute chosen  NivelIngreso\nACA ESTA LA GANANCIA 0.13599999999999998\nCantidad de subsets3\nName_counter 2 Size (2, 5)\nDepth 2\nEntropia de la clase 1.0\nEntropia del atributo NivelIngreso es 1.0\nEntropia del atributo Edad es 1.0\nEntropia del atributo CreditoPrendarioActual es 1.0\nEntropia del atributo CuentaSueldo es 1.0\nAttribute chosen  0\nACA ESTA LA GANANCIA 0\nself.class_column_name AltaGama\nName_counter 3 Size (2, 5)\nself.class_column_name AltaGama\nName_counter 4 Size (4, 5)\nDepth 2\nEntropia de la clase 1.0\nEntropia del atributo NivelIngreso es 1.0\nEntropia del atributo Edad es 0.6887218755408672\nEntropia del atributo CreditoPrendarioActual es 1.0\nEntropia del atributo CuentaSueldo es 0.0\nAttribute chosen  CuentaSueldo\nACA ESTA LA GANANCIA 1.0\nCantidad de subsets2\nName_counter 5 Size (2, 5)\nself.class_column_name AltaGama\nName_counter 6 Size (2, 5)\nself.class_column_name AltaGama\nName_counter 7 Size (2, 5)\nself.class_column_name AltaGama\n",
     "output_type": "stream"
    }
   ],
   "execution_count": null
  },
  {
   "cell_type": "code",
   "metadata": {
    "tags": [],
    "deepnote_to_be_reexecuted": false,
    "source_hash": "92cdd843",
    "execution_start": 1633648879892,
    "execution_millis": 59,
    "cell_id": "00016-4ae933c9-3061-45e2-9b39-58d5b49927dd",
    "deepnote_cell_type": "code"
   },
   "source": "root_node.printTree(0, graph, root_node,name_counter)",
   "outputs": [
    {
     "name": "stdout",
     "text": "###############################################\nDepth 0\n\nCreated node with name 0 and label CreditoPrendarioActual\n###############################################\nDepth 1\n\nCreated node with name 1 and label NivelIngreso\nCreated edge between 0 and 1\n###############################################\nDepth 2\n['no', 'si']\nCreated node with name 2 and label ['no', 'si']\nno    1\nsi    1\nName: AltaGama, dtype: int64\nCreated edge between 1 and 2\n###############################################\nDepth 2\n['no']\nCreated node with name 3 and label ['no']\nno    2\nName: AltaGama, dtype: int64\nCreated edge between 1 and 3\n###############################################\nDepth 2\n\nCreated node with name 4 and label CuentaSueldo\nCreated edge between 1 and 4\n###############################################\nDepth 3\n['no']\nCreated node with name 5 and label ['no']\nno    2\nName: AltaGama, dtype: int64\nCreated edge between 4 and 5\n###############################################\nDepth 3\n['si']\nCreated node with name 6 and label ['si']\nsi    2\nName: AltaGama, dtype: int64\nCreated edge between 4 and 6\n###############################################\nDepth 1\n['no']\nCreated node with name 7 and label ['no']\nno    2\nName: AltaGama, dtype: int64\nCreated edge between 0 and 7\n",
     "output_type": "stream"
    }
   ],
   "execution_count": null
  },
  {
   "cell_type": "code",
   "metadata": {
    "tags": [],
    "deepnote_to_be_reexecuted": false,
    "source_hash": "48d2cb31",
    "execution_start": 1633648879942,
    "execution_millis": 70,
    "cell_id": "00017-d7a41c45-5a5c-4c57-aa06-1ed07d4b997b",
    "deepnote_cell_type": "code"
   },
   "source": "\ngraph ",
   "outputs": [
    {
     "output_type": "execute_result",
     "execution_count": 16,
     "data": {
      "text/plain": "<graphviz.dot.Digraph at 0x7f0a4a5a8f10>",
      "image/svg+xml": "<?xml version=\"1.0\" encoding=\"UTF-8\" standalone=\"no\"?>\n<!DOCTYPE svg PUBLIC \"-//W3C//DTD SVG 1.1//EN\"\n \"http://www.w3.org/Graphics/SVG/1.1/DTD/svg11.dtd\">\n<!-- Generated by graphviz version 2.40.1 (20161225.0304)\n -->\n<!-- Title: %3 Pages: 1 -->\n<svg width=\"479pt\" height=\"440pt\"\n viewBox=\"0.00 0.00 478.55 439.60\" xmlns=\"http://www.w3.org/2000/svg\" xmlns:xlink=\"http://www.w3.org/1999/xlink\">\n<g id=\"graph0\" class=\"graph\" transform=\"scale(1 1) rotate(0) translate(4 435.6001)\">\n<title>%3</title>\n<polygon fill=\"#ffffff\" stroke=\"transparent\" points=\"-4,4 -4,-435.6001 474.5513,-435.6001 474.5513,4 -4,4\"/>\n<!-- 0 -->\n<g id=\"node1\" class=\"node\">\n<title>0</title>\n<ellipse fill=\"none\" stroke=\"#000000\" cx=\"270.1041\" cy=\"-404.73\" rx=\"135.5294\" ry=\"26.7407\"/>\n<text text-anchor=\"middle\" x=\"270.1041\" y=\"-408.53\" font-family=\"Times,serif\" font-size=\"14.00\" fill=\"#000000\">CreditoPrendarioActual </text>\n<text text-anchor=\"middle\" x=\"270.1041\" y=\"-393.53\" font-family=\"Times,serif\" font-size=\"14.00\" fill=\"#000000\"> Gain: 0.16</text>\n</g>\n<!-- 1 -->\n<g id=\"node2\" class=\"node\">\n<title>1</title>\n<ellipse fill=\"none\" stroke=\"#000000\" cx=\"193.1041\" cy=\"-289.3833\" rx=\"80.7205\" ry=\"26.7407\"/>\n<text text-anchor=\"middle\" x=\"193.1041\" y=\"-293.1833\" font-family=\"Times,serif\" font-size=\"14.00\" fill=\"#000000\">NivelIngreso </text>\n<text text-anchor=\"middle\" x=\"193.1041\" y=\"-278.1833\" font-family=\"Times,serif\" font-size=\"14.00\" fill=\"#000000\"> Gain: 0.14</text>\n</g>\n<!-- 0&#45;&gt;1 -->\n<g id=\"edge1\" class=\"edge\">\n<title>0&#45;&gt;1</title>\n<path fill=\"none\" stroke=\"#000000\" d=\"M252.2452,-377.9772C241.6521,-362.1088 228.0992,-341.8063 216.6406,-324.6412\"/>\n<polygon fill=\"#000000\" stroke=\"#000000\" points=\"219.3293,-322.3649 210.8661,-315.991 213.5073,-326.2514 219.3293,-322.3649\"/>\n<text text-anchor=\"middle\" x=\"245.6041\" y=\"-348.66\" font-family=\"Times,serif\" font-size=\"14.00\" fill=\"#000000\">si</text>\n</g>\n<!-- 7 -->\n<g id=\"node8\" class=\"node\">\n<title>7</title>\n<ellipse fill=\"none\" stroke=\"#00ff00\" cx=\"346.1041\" cy=\"-289.3833\" rx=\"54.3945\" ry=\"37.4533\"/>\n<text text-anchor=\"middle\" x=\"346.1041\" y=\"-300.6833\" font-family=\"Times,serif\" font-size=\"14.00\" fill=\"#000000\">[&#39;no&#39;] </text>\n<text text-anchor=\"middle\" x=\"346.1041\" y=\"-285.6833\" font-family=\"Times,serif\" font-size=\"14.00\" fill=\"#000000\"> Gain: 0 </text>\n<text text-anchor=\"middle\" x=\"346.1041\" y=\"-270.6833\" font-family=\"Times,serif\" font-size=\"14.00\" fill=\"#000000\"> [2]</text>\n</g>\n<!-- 0&#45;&gt;7 -->\n<g id=\"edge7\" class=\"edge\">\n<title>0&#45;&gt;7</title>\n<path fill=\"none\" stroke=\"#000000\" d=\"M287.731,-377.9772C296.6017,-364.514 307.5754,-347.8591 317.6054,-332.6364\"/>\n<polygon fill=\"#000000\" stroke=\"#000000\" points=\"320.7995,-334.15 323.3788,-323.8739 314.9542,-330.2986 320.7995,-334.15\"/>\n<text text-anchor=\"middle\" x=\"317.1041\" y=\"-348.66\" font-family=\"Times,serif\" font-size=\"14.00\" fill=\"#000000\">no</text>\n</g>\n<!-- 2 -->\n<g id=\"node3\" class=\"node\">\n<title>2</title>\n<ellipse fill=\"none\" stroke=\"#00ff00\" cx=\"60.1041\" cy=\"-163.43\" rx=\"60.2083\" ry=\"37.4533\"/>\n<text text-anchor=\"middle\" x=\"60.1041\" y=\"-174.73\" font-family=\"Times,serif\" font-size=\"14.00\" fill=\"#000000\">[&#39;no&#39;, &#39;si&#39;] </text>\n<text text-anchor=\"middle\" x=\"60.1041\" y=\"-159.73\" font-family=\"Times,serif\" font-size=\"14.00\" fill=\"#000000\"> Gain: 0 </text>\n<text text-anchor=\"middle\" x=\"60.1041\" y=\"-144.73\" font-family=\"Times,serif\" font-size=\"14.00\" fill=\"#000000\"> [1 1]</text>\n</g>\n<!-- 1&#45;&gt;2 -->\n<g id=\"edge2\" class=\"edge\">\n<title>1&#45;&gt;2</title>\n<path fill=\"none\" stroke=\"#000000\" d=\"M166.1895,-263.8948C147.4495,-246.1476 122.1151,-222.1555 100.9037,-202.0679\"/>\n<polygon fill=\"#000000\" stroke=\"#000000\" points=\"103.2579,-199.477 93.5905,-195.1422 98.4446,-204.5596 103.2579,-199.477\"/>\n<text text-anchor=\"middle\" x=\"153.1041\" y=\"-222.7066\" font-family=\"Times,serif\" font-size=\"14.00\" fill=\"#000000\">medio</text>\n</g>\n<!-- 3 -->\n<g id=\"node4\" class=\"node\">\n<title>3</title>\n<ellipse fill=\"none\" stroke=\"#00ff00\" cx=\"193.1041\" cy=\"-163.43\" rx=\"54.3945\" ry=\"37.4533\"/>\n<text text-anchor=\"middle\" x=\"193.1041\" y=\"-174.73\" font-family=\"Times,serif\" font-size=\"14.00\" fill=\"#000000\">[&#39;no&#39;] </text>\n<text text-anchor=\"middle\" x=\"193.1041\" y=\"-159.73\" font-family=\"Times,serif\" font-size=\"14.00\" fill=\"#000000\"> Gain: 0 </text>\n<text text-anchor=\"middle\" x=\"193.1041\" y=\"-144.73\" font-family=\"Times,serif\" font-size=\"14.00\" fill=\"#000000\"> [2]</text>\n</g>\n<!-- 1&#45;&gt;3 -->\n<g id=\"edge3\" class=\"edge\">\n<title>1&#45;&gt;3</title>\n<path fill=\"none\" stroke=\"#000000\" d=\"M193.1041,-262.3632C193.1041,-247.3778 193.1041,-228.3078 193.1041,-210.9177\"/>\n<polygon fill=\"#000000\" stroke=\"#000000\" points=\"196.6042,-210.9163 193.1041,-200.9164 189.6042,-210.9164 196.6042,-210.9163\"/>\n<text text-anchor=\"middle\" x=\"208.6041\" y=\"-222.7066\" font-family=\"Times,serif\" font-size=\"14.00\" fill=\"#000000\">bajo</text>\n</g>\n<!-- 4 -->\n<g id=\"node5\" class=\"node\">\n<title>4</title>\n<ellipse fill=\"none\" stroke=\"#000000\" cx=\"352.1041\" cy=\"-163.43\" rx=\"86.0347\" ry=\"26.7407\"/>\n<text text-anchor=\"middle\" x=\"352.1041\" y=\"-167.23\" font-family=\"Times,serif\" font-size=\"14.00\" fill=\"#000000\">CuentaSueldo </text>\n<text text-anchor=\"middle\" x=\"352.1041\" y=\"-152.23\" font-family=\"Times,serif\" font-size=\"14.00\" fill=\"#000000\"> Gain: 1.0</text>\n</g>\n<!-- 1&#45;&gt;4 -->\n<g id=\"edge4\" class=\"edge\">\n<title>1&#45;&gt;4</title>\n<path fill=\"none\" stroke=\"#000000\" d=\"M224.5174,-264.499C249.697,-244.5527 285.1853,-216.4403 312.3439,-194.9264\"/>\n<polygon fill=\"#000000\" stroke=\"#000000\" points=\"314.819,-197.4308 320.4843,-188.4778 310.4724,-191.9438 314.819,-197.4308\"/>\n<text text-anchor=\"middle\" x=\"292.1041\" y=\"-222.7066\" font-family=\"Times,serif\" font-size=\"14.00\" fill=\"#000000\">alto</text>\n</g>\n<!-- 5 -->\n<g id=\"node6\" class=\"node\">\n<title>5</title>\n<ellipse fill=\"none\" stroke=\"#00ff00\" cx=\"289.1041\" cy=\"-37.4767\" rx=\"54.3945\" ry=\"37.4533\"/>\n<text text-anchor=\"middle\" x=\"289.1041\" y=\"-48.7767\" font-family=\"Times,serif\" font-size=\"14.00\" fill=\"#000000\">[&#39;no&#39;] </text>\n<text text-anchor=\"middle\" x=\"289.1041\" y=\"-33.7767\" font-family=\"Times,serif\" font-size=\"14.00\" fill=\"#000000\"> Gain: 0 </text>\n<text text-anchor=\"middle\" x=\"289.1041\" y=\"-18.7767\" font-family=\"Times,serif\" font-size=\"14.00\" fill=\"#000000\"> [2]</text>\n</g>\n<!-- 4&#45;&gt;5 -->\n<g id=\"edge5\" class=\"edge\">\n<title>4&#45;&gt;5</title>\n<path fill=\"none\" stroke=\"#000000\" d=\"M338.7434,-136.7185C330.8694,-120.9763 320.7015,-100.6481 311.6206,-82.493\"/>\n<polygon fill=\"#000000\" stroke=\"#000000\" points=\"314.5926,-80.6108 306.9888,-73.2329 308.3321,-83.7423 314.5926,-80.6108\"/>\n<text text-anchor=\"middle\" x=\"332.1041\" y=\"-96.7533\" font-family=\"Times,serif\" font-size=\"14.00\" fill=\"#000000\">no</text>\n</g>\n<!-- 6 -->\n<g id=\"node7\" class=\"node\">\n<title>6</title>\n<ellipse fill=\"none\" stroke=\"#00ff00\" cx=\"416.1041\" cy=\"-37.4767\" rx=\"54.3945\" ry=\"37.4533\"/>\n<text text-anchor=\"middle\" x=\"416.1041\" y=\"-48.7767\" font-family=\"Times,serif\" font-size=\"14.00\" fill=\"#000000\">[&#39;si&#39;] </text>\n<text text-anchor=\"middle\" x=\"416.1041\" y=\"-33.7767\" font-family=\"Times,serif\" font-size=\"14.00\" fill=\"#000000\"> Gain: 0 </text>\n<text text-anchor=\"middle\" x=\"416.1041\" y=\"-18.7767\" font-family=\"Times,serif\" font-size=\"14.00\" fill=\"#000000\"> [2]</text>\n</g>\n<!-- 4&#45;&gt;6 -->\n<g id=\"edge6\" class=\"edge\">\n<title>4&#45;&gt;6</title>\n<path fill=\"none\" stroke=\"#000000\" d=\"M365.6768,-136.7185C373.6758,-120.9763 384.0051,-100.6481 393.2302,-82.493\"/>\n<polygon fill=\"#000000\" stroke=\"#000000\" points=\"396.5257,-83.7336 397.9354,-73.2329 390.2851,-80.5625 396.5257,-83.7336\"/>\n<text text-anchor=\"middle\" x=\"392.6041\" y=\"-96.7533\" font-family=\"Times,serif\" font-size=\"14.00\" fill=\"#000000\">si</text>\n</g>\n</g>\n</svg>\n"
     },
     "metadata": {}
    }
   ],
   "execution_count": null
  },
  {
   "cell_type": "markdown",
   "source": "## Predicciones",
   "metadata": {
    "tags": [],
    "is_collapsed": false,
    "cell_id": "00018-b2a625dd-25fb-4299-9c4e-d87bf6a7a4a6",
    "deepnote_cell_type": "text-cell-h2"
   }
  },
  {
   "cell_type": "markdown",
   "source": "",
   "metadata": {
    "tags": [],
    "is_collapsed": false,
    "cell_id": "00019-168dadce-fbf2-4b6e-8c59-9b951a605843",
    "deepnote_cell_type": "text-cell-p"
   }
  },
  {
   "cell_type": "code",
   "metadata": {
    "tags": [],
    "deepnote_to_be_reexecuted": false,
    "source_hash": "956aeeba",
    "execution_start": 1633648880079,
    "execution_millis": 3,
    "cell_id": "00020-949c2360-1152-4201-88c2-5cede50a6e7c",
    "deepnote_cell_type": "code"
   },
   "source": "def predict_case(case, node: Node):\n    while node.children:\n        node_att = node.chosen_att\n        case_att = case[node_att]\n        for child in node.children:\n            if case_att == child.val_attr:\n                node = child\n                break\n    return node.curr_class\n        \n",
   "outputs": [],
   "execution_count": null
  },
  {
   "cell_type": "code",
   "metadata": {
    "tags": [],
    "deepnote_to_be_reexecuted": false,
    "source_hash": "dde0fb64",
    "execution_start": 1633648880080,
    "execution_millis": 1017573,
    "cell_id": "00021-2cabe823-9a81-4798-8949-95ecff034495",
    "deepnote_cell_type": "code"
   },
   "source": "def predict_cases(cases,node:Node):\n    predictions = []\n    for item,value in cases.iterrows():\n        aux = node\n        predictions.append(predict_case(value, aux))\n    return predictions",
   "outputs": [],
   "execution_count": null
  },
  {
   "cell_type": "code",
   "metadata": {
    "tags": [],
    "deepnote_to_be_reexecuted": false,
    "source_hash": "72ed8d48",
    "execution_start": 1633648880124,
    "execution_millis": 20,
    "cell_id": "00022-cfe6ddd3-1feb-4d11-aa11-cb1946f4b6b2",
    "deepnote_cell_type": "code"
   },
   "source": "pos = 0\ndf.loc[pos:pos]",
   "outputs": [
    {
     "output_type": "execute_result",
     "execution_count": 19,
     "data": {
      "application/vnd.deepnote.dataframe.v2+json": {
       "row_count": 1,
       "column_count": 5,
       "columns": [
        {
         "name": "NivelIngreso",
         "dtype": "object",
         "stats": {
          "unique_count": 1,
          "nan_count": 0,
          "categories": [
           {
            "name": "medio",
            "count": 1
           }
          ]
         }
        },
        {
         "name": "Edad",
         "dtype": "object",
         "stats": {
          "unique_count": 1,
          "nan_count": 0,
          "categories": [
           {
            "name": "mayor35",
            "count": 1
           }
          ]
         }
        },
        {
         "name": "CreditoPrendarioActual",
         "dtype": "object",
         "stats": {
          "unique_count": 1,
          "nan_count": 0,
          "categories": [
           {
            "name": "si",
            "count": 1
           }
          ]
         }
        },
        {
         "name": "CuentaSueldo",
         "dtype": "object",
         "stats": {
          "unique_count": 1,
          "nan_count": 0,
          "categories": [
           {
            "name": "no",
            "count": 1
           }
          ]
         }
        },
        {
         "name": "AltaGama",
         "dtype": "object",
         "stats": {
          "unique_count": 1,
          "nan_count": 0,
          "categories": [
           {
            "name": "si",
            "count": 1
           }
          ]
         }
        },
        {
         "name": "_deepnote_index_column",
         "dtype": "int64"
        }
       ],
       "rows_top": [
        {
         "NivelIngreso": "medio",
         "Edad": "mayor35",
         "CreditoPrendarioActual": "si",
         "CuentaSueldo": "no",
         "AltaGama": "si",
         "_deepnote_index_column": 0
        }
       ],
       "rows_bottom": null
      },
      "text/plain": "  NivelIngreso     Edad CreditoPrendarioActual CuentaSueldo AltaGama\n0        medio  mayor35                     si           no       si",
      "text/html": "<div>\n<style scoped>\n    .dataframe tbody tr th:only-of-type {\n        vertical-align: middle;\n    }\n\n    .dataframe tbody tr th {\n        vertical-align: top;\n    }\n\n    .dataframe thead th {\n        text-align: right;\n    }\n</style>\n<table border=\"1\" class=\"dataframe\">\n  <thead>\n    <tr style=\"text-align: right;\">\n      <th></th>\n      <th>NivelIngreso</th>\n      <th>Edad</th>\n      <th>CreditoPrendarioActual</th>\n      <th>CuentaSueldo</th>\n      <th>AltaGama</th>\n    </tr>\n  </thead>\n  <tbody>\n    <tr>\n      <th>0</th>\n      <td>medio</td>\n      <td>mayor35</td>\n      <td>si</td>\n      <td>no</td>\n      <td>si</td>\n    </tr>\n  </tbody>\n</table>\n</div>"
     },
     "metadata": {}
    }
   ],
   "execution_count": null
  },
  {
   "cell_type": "code",
   "metadata": {
    "tags": [],
    "deepnote_to_be_reexecuted": false,
    "source_hash": "f9bdb89d",
    "execution_start": 1633648880168,
    "execution_millis": 1017550,
    "cell_id": "00023-6becf1f2-3ad6-4f8c-8df2-6873f395cb4b",
    "deepnote_cell_type": "code"
   },
   "source": "test = df.loc[pos:pos]",
   "outputs": [],
   "execution_count": null
  },
  {
   "cell_type": "code",
   "metadata": {
    "tags": [],
    "deepnote_to_be_reexecuted": false,
    "source_hash": "8820ef73",
    "execution_start": 1633648880231,
    "execution_millis": 1017561,
    "cell_id": "00024-35be84ff-323d-4225-99bc-f8843bf541d5",
    "deepnote_cell_type": "code"
   },
   "source": "#predict_case(test,root_node)",
   "outputs": [],
   "execution_count": null
  },
  {
   "cell_type": "code",
   "metadata": {
    "tags": [],
    "deepnote_to_be_reexecuted": false,
    "source_hash": "1151621d",
    "execution_start": 1633648880232,
    "execution_millis": 1017573,
    "cell_id": "00025-4c05624d-d0ce-4182-96d7-1e3437998dc2",
    "deepnote_cell_type": "code"
   },
   "source": "df['test_result'] = predict_cases(df,root_node)",
   "outputs": [],
   "execution_count": null
  },
  {
   "cell_type": "code",
   "metadata": {
    "tags": [],
    "deepnote_to_be_reexecuted": false,
    "source_hash": "41c0aff3",
    "execution_start": 1633648880232,
    "execution_millis": 221,
    "cell_id": "00026-aca536eb-a9ae-46ec-8441-214c28f4385d",
    "deepnote_cell_type": "code"
   },
   "source": "df[['class','test_result']]",
   "outputs": [
    {
     "output_type": "error",
     "ename": "KeyError",
     "evalue": "\"['class'] not in index\"",
     "traceback": [
      "\u001b[0;31m---------------------------------------------------------------------------\u001b[0m",
      "\u001b[0;31mKeyError\u001b[0m                                  Traceback (most recent call last)",
      "\u001b[0;32m/tmp/ipykernel_1871/3769931989.py\u001b[0m in \u001b[0;36m<module>\u001b[0;34m\u001b[0m\n\u001b[0;32m----> 1\u001b[0;31m \u001b[0mdf\u001b[0m\u001b[0;34m[\u001b[0m\u001b[0;34m[\u001b[0m\u001b[0;34m'class'\u001b[0m\u001b[0;34m,\u001b[0m\u001b[0;34m'test_result'\u001b[0m\u001b[0;34m]\u001b[0m\u001b[0;34m]\u001b[0m\u001b[0;34m\u001b[0m\u001b[0;34m\u001b[0m\u001b[0m\n\u001b[0m",
      "\u001b[0;32m/shared-libs/python3.7/py/lib/python3.7/site-packages/pandas/core/frame.py\u001b[0m in \u001b[0;36m__getitem__\u001b[0;34m(self, key)\u001b[0m\n\u001b[1;32m   3028\u001b[0m             \u001b[0;32mif\u001b[0m \u001b[0mis_iterator\u001b[0m\u001b[0;34m(\u001b[0m\u001b[0mkey\u001b[0m\u001b[0;34m)\u001b[0m\u001b[0;34m:\u001b[0m\u001b[0;34m\u001b[0m\u001b[0;34m\u001b[0m\u001b[0m\n\u001b[1;32m   3029\u001b[0m                 \u001b[0mkey\u001b[0m \u001b[0;34m=\u001b[0m \u001b[0mlist\u001b[0m\u001b[0;34m(\u001b[0m\u001b[0mkey\u001b[0m\u001b[0;34m)\u001b[0m\u001b[0;34m\u001b[0m\u001b[0;34m\u001b[0m\u001b[0m\n\u001b[0;32m-> 3030\u001b[0;31m             \u001b[0mindexer\u001b[0m \u001b[0;34m=\u001b[0m \u001b[0mself\u001b[0m\u001b[0;34m.\u001b[0m\u001b[0mloc\u001b[0m\u001b[0;34m.\u001b[0m\u001b[0m_get_listlike_indexer\u001b[0m\u001b[0;34m(\u001b[0m\u001b[0mkey\u001b[0m\u001b[0;34m,\u001b[0m \u001b[0maxis\u001b[0m\u001b[0;34m=\u001b[0m\u001b[0;36m1\u001b[0m\u001b[0;34m,\u001b[0m \u001b[0mraise_missing\u001b[0m\u001b[0;34m=\u001b[0m\u001b[0;32mTrue\u001b[0m\u001b[0;34m)\u001b[0m\u001b[0;34m[\u001b[0m\u001b[0;36m1\u001b[0m\u001b[0;34m]\u001b[0m\u001b[0;34m\u001b[0m\u001b[0;34m\u001b[0m\u001b[0m\n\u001b[0m\u001b[1;32m   3031\u001b[0m \u001b[0;34m\u001b[0m\u001b[0m\n\u001b[1;32m   3032\u001b[0m         \u001b[0;31m# take() does not accept boolean indexers\u001b[0m\u001b[0;34m\u001b[0m\u001b[0;34m\u001b[0m\u001b[0;34m\u001b[0m\u001b[0m\n",
      "\u001b[0;32m/shared-libs/python3.7/py/lib/python3.7/site-packages/pandas/core/indexing.py\u001b[0m in \u001b[0;36m_get_listlike_indexer\u001b[0;34m(self, key, axis, raise_missing)\u001b[0m\n\u001b[1;32m   1264\u001b[0m             \u001b[0mkeyarr\u001b[0m\u001b[0;34m,\u001b[0m \u001b[0mindexer\u001b[0m\u001b[0;34m,\u001b[0m \u001b[0mnew_indexer\u001b[0m \u001b[0;34m=\u001b[0m \u001b[0max\u001b[0m\u001b[0;34m.\u001b[0m\u001b[0m_reindex_non_unique\u001b[0m\u001b[0;34m(\u001b[0m\u001b[0mkeyarr\u001b[0m\u001b[0;34m)\u001b[0m\u001b[0;34m\u001b[0m\u001b[0;34m\u001b[0m\u001b[0m\n\u001b[1;32m   1265\u001b[0m \u001b[0;34m\u001b[0m\u001b[0m\n\u001b[0;32m-> 1266\u001b[0;31m         \u001b[0mself\u001b[0m\u001b[0;34m.\u001b[0m\u001b[0m_validate_read_indexer\u001b[0m\u001b[0;34m(\u001b[0m\u001b[0mkeyarr\u001b[0m\u001b[0;34m,\u001b[0m \u001b[0mindexer\u001b[0m\u001b[0;34m,\u001b[0m \u001b[0maxis\u001b[0m\u001b[0;34m,\u001b[0m \u001b[0mraise_missing\u001b[0m\u001b[0;34m=\u001b[0m\u001b[0mraise_missing\u001b[0m\u001b[0;34m)\u001b[0m\u001b[0;34m\u001b[0m\u001b[0;34m\u001b[0m\u001b[0m\n\u001b[0m\u001b[1;32m   1267\u001b[0m         \u001b[0;32mreturn\u001b[0m \u001b[0mkeyarr\u001b[0m\u001b[0;34m,\u001b[0m \u001b[0mindexer\u001b[0m\u001b[0;34m\u001b[0m\u001b[0;34m\u001b[0m\u001b[0m\n\u001b[1;32m   1268\u001b[0m \u001b[0;34m\u001b[0m\u001b[0m\n",
      "\u001b[0;32m/shared-libs/python3.7/py/lib/python3.7/site-packages/pandas/core/indexing.py\u001b[0m in \u001b[0;36m_validate_read_indexer\u001b[0;34m(self, key, indexer, axis, raise_missing)\u001b[0m\n\u001b[1;32m   1314\u001b[0m             \u001b[0;32mif\u001b[0m \u001b[0mraise_missing\u001b[0m\u001b[0;34m:\u001b[0m\u001b[0;34m\u001b[0m\u001b[0;34m\u001b[0m\u001b[0m\n\u001b[1;32m   1315\u001b[0m                 \u001b[0mnot_found\u001b[0m \u001b[0;34m=\u001b[0m \u001b[0mlist\u001b[0m\u001b[0;34m(\u001b[0m\u001b[0mset\u001b[0m\u001b[0;34m(\u001b[0m\u001b[0mkey\u001b[0m\u001b[0;34m)\u001b[0m \u001b[0;34m-\u001b[0m \u001b[0mset\u001b[0m\u001b[0;34m(\u001b[0m\u001b[0max\u001b[0m\u001b[0;34m)\u001b[0m\u001b[0;34m)\u001b[0m\u001b[0;34m\u001b[0m\u001b[0;34m\u001b[0m\u001b[0m\n\u001b[0;32m-> 1316\u001b[0;31m                 \u001b[0;32mraise\u001b[0m \u001b[0mKeyError\u001b[0m\u001b[0;34m(\u001b[0m\u001b[0;34mf\"{not_found} not in index\"\u001b[0m\u001b[0;34m)\u001b[0m\u001b[0;34m\u001b[0m\u001b[0;34m\u001b[0m\u001b[0m\n\u001b[0m\u001b[1;32m   1317\u001b[0m \u001b[0;34m\u001b[0m\u001b[0m\n\u001b[1;32m   1318\u001b[0m             \u001b[0mnot_found\u001b[0m \u001b[0;34m=\u001b[0m \u001b[0mkey\u001b[0m\u001b[0;34m[\u001b[0m\u001b[0mmissing_mask\u001b[0m\u001b[0;34m]\u001b[0m\u001b[0;34m\u001b[0m\u001b[0;34m\u001b[0m\u001b[0m\n",
      "\u001b[0;31mKeyError\u001b[0m: \"['class'] not in index\""
     ]
    }
   ],
   "execution_count": null
  },
  {
   "cell_type": "code",
   "metadata": {
    "tags": [],
    "deepnote_to_be_reexecuted": true,
    "source_hash": "b623e53d",
    "execution_start": 1633645144201,
    "execution_millis": 135039,
    "cell_id": "00027-e33de77f-b6c4-42fd-820b-c6826ca3fbd8",
    "deepnote_cell_type": "code"
   },
   "source": "",
   "outputs": [],
   "execution_count": null
  },
  {
   "cell_type": "markdown",
   "source": "<a style='text-decoration:none;line-height:16px;display:flex;color:#5B5B62;padding:10px;justify-content:end;' href='https://deepnote.com?utm_source=created-in-deepnote-cell&projectId=9a66d969-af84-4258-a4a2-724e61aa71b5' target=\"_blank\">\n<img alt='Created in deepnote.com' style='display:inline;max-height:16px;margin:0px;margin-right:7.5px;' src='data:image/svg+xml;base64,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' > </img>\nCreated in <span style='font-weight:600;margin-left:4px;'>Deepnote</span></a>",
   "metadata": {
    "tags": [],
    "created_in_deepnote_cell": true,
    "deepnote_cell_type": "markdown"
   }
  }
 ],
 "nbformat": 4,
 "nbformat_minor": 2,
 "metadata": {
  "deepnoteSessionId": "dea8a0f5-35e3-4468-94eb-804ff5fc7baa",
  "kernelspec": {
   "display_name": "Python 3",
   "language": "python",
   "name": "python3"
  },
  "language_info": {
   "codemirror_mode": {
    "name": "ipython",
    "version": 3
   },
   "file_extension": ".py",
   "mimetype": "text/x-python",
   "name": "python",
   "nbconvert_exporter": "python",
   "pygments_lexer": "ipython3",
   "version": "3.7.5"
  },
  "deepnote_execution_queue": [],
  "deepnote_notebook_id": "27dd3b2d-5f59-4fa6-aec9-d819ac1abc36",
  "deepnote": {}
 }
}