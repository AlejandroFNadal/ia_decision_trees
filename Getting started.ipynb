{
 "cells": [
  {
   "cell_type": "markdown",
   "source": "# Getting started\n\n👋 Welcome to Deepnote! If you're new to notebooks, we recommend you browse through this guide and watch the videos (it takes about 5 minutes). You can also pick what's most relevant to you right now and come back anytime to see the rest. ",
   "metadata": {
    "cell_id": "00000-afaa988f-f5dd-4375-b4f7-9a83bf1a7224",
    "deepnote_cell_type": "markdown"
   }
  },
  {
   "cell_type": "markdown",
   "source": "## 1. Run a cell 🏃\nSelect the code cell below and click _Run_ in the right sidebar. You can also press <kbd>Shift</kbd>+<kbd>Enter</kbd> to run it and move to the next cell.",
   "metadata": {
    "tags": [],
    "cell_id": "00001-6ff442ac-2524-43cc-ae8f-f4854f782fc1",
    "deepnote_cell_type": "markdown"
   }
  },
  {
   "cell_type": "markdown",
   "source": "",
   "metadata": {
    "tags": [],
    "cell_id": "00002-85a80a07-41ab-4b00-af75-58c4d817dc48",
    "deepnote_cell_type": "markdown"
   }
  },
  {
   "cell_type": "markdown",
   "source": "![Picture title](image-20210902-230946.png)",
   "metadata": {
    "tags": [],
    "cell_id": "00003-09a5fc14-636b-4047-8756-98a87913fe4e",
    "deepnote_cell_type": "markdown"
   }
  },
  {
   "cell_type": "markdown",
   "source": "Ideas: Introducimos la data en un Pandas. Iteramos sobre las columnas y analizamos los valores posibles para cada columna, incluyendo la clase de cada caso. Podemos crear luego un objeto que sea conjunto o algo asi, y ese objeto le damos el metodo \"entropia\". Aparte, creamos una funcion que reciba uno de estos conjuntos y tome los atributos que analizamos de la tabla. La funcion itera sobre la lista de atributos y nos devuelve el atributo con mayor ganancia\nAhi miramos si tenemos suficiente ganancia, sit enemos, creamos un nodo y separamos cada caso dependiendo del valor del atributo en subconjuntos. Guardamos los subconjuntos en una lista en el nodo y llamamos al algoritmo con los elementos de la lista.",
   "metadata": {
    "tags": [],
    "cell_id": "00004-36206da7-7353-4448-9af1-c2fd42f2a5c5",
    "deepnote_cell_type": "markdown"
   }
  },
  {
   "cell_type": "code",
   "metadata": {
    "tags": [],
    "output_cleared": false,
    "source_hash": "bfa9fb56",
    "execution_start": 1632438719202,
    "execution_millis": 1162,
    "deepnote_to_be_reexecuted": false,
    "cell_id": "00005-f5c44a1f-ef93-4510-b233-fed7c8ff9b4f",
    "deepnote_cell_type": "code"
   },
   "source": "import pandas as pd\nimport math\nimport streamlit as st\nimport graphviz as graphviz",
   "execution_count": 1,
   "outputs": []
  },
  {
   "cell_type": "code",
   "metadata": {
    "tags": [],
    "deepnote_to_be_reexecuted": false,
    "source_hash": "9faad0ab",
    "execution_start": 1632438807805,
    "execution_millis": 20,
    "cell_id": "00006-bcc69361-5114-462b-ac80-f593f1e49be6",
    "deepnote_cell_type": "code"
   },
   "source": "df = pd.read_csv('data_test.csv')\ndf['ProblemasCardiacos'].value_counts().items()",
   "execution_count": 16,
   "outputs": [
    {
     "output_type": "execute_result",
     "execution_count": 16,
     "data": {
      "text/plain": "T    6\nF    4\nName: ProblemasCardiacos, dtype: int64"
     },
     "metadata": {}
    }
   ]
  },
  {
   "cell_type": "code",
   "source": "list(df['ProblemasCardiacos'].value_counts().values)",
   "metadata": {
    "tags": [],
    "cell_id": "00007-c3378fde-b091-404f-88a9-6b4837b1d4b6",
    "deepnote_to_be_reexecuted": false,
    "source_hash": "fa039e68",
    "execution_start": 1632438846843,
    "execution_millis": 10,
    "deepnote_cell_type": "code"
   },
   "outputs": [
    {
     "output_type": "execute_result",
     "execution_count": 20,
     "data": {
      "text/plain": "[6, 4]"
     },
     "metadata": {}
    }
   ],
   "execution_count": 20
  },
  {
   "cell_type": "code",
   "metadata": {
    "tags": [],
    "cell_id": "00007-4d220333-1d47-451a-b2f2-8111f9fee141",
    "deepnote_to_be_reexecuted": false,
    "source_hash": "2115a9a4",
    "execution_start": 1632438720414,
    "execution_millis": 13,
    "deepnote_cell_type": "code"
   },
   "source": "df['ProblemasCardiacos'].mode().item()",
   "execution_count": 3,
   "outputs": [
    {
     "output_type": "execute_result",
     "execution_count": 3,
     "data": {
      "text/plain": "'T'"
     },
     "metadata": {}
    }
   ]
  },
  {
   "cell_type": "markdown",
   "source": "![Picture title](entropy.png)\n",
   "metadata": {
    "tags": [],
    "cell_id": "00007-dcf51ccb-dae8-4e8b-9e16-adc1b401d6df",
    "deepnote_cell_type": "markdown"
   }
  },
  {
   "cell_type": "markdown",
   "source": "![Picture title](entropyAt.png)",
   "metadata": {
    "tags": [],
    "cell_id": "00008-92138b4f-8ae1-4922-a9fc-cf1a36751f26",
    "deepnote_cell_type": "markdown"
   }
  },
  {
   "cell_type": "code",
   "metadata": {
    "tags": [],
    "deepnote_to_be_reexecuted": false,
    "source_hash": "901ad4c0",
    "execution_start": 1632438720423,
    "execution_millis": 11,
    "cell_id": "00009-29888a13-fa39-41bb-a0b3-47e8ca35b1fc",
    "deepnote_cell_type": "code"
   },
   "source": "classValues = list(df['ProblemasCardiacos'].value_counts().index) # Valores posibles de la columna clase\nclassValues",
   "execution_count": 4,
   "outputs": [
    {
     "output_type": "execute_result",
     "execution_count": 4,
     "data": {
      "text/plain": "['T', 'F']"
     },
     "metadata": {}
    }
   ]
  },
  {
   "cell_type": "code",
   "metadata": {
    "tags": [],
    "deepnote_to_be_reexecuted": false,
    "source_hash": "7234131e",
    "execution_start": 1632438720474,
    "execution_millis": 48,
    "cell_id": "00010-f687de80-3c3b-4441-8975-166f5ada2233",
    "deepnote_cell_type": "code"
   },
   "source": "class SetCases:\n    def __init__(self,cases,case_count,class_column_name):\n        self.cases = cases\n        self.class_column_name = class_column_name\n        self.case_count = case_count\n        self.columns = list(cases.columns)\n        #self.attributes = self.columns\n        self.attributes = [item for item in self.columns if item != self.class_column_name] # This is 'A' in the theory\n        #self.attributes.remove(self.class_column_name)  \n    def cases_count(self):\n        self.case_count = self.cases.shape[0]\n        return self.case_count\n        \n    def get_attributes(self) -> list:\n        return self.attributes\n    \n    def entropy(self) -> float:  # Entropy Formula function\n        entropy = 0\n        counts = self.cases[self.class_column_name].value_counts()\n        for item in classValues:\n            prob = self.cases[self.cases[self.class_column_name]==item][self.class_column_name].count()/self.case_count\n            entropy -= (prob)*(math.log2(prob))\n        return round(entropy,3)\n\n    def entropy_attribute(self) -> float: # Entropia de cada tributo de 'A'\n        entropy_result = {}\n        for attribute in self.attributes:  # Bucle sobre cada atributo de la lista\n            result = 0\n            attr_indexes = list(self.cases[attribute].value_counts().index)\n            attr_counts = list(self.cases[attribute].value_counts().values)\n            i=0\n            for value in attr_indexes: # Bucle sobre los valores posibles de cada atributo\n                attr_entropy = 0\n                attr_count = attr_counts[i]\n\n                for c_value in classValues: # Bucle sobre cada caso de un valor posible de un atributo\n                    class_count = len(self.cases[(self.cases[attribute]==value)&(self.cases[self.class_column_name]==c_value)])\n                    if class_count != 0:\n                        attr_entropy -= (class_count/attr_count) * (math.log2((class_count/attr_count)))\n                    else:\n                        attr_entropy -= 0 #ESTO SE TENDRIA QUE SACAR DE ACA, CUANDO ESTE EL CODIGO COMPLETO ESTO IRIA AL PRINCIPIO\n                i+=1\n\n                result += (attr_count/self.case_count) * attr_entropy # Resultado de entropia de un atributo posible\n            entropy_result[attribute] = result\n        return entropy_result\n\n    def gain(self) -> list: # return [Att, Value]\n        entropy = self.entropy()\n        entropy_atts = self.entropy_attribute()\n        max_gain = 0\n        curr_gain = 0\n        result = [0,0]\n        for key,value in entropy_atts.items():\n            curr_gain = float(entropy) - value \n            if curr_gain > max_gain:\n                max_gain = curr_gain\n                result[0] = key\n                result[1] = curr_gain\n        return result\n\n    def gain2(self) -> list: # return list of [Att, Value], something like: [[Att1, Value] [Att2, Value]] ESTO ES PARA PROBAR EL GAIN RATIO\n        entropy = self.entropy()\n        entropy_atts = self.entropy_attribute()\n        curr_gain = 0\n        max_gain = 0\n        result = []\n        for key,value in entropy_atts.items():\n            curr_gain = float(entropy) - value\n            if curr_gain > max_gain:\n                result.insert(0, [key, curr_gain])\n                max_gain=curr_gain\n            else:\n                result.append([key, curr_gain])      \n        return result\n    \n    def gain_ratio(self) -> list:\n        entropy = self.entropy()\n        gain = self.gain2()\n        split_info = 0\n        max_gain_rate = 0\n        result=[0,0]\n        for att_name, gain_per_att in gain: # gain_per_att is [Att, Value]\n            # We generate a list of all the quantities of occurences of each attribute\n            attr_counts = list(self.cases[att_name].value_counts().values)\n            split_info = 0\n            for attr_count in attr_counts:\n                split_info -= (attr_count/self.case_count) * (math.log2((attr_count/self.case_count)))\n            curr_gain_rate = gain_per_att / split_info\n            if curr_gain_rate > max_gain_rate: \n                max_gain_rate = curr_gain_rate\n                result[0] = att_name\n                result[1] = curr_gain_rate\n        return result\n\n    def is_pure(self) -> bool:\n        classes = self.cases[self.class_column_name].unique()\n        if len(classes) == 1:\n            return True\n        return False\n    \n    def most_frequent_class(self) -> str:\n        return self.cases[self.class_column_name].mode().item()\n    \n    def separate_data(self, attr) -> list: # Esto retorna un arreglo con dataframes\n        attr_values = list(self.cases[attr].unique())\n        frames = []\n        for val in attr_values:\n            frames.append(self.cases[self.cases[attr]==val])\n        return frames",
   "execution_count": 5,
   "outputs": []
  },
  {
   "cell_type": "code",
   "metadata": {
    "tags": [],
    "cell_id": "00014-fa0c563e-cda6-40e5-847d-926fd17ec3d7",
    "deepnote_to_be_reexecuted": false,
    "source_hash": "58df4726",
    "execution_start": 1632438720550,
    "execution_millis": 0,
    "deepnote_cell_type": "code"
   },
   "source": "name_counter = 1",
   "execution_count": 6,
   "outputs": []
  },
  {
   "cell_type": "code",
   "metadata": {
    "tags": [],
    "cell_id": "00013-c3a6dc16-b2d5-4245-ba80-c1d77c0db0fe",
    "deepnote_to_be_reexecuted": false,
    "source_hash": "4c088639",
    "execution_start": 1632438858741,
    "execution_millis": 36,
    "deepnote_cell_type": "code"
   },
   "source": "class Node:\n    def __init__(self, data: SetCases, id_node: int):\n        self.data = data\n        self.children = []\n        self.curr_class = ''\n        self.chosen_att = ''\n        self.id_node = id_node\n        self.gain = 0\n        global name_counter\n\n    def addChildren(self, node):\n        self.children.append(node)\n        \n    def printTree(self, depth: int, graph, previous_node, name_previous_node: int):\n        print('###############################################')\n        print(f\"Depth {depth}\")\n        print(self.curr_class)\n        global name_counter\n        if self.chosen_att != '':\n            print(f'Created node with name {self.id_node} and label {self.chosen_att}')\n            graph.node(name = str(self.id_node),label = f'{self.chosen_att} \\n Gain: {self.gain}')\n        else:\n            print(f'Created node with name {self.id_node} and label {self.curr_class}')\n            print(self.data.cases[self.data.class_column_name].value_counts())\n            graph.node(name = str(self.id_node), label= f'{self.curr_class} \\n Gain: {self.gain} \\n {self.data.cases[self.data.class_column_name].value_counts().values}',color='green')\n        if depth != 0:\n            print(f'Created edge between {name_previous_node} and {self.id_node}')\n            graph.edge(str(name_previous_node), str(self.id_node))\n        #name_counter+=1\n        name_previous_node+=1\n        for item in self.children:\n            item.printTree(depth+1, graph, self, self.id_node)\n        ",
   "execution_count": 21,
   "outputs": []
  },
  {
   "cell_type": "code",
   "source": "print(root_node.data.class_column_name)\nprint(root_node.data.cases)\nprint(root_node.data.cases[root_node.data.class_column_name])\nprint(root_node.children[0].data.cases)\nprint(root_node.children[0].data.cases[root_node.children[0].data.class_column_name])",
   "metadata": {
    "tags": [],
    "cell_id": "00015-8e9bf570-69ea-4bf0-b65f-ebc3f78c0b70",
    "deepnote_to_be_reexecuted": false,
    "source_hash": "bb16f814",
    "execution_start": 1632439109668,
    "execution_millis": 14,
    "deepnote_cell_type": "code"
   },
   "outputs": [
    {
     "name": "stdout",
     "text": "ProblemasCardiacos\n  Hipertenso Colesterol Trigliceridos         Edad Diabeico ProblemasCardiacos\n0          F       bajo        normal     menos_40        T                  F\n1          T       bajo       elevado     menos_40        T                  F\n2          T       bajo       elevado     mayor_60        T                  T\n3          T      medio       elevado     mayor_60        F                  T\n4          F      medio       elevado     menos_40        F                  T\n5          F      medio        normal  entre_40_60        T                  F\n6          T       alto        normal  entre_40_60        T                  T\n7          T       alto        normal  entre_40_60        T                  T\n8          T       alto       elevado     mayor_60        F                  T\n9          F       alto        normal     menos_40        F                  F\n0    F\n1    F\n2    T\n3    T\n4    T\n5    F\n6    T\n7    T\n8    T\n9    F\nName: ProblemasCardiacos, dtype: object\n  Hipertenso Colesterol Trigliceridos         Edad Diabeico ProblemasCardiacos\n0          F       bajo        normal     menos_40        T                  F\n4          F      medio       elevado     menos_40        F                  T\n5          F      medio        normal  entre_40_60        T                  F\n9          F       alto        normal     menos_40        F                  F\n0    F\n4    T\n5    F\n9    F\nName: ProblemasCardiacos, dtype: object\n",
     "output_type": "stream"
    }
   ],
   "execution_count": 35
  },
  {
   "cell_type": "code",
   "metadata": {
    "tags": [],
    "cell_id": "00015-81c2d8c8-6d75-410b-9651-0b66d046dd66",
    "deepnote_to_be_reexecuted": false,
    "source_hash": "8e2a9336",
    "execution_start": 1632438859837,
    "execution_millis": 1,
    "deepnote_cell_type": "code"
   },
   "source": "def decisionTree(D : SetCases, A : list, T : Node, guide_int : int):\n    global name_counter\n    if D.is_pure():\n        class_name = D.most_frequent_class()\n        T.curr_class = class_name\n    elif not A:\n        class_name = D.most_frequent_class()\n        T.curr_class = class_name\n    else:\n        print('Depth ' + str(guide_int))\n        #gain = D.gain()\n        gain = D.gain_ratio()\n        #gain = D.gain2()[0]\n        print('Attribute chosen '+ gain[0])\n        if gain[1] < threshold:\n            class_name = D.most_frequent_class()\n            T.curr_class = class_name\n        else:\n            T.chosen_att = gain[0]\n            A1 = [item for item in A if item != gain[0]]\n            subsets = D.separate_data(gain[0])\n            for subset in subsets:\n                elem = SetCases(subset, len(subset), D.class_column_name)\n                print(f'Name_counter {name_counter} Size {subset.shape}')\n                T.gain = round(gain[1],2)\n                new_node = Node(elem, name_counter)\n                name_counter+=1\n                T.addChildren(new_node)\n                decisionTree(elem, A1, new_node, guide_int+1)",
   "execution_count": 22,
   "outputs": []
  },
  {
   "cell_type": "code",
   "metadata": {
    "tags": [],
    "cell_id": "00016-030a0f67-d1d2-465a-bf2f-c64ed532c65f",
    "deepnote_to_be_reexecuted": false,
    "source_hash": "61e460b3",
    "execution_start": 1632438861281,
    "execution_millis": 0,
    "deepnote_cell_type": "code"
   },
   "source": "graph = graphviz.Digraph()",
   "execution_count": 23,
   "outputs": []
  },
  {
   "cell_type": "code",
   "metadata": {
    "tags": [],
    "cell_id": "00016-f03c20b6-e176-4f29-8b11-f0ac5bc2bbee",
    "deepnote_to_be_reexecuted": false,
    "source_hash": "de7e6bad",
    "execution_start": 1632438862182,
    "execution_millis": 79,
    "deepnote_cell_type": "code"
   },
   "source": "threshold = 0.1\nset_init = SetCases(df,len(df),'ProblemasCardiacos')\nroot_node = Node(set_init, 0)\ndecisionTree(set_init, set_init.get_attributes(),root_node,0)\n",
   "execution_count": 24,
   "outputs": [
    {
     "name": "stdout",
     "text": "Depth 0\nAttribute chosen Hipertenso\nName_counter 8 Size (4, 6)\nDepth 1\nAttribute chosen Trigliceridos\nName_counter 9 Size (3, 6)\nName_counter 10 Size (1, 6)\nName_counter 11 Size (6, 6)\nDepth 1\nAttribute chosen Edad\nName_counter 12 Size (1, 6)\nName_counter 13 Size (3, 6)\nName_counter 14 Size (2, 6)\n/shared-libs/python3.7/py-core/lib/python3.7/site-packages/ipykernel_launcher.py:89: RuntimeWarning: divide by zero encountered in double_scalars\n",
     "output_type": "stream"
    }
   ]
  },
  {
   "cell_type": "code",
   "metadata": {
    "tags": [],
    "cell_id": "00019-b78f62d7-8183-4555-a849-e865063c69e3",
    "deepnote_to_be_reexecuted": false,
    "source_hash": "92cdd843",
    "execution_start": 1632438863726,
    "execution_millis": 22,
    "deepnote_cell_type": "code"
   },
   "source": "root_node.printTree(0, graph, root_node,name_counter)",
   "execution_count": 25,
   "outputs": [
    {
     "name": "stdout",
     "text": "###############################################\nDepth 0\n\nCreated node with name 0 and label Hipertenso\n###############################################\nDepth 1\n\nCreated node with name 8 and label Trigliceridos\nCreated edge between 0 and 8\n###############################################\nDepth 2\nF\nCreated node with name 9 and label F\nCreated edge between 8 and 9\n###############################################\nDepth 2\nT\nCreated node with name 10 and label T\nCreated edge between 8 and 10\n###############################################\nDepth 1\n\nCreated node with name 11 and label Edad\nCreated edge between 0 and 11\n###############################################\nDepth 2\nF\nCreated node with name 12 and label F\nCreated edge between 11 and 12\n###############################################\nDepth 2\nT\nCreated node with name 13 and label T\nCreated edge between 11 and 13\n###############################################\nDepth 2\nT\nCreated node with name 14 and label T\nCreated edge between 11 and 14\n",
     "output_type": "stream"
    }
   ]
  },
  {
   "cell_type": "code",
   "metadata": {
    "tags": [],
    "cell_id": "00020-651fe2bc-bdc8-435e-ae67-8426f01a3e06",
    "deepnote_to_be_reexecuted": false,
    "source_hash": "d1811250",
    "execution_start": 1632438865914,
    "execution_millis": 10,
    "deepnote_cell_type": "code"
   },
   "source": "print(root_node.id_node)\nprint(root_node.children[0].id_node)\nprint(root_node.children[0].children[0].id_node)",
   "execution_count": 26,
   "outputs": [
    {
     "name": "stdout",
     "text": "0\n8\n9\n",
     "output_type": "stream"
    }
   ]
  },
  {
   "cell_type": "code",
   "metadata": {
    "tags": [],
    "cell_id": "00020-b898e0f3-53cf-4f11-a4d6-26245e13f1ab",
    "deepnote_to_be_reexecuted": false,
    "source_hash": "95ae64f3",
    "execution_start": 1632438866975,
    "execution_millis": 24,
    "deepnote_cell_type": "code"
   },
   "source": "print(len(root_node.children))\nprint(len(root_node.children[0].children))\nprint(len(root_node.children[1].children))\nprint(len(root_node.children[2].children))",
   "execution_count": 27,
   "outputs": [
    {
     "name": "stdout",
     "text": "2\n2\n3\n",
     "output_type": "stream"
    },
    {
     "output_type": "error",
     "ename": "IndexError",
     "evalue": "list index out of range",
     "traceback": [
      "\u001b[0;31m---------------------------------------------------------------------------\u001b[0m",
      "\u001b[0;31mIndexError\u001b[0m                                Traceback (most recent call last)",
      "\u001b[0;32m/tmp/ipykernel_1507/2326985108.py\u001b[0m in \u001b[0;36m<module>\u001b[0;34m\u001b[0m\n\u001b[1;32m      2\u001b[0m \u001b[0mprint\u001b[0m\u001b[0;34m(\u001b[0m\u001b[0mlen\u001b[0m\u001b[0;34m(\u001b[0m\u001b[0mroot_node\u001b[0m\u001b[0;34m.\u001b[0m\u001b[0mchildren\u001b[0m\u001b[0;34m[\u001b[0m\u001b[0;36m0\u001b[0m\u001b[0;34m]\u001b[0m\u001b[0;34m.\u001b[0m\u001b[0mchildren\u001b[0m\u001b[0;34m)\u001b[0m\u001b[0;34m)\u001b[0m\u001b[0;34m\u001b[0m\u001b[0;34m\u001b[0m\u001b[0m\n\u001b[1;32m      3\u001b[0m \u001b[0mprint\u001b[0m\u001b[0;34m(\u001b[0m\u001b[0mlen\u001b[0m\u001b[0;34m(\u001b[0m\u001b[0mroot_node\u001b[0m\u001b[0;34m.\u001b[0m\u001b[0mchildren\u001b[0m\u001b[0;34m[\u001b[0m\u001b[0;36m1\u001b[0m\u001b[0;34m]\u001b[0m\u001b[0;34m.\u001b[0m\u001b[0mchildren\u001b[0m\u001b[0;34m)\u001b[0m\u001b[0;34m)\u001b[0m\u001b[0;34m\u001b[0m\u001b[0;34m\u001b[0m\u001b[0m\n\u001b[0;32m----> 4\u001b[0;31m \u001b[0mprint\u001b[0m\u001b[0;34m(\u001b[0m\u001b[0mlen\u001b[0m\u001b[0;34m(\u001b[0m\u001b[0mroot_node\u001b[0m\u001b[0;34m.\u001b[0m\u001b[0mchildren\u001b[0m\u001b[0;34m[\u001b[0m\u001b[0;36m2\u001b[0m\u001b[0;34m]\u001b[0m\u001b[0;34m.\u001b[0m\u001b[0mchildren\u001b[0m\u001b[0;34m)\u001b[0m\u001b[0;34m)\u001b[0m\u001b[0;34m\u001b[0m\u001b[0;34m\u001b[0m\u001b[0m\n\u001b[0m",
      "\u001b[0;31mIndexError\u001b[0m: list index out of range"
     ]
    }
   ]
  },
  {
   "cell_type": "code",
   "metadata": {
    "tags": [],
    "cell_id": "00019-48be80d1-c4f7-49b3-8d0b-726c4ea0c629",
    "deepnote_to_be_reexecuted": false,
    "source_hash": "48d2cb31",
    "execution_start": 1632438868013,
    "execution_millis": 31,
    "deepnote_cell_type": "code"
   },
   "source": "\ngraph ",
   "execution_count": 28,
   "outputs": [
    {
     "output_type": "execute_result",
     "execution_count": 28,
     "data": {
      "text/plain": "<graphviz.dot.Digraph at 0x7f33cecf7510>",
      "image/svg+xml": "<?xml version=\"1.0\" encoding=\"UTF-8\" standalone=\"no\"?>\n<!DOCTYPE svg PUBLIC \"-//W3C//DTD SVG 1.1//EN\"\n \"http://www.w3.org/Graphics/SVG/1.1/DTD/svg11.dtd\">\n<!-- Generated by graphviz version 2.40.1 (20161225.0304)\n -->\n<!-- Title: %3 Pages: 1 -->\n<svg width=\"625pt\" height=\"262pt\"\n viewBox=\"0.00 0.00 624.89 262.43\" xmlns=\"http://www.w3.org/2000/svg\" xmlns:xlink=\"http://www.w3.org/1999/xlink\">\n<g id=\"graph0\" class=\"graph\" transform=\"scale(1 1) rotate(0) translate(4 258.4335)\">\n<title>%3</title>\n<polygon fill=\"#ffffff\" stroke=\"transparent\" points=\"-4,4 -4,-258.4335 620.8944,-258.4335 620.8944,4 -4,4\"/>\n<!-- 0 -->\n<g id=\"node1\" class=\"node\">\n<title>0</title>\n<ellipse fill=\"none\" stroke=\"#000000\" cx=\"263.4472\" cy=\"-227.5635\" rx=\"71.3357\" ry=\"26.7407\"/>\n<text text-anchor=\"middle\" x=\"263.4472\" y=\"-231.3635\" font-family=\"Times,serif\" font-size=\"14.00\" fill=\"#000000\">Hipertenso </text>\n<text text-anchor=\"middle\" x=\"263.4472\" y=\"-216.3635\" font-family=\"Times,serif\" font-size=\"14.00\" fill=\"#000000\"> Gain: 0.26</text>\n</g>\n<!-- 8 -->\n<g id=\"node2\" class=\"node\">\n<title>8</title>\n<ellipse fill=\"none\" stroke=\"#000000\" cx=\"181.4472\" cy=\"-137.8234\" rx=\"79.8062\" ry=\"26.7407\"/>\n<text text-anchor=\"middle\" x=\"181.4472\" y=\"-141.6234\" font-family=\"Times,serif\" font-size=\"14.00\" fill=\"#000000\">Trigliceridos </text>\n<text text-anchor=\"middle\" x=\"181.4472\" y=\"-126.6234\" font-family=\"Times,serif\" font-size=\"14.00\" fill=\"#000000\"> Gain: 1.0</text>\n</g>\n<!-- 0&#45;&gt;8 -->\n<g id=\"edge1\" class=\"edge\">\n<title>0&#45;&gt;8</title>\n<path fill=\"none\" stroke=\"#000000\" d=\"M240.1687,-202.0876C231.415,-192.5077 221.3267,-181.4672 212.009,-171.2699\"/>\n<polygon fill=\"#000000\" stroke=\"#000000\" points=\"214.3981,-168.6959 205.0688,-163.6746 209.2305,-173.4178 214.3981,-168.6959\"/>\n</g>\n<!-- 11 -->\n<g id=\"node5\" class=\"node\">\n<title>11</title>\n<ellipse fill=\"none\" stroke=\"#000000\" cx=\"390.4472\" cy=\"-137.8234\" rx=\"67.3507\" ry=\"26.7407\"/>\n<text text-anchor=\"middle\" x=\"390.4472\" y=\"-141.6234\" font-family=\"Times,serif\" font-size=\"14.00\" fill=\"#000000\">Edad </text>\n<text text-anchor=\"middle\" x=\"390.4472\" y=\"-126.6234\" font-family=\"Times,serif\" font-size=\"14.00\" fill=\"#000000\"> Gain: 0.45</text>\n</g>\n<!-- 0&#45;&gt;11 -->\n<g id=\"edge4\" class=\"edge\">\n<title>0&#45;&gt;11</title>\n<path fill=\"none\" stroke=\"#000000\" d=\"M297.1475,-203.7504C312.9169,-192.6075 331.8574,-179.2239 348.5405,-167.4353\"/>\n<polygon fill=\"#000000\" stroke=\"#000000\" points=\"350.8831,-170.0656 357.0302,-161.4364 346.8435,-164.3488 350.8831,-170.0656\"/>\n</g>\n<!-- 9 -->\n<g id=\"node3\" class=\"node\">\n<title>9</title>\n<ellipse fill=\"none\" stroke=\"#00ff00\" cx=\"54.4472\" cy=\"-37.4767\" rx=\"54.3945\" ry=\"37.4533\"/>\n<text text-anchor=\"middle\" x=\"54.4472\" y=\"-48.7767\" font-family=\"Times,serif\" font-size=\"14.00\" fill=\"#000000\">F </text>\n<text text-anchor=\"middle\" x=\"54.4472\" y=\"-33.7767\" font-family=\"Times,serif\" font-size=\"14.00\" fill=\"#000000\"> Gain: 0 </text>\n<text text-anchor=\"middle\" x=\"54.4472\" y=\"-18.7767\" font-family=\"Times,serif\" font-size=\"14.00\" fill=\"#000000\"> [3]</text>\n</g>\n<!-- 8&#45;&gt;9 -->\n<g id=\"edge2\" class=\"edge\">\n<title>8&#45;&gt;9</title>\n<path fill=\"none\" stroke=\"#000000\" d=\"M150.054,-113.0186C134.5254,-100.7489 115.5205,-85.7326 98.5575,-72.3296\"/>\n<polygon fill=\"#000000\" stroke=\"#000000\" points=\"100.4347,-69.3521 90.4185,-65.8987 96.0949,-74.8446 100.4347,-69.3521\"/>\n</g>\n<!-- 10 -->\n<g id=\"node4\" class=\"node\">\n<title>10</title>\n<ellipse fill=\"none\" stroke=\"#00ff00\" cx=\"181.4472\" cy=\"-37.4767\" rx=\"54.3945\" ry=\"37.4533\"/>\n<text text-anchor=\"middle\" x=\"181.4472\" y=\"-48.7767\" font-family=\"Times,serif\" font-size=\"14.00\" fill=\"#000000\">T </text>\n<text text-anchor=\"middle\" x=\"181.4472\" y=\"-33.7767\" font-family=\"Times,serif\" font-size=\"14.00\" fill=\"#000000\"> Gain: 0 </text>\n<text text-anchor=\"middle\" x=\"181.4472\" y=\"-18.7767\" font-family=\"Times,serif\" font-size=\"14.00\" fill=\"#000000\"> [1]</text>\n</g>\n<!-- 8&#45;&gt;10 -->\n<g id=\"edge3\" class=\"edge\">\n<title>8&#45;&gt;10</title>\n<path fill=\"none\" stroke=\"#000000\" d=\"M181.4472,-110.9323C181.4472,-103.0042 181.4472,-94.0796 181.4472,-85.2541\"/>\n<polygon fill=\"#000000\" stroke=\"#000000\" points=\"184.9473,-85.0048 181.4472,-75.0048 177.9473,-85.0049 184.9473,-85.0048\"/>\n</g>\n<!-- 12 -->\n<g id=\"node6\" class=\"node\">\n<title>12</title>\n<ellipse fill=\"none\" stroke=\"#00ff00\" cx=\"308.4472\" cy=\"-37.4767\" rx=\"54.3945\" ry=\"37.4533\"/>\n<text text-anchor=\"middle\" x=\"308.4472\" y=\"-48.7767\" font-family=\"Times,serif\" font-size=\"14.00\" fill=\"#000000\">F </text>\n<text text-anchor=\"middle\" x=\"308.4472\" y=\"-33.7767\" font-family=\"Times,serif\" font-size=\"14.00\" fill=\"#000000\"> Gain: 0 </text>\n<text text-anchor=\"middle\" x=\"308.4472\" y=\"-18.7767\" font-family=\"Times,serif\" font-size=\"14.00\" fill=\"#000000\"> [1]</text>\n</g>\n<!-- 11&#45;&gt;12 -->\n<g id=\"edge5\" class=\"edge\">\n<title>11&#45;&gt;12</title>\n<path fill=\"none\" stroke=\"#000000\" d=\"M369.543,-112.242C361.0613,-101.8626 351.0551,-89.6177 341.6228,-78.075\"/>\n<polygon fill=\"#000000\" stroke=\"#000000\" points=\"344.2481,-75.7564 335.2102,-70.2276 338.8277,-80.1858 344.2481,-75.7564\"/>\n</g>\n<!-- 13 -->\n<g id=\"node7\" class=\"node\">\n<title>13</title>\n<ellipse fill=\"none\" stroke=\"#00ff00\" cx=\"435.4472\" cy=\"-37.4767\" rx=\"54.3945\" ry=\"37.4533\"/>\n<text text-anchor=\"middle\" x=\"435.4472\" y=\"-48.7767\" font-family=\"Times,serif\" font-size=\"14.00\" fill=\"#000000\">T </text>\n<text text-anchor=\"middle\" x=\"435.4472\" y=\"-33.7767\" font-family=\"Times,serif\" font-size=\"14.00\" fill=\"#000000\"> Gain: 0 </text>\n<text text-anchor=\"middle\" x=\"435.4472\" y=\"-18.7767\" font-family=\"Times,serif\" font-size=\"14.00\" fill=\"#000000\"> [3]</text>\n</g>\n<!-- 11&#45;&gt;13 -->\n<g id=\"edge6\" class=\"edge\">\n<title>11&#45;&gt;13</title>\n<path fill=\"none\" stroke=\"#000000\" d=\"M402.3883,-111.1958C406.3346,-102.3956 410.8415,-92.3456 415.2312,-82.5569\"/>\n<polygon fill=\"#000000\" stroke=\"#000000\" points=\"418.4835,-83.8579 419.3819,-73.3013 412.0964,-80.9936 418.4835,-83.8579\"/>\n</g>\n<!-- 14 -->\n<g id=\"node8\" class=\"node\">\n<title>14</title>\n<ellipse fill=\"none\" stroke=\"#00ff00\" cx=\"562.4472\" cy=\"-37.4767\" rx=\"54.3945\" ry=\"37.4533\"/>\n<text text-anchor=\"middle\" x=\"562.4472\" y=\"-48.7767\" font-family=\"Times,serif\" font-size=\"14.00\" fill=\"#000000\">T </text>\n<text text-anchor=\"middle\" x=\"562.4472\" y=\"-33.7767\" font-family=\"Times,serif\" font-size=\"14.00\" fill=\"#000000\"> Gain: 0 </text>\n<text text-anchor=\"middle\" x=\"562.4472\" y=\"-18.7767\" font-family=\"Times,serif\" font-size=\"14.00\" fill=\"#000000\"> [2]</text>\n</g>\n<!-- 11&#45;&gt;14 -->\n<g id=\"edge7\" class=\"edge\">\n<title>11&#45;&gt;14</title>\n<path fill=\"none\" stroke=\"#000000\" d=\"M428.6978,-115.5885C449.3599,-103.5697 475.3083,-88.463 498.4472,-74.9533 502.8516,-72.3818 507.4251,-69.7089 512.0101,-67.0275\"/>\n<polygon fill=\"#000000\" stroke=\"#000000\" points=\"513.936,-69.9558 520.7999,-61.885 510.4011,-63.9139 513.936,-69.9558\"/>\n</g>\n</g>\n</svg>\n"
     },
     "metadata": {}
    }
   ]
  },
  {
   "cell_type": "markdown",
   "source": "# Sandbox de pruebas",
   "metadata": {
    "tags": [],
    "is_collapsed": false,
    "cell_id": "00017-d08a5435-0e9c-43cb-8f45-9cc80bd9ad15",
    "deepnote_cell_type": "text-cell-h1"
   }
  },
  {
   "cell_type": "code",
   "metadata": {
    "tags": [],
    "cell_id": "00015-e518fc5c-437e-4bc2-9a62-d91f8996f48e",
    "deepnote_to_be_reexecuted": true,
    "source_hash": "999549d6",
    "execution_start": 1630768086272,
    "execution_millis": 6,
    "deepnote_cell_type": "code"
   },
   "source": "setCases = SetCases(df,10,'ProblemasCardiacos')\n#setCases.gain()\nsetCases.separate_data('Hipertenso')[1].head()\n#setCases.entropy_attribute()\n#print(setCases.most_frequent_class())",
   "execution_count": null,
   "outputs": [
    {
     "output_type": "execute_result",
     "execution_count": 85,
     "data": {
      "application/vnd.deepnote.dataframe.v2+json": {
       "row_count": 5,
       "column_count": 7,
       "columns": [
        {
         "name": "index",
         "dtype": "int64",
         "stats": {
          "unique_count": 5,
          "nan_count": 0,
          "min": "1",
          "max": "7",
          "histogram": [
           {
            "bin_start": 1,
            "bin_end": 1.6,
            "count": 1
           },
           {
            "bin_start": 1.6,
            "bin_end": 2.2,
            "count": 1
           },
           {
            "bin_start": 2.2,
            "bin_end": 2.8,
            "count": 0
           },
           {
            "bin_start": 2.8,
            "bin_end": 3.4,
            "count": 1
           },
           {
            "bin_start": 3.4,
            "bin_end": 4,
            "count": 0
           },
           {
            "bin_start": 4,
            "bin_end": 4.6,
            "count": 0
           },
           {
            "bin_start": 4.6,
            "bin_end": 5.2,
            "count": 0
           },
           {
            "bin_start": 5.2,
            "bin_end": 5.8,
            "count": 0
           },
           {
            "bin_start": 5.8,
            "bin_end": 6.3999999999999995,
            "count": 1
           },
           {
            "bin_start": 6.3999999999999995,
            "bin_end": 7,
            "count": 1
           }
          ]
         }
        },
        {
         "name": "Hipertenso",
         "dtype": "object",
         "stats": {
          "unique_count": 1,
          "nan_count": 0,
          "categories": [
           {
            "name": "T",
            "count": 5
           }
          ]
         }
        },
        {
         "name": "Colesterol",
         "dtype": "object",
         "stats": {
          "unique_count": 3,
          "nan_count": 0,
          "categories": [
           {
            "name": "bajo",
            "count": 2
           },
           {
            "name": "alto",
            "count": 2
           },
           {
            "name": "medio",
            "count": 1
           }
          ]
         }
        },
        {
         "name": "Trigliceridos",
         "dtype": "object",
         "stats": {
          "unique_count": 2,
          "nan_count": 0,
          "categories": [
           {
            "name": "elevado",
            "count": 3
           },
           {
            "name": "normal",
            "count": 2
           }
          ]
         }
        },
        {
         "name": "Edad",
         "dtype": "object",
         "stats": {
          "unique_count": 3,
          "nan_count": 0,
          "categories": [
           {
            "name": "mayor_60",
            "count": 2
           },
           {
            "name": "entre_40_60",
            "count": 2
           },
           {
            "name": "menos_40",
            "count": 1
           }
          ]
         }
        },
        {
         "name": "Diabeico",
         "dtype": "object",
         "stats": {
          "unique_count": 2,
          "nan_count": 0,
          "categories": [
           {
            "name": "T",
            "count": 4
           },
           {
            "name": "F",
            "count": 1
           }
          ]
         }
        },
        {
         "name": "ProblemasCardiacos",
         "dtype": "object",
         "stats": {
          "unique_count": 2,
          "nan_count": 0,
          "categories": [
           {
            "name": "T",
            "count": 4
           },
           {
            "name": "F",
            "count": 1
           }
          ]
         }
        },
        {
         "name": "_deepnote_index_column",
         "dtype": "int64"
        }
       ],
       "rows_top": [
        {
         "index": 1,
         "Hipertenso": "T",
         "Colesterol": "bajo",
         "Trigliceridos": "elevado",
         "Edad": "menos_40",
         "Diabeico": "T",
         "ProblemasCardiacos": "F",
         "_deepnote_index_column": 0
        },
        {
         "index": 2,
         "Hipertenso": "T",
         "Colesterol": "bajo",
         "Trigliceridos": "elevado",
         "Edad": "mayor_60",
         "Diabeico": "T",
         "ProblemasCardiacos": "T",
         "_deepnote_index_column": 1
        },
        {
         "index": 3,
         "Hipertenso": "T",
         "Colesterol": "medio",
         "Trigliceridos": "elevado",
         "Edad": "mayor_60",
         "Diabeico": "F",
         "ProblemasCardiacos": "T",
         "_deepnote_index_column": 2
        },
        {
         "index": 6,
         "Hipertenso": "T",
         "Colesterol": "alto",
         "Trigliceridos": "normal",
         "Edad": "entre_40_60",
         "Diabeico": "T",
         "ProblemasCardiacos": "T",
         "_deepnote_index_column": 3
        },
        {
         "index": 7,
         "Hipertenso": "T",
         "Colesterol": "alto",
         "Trigliceridos": "normal",
         "Edad": "entre_40_60",
         "Diabeico": "T",
         "ProblemasCardiacos": "T",
         "_deepnote_index_column": 4
        }
       ],
       "rows_bottom": null
      },
      "text/plain": "   index Hipertenso Colesterol Trigliceridos         Edad Diabeico  \\\n0      1          T       bajo       elevado     menos_40        T   \n1      2          T       bajo       elevado     mayor_60        T   \n2      3          T      medio       elevado     mayor_60        F   \n3      6          T       alto        normal  entre_40_60        T   \n4      7          T       alto        normal  entre_40_60        T   \n\n  ProblemasCardiacos  \n0                  F  \n1                  T  \n2                  T  \n3                  T  \n4                  T  ",
      "text/html": "<div>\n<style scoped>\n    .dataframe tbody tr th:only-of-type {\n        vertical-align: middle;\n    }\n\n    .dataframe tbody tr th {\n        vertical-align: top;\n    }\n\n    .dataframe thead th {\n        text-align: right;\n    }\n</style>\n<table border=\"1\" class=\"dataframe\">\n  <thead>\n    <tr style=\"text-align: right;\">\n      <th></th>\n      <th>index</th>\n      <th>Hipertenso</th>\n      <th>Colesterol</th>\n      <th>Trigliceridos</th>\n      <th>Edad</th>\n      <th>Diabeico</th>\n      <th>ProblemasCardiacos</th>\n    </tr>\n  </thead>\n  <tbody>\n    <tr>\n      <th>0</th>\n      <td>1</td>\n      <td>T</td>\n      <td>bajo</td>\n      <td>elevado</td>\n      <td>menos_40</td>\n      <td>T</td>\n      <td>F</td>\n    </tr>\n    <tr>\n      <th>1</th>\n      <td>2</td>\n      <td>T</td>\n      <td>bajo</td>\n      <td>elevado</td>\n      <td>mayor_60</td>\n      <td>T</td>\n      <td>T</td>\n    </tr>\n    <tr>\n      <th>2</th>\n      <td>3</td>\n      <td>T</td>\n      <td>medio</td>\n      <td>elevado</td>\n      <td>mayor_60</td>\n      <td>F</td>\n      <td>T</td>\n    </tr>\n    <tr>\n      <th>3</th>\n      <td>6</td>\n      <td>T</td>\n      <td>alto</td>\n      <td>normal</td>\n      <td>entre_40_60</td>\n      <td>T</td>\n      <td>T</td>\n    </tr>\n    <tr>\n      <th>4</th>\n      <td>7</td>\n      <td>T</td>\n      <td>alto</td>\n      <td>normal</td>\n      <td>entre_40_60</td>\n      <td>T</td>\n      <td>T</td>\n    </tr>\n  </tbody>\n</table>\n</div>"
     },
     "metadata": {}
    }
   ]
  },
  {
   "cell_type": "code",
   "metadata": {
    "tags": [],
    "cell_id": "00018-fca57e98-2520-4a88-9892-21037f9d923d",
    "deepnote_to_be_reexecuted": true,
    "source_hash": "16fa8890",
    "execution_start": 1630767359487,
    "execution_millis": 4,
    "deepnote_cell_type": "code"
   },
   "source": "a = pd.DataFrame({'a':[1,2,3]})\nb = pd.DataFrame({'b':[2,3,4]})",
   "execution_count": null,
   "outputs": []
  },
  {
   "cell_type": "code",
   "metadata": {
    "tags": [],
    "cell_id": "00019-1330990a-3aef-4fbe-8141-735631fcc0ed",
    "deepnote_to_be_reexecuted": true,
    "source_hash": "c085bd2c",
    "execution_start": 1630767465723,
    "execution_millis": 10,
    "deepnote_cell_type": "code"
   },
   "source": "list(df['ProblemasCardiacos'].unique())",
   "execution_count": null,
   "outputs": [
    {
     "output_type": "execute_result",
     "execution_count": 64,
     "data": {
      "text/plain": "['F', 'T']"
     },
     "metadata": {}
    }
   ]
  },
  {
   "cell_type": "markdown",
   "source": "<a style='text-decoration:none;line-height:16px;display:flex;color:#5B5B62;padding:10px;justify-content:end;' href='https://deepnote.com?utm_source=created-in-deepnote-cell&projectId=9a66d969-af84-4258-a4a2-724e61aa71b5' target=\"_blank\">\n<img alt='Created in deepnote.com' style='display:inline;max-height:16px;margin:0px;margin-right:7.5px;' src='data:image/svg+xml;base64,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' > </img>\nCreated in <span style='font-weight:600;margin-left:4px;'>Deepnote</span></a>",
   "metadata": {
    "tags": [],
    "created_in_deepnote_cell": true,
    "deepnote_cell_type": "markdown"
   }
  }
 ],
 "nbformat": 4,
 "nbformat_minor": 2,
 "metadata": {
  "deepnoteSessionId": "dea8a0f5-35e3-4468-94eb-804ff5fc7baa",
  "kernelspec": {
   "display_name": "Python 3",
   "language": "python",
   "name": "python3"
  },
  "language_info": {
   "codemirror_mode": {
    "name": "ipython",
    "version": 3
   },
   "file_extension": ".py",
   "mimetype": "text/x-python",
   "name": "python",
   "nbconvert_exporter": "python",
   "pygments_lexer": "ipython3",
   "version": "3.7.5"
  },
  "deepnote_execution_queue": [],
  "deepnote_notebook_id": "e692eb22-4457-4eab-9d11-b38716c4bfb1",
  "deepnote": {}
 }
}