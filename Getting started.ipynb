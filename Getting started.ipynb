{
 "cells": [
  {
   "cell_type": "markdown",
   "source": "# Getting started\n\n👋 Welcome to Deepnote! If you're new to notebooks, we recommend you browse through this guide and watch the videos (it takes about 5 minutes). You can also pick what's most relevant to you right now and come back anytime to see the rest. ",
   "metadata": {
    "cell_id": "3599f9d4-6666-4455-8015-de79af406f30",
    "deepnote_cell_type": "markdown"
   }
  },
  {
   "cell_type": "markdown",
   "source": "## 1. Run a cell 🏃\nSelect the code cell below and click _Run_ in the right sidebar. You can also press <kbd>Shift</kbd>+<kbd>Enter</kbd> to run it and move to the next cell.",
   "metadata": {
    "tags": [],
    "cell_id": "41e4c6df-c2a3-4f8e-b5eb-7a70ad671bce",
    "deepnote_cell_type": "markdown"
   }
  },
  {
   "cell_type": "markdown",
   "source": "",
   "metadata": {
    "tags": [],
    "cell_id": "00002-cef5ae79-51a4-4541-815c-05f585f585c3",
    "deepnote_cell_type": "markdown"
   }
  },
  {
   "cell_type": "markdown",
   "source": "![Picture title](image-20210902-230946.png)",
   "metadata": {
    "tags": [],
    "cell_id": "00005-aa4e39ca-1c31-476c-9afe-102b3f3dd429",
    "deepnote_cell_type": "markdown"
   }
  },
  {
   "cell_type": "markdown",
   "source": "Ideas: Introducimos la data en un Pandas. Iteramos sobre las columnas y analizamos los valores posibles para cada columna, incluyendo la clase de cada caso. Podemos crear luego un objeto que sea conjunto o algo asi, y ese objeto le damos el metodo \"entropia\". Aparte, creamos una funcion que reciba uno de estos conjuntos y tome los atributos que analizamos de la tabla. La funcion itera sobre la lista de atributos y nos devuelve el atributo con mayor ganancia\nAhi miramos si tenemos suficiente ganancia, sit enemos, creamos un nodo y separamos cada caso dependiendo del valor del atributo en subconjuntos. Guardamos los subconjuntos en una lista en el nodo y llamamos al algoritmo con los elementos de la lista.",
   "metadata": {
    "tags": [],
    "cell_id": "00006-1af26502-2357-482a-81d1-afee8db1c0f0",
    "deepnote_cell_type": "markdown"
   }
  },
  {
   "cell_type": "code",
   "metadata": {
    "tags": [],
    "output_cleared": false,
    "cell_id": "0b9b7a2b-9e8b-458b-90e1-e03933d2c995",
    "source_hash": "87b5d6a7",
    "execution_start": 1630625798221,
    "execution_millis": 17,
    "deepnote_to_be_reexecuted": false,
    "deepnote_cell_type": "code"
   },
   "source": "import pandas as pd\nimport math\n# Load the data set\ndf_bikeshare_stations = pd.read_csv ('SF_bikeshare_stations.csv')\nprint(\"Podes ver esto?\") \nprint('si')",
   "execution_count": 1,
   "outputs": [
    {
     "name": "stdout",
     "text": "Podes ver esto?\nsi\n",
     "output_type": "stream"
    }
   ]
  },
  {
   "cell_type": "code",
   "source": "df = pd.read_csv('data_test.csv')\ndf.head(15)",
   "metadata": {
    "tags": [],
    "cell_id": "00006-21855797-aaea-495a-9e4c-d1fa54a5096b",
    "deepnote_to_be_reexecuted": false,
    "source_hash": "f82e6fd6",
    "execution_start": 1630625818946,
    "execution_millis": 41,
    "deepnote_cell_type": "code"
   },
   "outputs": [
    {
     "output_type": "execute_result",
     "execution_count": 4,
     "data": {
      "application/vnd.deepnote.dataframe.v2+json": {
       "row_count": 10,
       "column_count": 6,
       "columns": [
        {
         "name": "Hipertenso",
         "dtype": "object",
         "stats": {
          "unique_count": 2,
          "nan_count": 0,
          "categories": [
           {
            "name": "T",
            "count": 6
           },
           {
            "name": "F",
            "count": 4
           }
          ]
         }
        },
        {
         "name": "Colesterol",
         "dtype": "object",
         "stats": {
          "unique_count": 3,
          "nan_count": 0,
          "categories": [
           {
            "name": "alto",
            "count": 4
           },
           {
            "name": "bajo",
            "count": 3
           },
           {
            "name": "medio",
            "count": 3
           }
          ]
         }
        },
        {
         "name": "Trigliceridos",
         "dtype": "object",
         "stats": {
          "unique_count": 2,
          "nan_count": 0,
          "categories": [
           {
            "name": "normal",
            "count": 5
           },
           {
            "name": "elevado",
            "count": 5
           }
          ]
         }
        },
        {
         "name": "Edad",
         "dtype": "object",
         "stats": {
          "unique_count": 3,
          "nan_count": 0,
          "categories": [
           {
            "name": "menos_40",
            "count": 4
           },
           {
            "name": "mayor_60",
            "count": 3
           },
           {
            "name": "entre_40_60",
            "count": 3
           }
          ]
         }
        },
        {
         "name": "Diabeico",
         "dtype": "object",
         "stats": {
          "unique_count": 2,
          "nan_count": 0,
          "categories": [
           {
            "name": "T",
            "count": 6
           },
           {
            "name": "F",
            "count": 4
           }
          ]
         }
        },
        {
         "name": "ProblemasCardiacos",
         "dtype": "object",
         "stats": {
          "unique_count": 2,
          "nan_count": 0,
          "categories": [
           {
            "name": "T",
            "count": 6
           },
           {
            "name": "F",
            "count": 4
           }
          ]
         }
        },
        {
         "name": "_deepnote_index_column",
         "dtype": "int64"
        }
       ],
       "rows_top": [
        {
         "Hipertenso": "F",
         "Colesterol": "bajo",
         "Trigliceridos": "normal",
         "Edad": "menos_40",
         "Diabeico": "T",
         "ProblemasCardiacos": "F",
         "_deepnote_index_column": 0
        },
        {
         "Hipertenso": "T",
         "Colesterol": "bajo",
         "Trigliceridos": "elevado",
         "Edad": "menos_40",
         "Diabeico": "T",
         "ProblemasCardiacos": "F",
         "_deepnote_index_column": 1
        },
        {
         "Hipertenso": "T",
         "Colesterol": "bajo",
         "Trigliceridos": "elevado",
         "Edad": "mayor_60",
         "Diabeico": "T",
         "ProblemasCardiacos": "T",
         "_deepnote_index_column": 2
        },
        {
         "Hipertenso": "T",
         "Colesterol": "medio",
         "Trigliceridos": "elevado",
         "Edad": "mayor_60",
         "Diabeico": "F",
         "ProblemasCardiacos": "T",
         "_deepnote_index_column": 3
        },
        {
         "Hipertenso": "F",
         "Colesterol": "medio",
         "Trigliceridos": "elevado",
         "Edad": "menos_40",
         "Diabeico": "F",
         "ProblemasCardiacos": "T",
         "_deepnote_index_column": 4
        },
        {
         "Hipertenso": "F",
         "Colesterol": "medio",
         "Trigliceridos": "normal",
         "Edad": "entre_40_60",
         "Diabeico": "T",
         "ProblemasCardiacos": "F",
         "_deepnote_index_column": 5
        },
        {
         "Hipertenso": "T",
         "Colesterol": "alto",
         "Trigliceridos": "normal",
         "Edad": "entre_40_60",
         "Diabeico": "T",
         "ProblemasCardiacos": "T",
         "_deepnote_index_column": 6
        },
        {
         "Hipertenso": "T",
         "Colesterol": "alto",
         "Trigliceridos": "normal",
         "Edad": "entre_40_60",
         "Diabeico": "T",
         "ProblemasCardiacos": "T",
         "_deepnote_index_column": 7
        },
        {
         "Hipertenso": "T",
         "Colesterol": "alto",
         "Trigliceridos": "elevado",
         "Edad": "mayor_60",
         "Diabeico": "F",
         "ProblemasCardiacos": "T",
         "_deepnote_index_column": 8
        },
        {
         "Hipertenso": "F",
         "Colesterol": "alto",
         "Trigliceridos": "normal",
         "Edad": "menos_40",
         "Diabeico": "F",
         "ProblemasCardiacos": "F",
         "_deepnote_index_column": 9
        }
       ],
       "rows_bottom": null
      },
      "text/plain": "  Hipertenso Colesterol Trigliceridos         Edad Diabeico ProblemasCardiacos\n0          F       bajo        normal     menos_40        T                  F\n1          T       bajo       elevado     menos_40        T                  F\n2          T       bajo       elevado     mayor_60        T                  T\n3          T      medio       elevado     mayor_60        F                  T\n4          F      medio       elevado     menos_40        F                  T\n5          F      medio        normal  entre_40_60        T                  F\n6          T       alto        normal  entre_40_60        T                  T\n7          T       alto        normal  entre_40_60        T                  T\n8          T       alto       elevado     mayor_60        F                  T\n9          F       alto        normal     menos_40        F                  F",
      "text/html": "<div>\n<style scoped>\n    .dataframe tbody tr th:only-of-type {\n        vertical-align: middle;\n    }\n\n    .dataframe tbody tr th {\n        vertical-align: top;\n    }\n\n    .dataframe thead th {\n        text-align: right;\n    }\n</style>\n<table border=\"1\" class=\"dataframe\">\n  <thead>\n    <tr style=\"text-align: right;\">\n      <th></th>\n      <th>Hipertenso</th>\n      <th>Colesterol</th>\n      <th>Trigliceridos</th>\n      <th>Edad</th>\n      <th>Diabeico</th>\n      <th>ProblemasCardiacos</th>\n    </tr>\n  </thead>\n  <tbody>\n    <tr>\n      <th>0</th>\n      <td>F</td>\n      <td>bajo</td>\n      <td>normal</td>\n      <td>menos_40</td>\n      <td>T</td>\n      <td>F</td>\n    </tr>\n    <tr>\n      <th>1</th>\n      <td>T</td>\n      <td>bajo</td>\n      <td>elevado</td>\n      <td>menos_40</td>\n      <td>T</td>\n      <td>F</td>\n    </tr>\n    <tr>\n      <th>2</th>\n      <td>T</td>\n      <td>bajo</td>\n      <td>elevado</td>\n      <td>mayor_60</td>\n      <td>T</td>\n      <td>T</td>\n    </tr>\n    <tr>\n      <th>3</th>\n      <td>T</td>\n      <td>medio</td>\n      <td>elevado</td>\n      <td>mayor_60</td>\n      <td>F</td>\n      <td>T</td>\n    </tr>\n    <tr>\n      <th>4</th>\n      <td>F</td>\n      <td>medio</td>\n      <td>elevado</td>\n      <td>menos_40</td>\n      <td>F</td>\n      <td>T</td>\n    </tr>\n    <tr>\n      <th>5</th>\n      <td>F</td>\n      <td>medio</td>\n      <td>normal</td>\n      <td>entre_40_60</td>\n      <td>T</td>\n      <td>F</td>\n    </tr>\n    <tr>\n      <th>6</th>\n      <td>T</td>\n      <td>alto</td>\n      <td>normal</td>\n      <td>entre_40_60</td>\n      <td>T</td>\n      <td>T</td>\n    </tr>\n    <tr>\n      <th>7</th>\n      <td>T</td>\n      <td>alto</td>\n      <td>normal</td>\n      <td>entre_40_60</td>\n      <td>T</td>\n      <td>T</td>\n    </tr>\n    <tr>\n      <th>8</th>\n      <td>T</td>\n      <td>alto</td>\n      <td>elevado</td>\n      <td>mayor_60</td>\n      <td>F</td>\n      <td>T</td>\n    </tr>\n    <tr>\n      <th>9</th>\n      <td>F</td>\n      <td>alto</td>\n      <td>normal</td>\n      <td>menos_40</td>\n      <td>F</td>\n      <td>F</td>\n    </tr>\n  </tbody>\n</table>\n</div>"
     },
     "metadata": {}
    }
   ],
   "execution_count": 4
  },
  {
   "cell_type": "markdown",
   "source": "![Picture title](entropy.png)\n",
   "metadata": {
    "tags": [],
    "cell_id": "00006-c159af82-c39b-47bb-9910-622578d3b919",
    "deepnote_cell_type": "markdown"
   }
  },
  {
   "cell_type": "markdown",
   "source": "![Picture title](entropyAt.png)",
   "metadata": {
    "tags": [],
    "cell_id": "00009-e916dd5a-f78a-4b0e-a74a-ce51c58d37c1",
    "deepnote_cell_type": "markdown"
   }
  },
  {
   "cell_type": "code",
   "source": "classValues = list(df['ProblemasCardiacos'].value_counts().index) # Valores posibles de la columna clase\nclassValues",
   "metadata": {
    "tags": [],
    "cell_id": "00010-583db835-9593-47b2-b6d9-bfb5e08a6e9c",
    "deepnote_to_be_reexecuted": false,
    "source_hash": "5e5ac2a1",
    "execution_start": 1630626164084,
    "execution_millis": 10,
    "deepnote_cell_type": "code"
   },
   "outputs": [
    {
     "output_type": "execute_result",
     "execution_count": 15,
     "data": {
      "text/plain": "['T', 'F']"
     },
     "metadata": {}
    }
   ],
   "execution_count": 15
  },
  {
   "cell_type": "code",
   "source": "class SetCases:\n    def __init__(self,cases,case_count,class_column_name):\n        self.cases = cases\n        self.class_column_name = class_column_name\n        self.case_count = case_count\n        self.columns = list(cases.columns)\n        #self.attributes = self.columns.remove(self.class_column_name)  # This is 'A' in the theory\n        self.attributes = ['Hipertenso', 'Colesterol', 'Trigliceridos', 'Edad', 'Diabeico']\n    \n    def cases_count(self):\n        self.case_count = self.cases.shape[0]\n        return self.case_count\n    \n    def entropy(self) -> float:  # Entropy Formula function\n        entropy = 0\n        counts = self.cases[self.class_column_name].value_counts()\n        for item in classValues:\n            prob = self.cases[self.cases[self.class_column_name]==item][self.class_column_name].count()/self.case_count\n            entropy -= (prob)*(math.log2(prob))\n        return round(entropy,3)\n\n    def entropy_attribute(self) -> float: # Entropia de cada tributo de 'A'\n        entropy_result = {}\n        print(self.columns)\n        print(self.attributes)\n        for attribute in self.attributes:  # Bucle sobre cada atributo de la lista\n            result = 0\n            attr_indexes = list(df[attribute].value_counts().index)\n            attr_counts = list(df[attribute].value_counts().values)\n            i=0\n            for value in attr_indexes: # Bucle sobre los valores posibles de cada atributo\n                attr_entropy = 0\n                attr_count = attr_counts[i]\n                print(f'value {value}')\n\n                for c_value in classValues: # Bucle sobre cada caso de un valor posible de un atributo\n                    print(f'c_value {c_value}')\n                    class_count = len(df[(df[attribute]==value)&(df[self.class_column_name]==c_value)])\n                    print(f'log attr {class_count}')\n                    if class_count != 0:\n                        attr_entropy -= (class_count/attr_count) * (math.log2((class_count/attr_count)))\n                    else:\n                        attr_entropy -= 0 #ESTO SE TENDRIA QUE SACAR DE ACA, CUANDO ESTE EL CODIGO COMPLETO ESTO IRIA AL PRINCIPIO\n                    print(class_count)\n                i+=1\n\n                result += (attr_count/self.case_count) * attr_entropy # Resultado de entropia de un atributo posible\n            entropy_result[attribute] = result\n        return entropy_result\n        \n\n\n\n    \n    ",
   "metadata": {
    "tags": [],
    "cell_id": "00003-acea03b2-21fd-4996-a0a1-1078e4ad334f",
    "deepnote_to_be_reexecuted": false,
    "source_hash": "28b5b97a",
    "execution_start": 1630626604924,
    "execution_millis": 3,
    "deepnote_cell_type": "code"
   },
   "outputs": [],
   "execution_count": 29
  },
  {
   "cell_type": "code",
   "source": "setCases = SetCases(df,10,'ProblemasCardiacos')\nsetCases.entropy_attribute()",
   "metadata": {
    "tags": [],
    "cell_id": "00014-a202864b-62fd-42fe-bfe6-b27414cff258",
    "deepnote_to_be_reexecuted": false,
    "source_hash": "bfa88c43",
    "execution_start": 1630626605305,
    "execution_millis": 41,
    "deepnote_cell_type": "code"
   },
   "outputs": [
    {
     "name": "stdout",
     "text": "['Hipertenso', 'Colesterol', 'Trigliceridos', 'Edad', 'Diabeico', 'ProblemasCardiacos']\n['Hipertenso', 'Colesterol', 'Trigliceridos', 'Edad', 'Diabeico']\nvalue T\nc_value T\nlog attr 5\n5\nc_value F\nlog attr 1\n1\nvalue F\nc_value T\nlog attr 1\n1\nc_value F\nlog attr 3\n3\nvalue alto\nc_value T\nlog attr 3\n3\nc_value F\nlog attr 1\n1\nvalue medio\nc_value T\nlog attr 2\n2\nc_value F\nlog attr 1\n1\nvalue bajo\nc_value T\nlog attr 1\n1\nc_value F\nlog attr 2\n2\nvalue elevado\nc_value T\nlog attr 4\n4\nc_value F\nlog attr 1\n1\nvalue normal\nc_value T\nlog attr 2\n2\nc_value F\nlog attr 3\n3\nvalue menos_40\nc_value T\nlog attr 1\n1\nc_value F\nlog attr 3\n3\nvalue mayor_60\nc_value T\nlog attr 3\n3\nc_value F\nlog attr 0\n0\nvalue entre_40_60\nc_value T\nlog attr 2\n2\nc_value F\nlog attr 1\n1\nvalue T\nc_value T\nlog attr 3\n3\nc_value F\nlog attr 3\n3\nvalue F\nc_value T\nlog attr 3\n3\nc_value F\nlog attr 1\n1\n",
     "output_type": "stream"
    },
    {
     "output_type": "execute_result",
     "execution_count": 30,
     "data": {
      "text/plain": "{'Hipertenso': 0.7145247027726656,\n 'Colesterol': 0.8754887502163469,\n 'Trigliceridos': 0.8464393446710154,\n 'Edad': 0.6,\n 'Diabeico': 0.9245112497836532}"
     },
     "metadata": {}
    }
   ],
   "execution_count": 30
  },
  {
   "cell_type": "markdown",
   "source": "<a style='text-decoration:none;line-height:16px;display:flex;color:#5B5B62;padding:10px;justify-content:end;' href='https://deepnote.com?utm_source=created-in-deepnote-cell&projectId=9a66d969-af84-4258-a4a2-724e61aa71b5' target=\"_blank\">\n<img alt='Created in deepnote.com' style='display:inline;max-height:16px;margin:0px;margin-right:7.5px;' src='data:image/svg+xml;base64,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' > </img>\nCreated in <span style='font-weight:600;margin-left:4px;'>Deepnote</span></a>",
   "metadata": {
    "tags": [],
    "created_in_deepnote_cell": true,
    "deepnote_cell_type": "markdown"
   }
  }
 ],
 "nbformat": 4,
 "nbformat_minor": 2,
 "metadata": {
  "deepnoteSessionId": "dea8a0f5-35e3-4468-94eb-804ff5fc7baa",
  "kernelspec": {
   "display_name": "Python 3",
   "language": "python",
   "name": "python3"
  },
  "language_info": {
   "codemirror_mode": {
    "name": "ipython",
    "version": 3
   },
   "file_extension": ".py",
   "mimetype": "text/x-python",
   "name": "python",
   "nbconvert_exporter": "python",
   "pygments_lexer": "ipython3",
   "version": "3.7.5"
  },
  "deepnote_execution_queue": [],
  "deepnote_notebook_id": "0f460af1-1872-4aa4-804e-36716dbf15fd",
  "deepnote": {}
 }
}