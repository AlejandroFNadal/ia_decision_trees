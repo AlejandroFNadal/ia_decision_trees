{
 "cells": [
  {
   "cell_type": "markdown",
   "source": "# Getting started\n\n👋 Welcome to Deepnote! If you're new to notebooks, we recommend you browse through this guide and watch the videos (it takes about 5 minutes). You can also pick what's most relevant to you right now and come back anytime to see the rest. ",
   "metadata": {
    "cell_id": "00000-afaa988f-f5dd-4375-b4f7-9a83bf1a7224",
    "deepnote_cell_type": "markdown"
   }
  },
  {
   "cell_type": "markdown",
   "source": "## 1. Run a cell 🏃\nSelect the code cell below and click _Run_ in the right sidebar. You can also press <kbd>Shift</kbd>+<kbd>Enter</kbd> to run it and move to the next cell.",
   "metadata": {
    "tags": [],
    "cell_id": "00001-6ff442ac-2524-43cc-ae8f-f4854f782fc1",
    "deepnote_cell_type": "markdown"
   }
  },
  {
   "cell_type": "markdown",
   "source": "",
   "metadata": {
    "tags": [],
    "cell_id": "00002-85a80a07-41ab-4b00-af75-58c4d817dc48",
    "deepnote_cell_type": "markdown"
   }
  },
  {
   "cell_type": "markdown",
   "source": "![Picture title](image-20210902-230946.png)",
   "metadata": {
    "tags": [],
    "cell_id": "00003-09a5fc14-636b-4047-8756-98a87913fe4e",
    "deepnote_cell_type": "markdown"
   }
  },
  {
   "cell_type": "markdown",
   "source": "Ideas: Introducimos la data en un Pandas. Iteramos sobre las columnas y analizamos los valores posibles para cada columna, incluyendo la clase de cada caso. Podemos crear luego un objeto que sea conjunto o algo asi, y ese objeto le damos el metodo \"entropia\". Aparte, creamos una funcion que reciba uno de estos conjuntos y tome los atributos que analizamos de la tabla. La funcion itera sobre la lista de atributos y nos devuelve el atributo con mayor ganancia\nAhi miramos si tenemos suficiente ganancia, sit enemos, creamos un nodo y separamos cada caso dependiendo del valor del atributo en subconjuntos. Guardamos los subconjuntos en una lista en el nodo y llamamos al algoritmo con los elementos de la lista.",
   "metadata": {
    "tags": [],
    "cell_id": "00004-36206da7-7353-4448-9af1-c2fd42f2a5c5",
    "deepnote_cell_type": "markdown"
   }
  },
  {
   "cell_type": "code",
   "source": "!pip install streamlit",
   "metadata": {
    "tags": [],
    "cell_id": "00005-34974ee7-4ed5-4e57-a79f-858249a5229f",
    "deepnote_to_be_reexecuted": false,
    "source_hash": "bb2176fd",
    "execution_start": 1631967791540,
    "execution_millis": 22735,
    "deepnote_cell_type": "code"
   },
   "outputs": [
    {
     "name": "stdout",
     "text": "Collecting streamlit\n  Downloading streamlit-0.88.0-py2.py3-none-any.whl (8.0 MB)\n\u001b[K     |████████████████████████████████| 8.0 MB 8.2 MB/s \n\u001b[?25hRequirement already satisfied: requests in /shared-libs/python3.7/py/lib/python3.7/site-packages (from streamlit) (2.26.0)\nCollecting tzlocal\n  Downloading tzlocal-3.0-py3-none-any.whl (16 kB)\nCollecting gitpython!=3.1.19\n  Downloading GitPython-3.1.24-py3-none-any.whl (180 kB)\n\u001b[K     |████████████████████████████████| 180 kB 38.1 MB/s \n\u001b[?25hCollecting validators\n  Downloading validators-0.18.2-py3-none-any.whl (19 kB)\nRequirement already satisfied: toml in /shared-libs/python3.7/py/lib/python3.7/site-packages (from streamlit) (0.10.2)\nRequirement already satisfied: protobuf!=3.11,>=3.6.0 in /shared-libs/python3.7/py/lib/python3.7/site-packages (from streamlit) (3.17.3)\nCollecting base58\n  Downloading base58-2.1.0-py3-none-any.whl (5.6 kB)\nRequirement already satisfied: pyarrow in /shared-libs/python3.7/py/lib/python3.7/site-packages (from streamlit) (5.0.0)\nRequirement already satisfied: packaging in /shared-libs/python3.7/py-core/lib/python3.7/site-packages (from streamlit) (21.0)\nRequirement already satisfied: python-dateutil in /shared-libs/python3.7/py-core/lib/python3.7/site-packages (from streamlit) (2.8.2)\nRequirement already satisfied: pandas>=0.21.0 in /shared-libs/python3.7/py/lib/python3.7/site-packages (from streamlit) (1.2.5)\nCollecting pydeck>=0.1.dev5\n  Downloading pydeck-0.7.0-py2.py3-none-any.whl (4.3 MB)\n\u001b[K     |████████████████████████████████| 4.3 MB 35.4 MB/s \n\u001b[?25hRequirement already satisfied: attrs in /shared-libs/python3.7/py-core/lib/python3.7/site-packages (from streamlit) (21.2.0)\nCollecting astor\n  Downloading astor-0.8.1-py2.py3-none-any.whl (27 kB)\nRequirement already satisfied: cachetools>=4.0 in /shared-libs/python3.7/py/lib/python3.7/site-packages (from streamlit) (4.2.2)\nRequirement already satisfied: altair>=3.2.0 in /shared-libs/python3.7/py/lib/python3.7/site-packages (from streamlit) (4.1.0)\nRequirement already satisfied: numpy in /shared-libs/python3.7/py/lib/python3.7/site-packages (from streamlit) (1.19.5)\nRequirement already satisfied: tornado>=5.0 in /shared-libs/python3.7/py-core/lib/python3.7/site-packages (from streamlit) (6.1)\nRequirement already satisfied: click<8.0,>=7.0 in /shared-libs/python3.7/py/lib/python3.7/site-packages (from streamlit) (7.1.2)\nCollecting watchdog\n  Downloading watchdog-2.1.5-py3-none-manylinux2014_x86_64.whl (75 kB)\n\u001b[K     |████████████████████████████████| 75 kB 4.0 MB/s \n\u001b[?25hRequirement already satisfied: pillow>=6.2.0 in /shared-libs/python3.7/py/lib/python3.7/site-packages (from streamlit) (8.3.2)\nCollecting blinker\n  Downloading blinker-1.4.tar.gz (111 kB)\n\u001b[K     |████████████████████████████████| 111 kB 11.5 MB/s \n\u001b[?25hRequirement already satisfied: jinja2 in /shared-libs/python3.7/py-core/lib/python3.7/site-packages (from altair>=3.2.0->streamlit) (3.0.1)\nRequirement already satisfied: entrypoints in /shared-libs/python3.7/py-core/lib/python3.7/site-packages (from altair>=3.2.0->streamlit) (0.3)\nRequirement already satisfied: toolz in /shared-libs/python3.7/py/lib/python3.7/site-packages (from altair>=3.2.0->streamlit) (0.11.1)\nRequirement already satisfied: jsonschema in /shared-libs/python3.7/py-core/lib/python3.7/site-packages (from altair>=3.2.0->streamlit) (3.2.0)\nCollecting gitdb<5,>=4.0.1\n  Downloading gitdb-4.0.7-py3-none-any.whl (63 kB)\n\u001b[K     |████████████████████████████████| 63 kB 868 kB/s \n\u001b[?25hRequirement already satisfied: typing-extensions>=3.7.4.3 in /shared-libs/python3.7/py-core/lib/python3.7/site-packages (from gitpython!=3.1.19->streamlit) (3.10.0.2)\nCollecting smmap<5,>=3.0.1\n  Downloading smmap-4.0.0-py2.py3-none-any.whl (24 kB)\nRequirement already satisfied: pytz>=2017.3 in /shared-libs/python3.7/py/lib/python3.7/site-packages (from pandas>=0.21.0->streamlit) (2021.1)\nRequirement already satisfied: six>=1.9 in /shared-libs/python3.7/py-core/lib/python3.7/site-packages (from protobuf!=3.11,>=3.6.0->streamlit) (1.16.0)\nCollecting ipywidgets>=7.0.0\n  Downloading ipywidgets-7.6.5-py2.py3-none-any.whl (121 kB)\n\u001b[K     |████████████████████████████████| 121 kB 36.4 MB/s \n\u001b[?25hRequirement already satisfied: ipykernel>=5.1.2 in /shared-libs/python3.7/py-core/lib/python3.7/site-packages (from pydeck>=0.1.dev5->streamlit) (6.3.1)\nRequirement already satisfied: traitlets>=4.3.2 in /shared-libs/python3.7/py-core/lib/python3.7/site-packages (from pydeck>=0.1.dev5->streamlit) (5.1.0)\nRequirement already satisfied: debugpy<2.0,>=1.0.0 in /shared-libs/python3.7/py-core/lib/python3.7/site-packages (from ipykernel>=5.1.2->pydeck>=0.1.dev5->streamlit) (1.4.1)\nRequirement already satisfied: ipython-genutils in /shared-libs/python3.7/py-core/lib/python3.7/site-packages (from ipykernel>=5.1.2->pydeck>=0.1.dev5->streamlit) (0.2.0)\nRequirement already satisfied: importlib-metadata<5 in /shared-libs/python3.7/py-core/lib/python3.7/site-packages (from ipykernel>=5.1.2->pydeck>=0.1.dev5->streamlit) (4.8.1)\nRequirement already satisfied: ipython<8.0,>=7.23.1 in /shared-libs/python3.7/py-core/lib/python3.7/site-packages (from ipykernel>=5.1.2->pydeck>=0.1.dev5->streamlit) (7.27.0)\nRequirement already satisfied: jupyter-client<8.0 in /shared-libs/python3.7/py-core/lib/python3.7/site-packages (from ipykernel>=5.1.2->pydeck>=0.1.dev5->streamlit) (7.0.2)\nRequirement already satisfied: argcomplete>=1.12.3 in /shared-libs/python3.7/py-core/lib/python3.7/site-packages (from ipykernel>=5.1.2->pydeck>=0.1.dev5->streamlit) (1.12.3)\nRequirement already satisfied: matplotlib-inline<0.2.0,>=0.1.0 in /shared-libs/python3.7/py-core/lib/python3.7/site-packages (from ipykernel>=5.1.2->pydeck>=0.1.dev5->streamlit) (0.1.3)\nRequirement already satisfied: zipp>=0.5 in /shared-libs/python3.7/py-core/lib/python3.7/site-packages (from importlib-metadata<5->ipykernel>=5.1.2->pydeck>=0.1.dev5->streamlit) (3.5.0)\nRequirement already satisfied: backcall in /shared-libs/python3.7/py-core/lib/python3.7/site-packages (from ipython<8.0,>=7.23.1->ipykernel>=5.1.2->pydeck>=0.1.dev5->streamlit) (0.2.0)\nRequirement already satisfied: decorator in /shared-libs/python3.7/py-core/lib/python3.7/site-packages (from ipython<8.0,>=7.23.1->ipykernel>=5.1.2->pydeck>=0.1.dev5->streamlit) (5.0.9)\nRequirement already satisfied: pickleshare in /shared-libs/python3.7/py-core/lib/python3.7/site-packages (from ipython<8.0,>=7.23.1->ipykernel>=5.1.2->pydeck>=0.1.dev5->streamlit) (0.7.5)\nRequirement already satisfied: pexpect>4.3 in /shared-libs/python3.7/py-core/lib/python3.7/site-packages (from ipython<8.0,>=7.23.1->ipykernel>=5.1.2->pydeck>=0.1.dev5->streamlit) (4.8.0)\nRequirement already satisfied: jedi>=0.16 in /shared-libs/python3.7/py-core/lib/python3.7/site-packages (from ipython<8.0,>=7.23.1->ipykernel>=5.1.2->pydeck>=0.1.dev5->streamlit) (0.17.2)\nRequirement already satisfied: pygments in /shared-libs/python3.7/py-core/lib/python3.7/site-packages (from ipython<8.0,>=7.23.1->ipykernel>=5.1.2->pydeck>=0.1.dev5->streamlit) (2.10.0)\nRequirement already satisfied: setuptools>=18.5 in /root/venv/lib/python3.7/site-packages (from ipython<8.0,>=7.23.1->ipykernel>=5.1.2->pydeck>=0.1.dev5->streamlit) (57.4.0)\nRequirement already satisfied: prompt-toolkit!=3.0.0,!=3.0.1,<3.1.0,>=2.0.0 in /shared-libs/python3.7/py-core/lib/python3.7/site-packages (from ipython<8.0,>=7.23.1->ipykernel>=5.1.2->pydeck>=0.1.dev5->streamlit) (3.0.20)\nRequirement already satisfied: nbformat>=4.2.0 in /shared-libs/python3.7/py-core/lib/python3.7/site-packages (from ipywidgets>=7.0.0->pydeck>=0.1.dev5->streamlit) (5.1.3)\nCollecting jupyterlab-widgets>=1.0.0\n  Downloading jupyterlab_widgets-1.0.2-py3-none-any.whl (243 kB)\n\u001b[K     |████████████████████████████████| 243 kB 39.3 MB/s \n\u001b[?25hCollecting widgetsnbextension~=3.5.0\n  Downloading widgetsnbextension-3.5.1-py2.py3-none-any.whl (2.2 MB)\n\u001b[K     |████████████████████████████████| 2.2 MB 9.8 MB/s \n\u001b[?25hRequirement already satisfied: parso<0.8.0,>=0.7.0 in /shared-libs/python3.7/py-core/lib/python3.7/site-packages (from jedi>=0.16->ipython<8.0,>=7.23.1->ipykernel>=5.1.2->pydeck>=0.1.dev5->streamlit) (0.7.1)\nRequirement already satisfied: MarkupSafe>=2.0 in /shared-libs/python3.7/py-core/lib/python3.7/site-packages (from jinja2->altair>=3.2.0->streamlit) (2.0.1)\nRequirement already satisfied: pyzmq>=13 in /shared-libs/python3.7/py-core/lib/python3.7/site-packages (from jupyter-client<8.0->ipykernel>=5.1.2->pydeck>=0.1.dev5->streamlit) (22.2.1)\nRequirement already satisfied: nest-asyncio>=1.5 in /shared-libs/python3.7/py-core/lib/python3.7/site-packages (from jupyter-client<8.0->ipykernel>=5.1.2->pydeck>=0.1.dev5->streamlit) (1.5.1)\nRequirement already satisfied: jupyter-core>=4.6.0 in /shared-libs/python3.7/py-core/lib/python3.7/site-packages (from jupyter-client<8.0->ipykernel>=5.1.2->pydeck>=0.1.dev5->streamlit) (4.7.1)\nRequirement already satisfied: pyrsistent>=0.14.0 in /shared-libs/python3.7/py-core/lib/python3.7/site-packages (from jsonschema->altair>=3.2.0->streamlit) (0.18.0)\nRequirement already satisfied: ptyprocess>=0.5 in /shared-libs/python3.7/py-core/lib/python3.7/site-packages (from pexpect>4.3->ipython<8.0,>=7.23.1->ipykernel>=5.1.2->pydeck>=0.1.dev5->streamlit) (0.7.0)\nRequirement already satisfied: wcwidth in /shared-libs/python3.7/py-core/lib/python3.7/site-packages (from prompt-toolkit!=3.0.0,!=3.0.1,<3.1.0,>=2.0.0->ipython<8.0,>=7.23.1->ipykernel>=5.1.2->pydeck>=0.1.dev5->streamlit) (0.2.5)\nRequirement already satisfied: notebook>=4.4.1 in /shared-libs/python3.7/py-core/lib/python3.7/site-packages (from widgetsnbextension~=3.5.0->ipywidgets>=7.0.0->pydeck>=0.1.dev5->streamlit) (7.0.0.dev0)\nRequirement already satisfied: prometheus-client in /shared-libs/python3.7/py-core/lib/python3.7/site-packages (from notebook>=4.4.1->widgetsnbextension~=3.5.0->ipywidgets>=7.0.0->pydeck>=0.1.dev5->streamlit) (0.11.0)\nRequirement already satisfied: nbconvert in /shared-libs/python3.7/py-core/lib/python3.7/site-packages (from notebook>=4.4.1->widgetsnbextension~=3.5.0->ipywidgets>=7.0.0->pydeck>=0.1.dev5->streamlit) (6.1.0)\nRequirement already satisfied: Send2Trash>=1.5.0 in /shared-libs/python3.7/py-core/lib/python3.7/site-packages (from notebook>=4.4.1->widgetsnbextension~=3.5.0->ipywidgets>=7.0.0->pydeck>=0.1.dev5->streamlit) (1.8.0)\nRequirement already satisfied: terminado>=0.8.3 in /shared-libs/python3.7/py-core/lib/python3.7/site-packages (from notebook>=4.4.1->widgetsnbextension~=3.5.0->ipywidgets>=7.0.0->pydeck>=0.1.dev5->streamlit) (0.12.1)\nRequirement already satisfied: argon2-cffi in /shared-libs/python3.7/py-core/lib/python3.7/site-packages (from notebook>=4.4.1->widgetsnbextension~=3.5.0->ipywidgets>=7.0.0->pydeck>=0.1.dev5->streamlit) (21.1.0)\nRequirement already satisfied: cffi>=1.0.0 in /shared-libs/python3.7/py-core/lib/python3.7/site-packages (from argon2-cffi->notebook>=4.4.1->widgetsnbextension~=3.5.0->ipywidgets>=7.0.0->pydeck>=0.1.dev5->streamlit) (1.14.6)\nRequirement already satisfied: pycparser in /shared-libs/python3.7/py-core/lib/python3.7/site-packages (from cffi>=1.0.0->argon2-cffi->notebook>=4.4.1->widgetsnbextension~=3.5.0->ipywidgets>=7.0.0->pydeck>=0.1.dev5->streamlit) (2.20)\nRequirement already satisfied: mistune<2,>=0.8.1 in /shared-libs/python3.7/py-core/lib/python3.7/site-packages (from nbconvert->notebook>=4.4.1->widgetsnbextension~=3.5.0->ipywidgets>=7.0.0->pydeck>=0.1.dev5->streamlit) (0.8.4)\nRequirement already satisfied: testpath in /shared-libs/python3.7/py-core/lib/python3.7/site-packages (from nbconvert->notebook>=4.4.1->widgetsnbextension~=3.5.0->ipywidgets>=7.0.0->pydeck>=0.1.dev5->streamlit) (0.5.0)\nRequirement already satisfied: jupyterlab-pygments in /shared-libs/python3.7/py-core/lib/python3.7/site-packages (from nbconvert->notebook>=4.4.1->widgetsnbextension~=3.5.0->ipywidgets>=7.0.0->pydeck>=0.1.dev5->streamlit) (0.1.2)\nRequirement already satisfied: bleach in /shared-libs/python3.7/py-core/lib/python3.7/site-packages (from nbconvert->notebook>=4.4.1->widgetsnbextension~=3.5.0->ipywidgets>=7.0.0->pydeck>=0.1.dev5->streamlit) (4.1.0)\nRequirement already satisfied: defusedxml in /shared-libs/python3.7/py-core/lib/python3.7/site-packages (from nbconvert->notebook>=4.4.1->widgetsnbextension~=3.5.0->ipywidgets>=7.0.0->pydeck>=0.1.dev5->streamlit) (0.7.1)\nRequirement already satisfied: nbclient<0.6.0,>=0.5.0 in /shared-libs/python3.7/py-core/lib/python3.7/site-packages (from nbconvert->notebook>=4.4.1->widgetsnbextension~=3.5.0->ipywidgets>=7.0.0->pydeck>=0.1.dev5->streamlit) (0.5.4)\nRequirement already satisfied: pandocfilters>=1.4.1 in /shared-libs/python3.7/py-core/lib/python3.7/site-packages (from nbconvert->notebook>=4.4.1->widgetsnbextension~=3.5.0->ipywidgets>=7.0.0->pydeck>=0.1.dev5->streamlit) (1.4.3)\nRequirement already satisfied: webencodings in /shared-libs/python3.7/py-core/lib/python3.7/site-packages (from bleach->nbconvert->notebook>=4.4.1->widgetsnbextension~=3.5.0->ipywidgets>=7.0.0->pydeck>=0.1.dev5->streamlit) (0.5.1)\nRequirement already satisfied: pyparsing>=2.0.2 in /shared-libs/python3.7/py-core/lib/python3.7/site-packages (from packaging->streamlit) (2.4.7)\nRequirement already satisfied: charset-normalizer~=2.0.0 in /shared-libs/python3.7/py/lib/python3.7/site-packages (from requests->streamlit) (2.0.4)\nRequirement already satisfied: certifi>=2017.4.17 in /shared-libs/python3.7/py/lib/python3.7/site-packages (from requests->streamlit) (2021.5.30)\nRequirement already satisfied: idna<4,>=2.5 in /shared-libs/python3.7/py-core/lib/python3.7/site-packages (from requests->streamlit) (3.2)\nRequirement already satisfied: urllib3<1.27,>=1.21.1 in /shared-libs/python3.7/py/lib/python3.7/site-packages (from requests->streamlit) (1.26.6)\nCollecting backports.zoneinfo\n  Downloading backports.zoneinfo-0.2.1-cp37-cp37m-manylinux1_x86_64.whl (70 kB)\n\u001b[K     |████████████████████████████████| 70 kB 4.5 MB/s \n\u001b[?25hBuilding wheels for collected packages: blinker\n  Building wheel for blinker (setup.py) ... \u001b[?25ldone\n\u001b[?25h  Created wheel for blinker: filename=blinker-1.4-py3-none-any.whl size=13478 sha256=b0398cf44d2d83725ba177716848c1e35d99027a2a138441d59b6711c3889f73\n  Stored in directory: /root/.cache/pip/wheels/22/f5/18/df711b66eb25b21325c132757d4314db9ac5e8dabeaf196eab\nSuccessfully built blinker\nInstalling collected packages: widgetsnbextension, smmap, jupyterlab-widgets, ipywidgets, gitdb, backports.zoneinfo, watchdog, validators, tzlocal, pydeck, gitpython, blinker, base58, astor, streamlit\nSuccessfully installed astor-0.8.1 backports.zoneinfo-0.2.1 base58-2.1.0 blinker-1.4 gitdb-4.0.7 gitpython-3.1.24 ipywidgets-7.6.5 jupyterlab-widgets-1.0.2 pydeck-0.7.0 smmap-4.0.0 streamlit-0.88.0 tzlocal-3.0 validators-0.18.2 watchdog-2.1.5 widgetsnbextension-3.5.1\n\u001b[33mWARNING: You are using pip version 21.2.3; however, version 21.2.4 is available.\nYou should consider upgrading via the '/root/venv/bin/python -m pip install --upgrade pip' command.\u001b[0m\n",
     "output_type": "stream"
    }
   ],
   "execution_count": 1
  },
  {
   "cell_type": "code",
   "source": "!pip install graphviz",
   "metadata": {
    "tags": [],
    "cell_id": "00006-fafac6ca-4227-4e8a-afe2-e297947188ce",
    "deepnote_to_be_reexecuted": false,
    "source_hash": "ca10e547",
    "execution_start": 1631967825442,
    "execution_millis": 5713,
    "deepnote_cell_type": "code"
   },
   "outputs": [
    {
     "name": "stdout",
     "text": "Collecting graphviz\n  Downloading graphviz-0.17-py3-none-any.whl (18 kB)\nInstalling collected packages: graphviz\nSuccessfully installed graphviz-0.17\n\u001b[33mWARNING: You are using pip version 21.2.3; however, version 21.2.4 is available.\nYou should consider upgrading via the '/root/venv/bin/python -m pip install --upgrade pip' command.\u001b[0m\n",
     "output_type": "stream"
    }
   ],
   "execution_count": 2
  },
  {
   "cell_type": "code",
   "metadata": {
    "tags": [],
    "output_cleared": false,
    "source_hash": "bfa9fb56",
    "execution_start": 1631967838326,
    "execution_millis": 4358,
    "deepnote_to_be_reexecuted": false,
    "cell_id": "00005-f5c44a1f-ef93-4510-b233-fed7c8ff9b4f",
    "deepnote_cell_type": "code"
   },
   "source": "import pandas as pd\nimport math\nimport streamlit as st\nimport graphviz as graphviz",
   "execution_count": 3,
   "outputs": [
    {
     "name": "stderr",
     "text": "2021-09-18 12:24:01.600 INFO    matplotlib.font_manager: generated new fontManager\n",
     "output_type": "stream"
    }
   ]
  },
  {
   "cell_type": "code",
   "metadata": {
    "tags": [],
    "deepnote_to_be_reexecuted": false,
    "source_hash": "f82e6fd6",
    "execution_start": 1631967844923,
    "execution_millis": 78,
    "cell_id": "00006-bcc69361-5114-462b-ac80-f593f1e49be6",
    "deepnote_cell_type": "code"
   },
   "source": "df = pd.read_csv('data_test.csv')\ndf.head(15)",
   "execution_count": 4,
   "outputs": [
    {
     "output_type": "execute_result",
     "execution_count": 4,
     "data": {
      "application/vnd.deepnote.dataframe.v2+json": {
       "row_count": 10,
       "column_count": 6,
       "columns": [
        {
         "name": "Hipertenso",
         "dtype": "object",
         "stats": {
          "unique_count": 2,
          "nan_count": 0,
          "categories": [
           {
            "name": "T",
            "count": 6
           },
           {
            "name": "F",
            "count": 4
           }
          ]
         }
        },
        {
         "name": "Colesterol",
         "dtype": "object",
         "stats": {
          "unique_count": 3,
          "nan_count": 0,
          "categories": [
           {
            "name": "alto",
            "count": 4
           },
           {
            "name": "bajo",
            "count": 3
           },
           {
            "name": "medio",
            "count": 3
           }
          ]
         }
        },
        {
         "name": "Trigliceridos",
         "dtype": "object",
         "stats": {
          "unique_count": 2,
          "nan_count": 0,
          "categories": [
           {
            "name": "normal",
            "count": 5
           },
           {
            "name": "elevado",
            "count": 5
           }
          ]
         }
        },
        {
         "name": "Edad",
         "dtype": "object",
         "stats": {
          "unique_count": 3,
          "nan_count": 0,
          "categories": [
           {
            "name": "menos_40",
            "count": 4
           },
           {
            "name": "mayor_60",
            "count": 3
           },
           {
            "name": "entre_40_60",
            "count": 3
           }
          ]
         }
        },
        {
         "name": "Diabeico",
         "dtype": "object",
         "stats": {
          "unique_count": 2,
          "nan_count": 0,
          "categories": [
           {
            "name": "T",
            "count": 6
           },
           {
            "name": "F",
            "count": 4
           }
          ]
         }
        },
        {
         "name": "ProblemasCardiacos",
         "dtype": "object",
         "stats": {
          "unique_count": 2,
          "nan_count": 0,
          "categories": [
           {
            "name": "T",
            "count": 6
           },
           {
            "name": "F",
            "count": 4
           }
          ]
         }
        },
        {
         "name": "_deepnote_index_column",
         "dtype": "int64"
        }
       ],
       "rows_top": [
        {
         "Hipertenso": "F",
         "Colesterol": "bajo",
         "Trigliceridos": "normal",
         "Edad": "menos_40",
         "Diabeico": "T",
         "ProblemasCardiacos": "F",
         "_deepnote_index_column": 0
        },
        {
         "Hipertenso": "T",
         "Colesterol": "bajo",
         "Trigliceridos": "elevado",
         "Edad": "menos_40",
         "Diabeico": "T",
         "ProblemasCardiacos": "F",
         "_deepnote_index_column": 1
        },
        {
         "Hipertenso": "T",
         "Colesterol": "bajo",
         "Trigliceridos": "elevado",
         "Edad": "mayor_60",
         "Diabeico": "T",
         "ProblemasCardiacos": "T",
         "_deepnote_index_column": 2
        },
        {
         "Hipertenso": "T",
         "Colesterol": "medio",
         "Trigliceridos": "elevado",
         "Edad": "mayor_60",
         "Diabeico": "F",
         "ProblemasCardiacos": "T",
         "_deepnote_index_column": 3
        },
        {
         "Hipertenso": "F",
         "Colesterol": "medio",
         "Trigliceridos": "elevado",
         "Edad": "menos_40",
         "Diabeico": "F",
         "ProblemasCardiacos": "T",
         "_deepnote_index_column": 4
        },
        {
         "Hipertenso": "F",
         "Colesterol": "medio",
         "Trigliceridos": "normal",
         "Edad": "entre_40_60",
         "Diabeico": "T",
         "ProblemasCardiacos": "F",
         "_deepnote_index_column": 5
        },
        {
         "Hipertenso": "T",
         "Colesterol": "alto",
         "Trigliceridos": "normal",
         "Edad": "entre_40_60",
         "Diabeico": "T",
         "ProblemasCardiacos": "T",
         "_deepnote_index_column": 6
        },
        {
         "Hipertenso": "T",
         "Colesterol": "alto",
         "Trigliceridos": "normal",
         "Edad": "entre_40_60",
         "Diabeico": "T",
         "ProblemasCardiacos": "T",
         "_deepnote_index_column": 7
        },
        {
         "Hipertenso": "T",
         "Colesterol": "alto",
         "Trigliceridos": "elevado",
         "Edad": "mayor_60",
         "Diabeico": "F",
         "ProblemasCardiacos": "T",
         "_deepnote_index_column": 8
        },
        {
         "Hipertenso": "F",
         "Colesterol": "alto",
         "Trigliceridos": "normal",
         "Edad": "menos_40",
         "Diabeico": "F",
         "ProblemasCardiacos": "F",
         "_deepnote_index_column": 9
        }
       ],
       "rows_bottom": null
      },
      "text/plain": "  Hipertenso Colesterol Trigliceridos         Edad Diabeico ProblemasCardiacos\n0          F       bajo        normal     menos_40        T                  F\n1          T       bajo       elevado     menos_40        T                  F\n2          T       bajo       elevado     mayor_60        T                  T\n3          T      medio       elevado     mayor_60        F                  T\n4          F      medio       elevado     menos_40        F                  T\n5          F      medio        normal  entre_40_60        T                  F\n6          T       alto        normal  entre_40_60        T                  T\n7          T       alto        normal  entre_40_60        T                  T\n8          T       alto       elevado     mayor_60        F                  T\n9          F       alto        normal     menos_40        F                  F",
      "text/html": "<div>\n<style scoped>\n    .dataframe tbody tr th:only-of-type {\n        vertical-align: middle;\n    }\n\n    .dataframe tbody tr th {\n        vertical-align: top;\n    }\n\n    .dataframe thead th {\n        text-align: right;\n    }\n</style>\n<table border=\"1\" class=\"dataframe\">\n  <thead>\n    <tr style=\"text-align: right;\">\n      <th></th>\n      <th>Hipertenso</th>\n      <th>Colesterol</th>\n      <th>Trigliceridos</th>\n      <th>Edad</th>\n      <th>Diabeico</th>\n      <th>ProblemasCardiacos</th>\n    </tr>\n  </thead>\n  <tbody>\n    <tr>\n      <th>0</th>\n      <td>F</td>\n      <td>bajo</td>\n      <td>normal</td>\n      <td>menos_40</td>\n      <td>T</td>\n      <td>F</td>\n    </tr>\n    <tr>\n      <th>1</th>\n      <td>T</td>\n      <td>bajo</td>\n      <td>elevado</td>\n      <td>menos_40</td>\n      <td>T</td>\n      <td>F</td>\n    </tr>\n    <tr>\n      <th>2</th>\n      <td>T</td>\n      <td>bajo</td>\n      <td>elevado</td>\n      <td>mayor_60</td>\n      <td>T</td>\n      <td>T</td>\n    </tr>\n    <tr>\n      <th>3</th>\n      <td>T</td>\n      <td>medio</td>\n      <td>elevado</td>\n      <td>mayor_60</td>\n      <td>F</td>\n      <td>T</td>\n    </tr>\n    <tr>\n      <th>4</th>\n      <td>F</td>\n      <td>medio</td>\n      <td>elevado</td>\n      <td>menos_40</td>\n      <td>F</td>\n      <td>T</td>\n    </tr>\n    <tr>\n      <th>5</th>\n      <td>F</td>\n      <td>medio</td>\n      <td>normal</td>\n      <td>entre_40_60</td>\n      <td>T</td>\n      <td>F</td>\n    </tr>\n    <tr>\n      <th>6</th>\n      <td>T</td>\n      <td>alto</td>\n      <td>normal</td>\n      <td>entre_40_60</td>\n      <td>T</td>\n      <td>T</td>\n    </tr>\n    <tr>\n      <th>7</th>\n      <td>T</td>\n      <td>alto</td>\n      <td>normal</td>\n      <td>entre_40_60</td>\n      <td>T</td>\n      <td>T</td>\n    </tr>\n    <tr>\n      <th>8</th>\n      <td>T</td>\n      <td>alto</td>\n      <td>elevado</td>\n      <td>mayor_60</td>\n      <td>F</td>\n      <td>T</td>\n    </tr>\n    <tr>\n      <th>9</th>\n      <td>F</td>\n      <td>alto</td>\n      <td>normal</td>\n      <td>menos_40</td>\n      <td>F</td>\n      <td>F</td>\n    </tr>\n  </tbody>\n</table>\n</div>"
     },
     "metadata": {}
    }
   ]
  },
  {
   "cell_type": "code",
   "metadata": {
    "tags": [],
    "cell_id": "00007-4d220333-1d47-451a-b2f2-8111f9fee141",
    "deepnote_to_be_reexecuted": false,
    "source_hash": "2115a9a4",
    "execution_start": 1631967850139,
    "execution_millis": 14,
    "deepnote_cell_type": "code"
   },
   "source": "df['ProblemasCardiacos'].mode().item()",
   "execution_count": 5,
   "outputs": [
    {
     "output_type": "execute_result",
     "execution_count": 5,
     "data": {
      "text/plain": "'T'"
     },
     "metadata": {}
    }
   ]
  },
  {
   "cell_type": "markdown",
   "source": "![Picture title](entropy.png)\n",
   "metadata": {
    "tags": [],
    "cell_id": "00007-dcf51ccb-dae8-4e8b-9e16-adc1b401d6df",
    "deepnote_cell_type": "markdown"
   }
  },
  {
   "cell_type": "markdown",
   "source": "![Picture title](entropyAt.png)",
   "metadata": {
    "tags": [],
    "cell_id": "00008-92138b4f-8ae1-4922-a9fc-cf1a36751f26",
    "deepnote_cell_type": "markdown"
   }
  },
  {
   "cell_type": "code",
   "metadata": {
    "tags": [],
    "deepnote_to_be_reexecuted": false,
    "source_hash": "901ad4c0",
    "execution_start": 1631967854831,
    "execution_millis": 7,
    "cell_id": "00009-29888a13-fa39-41bb-a0b3-47e8ca35b1fc",
    "deepnote_cell_type": "code"
   },
   "source": "classValues = list(df['ProblemasCardiacos'].value_counts().index) # Valores posibles de la columna clase\nclassValues",
   "execution_count": 6,
   "outputs": [
    {
     "output_type": "execute_result",
     "execution_count": 6,
     "data": {
      "text/plain": "['T', 'F']"
     },
     "metadata": {}
    }
   ]
  },
  {
   "cell_type": "code",
   "metadata": {
    "tags": [],
    "deepnote_to_be_reexecuted": false,
    "source_hash": "f521b379",
    "execution_start": 1631967857788,
    "execution_millis": 33,
    "cell_id": "00010-f687de80-3c3b-4441-8975-166f5ada2233",
    "deepnote_cell_type": "code"
   },
   "source": "class SetCases:\n    def __init__(self,cases,case_count,class_column_name):\n        self.cases = cases\n        self.class_column_name = class_column_name\n        self.case_count = case_count\n        self.columns = list(cases.columns)\n        #self.attributes = self.columns\n        self.attributes = [item for item in self.columns if item != self.class_column_name] # This is 'A' in the theory\n        #self.attributes.remove(self.class_column_name)  \n    def cases_count(self):\n        self.case_count = self.cases.shape[0]\n        return self.case_count\n        \n    def get_attributes(self) -> list:\n        return self.attributes\n    \n    def entropy(self) -> float:  # Entropy Formula function\n        entropy = 0\n        counts = self.cases[self.class_column_name].value_counts()\n        for item in classValues:\n            prob = self.cases[self.cases[self.class_column_name]==item][self.class_column_name].count()/self.case_count\n            entropy -= (prob)*(math.log2(prob))\n        return round(entropy,3)\n\n    def entropy_attribute(self) -> float: # Entropia de cada tributo de 'A'\n        entropy_result = {}\n        for attribute in self.attributes:  # Bucle sobre cada atributo de la lista\n            result = 0\n            attr_indexes = list(self.cases[attribute].value_counts().index)\n            attr_counts = list(self.cases[attribute].value_counts().values)\n            i=0\n            for value in attr_indexes: # Bucle sobre los valores posibles de cada atributo\n                attr_entropy = 0\n                attr_count = attr_counts[i]\n\n                for c_value in classValues: # Bucle sobre cada caso de un valor posible de un atributo\n                    class_count = len(self.cases[(self.cases[attribute]==value)&(self.cases[self.class_column_name]==c_value)])\n                    if class_count != 0:\n                        attr_entropy -= (class_count/attr_count) * (math.log2((class_count/attr_count)))\n                    else:\n                        attr_entropy -= 0 #ESTO SE TENDRIA QUE SACAR DE ACA, CUANDO ESTE EL CODIGO COMPLETO ESTO IRIA AL PRINCIPIO\n                i+=1\n\n                result += (attr_count/self.case_count) * attr_entropy # Resultado de entropia de un atributo posible\n            entropy_result[attribute] = result\n        return entropy_result\n\n    def gain(self) -> list: # return [Att, Value]\n        entropy = self.entropy()\n        entropy_atts = self.entropy_attribute()\n        max_gain = 0\n        curr_gain = 0\n        result = [0,0]\n        for key,value in entropy_atts.items():\n            curr_gain = float(entropy) - value \n            if curr_gain > max_gain:\n                max_gain = curr_gain\n                result[0] = key\n                result[1] = curr_gain\n        return result\n    \n    def is_pure(self) -> bool:\n        classes = self.cases[self.class_column_name].unique()\n        if len(classes) == 1:\n            return True\n        return False\n    \n    def most_frequent_class(self) -> str:\n        return self.cases[self.class_column_name].mode().item()\n    \n    def separate_data(self, attr) -> list: # Esto retorna un arreglo con dataframes\n        attr_values = list(self.cases[attr].unique())\n        frames = []\n        for val in attr_values:\n            frames.append(self.cases[self.cases[attr]==val])\n        return frames",
   "execution_count": 7,
   "outputs": []
  },
  {
   "cell_type": "code",
   "source": "name_counter = 1",
   "metadata": {
    "tags": [],
    "cell_id": "00014-fa0c563e-cda6-40e5-847d-926fd17ec3d7",
    "deepnote_to_be_reexecuted": false,
    "source_hash": "58df4726",
    "execution_start": 1631977851626,
    "execution_millis": 1,
    "deepnote_cell_type": "code"
   },
   "outputs": [],
   "execution_count": 255
  },
  {
   "cell_type": "code",
   "metadata": {
    "tags": [],
    "cell_id": "00013-c3a6dc16-b2d5-4245-ba80-c1d77c0db0fe",
    "deepnote_to_be_reexecuted": false,
    "source_hash": "a6392c4f",
    "execution_start": 1631977852578,
    "execution_millis": 5,
    "deepnote_cell_type": "code"
   },
   "source": "class Node:\n    def __init__(self, data: SetCases, id_node: int):\n        self.data = data\n        self.children = []\n        self.curr_class = ''\n        self.chosen_att = ''\n        self.id_node = id_node\n        global name_counter\n\n    def addChildren(self, node):\n        self.children.append(node)\n        \n    def printTree(self, depth: int, graph, previous_node: Node, name_previous_node: int):\n        print('###############################################')\n        print(f\"Depth {depth}\")\n        print(self.curr_class)\n        global name_counter\n        if self.chosen_att != '':\n            print(f'Created node with name {self.id_node} and label {self.chosen_att}')\n            graph.node(name = str(self.id_node),label = self.chosen_att)\n        else:\n            print(f'Created node with name {self.id_node} and label {self.curr_class}')\n            graph.node(name = str(self.id_node), label= self.curr_class,color='green')\n        if depth != 0:\n            print(f'Created edge between {name_previous_node} and {self.id_node}')\n            graph.edge(str(name_previous_node), str(self.id_node))\n        #name_counter+=1\n        name_previous_node+=1\n        for item in self.children:\n            item.printTree(depth+1, graph, self, self.id_node)\n        ",
   "execution_count": 256,
   "outputs": []
  },
  {
   "cell_type": "code",
   "metadata": {
    "tags": [],
    "cell_id": "00015-81c2d8c8-6d75-410b-9651-0b66d046dd66",
    "deepnote_to_be_reexecuted": false,
    "source_hash": "4ba9a8d5",
    "execution_start": 1631977854000,
    "execution_millis": 2,
    "deepnote_cell_type": "code"
   },
   "source": "def decisionTree(D : SetCases, A : list, T : Node, guide_int : int):\n    global name_counter\n    if D.is_pure():\n        class_name = D.most_frequent_class()\n        T.curr_class = class_name\n    elif not A:\n        class_name = D.most_frequent_class()\n        T.curr_class = class_name\n    else:\n        print('Depth ' + str(guide_int))\n        gain = D.gain()\n        print('Attribute chosen '+ gain[0])\n        if gain[1] < threshold: \n            class_name = D.most_frequent_class()\n            T.curr_class = class_name\n        else:\n            T.chosen_att = gain[0]\n            A1 = [item for item in A if item != gain[0]]\n            subsets = D.separate_data(gain[0])\n            for subset in subsets:\n                elem = SetCases(subset, len(subset), D.class_column_name)\n                print(f'Name_counter {name_counter}')\n                new_node = Node(elem, name_counter)\n                name_counter+=1\n                T.addChildren(new_node)\n                decisionTree(elem, A1, new_node, guide_int+1)",
   "execution_count": 257,
   "outputs": []
  },
  {
   "cell_type": "code",
   "source": "graph = graphviz.Digraph()",
   "metadata": {
    "tags": [],
    "cell_id": "00016-030a0f67-d1d2-465a-bf2f-c64ed532c65f",
    "deepnote_to_be_reexecuted": false,
    "source_hash": "61e460b3",
    "execution_start": 1631977856806,
    "execution_millis": 2,
    "deepnote_cell_type": "code"
   },
   "outputs": [],
   "execution_count": 258
  },
  {
   "cell_type": "code",
   "metadata": {
    "tags": [],
    "cell_id": "00016-f03c20b6-e176-4f29-8b11-f0ac5bc2bbee",
    "deepnote_to_be_reexecuted": false,
    "source_hash": "de7e6bad",
    "execution_start": 1631977857731,
    "execution_millis": 105,
    "deepnote_cell_type": "code"
   },
   "source": "threshold = 0.1\nset_init = SetCases(df,len(df),'ProblemasCardiacos')\nroot_node = Node(set_init, 0)\ndecisionTree(set_init, set_init.get_attributes(),root_node,0)\n",
   "execution_count": 259,
   "outputs": [
    {
     "name": "stdout",
     "text": "Depth 0\nAttribute chosen Edad\nName_counter 1\nDepth 1\nAttribute chosen Colesterol\nName_counter 2\nName_counter 3\nName_counter 4\nName_counter 5\nName_counter 6\nDepth 1\nAttribute chosen Hipertenso\nName_counter 7\nName_counter 8\n",
     "output_type": "stream"
    }
   ]
  },
  {
   "cell_type": "code",
   "source": "root_node.printTree(0, graph, root_node,name_counter)",
   "metadata": {
    "tags": [],
    "cell_id": "00019-b78f62d7-8183-4555-a849-e865063c69e3",
    "deepnote_to_be_reexecuted": false,
    "source_hash": "92cdd843",
    "execution_start": 1631977860412,
    "execution_millis": 21,
    "deepnote_cell_type": "code"
   },
   "outputs": [
    {
     "name": "stdout",
     "text": "###############################################\nDepth 0\n\nCreated node with name 0 and label Edad\n###############################################\nDepth 1\n\nCreated node with name 1 and label Colesterol\nCreated edge between 0 and 1\n###############################################\nDepth 2\nF\nCreated node with name 2 and label F\nCreated edge between 1 and 2\n###############################################\nDepth 2\nT\nCreated node with name 3 and label T\nCreated edge between 1 and 3\n###############################################\nDepth 2\nF\nCreated node with name 4 and label F\nCreated edge between 1 and 4\n###############################################\nDepth 1\nT\nCreated node with name 5 and label T\nCreated edge between 0 and 5\n###############################################\nDepth 1\n\nCreated node with name 6 and label Hipertenso\nCreated edge between 0 and 6\n###############################################\nDepth 2\nF\nCreated node with name 7 and label F\nCreated edge between 6 and 7\n###############################################\nDepth 2\nT\nCreated node with name 8 and label T\nCreated edge between 6 and 8\n",
     "output_type": "stream"
    }
   ],
   "execution_count": 260
  },
  {
   "cell_type": "code",
   "source": "print(root_node.id_node)\nprint(root_node.children[0].id_node)\nprint(root_node.children[0].children[0].id_node)",
   "metadata": {
    "tags": [],
    "cell_id": "00020-651fe2bc-bdc8-435e-ae67-8426f01a3e06",
    "deepnote_to_be_reexecuted": false,
    "source_hash": "d1811250",
    "execution_start": 1631977862619,
    "execution_millis": 6,
    "deepnote_cell_type": "code"
   },
   "outputs": [
    {
     "name": "stdout",
     "text": "0\n1\n2\n",
     "output_type": "stream"
    }
   ],
   "execution_count": 261
  },
  {
   "cell_type": "code",
   "source": "print(len(root_node.children))\nprint(len(root_node.children[0].children))\nprint(len(root_node.children[1].children))\nprint(len(root_node.children[2].children))",
   "metadata": {
    "tags": [],
    "cell_id": "00020-b898e0f3-53cf-4f11-a4d6-26245e13f1ab",
    "deepnote_to_be_reexecuted": false,
    "source_hash": "95ae64f3",
    "execution_start": 1631977863350,
    "execution_millis": 95,
    "deepnote_cell_type": "code"
   },
   "outputs": [
    {
     "name": "stdout",
     "text": "3\n3\n0\n2\n",
     "output_type": "stream"
    }
   ],
   "execution_count": 262
  },
  {
   "cell_type": "code",
   "source": "\ngraph ",
   "metadata": {
    "tags": [],
    "cell_id": "00019-48be80d1-c4f7-49b3-8d0b-726c4ea0c629",
    "deepnote_to_be_reexecuted": false,
    "source_hash": "48d2cb31",
    "execution_start": 1631977864920,
    "execution_millis": 26,
    "deepnote_cell_type": "code"
   },
   "outputs": [
    {
     "output_type": "execute_result",
     "execution_count": 263,
     "data": {
      "text/plain": "<graphviz.dot.Digraph at 0x7f3ddbfc9990>",
      "image/svg+xml": "<?xml version=\"1.0\" encoding=\"UTF-8\" standalone=\"no\"?>\n<!DOCTYPE svg PUBLIC \"-//W3C//DTD SVG 1.1//EN\"\n \"http://www.w3.org/Graphics/SVG/1.1/DTD/svg11.dtd\">\n<!-- Generated by graphviz version 2.40.1 (20161225.0304)\n -->\n<!-- Title: %3 Pages: 1 -->\n<svg width=\"384pt\" height=\"188pt\"\n viewBox=\"0.00 0.00 384.00 188.00\" xmlns=\"http://www.w3.org/2000/svg\" xmlns:xlink=\"http://www.w3.org/1999/xlink\">\n<g id=\"graph0\" class=\"graph\" transform=\"scale(1 1) rotate(0) translate(4 184)\">\n<title>%3</title>\n<polygon fill=\"#ffffff\" stroke=\"transparent\" points=\"-4,4 -4,-184 380,-184 380,4 -4,4\"/>\n<!-- 0 -->\n<g id=\"node1\" class=\"node\">\n<title>0</title>\n<ellipse fill=\"none\" stroke=\"#000000\" cx=\"202\" cy=\"-162\" rx=\"34.394\" ry=\"18\"/>\n<text text-anchor=\"middle\" x=\"202\" y=\"-158.3\" font-family=\"Times,serif\" font-size=\"14.00\" fill=\"#000000\">Edad</text>\n</g>\n<!-- 1 -->\n<g id=\"node2\" class=\"node\">\n<title>1</title>\n<ellipse fill=\"none\" stroke=\"#000000\" cx=\"99\" cy=\"-90\" rx=\"58.4896\" ry=\"18\"/>\n<text text-anchor=\"middle\" x=\"99\" y=\"-86.3\" font-family=\"Times,serif\" font-size=\"14.00\" fill=\"#000000\">Colesterol</text>\n</g>\n<!-- 0&#45;&gt;1 -->\n<g id=\"edge1\" class=\"edge\">\n<title>0&#45;&gt;1</title>\n<path fill=\"none\" stroke=\"#000000\" d=\"M181.1564,-147.4297C166.7399,-137.3521 147.2841,-123.752 130.9246,-112.3162\"/>\n<polygon fill=\"#000000\" stroke=\"#000000\" points=\"132.8963,-109.4241 122.6949,-106.5634 128.8857,-115.1614 132.8963,-109.4241\"/>\n</g>\n<!-- 5 -->\n<g id=\"node6\" class=\"node\">\n<title>5</title>\n<ellipse fill=\"none\" stroke=\"#00ff00\" cx=\"202\" cy=\"-90\" rx=\"27\" ry=\"18\"/>\n<text text-anchor=\"middle\" x=\"202\" y=\"-86.3\" font-family=\"Times,serif\" font-size=\"14.00\" fill=\"#000000\">T</text>\n</g>\n<!-- 0&#45;&gt;5 -->\n<g id=\"edge5\" class=\"edge\">\n<title>0&#45;&gt;5</title>\n<path fill=\"none\" stroke=\"#000000\" d=\"M202,-143.8314C202,-136.131 202,-126.9743 202,-118.4166\"/>\n<polygon fill=\"#000000\" stroke=\"#000000\" points=\"205.5001,-118.4132 202,-108.4133 198.5001,-118.4133 205.5001,-118.4132\"/>\n</g>\n<!-- 6 -->\n<g id=\"node7\" class=\"node\">\n<title>6</title>\n<ellipse fill=\"none\" stroke=\"#000000\" cx=\"310\" cy=\"-90\" rx=\"63.0888\" ry=\"18\"/>\n<text text-anchor=\"middle\" x=\"310\" y=\"-86.3\" font-family=\"Times,serif\" font-size=\"14.00\" fill=\"#000000\">Hipertenso</text>\n</g>\n<!-- 0&#45;&gt;6 -->\n<g id=\"edge6\" class=\"edge\">\n<title>0&#45;&gt;6</title>\n<path fill=\"none\" stroke=\"#000000\" d=\"M223.3373,-147.7751C238.4137,-137.7242 258.9311,-124.0459 276.2178,-112.5215\"/>\n<polygon fill=\"#000000\" stroke=\"#000000\" points=\"278.5381,-115.1811 284.9172,-106.7219 274.6552,-109.3567 278.5381,-115.1811\"/>\n</g>\n<!-- 2 -->\n<g id=\"node3\" class=\"node\">\n<title>2</title>\n<ellipse fill=\"none\" stroke=\"#00ff00\" cx=\"27\" cy=\"-18\" rx=\"27\" ry=\"18\"/>\n<text text-anchor=\"middle\" x=\"27\" y=\"-14.3\" font-family=\"Times,serif\" font-size=\"14.00\" fill=\"#000000\">F</text>\n</g>\n<!-- 1&#45;&gt;2 -->\n<g id=\"edge2\" class=\"edge\">\n<title>1&#45;&gt;2</title>\n<path fill=\"none\" stroke=\"#000000\" d=\"M81.5708,-72.5708C71.9258,-62.9258 59.8316,-50.8316 49.4816,-40.4816\"/>\n<polygon fill=\"#000000\" stroke=\"#000000\" points=\"51.8594,-37.9096 42.3134,-33.3134 46.9096,-42.8594 51.8594,-37.9096\"/>\n</g>\n<!-- 3 -->\n<g id=\"node4\" class=\"node\">\n<title>3</title>\n<ellipse fill=\"none\" stroke=\"#00ff00\" cx=\"99\" cy=\"-18\" rx=\"27\" ry=\"18\"/>\n<text text-anchor=\"middle\" x=\"99\" y=\"-14.3\" font-family=\"Times,serif\" font-size=\"14.00\" fill=\"#000000\">T</text>\n</g>\n<!-- 1&#45;&gt;3 -->\n<g id=\"edge3\" class=\"edge\">\n<title>1&#45;&gt;3</title>\n<path fill=\"none\" stroke=\"#000000\" d=\"M99,-71.8314C99,-64.131 99,-54.9743 99,-46.4166\"/>\n<polygon fill=\"#000000\" stroke=\"#000000\" points=\"102.5001,-46.4132 99,-36.4133 95.5001,-46.4133 102.5001,-46.4132\"/>\n</g>\n<!-- 4 -->\n<g id=\"node5\" class=\"node\">\n<title>4</title>\n<ellipse fill=\"none\" stroke=\"#00ff00\" cx=\"171\" cy=\"-18\" rx=\"27\" ry=\"18\"/>\n<text text-anchor=\"middle\" x=\"171\" y=\"-14.3\" font-family=\"Times,serif\" font-size=\"14.00\" fill=\"#000000\">F</text>\n</g>\n<!-- 1&#45;&gt;4 -->\n<g id=\"edge4\" class=\"edge\">\n<title>1&#45;&gt;4</title>\n<path fill=\"none\" stroke=\"#000000\" d=\"M116.4292,-72.5708C126.0742,-62.9258 138.1684,-50.8316 148.5184,-40.4816\"/>\n<polygon fill=\"#000000\" stroke=\"#000000\" points=\"151.0904,-42.8594 155.6866,-33.3134 146.1406,-37.9096 151.0904,-42.8594\"/>\n</g>\n<!-- 7 -->\n<g id=\"node8\" class=\"node\">\n<title>7</title>\n<ellipse fill=\"none\" stroke=\"#00ff00\" cx=\"277\" cy=\"-18\" rx=\"27\" ry=\"18\"/>\n<text text-anchor=\"middle\" x=\"277\" y=\"-14.3\" font-family=\"Times,serif\" font-size=\"14.00\" fill=\"#000000\">F</text>\n</g>\n<!-- 6&#45;&gt;7 -->\n<g id=\"edge7\" class=\"edge\">\n<title>6&#45;&gt;7</title>\n<path fill=\"none\" stroke=\"#000000\" d=\"M301.6727,-71.8314C297.9148,-63.6323 293.4003,-53.7824 289.2661,-44.7624\"/>\n<polygon fill=\"#000000\" stroke=\"#000000\" points=\"292.3315,-43.0501 284.9831,-35.4177 285.968,-45.9667 292.3315,-43.0501\"/>\n</g>\n<!-- 8 -->\n<g id=\"node9\" class=\"node\">\n<title>8</title>\n<ellipse fill=\"none\" stroke=\"#00ff00\" cx=\"349\" cy=\"-18\" rx=\"27\" ry=\"18\"/>\n<text text-anchor=\"middle\" x=\"349\" y=\"-14.3\" font-family=\"Times,serif\" font-size=\"14.00\" fill=\"#000000\">T</text>\n</g>\n<!-- 6&#45;&gt;8 -->\n<g id=\"edge8\" class=\"edge\">\n<title>6&#45;&gt;8</title>\n<path fill=\"none\" stroke=\"#000000\" d=\"M319.6405,-72.2022C324.242,-63.7071 329.8376,-53.3767 334.9046,-44.0223\"/>\n<polygon fill=\"#000000\" stroke=\"#000000\" points=\"338.0536,-45.5572 339.739,-35.0972 331.8986,-42.2231 338.0536,-45.5572\"/>\n</g>\n</g>\n</svg>\n"
     },
     "metadata": {}
    }
   ],
   "execution_count": 263
  },
  {
   "cell_type": "markdown",
   "source": "# Sandbox de pruebas",
   "metadata": {
    "tags": [],
    "is_collapsed": false,
    "cell_id": "00017-d08a5435-0e9c-43cb-8f45-9cc80bd9ad15",
    "deepnote_cell_type": "text-cell-h1"
   }
  },
  {
   "cell_type": "code",
   "metadata": {
    "tags": [],
    "cell_id": "00015-e518fc5c-437e-4bc2-9a62-d91f8996f48e",
    "deepnote_to_be_reexecuted": false,
    "source_hash": "999549d6",
    "execution_start": 1630768086272,
    "execution_millis": 6,
    "deepnote_cell_type": "code"
   },
   "source": "setCases = SetCases(df,10,'ProblemasCardiacos')\n#setCases.gain()\nsetCases.separate_data('Hipertenso')[1].head()\n#setCases.entropy_attribute()\n#print(setCases.most_frequent_class())",
   "execution_count": null,
   "outputs": [
    {
     "output_type": "execute_result",
     "execution_count": 85,
     "data": {
      "application/vnd.deepnote.dataframe.v2+json": {
       "row_count": 5,
       "column_count": 7,
       "columns": [
        {
         "name": "index",
         "dtype": "int64",
         "stats": {
          "unique_count": 5,
          "nan_count": 0,
          "min": "1",
          "max": "7",
          "histogram": [
           {
            "bin_start": 1,
            "bin_end": 1.6,
            "count": 1
           },
           {
            "bin_start": 1.6,
            "bin_end": 2.2,
            "count": 1
           },
           {
            "bin_start": 2.2,
            "bin_end": 2.8,
            "count": 0
           },
           {
            "bin_start": 2.8,
            "bin_end": 3.4,
            "count": 1
           },
           {
            "bin_start": 3.4,
            "bin_end": 4,
            "count": 0
           },
           {
            "bin_start": 4,
            "bin_end": 4.6,
            "count": 0
           },
           {
            "bin_start": 4.6,
            "bin_end": 5.2,
            "count": 0
           },
           {
            "bin_start": 5.2,
            "bin_end": 5.8,
            "count": 0
           },
           {
            "bin_start": 5.8,
            "bin_end": 6.3999999999999995,
            "count": 1
           },
           {
            "bin_start": 6.3999999999999995,
            "bin_end": 7,
            "count": 1
           }
          ]
         }
        },
        {
         "name": "Hipertenso",
         "dtype": "object",
         "stats": {
          "unique_count": 1,
          "nan_count": 0,
          "categories": [
           {
            "name": "T",
            "count": 5
           }
          ]
         }
        },
        {
         "name": "Colesterol",
         "dtype": "object",
         "stats": {
          "unique_count": 3,
          "nan_count": 0,
          "categories": [
           {
            "name": "bajo",
            "count": 2
           },
           {
            "name": "alto",
            "count": 2
           },
           {
            "name": "medio",
            "count": 1
           }
          ]
         }
        },
        {
         "name": "Trigliceridos",
         "dtype": "object",
         "stats": {
          "unique_count": 2,
          "nan_count": 0,
          "categories": [
           {
            "name": "elevado",
            "count": 3
           },
           {
            "name": "normal",
            "count": 2
           }
          ]
         }
        },
        {
         "name": "Edad",
         "dtype": "object",
         "stats": {
          "unique_count": 3,
          "nan_count": 0,
          "categories": [
           {
            "name": "mayor_60",
            "count": 2
           },
           {
            "name": "entre_40_60",
            "count": 2
           },
           {
            "name": "menos_40",
            "count": 1
           }
          ]
         }
        },
        {
         "name": "Diabeico",
         "dtype": "object",
         "stats": {
          "unique_count": 2,
          "nan_count": 0,
          "categories": [
           {
            "name": "T",
            "count": 4
           },
           {
            "name": "F",
            "count": 1
           }
          ]
         }
        },
        {
         "name": "ProblemasCardiacos",
         "dtype": "object",
         "stats": {
          "unique_count": 2,
          "nan_count": 0,
          "categories": [
           {
            "name": "T",
            "count": 4
           },
           {
            "name": "F",
            "count": 1
           }
          ]
         }
        },
        {
         "name": "_deepnote_index_column",
         "dtype": "int64"
        }
       ],
       "rows_top": [
        {
         "index": 1,
         "Hipertenso": "T",
         "Colesterol": "bajo",
         "Trigliceridos": "elevado",
         "Edad": "menos_40",
         "Diabeico": "T",
         "ProblemasCardiacos": "F",
         "_deepnote_index_column": 0
        },
        {
         "index": 2,
         "Hipertenso": "T",
         "Colesterol": "bajo",
         "Trigliceridos": "elevado",
         "Edad": "mayor_60",
         "Diabeico": "T",
         "ProblemasCardiacos": "T",
         "_deepnote_index_column": 1
        },
        {
         "index": 3,
         "Hipertenso": "T",
         "Colesterol": "medio",
         "Trigliceridos": "elevado",
         "Edad": "mayor_60",
         "Diabeico": "F",
         "ProblemasCardiacos": "T",
         "_deepnote_index_column": 2
        },
        {
         "index": 6,
         "Hipertenso": "T",
         "Colesterol": "alto",
         "Trigliceridos": "normal",
         "Edad": "entre_40_60",
         "Diabeico": "T",
         "ProblemasCardiacos": "T",
         "_deepnote_index_column": 3
        },
        {
         "index": 7,
         "Hipertenso": "T",
         "Colesterol": "alto",
         "Trigliceridos": "normal",
         "Edad": "entre_40_60",
         "Diabeico": "T",
         "ProblemasCardiacos": "T",
         "_deepnote_index_column": 4
        }
       ],
       "rows_bottom": null
      },
      "text/plain": "   index Hipertenso Colesterol Trigliceridos         Edad Diabeico  \\\n0      1          T       bajo       elevado     menos_40        T   \n1      2          T       bajo       elevado     mayor_60        T   \n2      3          T      medio       elevado     mayor_60        F   \n3      6          T       alto        normal  entre_40_60        T   \n4      7          T       alto        normal  entre_40_60        T   \n\n  ProblemasCardiacos  \n0                  F  \n1                  T  \n2                  T  \n3                  T  \n4                  T  ",
      "text/html": "<div>\n<style scoped>\n    .dataframe tbody tr th:only-of-type {\n        vertical-align: middle;\n    }\n\n    .dataframe tbody tr th {\n        vertical-align: top;\n    }\n\n    .dataframe thead th {\n        text-align: right;\n    }\n</style>\n<table border=\"1\" class=\"dataframe\">\n  <thead>\n    <tr style=\"text-align: right;\">\n      <th></th>\n      <th>index</th>\n      <th>Hipertenso</th>\n      <th>Colesterol</th>\n      <th>Trigliceridos</th>\n      <th>Edad</th>\n      <th>Diabeico</th>\n      <th>ProblemasCardiacos</th>\n    </tr>\n  </thead>\n  <tbody>\n    <tr>\n      <th>0</th>\n      <td>1</td>\n      <td>T</td>\n      <td>bajo</td>\n      <td>elevado</td>\n      <td>menos_40</td>\n      <td>T</td>\n      <td>F</td>\n    </tr>\n    <tr>\n      <th>1</th>\n      <td>2</td>\n      <td>T</td>\n      <td>bajo</td>\n      <td>elevado</td>\n      <td>mayor_60</td>\n      <td>T</td>\n      <td>T</td>\n    </tr>\n    <tr>\n      <th>2</th>\n      <td>3</td>\n      <td>T</td>\n      <td>medio</td>\n      <td>elevado</td>\n      <td>mayor_60</td>\n      <td>F</td>\n      <td>T</td>\n    </tr>\n    <tr>\n      <th>3</th>\n      <td>6</td>\n      <td>T</td>\n      <td>alto</td>\n      <td>normal</td>\n      <td>entre_40_60</td>\n      <td>T</td>\n      <td>T</td>\n    </tr>\n    <tr>\n      <th>4</th>\n      <td>7</td>\n      <td>T</td>\n      <td>alto</td>\n      <td>normal</td>\n      <td>entre_40_60</td>\n      <td>T</td>\n      <td>T</td>\n    </tr>\n  </tbody>\n</table>\n</div>"
     },
     "metadata": {}
    }
   ]
  },
  {
   "cell_type": "code",
   "metadata": {
    "tags": [],
    "cell_id": "00018-fca57e98-2520-4a88-9892-21037f9d923d",
    "deepnote_to_be_reexecuted": false,
    "source_hash": "16fa8890",
    "execution_start": 1630767359487,
    "execution_millis": 4,
    "deepnote_cell_type": "code"
   },
   "source": "a = pd.DataFrame({'a':[1,2,3]})\nb = pd.DataFrame({'b':[2,3,4]})",
   "execution_count": null,
   "outputs": []
  },
  {
   "cell_type": "code",
   "metadata": {
    "tags": [],
    "cell_id": "00019-1330990a-3aef-4fbe-8141-735631fcc0ed",
    "deepnote_to_be_reexecuted": false,
    "source_hash": "c085bd2c",
    "execution_start": 1630767465723,
    "execution_millis": 10,
    "deepnote_cell_type": "code"
   },
   "source": "list(df['ProblemasCardiacos'].unique())",
   "execution_count": null,
   "outputs": [
    {
     "output_type": "execute_result",
     "execution_count": 64,
     "data": {
      "text/plain": "['F', 'T']"
     },
     "metadata": {}
    }
   ]
  },
  {
   "cell_type": "markdown",
   "source": "<a style='text-decoration:none;line-height:16px;display:flex;color:#5B5B62;padding:10px;justify-content:end;' href='https://deepnote.com?utm_source=created-in-deepnote-cell&projectId=9a66d969-af84-4258-a4a2-724e61aa71b5' target=\"_blank\">\n<img alt='Created in deepnote.com' style='display:inline;max-height:16px;margin:0px;margin-right:7.5px;' src='data:image/svg+xml;base64,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' > </img>\nCreated in <span style='font-weight:600;margin-left:4px;'>Deepnote</span></a>",
   "metadata": {
    "tags": [],
    "created_in_deepnote_cell": true,
    "deepnote_cell_type": "markdown"
   }
  }
 ],
 "nbformat": 4,
 "nbformat_minor": 2,
 "metadata": {
  "deepnoteSessionId": "dea8a0f5-35e3-4468-94eb-804ff5fc7baa",
  "kernelspec": {
   "display_name": "Python 3",
   "language": "python",
   "name": "python3"
  },
  "language_info": {
   "codemirror_mode": {
    "name": "ipython",
    "version": 3
   },
   "file_extension": ".py",
   "mimetype": "text/x-python",
   "name": "python",
   "nbconvert_exporter": "python",
   "pygments_lexer": "ipython3",
   "version": "3.7.5"
  },
  "deepnote_execution_queue": [],
  "deepnote_notebook_id": "e692eb22-4457-4eab-9d11-b38716c4bfb1",
  "deepnote": {}
 }
}