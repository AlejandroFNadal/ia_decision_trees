{
 "cells": [
  {
   "cell_type": "markdown",
   "source": "# Getting started\n\n👋 Welcome to Deepnote! If you're new to notebooks, we recommend you browse through this guide and watch the videos (it takes about 5 minutes). You can also pick what's most relevant to you right now and come back anytime to see the rest. ",
   "metadata": {
    "cell_id": "00000-afaa988f-f5dd-4375-b4f7-9a83bf1a7224",
    "deepnote_cell_type": "markdown"
   }
  },
  {
   "cell_type": "markdown",
   "source": "## 1. Run a cell 🏃\nSelect the code cell below and click _Run_ in the right sidebar. You can also press <kbd>Shift</kbd>+<kbd>Enter</kbd> to run it and move to the next cell.",
   "metadata": {
    "tags": [],
    "cell_id": "00001-6ff442ac-2524-43cc-ae8f-f4854f782fc1",
    "deepnote_cell_type": "markdown"
   }
  },
  {
   "cell_type": "markdown",
   "source": "",
   "metadata": {
    "tags": [],
    "cell_id": "00002-85a80a07-41ab-4b00-af75-58c4d817dc48",
    "deepnote_cell_type": "markdown"
   }
  },
  {
   "cell_type": "markdown",
   "source": "![Picture title](image-20210902-230946.png)",
   "metadata": {
    "tags": [],
    "cell_id": "00003-09a5fc14-636b-4047-8756-98a87913fe4e",
    "deepnote_cell_type": "markdown"
   }
  },
  {
   "cell_type": "markdown",
   "source": "Ideas: Introducimos la data en un Pandas. Iteramos sobre las columnas y analizamos los valores posibles para cada columna, incluyendo la clase de cada caso. Podemos crear luego un objeto que sea conjunto o algo asi, y ese objeto le damos el metodo \"entropia\". Aparte, creamos una funcion que reciba uno de estos conjuntos y tome los atributos que analizamos de la tabla. La funcion itera sobre la lista de atributos y nos devuelve el atributo con mayor ganancia\nAhi miramos si tenemos suficiente ganancia, sit enemos, creamos un nodo y separamos cada caso dependiendo del valor del atributo en subconjuntos. Guardamos los subconjuntos en una lista en el nodo y llamamos al algoritmo con los elementos de la lista.",
   "metadata": {
    "tags": [],
    "cell_id": "00004-36206da7-7353-4448-9af1-c2fd42f2a5c5",
    "deepnote_cell_type": "markdown"
   }
  },
  {
   "cell_type": "code",
   "metadata": {
    "tags": [],
    "output_cleared": false,
    "source_hash": "cf84cb35",
    "execution_start": 1630763394804,
    "execution_millis": 3,
    "deepnote_to_be_reexecuted": false,
    "cell_id": "00005-f5c44a1f-ef93-4510-b233-fed7c8ff9b4f",
    "deepnote_cell_type": "code"
   },
   "source": "import pandas as pd\nimport math\n",
   "execution_count": 2,
   "outputs": []
  },
  {
   "cell_type": "code",
   "metadata": {
    "tags": [],
    "deepnote_to_be_reexecuted": false,
    "source_hash": "f82e6fd6",
    "execution_start": 1630763397689,
    "execution_millis": 99,
    "cell_id": "00006-bcc69361-5114-462b-ac80-f593f1e49be6",
    "deepnote_cell_type": "code"
   },
   "source": "df = pd.read_csv('data_test.csv')\ndf.head(15)",
   "execution_count": 3,
   "outputs": [
    {
     "output_type": "execute_result",
     "execution_count": 3,
     "data": {
      "application/vnd.deepnote.dataframe.v2+json": {
       "row_count": 10,
       "column_count": 6,
       "columns": [
        {
         "name": "Hipertenso",
         "dtype": "object",
         "stats": {
          "unique_count": 2,
          "nan_count": 0,
          "categories": [
           {
            "name": "T",
            "count": 6
           },
           {
            "name": "F",
            "count": 4
           }
          ]
         }
        },
        {
         "name": "Colesterol",
         "dtype": "object",
         "stats": {
          "unique_count": 3,
          "nan_count": 0,
          "categories": [
           {
            "name": "alto",
            "count": 4
           },
           {
            "name": "bajo",
            "count": 3
           },
           {
            "name": "medio",
            "count": 3
           }
          ]
         }
        },
        {
         "name": "Trigliceridos",
         "dtype": "object",
         "stats": {
          "unique_count": 2,
          "nan_count": 0,
          "categories": [
           {
            "name": "normal",
            "count": 5
           },
           {
            "name": "elevado",
            "count": 5
           }
          ]
         }
        },
        {
         "name": "Edad",
         "dtype": "object",
         "stats": {
          "unique_count": 3,
          "nan_count": 0,
          "categories": [
           {
            "name": "menos_40",
            "count": 4
           },
           {
            "name": "mayor_60",
            "count": 3
           },
           {
            "name": "entre_40_60",
            "count": 3
           }
          ]
         }
        },
        {
         "name": "Diabeico",
         "dtype": "object",
         "stats": {
          "unique_count": 2,
          "nan_count": 0,
          "categories": [
           {
            "name": "T",
            "count": 6
           },
           {
            "name": "F",
            "count": 4
           }
          ]
         }
        },
        {
         "name": "ProblemasCardiacos",
         "dtype": "object",
         "stats": {
          "unique_count": 2,
          "nan_count": 0,
          "categories": [
           {
            "name": "T",
            "count": 6
           },
           {
            "name": "F",
            "count": 4
           }
          ]
         }
        },
        {
         "name": "_deepnote_index_column",
         "dtype": "int64"
        }
       ],
       "rows_top": [
        {
         "Hipertenso": "F",
         "Colesterol": "bajo",
         "Trigliceridos": "normal",
         "Edad": "menos_40",
         "Diabeico": "T",
         "ProblemasCardiacos": "F",
         "_deepnote_index_column": 0
        },
        {
         "Hipertenso": "T",
         "Colesterol": "bajo",
         "Trigliceridos": "elevado",
         "Edad": "menos_40",
         "Diabeico": "T",
         "ProblemasCardiacos": "F",
         "_deepnote_index_column": 1
        },
        {
         "Hipertenso": "T",
         "Colesterol": "bajo",
         "Trigliceridos": "elevado",
         "Edad": "mayor_60",
         "Diabeico": "T",
         "ProblemasCardiacos": "T",
         "_deepnote_index_column": 2
        },
        {
         "Hipertenso": "T",
         "Colesterol": "medio",
         "Trigliceridos": "elevado",
         "Edad": "mayor_60",
         "Diabeico": "F",
         "ProblemasCardiacos": "T",
         "_deepnote_index_column": 3
        },
        {
         "Hipertenso": "F",
         "Colesterol": "medio",
         "Trigliceridos": "elevado",
         "Edad": "menos_40",
         "Diabeico": "F",
         "ProblemasCardiacos": "T",
         "_deepnote_index_column": 4
        },
        {
         "Hipertenso": "F",
         "Colesterol": "medio",
         "Trigliceridos": "normal",
         "Edad": "entre_40_60",
         "Diabeico": "T",
         "ProblemasCardiacos": "F",
         "_deepnote_index_column": 5
        },
        {
         "Hipertenso": "T",
         "Colesterol": "alto",
         "Trigliceridos": "normal",
         "Edad": "entre_40_60",
         "Diabeico": "T",
         "ProblemasCardiacos": "T",
         "_deepnote_index_column": 6
        },
        {
         "Hipertenso": "T",
         "Colesterol": "alto",
         "Trigliceridos": "normal",
         "Edad": "entre_40_60",
         "Diabeico": "T",
         "ProblemasCardiacos": "T",
         "_deepnote_index_column": 7
        },
        {
         "Hipertenso": "T",
         "Colesterol": "alto",
         "Trigliceridos": "elevado",
         "Edad": "mayor_60",
         "Diabeico": "F",
         "ProblemasCardiacos": "T",
         "_deepnote_index_column": 8
        },
        {
         "Hipertenso": "F",
         "Colesterol": "alto",
         "Trigliceridos": "normal",
         "Edad": "menos_40",
         "Diabeico": "F",
         "ProblemasCardiacos": "F",
         "_deepnote_index_column": 9
        }
       ],
       "rows_bottom": null
      },
      "text/plain": "  Hipertenso Colesterol Trigliceridos         Edad Diabeico ProblemasCardiacos\n0          F       bajo        normal     menos_40        T                  F\n1          T       bajo       elevado     menos_40        T                  F\n2          T       bajo       elevado     mayor_60        T                  T\n3          T      medio       elevado     mayor_60        F                  T\n4          F      medio       elevado     menos_40        F                  T\n5          F      medio        normal  entre_40_60        T                  F\n6          T       alto        normal  entre_40_60        T                  T\n7          T       alto        normal  entre_40_60        T                  T\n8          T       alto       elevado     mayor_60        F                  T\n9          F       alto        normal     menos_40        F                  F",
      "text/html": "<div>\n<style scoped>\n    .dataframe tbody tr th:only-of-type {\n        vertical-align: middle;\n    }\n\n    .dataframe tbody tr th {\n        vertical-align: top;\n    }\n\n    .dataframe thead th {\n        text-align: right;\n    }\n</style>\n<table border=\"1\" class=\"dataframe\">\n  <thead>\n    <tr style=\"text-align: right;\">\n      <th></th>\n      <th>Hipertenso</th>\n      <th>Colesterol</th>\n      <th>Trigliceridos</th>\n      <th>Edad</th>\n      <th>Diabeico</th>\n      <th>ProblemasCardiacos</th>\n    </tr>\n  </thead>\n  <tbody>\n    <tr>\n      <th>0</th>\n      <td>F</td>\n      <td>bajo</td>\n      <td>normal</td>\n      <td>menos_40</td>\n      <td>T</td>\n      <td>F</td>\n    </tr>\n    <tr>\n      <th>1</th>\n      <td>T</td>\n      <td>bajo</td>\n      <td>elevado</td>\n      <td>menos_40</td>\n      <td>T</td>\n      <td>F</td>\n    </tr>\n    <tr>\n      <th>2</th>\n      <td>T</td>\n      <td>bajo</td>\n      <td>elevado</td>\n      <td>mayor_60</td>\n      <td>T</td>\n      <td>T</td>\n    </tr>\n    <tr>\n      <th>3</th>\n      <td>T</td>\n      <td>medio</td>\n      <td>elevado</td>\n      <td>mayor_60</td>\n      <td>F</td>\n      <td>T</td>\n    </tr>\n    <tr>\n      <th>4</th>\n      <td>F</td>\n      <td>medio</td>\n      <td>elevado</td>\n      <td>menos_40</td>\n      <td>F</td>\n      <td>T</td>\n    </tr>\n    <tr>\n      <th>5</th>\n      <td>F</td>\n      <td>medio</td>\n      <td>normal</td>\n      <td>entre_40_60</td>\n      <td>T</td>\n      <td>F</td>\n    </tr>\n    <tr>\n      <th>6</th>\n      <td>T</td>\n      <td>alto</td>\n      <td>normal</td>\n      <td>entre_40_60</td>\n      <td>T</td>\n      <td>T</td>\n    </tr>\n    <tr>\n      <th>7</th>\n      <td>T</td>\n      <td>alto</td>\n      <td>normal</td>\n      <td>entre_40_60</td>\n      <td>T</td>\n      <td>T</td>\n    </tr>\n    <tr>\n      <th>8</th>\n      <td>T</td>\n      <td>alto</td>\n      <td>elevado</td>\n      <td>mayor_60</td>\n      <td>F</td>\n      <td>T</td>\n    </tr>\n    <tr>\n      <th>9</th>\n      <td>F</td>\n      <td>alto</td>\n      <td>normal</td>\n      <td>menos_40</td>\n      <td>F</td>\n      <td>F</td>\n    </tr>\n  </tbody>\n</table>\n</div>"
     },
     "metadata": {}
    }
   ]
  },
  {
   "cell_type": "code",
   "source": "df['ProblemasCardiacos'].mode().item()",
   "metadata": {
    "tags": [],
    "cell_id": "00007-4d220333-1d47-451a-b2f2-8111f9fee141",
    "deepnote_to_be_reexecuted": false,
    "source_hash": "2115a9a4",
    "execution_start": 1630765596006,
    "execution_millis": 4,
    "deepnote_cell_type": "code"
   },
   "outputs": [
    {
     "output_type": "execute_result",
     "execution_count": 41,
     "data": {
      "text/plain": "'T'"
     },
     "metadata": {}
    }
   ],
   "execution_count": 41
  },
  {
   "cell_type": "markdown",
   "source": "![Picture title](entropy.png)\n",
   "metadata": {
    "tags": [],
    "cell_id": "00007-dcf51ccb-dae8-4e8b-9e16-adc1b401d6df",
    "deepnote_cell_type": "markdown"
   }
  },
  {
   "cell_type": "markdown",
   "source": "![Picture title](entropyAt.png)",
   "metadata": {
    "tags": [],
    "cell_id": "00008-92138b4f-8ae1-4922-a9fc-cf1a36751f26",
    "deepnote_cell_type": "markdown"
   }
  },
  {
   "cell_type": "code",
   "metadata": {
    "tags": [],
    "deepnote_to_be_reexecuted": false,
    "source_hash": "901ad4c0",
    "execution_start": 1630763401845,
    "execution_millis": 3,
    "cell_id": "00009-29888a13-fa39-41bb-a0b3-47e8ca35b1fc",
    "deepnote_cell_type": "code"
   },
   "source": "classValues = list(df['ProblemasCardiacos'].value_counts().index) # Valores posibles de la columna clase\nclassValues",
   "execution_count": 4,
   "outputs": []
  },
  {
   "cell_type": "code",
   "metadata": {
    "tags": [],
    "deepnote_to_be_reexecuted": false,
    "source_hash": "f521b379",
    "execution_start": 1630769995319,
    "execution_millis": 1,
    "cell_id": "00010-f687de80-3c3b-4441-8975-166f5ada2233",
    "deepnote_cell_type": "code"
   },
   "source": "class SetCases:\n    def __init__(self,cases,case_count,class_column_name):\n        self.cases = cases\n        self.class_column_name = class_column_name\n        self.case_count = case_count\n        self.columns = list(cases.columns)\n        #self.attributes = self.columns\n        self.attributes = [item for item in self.columns if item != self.class_column_name] # This is 'A' in the theory\n        #self.attributes.remove(self.class_column_name)  \n    \n    def cases_count(self):\n        self.case_count = self.cases.shape[0]\n        return self.case_count\n        \n    def get_attributes(self) -> list:\n        return self.attributes\n    \n    def entropy(self) -> float:  # Entropy Formula function\n        entropy = 0\n        counts = self.cases[self.class_column_name].value_counts()\n        for item in classValues:\n            prob = self.cases[self.cases[self.class_column_name]==item][self.class_column_name].count()/self.case_count\n            entropy -= (prob)*(math.log2(prob))\n        return round(entropy,3)\n\n    def entropy_attribute(self) -> float: # Entropia de cada tributo de 'A'\n        entropy_result = {}\n        for attribute in self.attributes:  # Bucle sobre cada atributo de la lista\n            result = 0\n            attr_indexes = list(self.cases[attribute].value_counts().index)\n            attr_counts = list(self.cases[attribute].value_counts().values)\n            i=0\n            for value in attr_indexes: # Bucle sobre los valores posibles de cada atributo\n                attr_entropy = 0\n                attr_count = attr_counts[i]\n\n                for c_value in classValues: # Bucle sobre cada caso de un valor posible de un atributo\n                    class_count = len(self.cases[(self.cases[attribute]==value)&(self.cases[self.class_column_name]==c_value)])\n                    if class_count != 0:\n                        attr_entropy -= (class_count/attr_count) * (math.log2((class_count/attr_count)))\n                    else:\n                        attr_entropy -= 0 #ESTO SE TENDRIA QUE SACAR DE ACA, CUANDO ESTE EL CODIGO COMPLETO ESTO IRIA AL PRINCIPIO\n                i+=1\n\n                result += (attr_count/self.case_count) * attr_entropy # Resultado de entropia de un atributo posible\n            entropy_result[attribute] = result\n        return entropy_result\n\n    def gain(self) -> list: # return [Att, Value]\n        entropy = self.entropy()\n        entropy_atts = self.entropy_attribute()\n        max_gain = 0\n        curr_gain = 0\n        result = [0,0]\n        for key,value in entropy_atts.items():\n            curr_gain = float(entropy) - value \n            if curr_gain > max_gain:\n                max_gain = curr_gain\n                result[0] = key\n                result[1] = curr_gain\n        return result\n    \n    def is_pure(self) -> bool:\n        classes = self.cases[self.class_column_name].unique()\n        if len(classes) == 1:\n            return True\n        return False\n    \n    def most_frequent_class(self) -> str:\n        return self.cases[self.class_column_name].mode().item()\n    \n    def separate_data(self, attr) -> list: # Esto retorna un arreglo con dataframes\n        attr_values = list(self.cases[attr].unique())\n        frames = []\n        for val in attr_values:\n            frames.append(self.cases[self.cases[attr]==val])\n        return frames",
   "execution_count": 118,
   "outputs": []
  },
  {
   "cell_type": "code",
   "source": "class Node:\n    def __init__(self, data: SetCases):\n        self.data = data\n        self.children = []\n        self.curr_class = ''\n\n    def addChildren(self, node):\n        self.children.append(node)\n        \n    def printTree(self, depth):\n        print(f\"Depth {depth}\")\n        print(self.curr_class)\n        for item in self.children:\n            item.printTree(depth+1)",
   "metadata": {
    "tags": [],
    "cell_id": "00013-c3a6dc16-b2d5-4245-ba80-c1d77c0db0fe",
    "deepnote_to_be_reexecuted": false,
    "source_hash": "2f09f5b0",
    "execution_start": 1630770299649,
    "execution_millis": 3,
    "deepnote_cell_type": "code"
   },
   "outputs": [],
   "execution_count": 120
  },
  {
   "cell_type": "code",
   "source": "def decisionTree(D : SetCases, A : list, T : Node, guide_int : int):\n    if D.is_pure():\n        class_name = D.most_frequent_class()\n        T.curr_class = class_name\n    elif not A:\n        class_name = D.most_frequent_class()\n        T.curr_class = class_name\n    else:\n        print('Depth ' + str(guide_int))\n        gain = D.gain()\n        print('Class chosen '+ gain[0])\n        if gain[1] < threshold: \n            class_name = D.most_frequent_class()\n            T.curr_class = class_name\n        else:\n            A1 = [item for item in A if item != gain[0]]\n            subsets = D.separate_data(gain[0])\n            for subset in subsets:\n                elem = SetCases(subset, len(subset), D.class_column_name)\n                new_node = Node(elem)\n                T.addChildren(new_node)\n                decisionTree(elem, A1, new_node, guide_int+1)",
   "metadata": {
    "tags": [],
    "cell_id": "00015-81c2d8c8-6d75-410b-9651-0b66d046dd66",
    "deepnote_to_be_reexecuted": false,
    "source_hash": "3b1a82f1",
    "execution_start": 1630769938929,
    "execution_millis": 9,
    "deepnote_cell_type": "code"
   },
   "outputs": [],
   "execution_count": 116
  },
  {
   "cell_type": "code",
   "source": "threshold = 0.1\nset_init = SetCases(df,len(df),'ProblemasCardiacos')\nroot_node = Node(set_init)\ndecisionTree(set_init, set_init.get_attributes(),root_node,0)\nroot_node.printTree(0)",
   "metadata": {
    "tags": [],
    "cell_id": "00016-f03c20b6-e176-4f29-8b11-f0ac5bc2bbee",
    "deepnote_to_be_reexecuted": false,
    "source_hash": "557b5afd",
    "execution_start": 1630770381667,
    "execution_millis": 99,
    "deepnote_cell_type": "code"
   },
   "outputs": [
    {
     "name": "stdout",
     "text": "Depth 0\nClass chosen Edad\nDepth 1\nClass chosen Colesterol\nDepth 1\nClass chosen Hipertenso\nDepth 0\n\nDepth 1\n\nDepth 2\nF\nDepth 2\nT\nDepth 2\nF\nDepth 1\nT\nDepth 1\n\nDepth 2\nF\nDepth 2\nT\n",
     "output_type": "stream"
    }
   ],
   "execution_count": 122
  },
  {
   "cell_type": "markdown",
   "source": "# Sandbox de pruebas",
   "metadata": {
    "tags": [],
    "is_collapsed": false,
    "cell_id": "00017-d08a5435-0e9c-43cb-8f45-9cc80bd9ad15",
    "deepnote_cell_type": "text-cell-h1"
   }
  },
  {
   "cell_type": "code",
   "source": "setCases = SetCases(df,10,'ProblemasCardiacos')\n#setCases.gain()\nsetCases.separate_data('Hipertenso')[1].head()\n#setCases.entropy_attribute()\n#print(setCases.most_frequent_class())",
   "metadata": {
    "tags": [],
    "cell_id": "00015-e518fc5c-437e-4bc2-9a62-d91f8996f48e",
    "deepnote_to_be_reexecuted": false,
    "source_hash": "999549d6",
    "execution_start": 1630768086272,
    "execution_millis": 6,
    "deepnote_cell_type": "code"
   },
   "outputs": [
    {
     "output_type": "execute_result",
     "execution_count": 85,
     "data": {
      "application/vnd.deepnote.dataframe.v2+json": {
       "row_count": 5,
       "column_count": 7,
       "columns": [
        {
         "name": "index",
         "dtype": "int64",
         "stats": {
          "unique_count": 5,
          "nan_count": 0,
          "min": "1",
          "max": "7",
          "histogram": [
           {
            "bin_start": 1,
            "bin_end": 1.6,
            "count": 1
           },
           {
            "bin_start": 1.6,
            "bin_end": 2.2,
            "count": 1
           },
           {
            "bin_start": 2.2,
            "bin_end": 2.8,
            "count": 0
           },
           {
            "bin_start": 2.8,
            "bin_end": 3.4,
            "count": 1
           },
           {
            "bin_start": 3.4,
            "bin_end": 4,
            "count": 0
           },
           {
            "bin_start": 4,
            "bin_end": 4.6,
            "count": 0
           },
           {
            "bin_start": 4.6,
            "bin_end": 5.2,
            "count": 0
           },
           {
            "bin_start": 5.2,
            "bin_end": 5.8,
            "count": 0
           },
           {
            "bin_start": 5.8,
            "bin_end": 6.3999999999999995,
            "count": 1
           },
           {
            "bin_start": 6.3999999999999995,
            "bin_end": 7,
            "count": 1
           }
          ]
         }
        },
        {
         "name": "Hipertenso",
         "dtype": "object",
         "stats": {
          "unique_count": 1,
          "nan_count": 0,
          "categories": [
           {
            "name": "T",
            "count": 5
           }
          ]
         }
        },
        {
         "name": "Colesterol",
         "dtype": "object",
         "stats": {
          "unique_count": 3,
          "nan_count": 0,
          "categories": [
           {
            "name": "bajo",
            "count": 2
           },
           {
            "name": "alto",
            "count": 2
           },
           {
            "name": "medio",
            "count": 1
           }
          ]
         }
        },
        {
         "name": "Trigliceridos",
         "dtype": "object",
         "stats": {
          "unique_count": 2,
          "nan_count": 0,
          "categories": [
           {
            "name": "elevado",
            "count": 3
           },
           {
            "name": "normal",
            "count": 2
           }
          ]
         }
        },
        {
         "name": "Edad",
         "dtype": "object",
         "stats": {
          "unique_count": 3,
          "nan_count": 0,
          "categories": [
           {
            "name": "mayor_60",
            "count": 2
           },
           {
            "name": "entre_40_60",
            "count": 2
           },
           {
            "name": "menos_40",
            "count": 1
           }
          ]
         }
        },
        {
         "name": "Diabeico",
         "dtype": "object",
         "stats": {
          "unique_count": 2,
          "nan_count": 0,
          "categories": [
           {
            "name": "T",
            "count": 4
           },
           {
            "name": "F",
            "count": 1
           }
          ]
         }
        },
        {
         "name": "ProblemasCardiacos",
         "dtype": "object",
         "stats": {
          "unique_count": 2,
          "nan_count": 0,
          "categories": [
           {
            "name": "T",
            "count": 4
           },
           {
            "name": "F",
            "count": 1
           }
          ]
         }
        },
        {
         "name": "_deepnote_index_column",
         "dtype": "int64"
        }
       ],
       "rows_top": [
        {
         "index": 1,
         "Hipertenso": "T",
         "Colesterol": "bajo",
         "Trigliceridos": "elevado",
         "Edad": "menos_40",
         "Diabeico": "T",
         "ProblemasCardiacos": "F",
         "_deepnote_index_column": 0
        },
        {
         "index": 2,
         "Hipertenso": "T",
         "Colesterol": "bajo",
         "Trigliceridos": "elevado",
         "Edad": "mayor_60",
         "Diabeico": "T",
         "ProblemasCardiacos": "T",
         "_deepnote_index_column": 1
        },
        {
         "index": 3,
         "Hipertenso": "T",
         "Colesterol": "medio",
         "Trigliceridos": "elevado",
         "Edad": "mayor_60",
         "Diabeico": "F",
         "ProblemasCardiacos": "T",
         "_deepnote_index_column": 2
        },
        {
         "index": 6,
         "Hipertenso": "T",
         "Colesterol": "alto",
         "Trigliceridos": "normal",
         "Edad": "entre_40_60",
         "Diabeico": "T",
         "ProblemasCardiacos": "T",
         "_deepnote_index_column": 3
        },
        {
         "index": 7,
         "Hipertenso": "T",
         "Colesterol": "alto",
         "Trigliceridos": "normal",
         "Edad": "entre_40_60",
         "Diabeico": "T",
         "ProblemasCardiacos": "T",
         "_deepnote_index_column": 4
        }
       ],
       "rows_bottom": null
      },
      "text/plain": "   index Hipertenso Colesterol Trigliceridos         Edad Diabeico  \\\n0      1          T       bajo       elevado     menos_40        T   \n1      2          T       bajo       elevado     mayor_60        T   \n2      3          T      medio       elevado     mayor_60        F   \n3      6          T       alto        normal  entre_40_60        T   \n4      7          T       alto        normal  entre_40_60        T   \n\n  ProblemasCardiacos  \n0                  F  \n1                  T  \n2                  T  \n3                  T  \n4                  T  ",
      "text/html": "<div>\n<style scoped>\n    .dataframe tbody tr th:only-of-type {\n        vertical-align: middle;\n    }\n\n    .dataframe tbody tr th {\n        vertical-align: top;\n    }\n\n    .dataframe thead th {\n        text-align: right;\n    }\n</style>\n<table border=\"1\" class=\"dataframe\">\n  <thead>\n    <tr style=\"text-align: right;\">\n      <th></th>\n      <th>index</th>\n      <th>Hipertenso</th>\n      <th>Colesterol</th>\n      <th>Trigliceridos</th>\n      <th>Edad</th>\n      <th>Diabeico</th>\n      <th>ProblemasCardiacos</th>\n    </tr>\n  </thead>\n  <tbody>\n    <tr>\n      <th>0</th>\n      <td>1</td>\n      <td>T</td>\n      <td>bajo</td>\n      <td>elevado</td>\n      <td>menos_40</td>\n      <td>T</td>\n      <td>F</td>\n    </tr>\n    <tr>\n      <th>1</th>\n      <td>2</td>\n      <td>T</td>\n      <td>bajo</td>\n      <td>elevado</td>\n      <td>mayor_60</td>\n      <td>T</td>\n      <td>T</td>\n    </tr>\n    <tr>\n      <th>2</th>\n      <td>3</td>\n      <td>T</td>\n      <td>medio</td>\n      <td>elevado</td>\n      <td>mayor_60</td>\n      <td>F</td>\n      <td>T</td>\n    </tr>\n    <tr>\n      <th>3</th>\n      <td>6</td>\n      <td>T</td>\n      <td>alto</td>\n      <td>normal</td>\n      <td>entre_40_60</td>\n      <td>T</td>\n      <td>T</td>\n    </tr>\n    <tr>\n      <th>4</th>\n      <td>7</td>\n      <td>T</td>\n      <td>alto</td>\n      <td>normal</td>\n      <td>entre_40_60</td>\n      <td>T</td>\n      <td>T</td>\n    </tr>\n  </tbody>\n</table>\n</div>"
     },
     "metadata": {}
    }
   ],
   "execution_count": 85
  },
  {
   "cell_type": "code",
   "source": "a = pd.DataFrame({'a':[1,2,3]})\nb = pd.DataFrame({'b':[2,3,4]})",
   "metadata": {
    "tags": [],
    "cell_id": "00018-fca57e98-2520-4a88-9892-21037f9d923d",
    "deepnote_to_be_reexecuted": false,
    "source_hash": "16fa8890",
    "execution_start": 1630767359487,
    "execution_millis": 4,
    "deepnote_cell_type": "code"
   },
   "outputs": [],
   "execution_count": 54
  },
  {
   "cell_type": "code",
   "source": "list(df['ProblemasCardiacos'].unique())",
   "metadata": {
    "tags": [],
    "cell_id": "00019-1330990a-3aef-4fbe-8141-735631fcc0ed",
    "deepnote_to_be_reexecuted": false,
    "source_hash": "c085bd2c",
    "execution_start": 1630767465723,
    "execution_millis": 10,
    "deepnote_cell_type": "code"
   },
   "outputs": [
    {
     "output_type": "execute_result",
     "execution_count": 64,
     "data": {
      "text/plain": "['F', 'T']"
     },
     "metadata": {}
    }
   ],
   "execution_count": 64
  },
  {
   "cell_type": "markdown",
   "source": "<a style='text-decoration:none;line-height:16px;display:flex;color:#5B5B62;padding:10px;justify-content:end;' href='https://deepnote.com?utm_source=created-in-deepnote-cell&projectId=9a66d969-af84-4258-a4a2-724e61aa71b5' target=\"_blank\">\n<img alt='Created in deepnote.com' style='display:inline;max-height:16px;margin:0px;margin-right:7.5px;' src='data:image/svg+xml;base64,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' > </img>\nCreated in <span style='font-weight:600;margin-left:4px;'>Deepnote</span></a>",
   "metadata": {
    "tags": [],
    "created_in_deepnote_cell": true,
    "deepnote_cell_type": "markdown"
   }
  }
 ],
 "nbformat": 4,
 "nbformat_minor": 2,
 "metadata": {
  "deepnoteSessionId": "dea8a0f5-35e3-4468-94eb-804ff5fc7baa",
  "kernelspec": {
   "display_name": "Python 3",
   "language": "python",
   "name": "python3"
  },
  "language_info": {
   "codemirror_mode": {
    "name": "ipython",
    "version": 3
   },
   "file_extension": ".py",
   "mimetype": "text/x-python",
   "name": "python",
   "nbconvert_exporter": "python",
   "pygments_lexer": "ipython3",
   "version": "3.7.5"
  },
  "deepnote_execution_queue": [],
  "deepnote_notebook_id": "e692eb22-4457-4eab-9d11-b38716c4bfb1",
  "deepnote": {}
 }
}